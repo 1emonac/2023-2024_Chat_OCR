{
 "cells": [
  {
   "cell_type": "code",
   "execution_count": 1,
   "id": "caa42ab5",
   "metadata": {},
   "outputs": [],
   "source": [
    "import numpy as np"
   ]
  },
  {
   "cell_type": "markdown",
   "id": "4214f11b",
   "metadata": {},
   "source": [
    "# 넘파이 배열의 구조\n",
    "\n",
    "- 넘파이 모듈의 기본 배열은 ndarray(n-dimension array; 다차원배열)"
   ]
  },
  {
   "cell_type": "code",
   "execution_count": 2,
   "id": "bf74b3db",
   "metadata": {},
   "outputs": [],
   "source": [
    "# 리스트를 다차원배열로 변환\n",
    "# array() : 다차원배열을 만드는 함수\n",
    "li = [1, 2, 3, 4]\n",
    "li_arr = np.array(li)"
   ]
  },
  {
   "cell_type": "code",
   "execution_count": 3,
   "id": "89049e10",
   "metadata": {},
   "outputs": [
    {
     "data": {
      "text/plain": [
       "array([1, 2, 3, 4])"
      ]
     },
     "execution_count": 3,
     "metadata": {},
     "output_type": "execute_result"
    }
   ],
   "source": [
    "li_arr"
   ]
  },
  {
   "cell_type": "code",
   "execution_count": 4,
   "id": "b84b5ccf",
   "metadata": {},
   "outputs": [
    {
     "data": {
      "text/plain": [
       "numpy.ndarray"
      ]
     },
     "execution_count": 4,
     "metadata": {},
     "output_type": "execute_result"
    }
   ],
   "source": [
    "type(li_arr)"
   ]
  },
  {
   "cell_type": "code",
   "execution_count": 5,
   "id": "484e44d5",
   "metadata": {},
   "outputs": [],
   "source": [
    "# 튜플을 다차원배열로 변환\n",
    "tu = (1, 2, 3, 4)\n",
    "tu_arr = np.array(tu)"
   ]
  },
  {
   "cell_type": "code",
   "execution_count": 6,
   "id": "cda340f4",
   "metadata": {},
   "outputs": [
    {
     "data": {
      "text/plain": [
       "numpy.ndarray"
      ]
     },
     "execution_count": 6,
     "metadata": {},
     "output_type": "execute_result"
    }
   ],
   "source": [
    "type(tu_arr)"
   ]
  },
  {
   "cell_type": "code",
   "execution_count": 7,
   "id": "abfa08a0",
   "metadata": {},
   "outputs": [
    {
     "data": {
      "text/plain": [
       "(2286044403568, 2286044403568)"
      ]
     },
     "execution_count": 7,
     "metadata": {},
     "output_type": "execute_result"
    }
   ],
   "source": [
    "# 배열도 mutable의 특징을 가짐\n",
    "# 변수를 다른 변수에 복사한 뒤 데이터를 수정하면 모든 변수의 데이터가 수정됨\n",
    "co_arr = li_arr\n",
    "id(co_arr), id(li_arr)"
   ]
  },
  {
   "cell_type": "code",
   "execution_count": 8,
   "id": "25f4eb01",
   "metadata": {},
   "outputs": [
    {
     "data": {
      "text/plain": [
       "array([100,   2,   3,   4])"
      ]
     },
     "execution_count": 8,
     "metadata": {},
     "output_type": "execute_result"
    }
   ],
   "source": [
    "co_arr[0] = 100\n",
    "co_arr"
   ]
  },
  {
   "cell_type": "code",
   "execution_count": 9,
   "id": "1687195c",
   "metadata": {},
   "outputs": [
    {
     "data": {
      "text/plain": [
       "array([100,   2,   3,   4])"
      ]
     },
     "execution_count": 9,
     "metadata": {},
     "output_type": "execute_result"
    }
   ],
   "source": [
    "li_arr"
   ]
  },
  {
   "cell_type": "code",
   "execution_count": 10,
   "id": "1388f04e",
   "metadata": {},
   "outputs": [],
   "source": [
    "# 다차원 배열의 값을 복사해서 새로운 배열을 만들면\n",
    "# 동일한 값을 가진 새로운 배열을 만들기 때문에 서로 다른 데이터가 됨\n",
    "new_arr = np.array(li_arr)"
   ]
  },
  {
   "cell_type": "code",
   "execution_count": 11,
   "id": "5838783f",
   "metadata": {},
   "outputs": [
    {
     "data": {
      "text/plain": [
       "(2286039366128, 2286044403568)"
      ]
     },
     "execution_count": 11,
     "metadata": {},
     "output_type": "execute_result"
    }
   ],
   "source": [
    "id(new_arr), id(li_arr)"
   ]
  },
  {
   "cell_type": "code",
   "execution_count": 13,
   "id": "8d0833fc",
   "metadata": {},
   "outputs": [
    {
     "data": {
      "text/plain": [
       "array([99,  2,  3,  4])"
      ]
     },
     "execution_count": 13,
     "metadata": {},
     "output_type": "execute_result"
    }
   ],
   "source": [
    "new_arr[0] = 99\n",
    "new_arr"
   ]
  },
  {
   "cell_type": "code",
   "execution_count": 14,
   "id": "b8121b8e",
   "metadata": {},
   "outputs": [
    {
     "data": {
      "text/plain": [
       "array([100,   2,   3,   4])"
      ]
     },
     "execution_count": 14,
     "metadata": {},
     "output_type": "execute_result"
    }
   ],
   "source": [
    "li_arr"
   ]
  },
  {
   "cell_type": "markdown",
   "id": "e8b43eea",
   "metadata": {},
   "source": [
    "- 파이썬 리스트는 다양한 자료형을 사용할 수 있지만 넘파이 배열은 같은 자료형만 넣을 수 있음\n",
    "    - 다차원 배열을 생성할 때 자료형을 지정하지 않으면 내부의 원소를 보고 자동으로 추론해서 만듦"
   ]
  },
  {
   "cell_type": "code",
   "execution_count": 15,
   "id": "dbbb94ef",
   "metadata": {},
   "outputs": [
    {
     "data": {
      "text/plain": [
       "array([1., 2., 3., 4.])"
      ]
     },
     "execution_count": 15,
     "metadata": {},
     "output_type": "execute_result"
    }
   ],
   "source": [
    "# float 자료형을 지정해서 다차원 배열 만들기\n",
    "fl_arr = np.array(li, dtype = float)\n",
    "fl_arr"
   ]
  },
  {
   "cell_type": "code",
   "execution_count": 16,
   "id": "3b41713b",
   "metadata": {},
   "outputs": [
    {
     "data": {
      "text/plain": [
       "dtype('float64')"
      ]
     },
     "execution_count": 16,
     "metadata": {},
     "output_type": "execute_result"
    }
   ],
   "source": [
    "fl_arr.dtype"
   ]
  },
  {
   "cell_type": "markdown",
   "id": "b3f58022",
   "metadata": {},
   "source": [
    "## 2차원 배열\n",
    "\n",
    "- 2개의 축을 가지는 배열(행, 열)\n",
    "    - 두 개의 1차원 배열이 쌓여서 하나의 2차원 배열이 만들어짐"
   ]
  },
  {
   "cell_type": "code",
   "execution_count": 18,
   "id": "26b1ffa3",
   "metadata": {},
   "outputs": [
    {
     "data": {
      "text/plain": [
       "array([[1, 2, 3],\n",
       "       [4, 5, 6]])"
      ]
     },
     "execution_count": 18,
     "metadata": {},
     "output_type": "execute_result"
    }
   ],
   "source": [
    "arr2d = np.array([[1, 2, 3], [4, 5, 6]])\n",
    "arr2d"
   ]
  },
  {
   "cell_type": "code",
   "execution_count": 19,
   "id": "69332721",
   "metadata": {},
   "outputs": [
    {
     "data": {
      "text/plain": [
       "(2, 3)"
      ]
     },
     "execution_count": 19,
     "metadata": {},
     "output_type": "execute_result"
    }
   ],
   "source": [
    "# 각 축의 원소의 개수\n",
    "arr2d.shape"
   ]
  },
  {
   "cell_type": "code",
   "execution_count": 20,
   "id": "5ce25210",
   "metadata": {},
   "outputs": [
    {
     "data": {
      "text/plain": [
       "2"
      ]
     },
     "execution_count": 20,
     "metadata": {},
     "output_type": "execute_result"
    }
   ],
   "source": [
    "# 축이 개수\n",
    "arr2d.ndim"
   ]
  },
  {
   "cell_type": "code",
   "execution_count": 21,
   "id": "68c43915",
   "metadata": {},
   "outputs": [
    {
     "data": {
      "text/plain": [
       "dtype('int32')"
      ]
     },
     "execution_count": 21,
     "metadata": {},
     "output_type": "execute_result"
    }
   ],
   "source": [
    "arr2d.dtype"
   ]
  },
  {
   "cell_type": "code",
   "execution_count": 22,
   "id": "fb8bcac2",
   "metadata": {},
   "outputs": [
    {
     "data": {
      "text/plain": [
       "array([1, 2, 3, 4, 5, 6])"
      ]
     },
     "execution_count": 22,
     "metadata": {},
     "output_type": "execute_result"
    }
   ],
   "source": [
    "# 다차원 배열을 1차원 배열로 조회\n",
    "arr2d.flatten()"
   ]
  },
  {
   "cell_type": "markdown",
   "id": "9512cb63",
   "metadata": {},
   "source": [
    "## 원소 조회하기"
   ]
  },
  {
   "cell_type": "code",
   "execution_count": 23,
   "id": "2b34d7cc",
   "metadata": {},
   "outputs": [
    {
     "data": {
      "text/plain": [
       "array([100,   2,   3,   4])"
      ]
     },
     "execution_count": 23,
     "metadata": {},
     "output_type": "execute_result"
    }
   ],
   "source": [
    "# 1차원 배열에서 원소 조회\n",
    "li_arr"
   ]
  },
  {
   "cell_type": "code",
   "execution_count": 24,
   "id": "c195b347",
   "metadata": {},
   "outputs": [
    {
     "data": {
      "text/plain": [
       "[1, 2, 3, 4]"
      ]
     },
     "execution_count": 24,
     "metadata": {},
     "output_type": "execute_result"
    }
   ],
   "source": [
    "li"
   ]
  },
  {
   "cell_type": "code",
   "execution_count": 25,
   "id": "16068702",
   "metadata": {},
   "outputs": [
    {
     "data": {
      "text/plain": [
       "100"
      ]
     },
     "execution_count": 25,
     "metadata": {},
     "output_type": "execute_result"
    }
   ],
   "source": [
    "li_arr[0]"
   ]
  },
  {
   "cell_type": "code",
   "execution_count": 26,
   "id": "25d3b370",
   "metadata": {},
   "outputs": [
    {
     "data": {
      "text/plain": [
       "1"
      ]
     },
     "execution_count": 26,
     "metadata": {},
     "output_type": "execute_result"
    }
   ],
   "source": [
    "li[0]"
   ]
  },
  {
   "cell_type": "code",
   "execution_count": 27,
   "id": "99028bb2",
   "metadata": {},
   "outputs": [],
   "source": [
    "# 다차원 배열에서 원소 조회\n",
    "list2d = arr2d.tolist() # 배열을 리스트로 변환"
   ]
  },
  {
   "cell_type": "code",
   "execution_count": 28,
   "id": "6f750318",
   "metadata": {},
   "outputs": [
    {
     "data": {
      "text/plain": [
       "[[1, 2, 3], [4, 5, 6]]"
      ]
     },
     "execution_count": 28,
     "metadata": {},
     "output_type": "execute_result"
    }
   ],
   "source": [
    "list2d"
   ]
  },
  {
   "cell_type": "code",
   "execution_count": 29,
   "id": "04b9689d",
   "metadata": {},
   "outputs": [
    {
     "data": {
      "text/plain": [
       "array([[1, 2, 3],\n",
       "       [4, 5, 6]])"
      ]
     },
     "execution_count": 29,
     "metadata": {},
     "output_type": "execute_result"
    }
   ],
   "source": [
    "arr2d"
   ]
  },
  {
   "cell_type": "code",
   "execution_count": 31,
   "id": "d2cfa662",
   "metadata": {},
   "outputs": [
    {
     "data": {
      "text/plain": [
       "2"
      ]
     },
     "execution_count": 31,
     "metadata": {},
     "output_type": "execute_result"
    }
   ],
   "source": [
    "# 리스트는 정수만 이용해서 원소 조회 가능\n",
    "# 따라서 리스트 내 리스트의 원소를 조회할 때는 인덱스를 두 번 사용해야함\n",
    "list2d[0][1]"
   ]
  },
  {
   "cell_type": "code",
   "execution_count": 32,
   "id": "390a888e",
   "metadata": {},
   "outputs": [
    {
     "ename": "TypeError",
     "evalue": "list indices must be integers or slices, not tuple",
     "output_type": "error",
     "traceback": [
      "\u001b[1;31m---------------------------------------------------------------------------\u001b[0m",
      "\u001b[1;31mTypeError\u001b[0m                                 Traceback (most recent call last)",
      "Cell \u001b[1;32mIn[32], line 1\u001b[0m\n\u001b[1;32m----> 1\u001b[0m list2d[\u001b[38;5;241m0\u001b[39m, \u001b[38;5;241m1\u001b[39m]\n",
      "\u001b[1;31mTypeError\u001b[0m: list indices must be integers or slices, not tuple"
     ]
    }
   ],
   "source": [
    "list2d[0, 1] # 에러 남"
   ]
  },
  {
   "cell_type": "code",
   "execution_count": 33,
   "id": "1191b8c5",
   "metadata": {},
   "outputs": [
    {
     "data": {
      "text/plain": [
       "2"
      ]
     },
     "execution_count": 33,
     "metadata": {},
     "output_type": "execute_result"
    }
   ],
   "source": [
    "# 다차원 배열은 행과 열의 인덱스를 튜플로 조회할 수 있음\n",
    "arr2d[0, 1]"
   ]
  },
  {
   "cell_type": "code",
   "execution_count": 34,
   "id": "3615723f",
   "metadata": {},
   "outputs": [
    {
     "data": {
      "text/plain": [
       "2"
      ]
     },
     "execution_count": 34,
     "metadata": {},
     "output_type": "execute_result"
    }
   ],
   "source": [
    "arr2d[0][1]"
   ]
  },
  {
   "cell_type": "markdown",
   "id": "a41f46b5",
   "metadata": {},
   "source": [
    "### 슬라이싱\n"
   ]
  },
  {
   "cell_type": "code",
   "execution_count": 35,
   "id": "dde87839",
   "metadata": {},
   "outputs": [
    {
     "data": {
      "text/plain": [
       "array([[0, 1, 2, 3],\n",
       "       [4, 5, 6, 7]])"
      ]
     },
     "execution_count": 35,
     "metadata": {},
     "output_type": "execute_result"
    }
   ],
   "source": [
    "arr1 = np.array([[0, 1, 2, 3], [4, 5, 6, 7]])\n",
    "arr1"
   ]
  },
  {
   "cell_type": "code",
   "execution_count": 36,
   "id": "344a351f",
   "metadata": {},
   "outputs": [
    {
     "data": {
      "text/plain": [
       "array([0, 1, 2, 3])"
      ]
     },
     "execution_count": 36,
     "metadata": {},
     "output_type": "execute_result"
    }
   ],
   "source": [
    "# 첫 번째 행 전체\n",
    "arr1[0, :]"
   ]
  },
  {
   "cell_type": "code",
   "execution_count": 37,
   "id": "cd483cd9",
   "metadata": {},
   "outputs": [
    {
     "data": {
      "text/plain": [
       "array([1, 5])"
      ]
     },
     "execution_count": 37,
     "metadata": {},
     "output_type": "execute_result"
    }
   ],
   "source": [
    "# 두 번째 열 전체\n",
    "arr1[:, 1]"
   ]
  },
  {
   "cell_type": "code",
   "execution_count": 38,
   "id": "15a63502",
   "metadata": {},
   "outputs": [
    {
     "data": {
      "text/plain": [
       "array([5, 6, 7])"
      ]
     },
     "execution_count": 38,
     "metadata": {},
     "output_type": "execute_result"
    }
   ],
   "source": [
    "# 두 번째 행의 두 번째 열부터 끝 열까지\n",
    "arr1[1, 1:]"
   ]
  },
  {
   "cell_type": "code",
   "execution_count": 39,
   "id": "9b5d86dc",
   "metadata": {},
   "outputs": [
    {
     "data": {
      "text/plain": [
       "array([[0, 1],\n",
       "       [4, 5]])"
      ]
     },
     "execution_count": 39,
     "metadata": {},
     "output_type": "execute_result"
    }
   ],
   "source": [
    "# 각 행의 두 번째 열까지\n",
    "arr1[:, :2]"
   ]
  },
  {
   "cell_type": "markdown",
   "id": "c12d932e",
   "metadata": {},
   "source": [
    "#### 연습문제\n",
    "\n",
    "1. 아래의 행렬에서 값 7을 인덱싱\n",
    "2. 아래의 행렬에서 값 14를 인덱싱\n",
    "3. 아래의 행렬에서 배열 [6,7]을 슬라이싱\n",
    "4. 아래의 행렬에서 배열 [7, 12]를 슬라이싱\n",
    "5. 아래의 행렬에서 배열 [[3, 4], [8, 9]]를 슬라이싱"
   ]
  },
  {
   "cell_type": "code",
   "execution_count": 40,
   "id": "320cb38d",
   "metadata": {},
   "outputs": [],
   "source": [
    "m = np.array([[0, 1, 2, 3, 4],\n",
    "             [5, 6, 7, 8, 9],\n",
    "             [10, 11, 12, 13, 14]])"
   ]
  },
  {
   "cell_type": "code",
   "execution_count": 41,
   "id": "096f4242",
   "metadata": {},
   "outputs": [
    {
     "data": {
      "text/plain": [
       "7"
      ]
     },
     "execution_count": 41,
     "metadata": {},
     "output_type": "execute_result"
    }
   ],
   "source": [
    "m[1, 2]"
   ]
  },
  {
   "cell_type": "code",
   "execution_count": 42,
   "id": "a5ba8cea",
   "metadata": {},
   "outputs": [
    {
     "data": {
      "text/plain": [
       "14"
      ]
     },
     "execution_count": 42,
     "metadata": {},
     "output_type": "execute_result"
    }
   ],
   "source": [
    "m[2, -1]"
   ]
  },
  {
   "cell_type": "code",
   "execution_count": 44,
   "id": "eae326f3",
   "metadata": {},
   "outputs": [
    {
     "data": {
      "text/plain": [
       "array([6, 7])"
      ]
     },
     "execution_count": 44,
     "metadata": {},
     "output_type": "execute_result"
    }
   ],
   "source": [
    "m[1, 1:3]"
   ]
  },
  {
   "cell_type": "code",
   "execution_count": 45,
   "id": "98fab749",
   "metadata": {},
   "outputs": [
    {
     "data": {
      "text/plain": [
       "array([ 7, 12])"
      ]
     },
     "execution_count": 45,
     "metadata": {},
     "output_type": "execute_result"
    }
   ],
   "source": [
    "m[1:, 2]"
   ]
  },
  {
   "cell_type": "code",
   "execution_count": 47,
   "id": "f341aa85",
   "metadata": {},
   "outputs": [
    {
     "data": {
      "text/plain": [
       "array([[3, 4],\n",
       "       [8, 9]])"
      ]
     },
     "execution_count": 47,
     "metadata": {},
     "output_type": "execute_result"
    }
   ],
   "source": [
    "m[:2, 3:]"
   ]
  },
  {
   "cell_type": "code",
   "execution_count": 52,
   "id": "4135ed02",
   "metadata": {},
   "outputs": [],
   "source": [
    "m = np.array([[[1, 2, 3], [4, 5, 6]],\n",
    "             [[7, 8, 9], [10, 11, 12]],\n",
    "             [[13, 14, 15], [16, 17, 18]],\n",
    "             [[19, 20, 21], [22, 23, 24]]])"
   ]
  },
  {
   "cell_type": "code",
   "execution_count": 90,
   "id": "f7ea7d29",
   "metadata": {},
   "outputs": [
    {
     "data": {
      "text/plain": [
       "(4, 2, 3)"
      ]
     },
     "execution_count": 90,
     "metadata": {},
     "output_type": "execute_result"
    }
   ],
   "source": [
    "m.shape"
   ]
  },
  {
   "cell_type": "code",
   "execution_count": 123,
   "id": "7483afdc",
   "metadata": {
    "scrolled": true
   },
   "outputs": [
    {
     "data": {
      "text/plain": [
       "array([ 8, 14])"
      ]
     },
     "execution_count": 123,
     "metadata": {},
     "output_type": "execute_result"
    }
   ],
   "source": [
    "# [8, 14]\n",
    "m[1:3, 0, 1]"
   ]
  },
  {
   "cell_type": "code",
   "execution_count": 124,
   "id": "50d153b3",
   "metadata": {},
   "outputs": [
    {
     "data": {
      "text/plain": [
       "array([[[11, 12]],\n",
       "\n",
       "       [[17, 18]]])"
      ]
     },
     "execution_count": 124,
     "metadata": {},
     "output_type": "execute_result"
    }
   ],
   "source": [
    "# [[11, 12], [17, 18]]\n",
    "m[1:3, 1:, 1:]"
   ]
  },
  {
   "cell_type": "code",
   "execution_count": 125,
   "id": "b88562f3",
   "metadata": {},
   "outputs": [
    {
     "data": {
      "text/plain": [
       "array([ 3,  9, 15, 21])"
      ]
     },
     "execution_count": 125,
     "metadata": {},
     "output_type": "execute_result"
    }
   ],
   "source": [
    "# [3, 9, 15, 21]\n",
    "m[:, 0, 2]"
   ]
  },
  {
   "cell_type": "markdown",
   "id": "ed7a781f",
   "metadata": {},
   "source": [
    "## 파이썬 리스트와 넘파이 배열의 차이\n",
    "\n",
    "- 넘파이 배열은 배열끼리 연산이 가능하지만 파이썬 리스트는 값의 추가만 가능\n",
    "- 넘파이 배열은 숫자와의 연산도 가능하지만 파이썬 리스트는 불가능\n",
    "    - 파이썬 리스트 : 곱셈으로 리스트 요소를 반복하는 것은 가능\n",
    "    \n",
    "- 사용 용도\n",
    "    - 파이썬 리스트는 값을 추가하거나 제거하는 일에 사용\n",
    "    - 넘파이 배열은 수치 계싼이 많고 복잡하거나 다차원배열이 필요할 때 사용"
   ]
  },
  {
   "cell_type": "markdown",
   "id": "43a3a4d7",
   "metadata": {},
   "source": [
    "# 전치 연산(Transpose)\n",
    "\n",
    "- 2차원 배열의 행과 열을 바꾸는 연산"
   ]
  },
  {
   "cell_type": "code",
   "execution_count": 126,
   "id": "ac0458de",
   "metadata": {},
   "outputs": [
    {
     "data": {
      "text/plain": [
       "array([[1, 2, 3],\n",
       "       [4, 5, 6]])"
      ]
     },
     "execution_count": 126,
     "metadata": {},
     "output_type": "execute_result"
    }
   ],
   "source": [
    "arr = np.array([[1, 2, 3,], [4, 5, 6]])\n",
    "arr"
   ]
  },
  {
   "cell_type": "code",
   "execution_count": 127,
   "id": "00332aab",
   "metadata": {},
   "outputs": [
    {
     "data": {
      "text/plain": [
       "(2, 3)"
      ]
     },
     "execution_count": 127,
     "metadata": {},
     "output_type": "execute_result"
    }
   ],
   "source": [
    "arr.shape"
   ]
  },
  {
   "cell_type": "code",
   "execution_count": 128,
   "id": "575dccdc",
   "metadata": {},
   "outputs": [
    {
     "data": {
      "text/plain": [
       "array([[1, 4],\n",
       "       [2, 5],\n",
       "       [3, 6]])"
      ]
     },
     "execution_count": 128,
     "metadata": {},
     "output_type": "execute_result"
    }
   ],
   "source": [
    "arr.T"
   ]
  },
  {
   "cell_type": "code",
   "execution_count": 129,
   "id": "b977102f",
   "metadata": {},
   "outputs": [
    {
     "data": {
      "text/plain": [
       "(3, 2)"
      ]
     },
     "execution_count": 129,
     "metadata": {},
     "output_type": "execute_result"
    }
   ],
   "source": [
    "arr.T.shape"
   ]
  },
  {
   "cell_type": "markdown",
   "id": "564a13fe",
   "metadata": {},
   "source": [
    "# 배열 크기 변형"
   ]
  },
  {
   "cell_type": "code",
   "execution_count": 2,
   "id": "8e9b18cf",
   "metadata": {},
   "outputs": [
    {
     "data": {
      "text/plain": [
       "array([ 0,  1,  2,  3,  4,  5,  6,  7,  8,  9, 10, 11])"
      ]
     },
     "execution_count": 2,
     "metadata": {},
     "output_type": "execute_result"
    }
   ],
   "source": [
    "arr1 = np.arange(12)\n",
    "arr1"
   ]
  },
  {
   "cell_type": "code",
   "execution_count": 4,
   "id": "4816cbc7",
   "metadata": {},
   "outputs": [
    {
     "data": {
      "text/plain": [
       "array([[ 0,  1,  2,  3],\n",
       "       [ 4,  5,  6,  7],\n",
       "       [ 8,  9, 10, 11]])"
      ]
     },
     "execution_count": 4,
     "metadata": {},
     "output_type": "execute_result"
    }
   ],
   "source": [
    "arr2 = arr1.reshape(3, 4)\n",
    "arr2"
   ]
  },
  {
   "cell_type": "code",
   "execution_count": 5,
   "id": "b9ef368c",
   "metadata": {},
   "outputs": [
    {
     "ename": "ValueError",
     "evalue": "cannot reshape array of size 12 into shape (3,3)",
     "output_type": "error",
     "traceback": [
      "\u001b[1;31m---------------------------------------------------------------------------\u001b[0m",
      "\u001b[1;31mValueError\u001b[0m                                Traceback (most recent call last)",
      "Cell \u001b[1;32mIn[5], line 1\u001b[0m\n\u001b[1;32m----> 1\u001b[0m arr1\u001b[38;5;241m.\u001b[39mreshape(\u001b[38;5;241m3\u001b[39m, \u001b[38;5;241m3\u001b[39m)\n",
      "\u001b[1;31mValueError\u001b[0m: cannot reshape array of size 12 into shape (3,3)"
     ]
    }
   ],
   "source": [
    "arr1.reshape(3, 3) # 12개가 안 맞기 때문에 에러 뜸~"
   ]
  },
  {
   "cell_type": "markdown",
   "id": "b5054a58",
   "metadata": {},
   "source": [
    "- 사용하는 원소의 수가 정해져 있기 때문에 reshape의 형태 원소 중 하나는 -1로 대체할 수 있음"
   ]
  },
  {
   "cell_type": "code",
   "execution_count": 6,
   "id": "c7be7cf6",
   "metadata": {},
   "outputs": [
    {
     "data": {
      "text/plain": [
       "array([[ 0,  1,  2,  3],\n",
       "       [ 4,  5,  6,  7],\n",
       "       [ 8,  9, 10, 11]])"
      ]
     },
     "execution_count": 6,
     "metadata": {},
     "output_type": "execute_result"
    }
   ],
   "source": [
    "arr1.reshape(3, -1)"
   ]
  },
  {
   "cell_type": "code",
   "execution_count": 7,
   "id": "7406d38f",
   "metadata": {},
   "outputs": [
    {
     "data": {
      "text/plain": [
       "array([[[ 0,  1,  2],\n",
       "        [ 3,  4,  5]],\n",
       "\n",
       "       [[ 6,  7,  8],\n",
       "        [ 9, 10, 11]]])"
      ]
     },
     "execution_count": 7,
     "metadata": {},
     "output_type": "execute_result"
    }
   ],
   "source": [
    "arr1.reshape(2, 2, -1)"
   ]
  },
  {
   "cell_type": "code",
   "execution_count": 8,
   "id": "c222c882",
   "metadata": {},
   "outputs": [
    {
     "data": {
      "text/plain": [
       "array([[[ 0,  1],\n",
       "        [ 2,  3],\n",
       "        [ 4,  5]],\n",
       "\n",
       "       [[ 6,  7],\n",
       "        [ 8,  9],\n",
       "        [10, 11]]])"
      ]
     },
     "execution_count": 8,
     "metadata": {},
     "output_type": "execute_result"
    }
   ],
   "source": [
    "arr1.reshape(2, -1, 2)"
   ]
  },
  {
   "cell_type": "code",
   "execution_count": 9,
   "id": "6a12bd59",
   "metadata": {},
   "outputs": [
    {
     "ename": "ValueError",
     "evalue": "cannot reshape array of size 12 into shape (5)",
     "output_type": "error",
     "traceback": [
      "\u001b[1;31m---------------------------------------------------------------------------\u001b[0m",
      "\u001b[1;31mValueError\u001b[0m                                Traceback (most recent call last)",
      "Cell \u001b[1;32mIn[9], line 1\u001b[0m\n\u001b[1;32m----> 1\u001b[0m arr1\u001b[38;5;241m.\u001b[39mreshape(\u001b[38;5;241m-\u001b[39m\u001b[38;5;241m1\u001b[39m, \u001b[38;5;241m5\u001b[39m)\n",
      "\u001b[1;31mValueError\u001b[0m: cannot reshape array of size 12 into shape (5)"
     ]
    }
   ],
   "source": [
    "arr1.reshape(-1, 5)"
   ]
  },
  {
   "cell_type": "markdown",
   "id": "8ecaa0f7",
   "metadata": {},
   "source": [
    "# 넘파이 함수의 특징\n",
    " \n",
    "- 벡터화 연산\n",
    "    - 벡터와 행렬의 연산은 구성하는 원소별로 처리하는 것이 보통\n",
    "    - 동일한 인덱스의 원소끼리 계산을 처리하는 것을 벡터화 연신이라고 함\n",
    "    \n",
    "- 유니버설 함수(universal function)\n",
    "    - 벡터화 연산을 지원하는 특별한 함수를 유니버설 함수라고 함"
   ]
  },
  {
   "cell_type": "code",
   "execution_count": 10,
   "id": "915a5217",
   "metadata": {},
   "outputs": [],
   "source": [
    "# 일반 파이썬 함수의 타입 확인\n",
    "def test():\n",
    "    pass"
   ]
  },
  {
   "cell_type": "code",
   "execution_count": 11,
   "id": "67eb9074",
   "metadata": {},
   "outputs": [
    {
     "data": {
      "text/plain": [
       "function"
      ]
     },
     "execution_count": 11,
     "metadata": {},
     "output_type": "execute_result"
    }
   ],
   "source": [
    "type(test)"
   ]
  },
  {
   "cell_type": "code",
   "execution_count": 12,
   "id": "71e6b7ac",
   "metadata": {},
   "outputs": [
    {
     "data": {
      "text/plain": [
       "numpy.ufunc"
      ]
     },
     "execution_count": 12,
     "metadata": {},
     "output_type": "execute_result"
    }
   ],
   "source": [
    "# 유니버셜 함수 확인\n",
    "type(np.add)"
   ]
  },
  {
   "cell_type": "code",
   "execution_count": 13,
   "id": "852a7ac8",
   "metadata": {},
   "outputs": [
    {
     "data": {
      "text/plain": [
       "function"
      ]
     },
     "execution_count": 13,
     "metadata": {},
     "output_type": "execute_result"
    }
   ],
   "source": [
    "# 넘파이 모듈에는 유니버설 함수도 있고 일반 함수도 있음\n",
    "type(np.sort)"
   ]
  },
  {
   "cell_type": "code",
   "execution_count": 14,
   "id": "2c6e15f1",
   "metadata": {},
   "outputs": [],
   "source": [
    "list2d = [[1, 2, 3], [4, 5, 6]]"
   ]
  },
  {
   "cell_type": "code",
   "execution_count": 15,
   "id": "516db90b",
   "metadata": {},
   "outputs": [
    {
     "data": {
      "text/plain": [
       "[[1, 2, 3], [4, 5, 6], [1, 2, 3], [4, 5, 6]]"
      ]
     },
     "execution_count": 15,
     "metadata": {},
     "output_type": "execute_result"
    }
   ],
   "source": [
    "list2d + list2d"
   ]
  },
  {
   "cell_type": "code",
   "execution_count": 16,
   "id": "7b055a51",
   "metadata": {},
   "outputs": [
    {
     "data": {
      "text/plain": [
       "array([[ 2,  4,  6],\n",
       "       [ 8, 10, 12]])"
      ]
     },
     "execution_count": 16,
     "metadata": {},
     "output_type": "execute_result"
    }
   ],
   "source": [
    "np.add(list2d, list2d)"
   ]
  },
  {
   "cell_type": "markdown",
   "id": "32148c7f",
   "metadata": {},
   "source": [
    "## 벡터화 연산"
   ]
  },
  {
   "cell_type": "markdown",
   "id": "a9075747",
   "metadata": {},
   "source": [
    "### 벡터화 연산이 필요한 이유\n",
    "\n",
    "- data 리스트 내의 각 값에 2를 곱해야 하는 경우"
   ]
  },
  {
   "cell_type": "code",
   "execution_count": 17,
   "id": "edc14128",
   "metadata": {},
   "outputs": [
    {
     "data": {
      "text/plain": [
       "[0, 1, 2, 3, 4, 5, 6, 7, 8, 9]"
      ]
     },
     "execution_count": 17,
     "metadata": {},
     "output_type": "execute_result"
    }
   ],
   "source": [
    "# 리스트를 통한 풀이\n",
    "data = list(range(10))\n",
    "data"
   ]
  },
  {
   "cell_type": "code",
   "execution_count": 19,
   "id": "188d7b9f",
   "metadata": {},
   "outputs": [
    {
     "data": {
      "text/plain": [
       "[0, 1, 2, 3, 4, 5, 6, 7, 8, 9, 0, 1, 2, 3, 4, 5, 6, 7, 8, 9]"
      ]
     },
     "execution_count": 19,
     "metadata": {},
     "output_type": "execute_result"
    }
   ],
   "source": [
    "data * 2"
   ]
  },
  {
   "cell_type": "code",
   "execution_count": 21,
   "id": "de6da1a6",
   "metadata": {},
   "outputs": [
    {
     "data": {
      "text/plain": [
       "[0, 2, 4, 6, 8, 10, 12, 14, 16, 18]"
      ]
     },
     "execution_count": 21,
     "metadata": {},
     "output_type": "execute_result"
    }
   ],
   "source": [
    "ans = []\n",
    "\n",
    "for i in data:\n",
    "    ans.append(i * 2)\n",
    "    \n",
    "ans"
   ]
  },
  {
   "cell_type": "code",
   "execution_count": 22,
   "id": "e99c3889",
   "metadata": {},
   "outputs": [
    {
     "data": {
      "text/plain": [
       "array([0, 1, 2, 3, 4, 5, 6, 7, 8, 9])"
      ]
     },
     "execution_count": 22,
     "metadata": {},
     "output_type": "execute_result"
    }
   ],
   "source": [
    "# 넘파이를 통한 풀이\n",
    "data = np.array(data)\n",
    "data"
   ]
  },
  {
   "cell_type": "code",
   "execution_count": 24,
   "id": "4a75df0c",
   "metadata": {},
   "outputs": [
    {
     "data": {
      "text/plain": [
       "array([ 0,  2,  4,  6,  8, 10, 12, 14, 16, 18])"
      ]
     },
     "execution_count": 24,
     "metadata": {},
     "output_type": "execute_result"
    }
   ],
   "source": [
    "data * 2"
   ]
  },
  {
   "cell_type": "markdown",
   "id": "6afcfbc3",
   "metadata": {},
   "source": [
    "### 넘파이 벡터화 연산\n",
    "\n",
    "- 벡터화 연산은 비교 연산과 논리 연산을 포함한 모든 종류의 수학 연산에 대해 적용됨"
   ]
  },
  {
   "cell_type": "code",
   "execution_count": 25,
   "id": "a36b606c",
   "metadata": {},
   "outputs": [],
   "source": [
    "a = np.array([1, 2, 3])\n",
    "b = np.array([10, 20, 30])"
   ]
  },
  {
   "cell_type": "code",
   "execution_count": 26,
   "id": "c1c8f961",
   "metadata": {},
   "outputs": [
    {
     "data": {
      "text/plain": [
       "array([12, 24, 36])"
      ]
     },
     "execution_count": 26,
     "metadata": {},
     "output_type": "execute_result"
    }
   ],
   "source": [
    "2 * a + b"
   ]
  },
  {
   "cell_type": "code",
   "execution_count": 27,
   "id": "391a4591",
   "metadata": {},
   "outputs": [
    {
     "data": {
      "text/plain": [
       "array([False,  True, False])"
      ]
     },
     "execution_count": 27,
     "metadata": {},
     "output_type": "execute_result"
    }
   ],
   "source": [
    "a == 2 # 하나 하나 요소들에 비교"
   ]
  },
  {
   "cell_type": "code",
   "execution_count": 28,
   "id": "24ab092a",
   "metadata": {},
   "outputs": [
    {
     "data": {
      "text/plain": [
       "False"
      ]
     },
     "execution_count": 28,
     "metadata": {},
     "output_type": "execute_result"
    }
   ],
   "source": [
    "[1, 2, 3] == 2"
   ]
  },
  {
   "cell_type": "code",
   "execution_count": 29,
   "id": "f97a1550",
   "metadata": {},
   "outputs": [
    {
     "data": {
      "text/plain": [
       "array([False,  True,  True])"
      ]
     },
     "execution_count": 29,
     "metadata": {},
     "output_type": "execute_result"
    }
   ],
   "source": [
    "b > 10"
   ]
  },
  {
   "cell_type": "code",
   "execution_count": 30,
   "id": "da830c05",
   "metadata": {},
   "outputs": [
    {
     "data": {
      "text/plain": [
       "array([False,  True, False])"
      ]
     },
     "execution_count": 30,
     "metadata": {},
     "output_type": "execute_result"
    }
   ],
   "source": [
    "(a == 2) &  (b > 10)"
   ]
  },
  {
   "cell_type": "code",
   "execution_count": 31,
   "id": "b4792a43",
   "metadata": {},
   "outputs": [
    {
     "data": {
      "text/plain": [
       "array([1, 3])"
      ]
     },
     "execution_count": 31,
     "metadata": {},
     "output_type": "execute_result"
    }
   ],
   "source": [
    "a[[True, False, True]]"
   ]
  },
  {
   "cell_type": "code",
   "execution_count": 32,
   "id": "6e913dbc",
   "metadata": {},
   "outputs": [
    {
     "data": {
      "text/plain": [
       "array([3])"
      ]
     },
     "execution_count": 32,
     "metadata": {},
     "output_type": "execute_result"
    }
   ],
   "source": [
    "a[[False, False, True]]"
   ]
  },
  {
   "cell_type": "code",
   "execution_count": 33,
   "id": "9579be3e",
   "metadata": {},
   "outputs": [
    {
     "data": {
      "text/plain": [
       "array([2])"
      ]
     },
     "execution_count": 33,
     "metadata": {},
     "output_type": "execute_result"
    }
   ],
   "source": [
    "a[a == 2]"
   ]
  },
  {
   "cell_type": "markdown",
   "id": "c418fc14",
   "metadata": {},
   "source": [
    "- 배열끼리의 연산"
   ]
  },
  {
   "cell_type": "code",
   "execution_count": 35,
   "id": "e97dc016",
   "metadata": {},
   "outputs": [
    {
     "data": {
      "text/plain": [
       "array([6, 7, 8, 9])"
      ]
     },
     "execution_count": 35,
     "metadata": {},
     "output_type": "execute_result"
    }
   ],
   "source": [
    "arr1 = np.arange(6, 10)\n",
    "arr1"
   ]
  },
  {
   "cell_type": "code",
   "execution_count": 37,
   "id": "9b0e5b49",
   "metadata": {},
   "outputs": [
    {
     "data": {
      "text/plain": [
       "array([10, 11, 12, 13])"
      ]
     },
     "execution_count": 37,
     "metadata": {},
     "output_type": "execute_result"
    }
   ],
   "source": [
    "arr2 = np.arange(10, 14)\n",
    "arr2"
   ]
  },
  {
   "cell_type": "code",
   "execution_count": 38,
   "id": "d0706909",
   "metadata": {},
   "outputs": [
    {
     "data": {
      "text/plain": [
       "array([ 60,  77,  96, 117])"
      ]
     },
     "execution_count": 38,
     "metadata": {},
     "output_type": "execute_result"
    }
   ],
   "source": [
    "# 두 개의 다차원 배열을 곱하면 동일한 인덱스의 원소끼리 곱셈한 결과인 1차원 배열이 반환됨\n",
    "arr1 * arr2"
   ]
  },
  {
   "cell_type": "code",
   "execution_count": 40,
   "id": "368056d7",
   "metadata": {},
   "outputs": [
    {
     "data": {
      "text/plain": [
       "array([[6],\n",
       "       [7],\n",
       "       [8],\n",
       "       [9]])"
      ]
     },
     "execution_count": 40,
     "metadata": {},
     "output_type": "execute_result"
    }
   ],
   "source": [
    "# arr1에 차원 추가(수직축 추가)\n",
    "new_arr1 = arr1.reshape(-1, 1)\n",
    "new_arr1"
   ]
  },
  {
   "cell_type": "code",
   "execution_count": 41,
   "id": "5ac4c45b",
   "metadata": {},
   "outputs": [
    {
     "data": {
      "text/plain": [
       "array([[10, 11, 12, 13]])"
      ]
     },
     "execution_count": 41,
     "metadata": {},
     "output_type": "execute_result"
    }
   ],
   "source": [
    "# arr2에 차원 추가(수평축 추가)\n",
    "new_arr2 = arr2.reshape(1, -1)\n",
    "new_arr2"
   ]
  },
  {
   "cell_type": "code",
   "execution_count": 42,
   "id": "5b3fc3aa",
   "metadata": {},
   "outputs": [
    {
     "data": {
      "text/plain": [
       "(1, 4)"
      ]
     },
     "execution_count": 42,
     "metadata": {},
     "output_type": "execute_result"
    }
   ],
   "source": [
    "new_arr2.shape"
   ]
  },
  {
   "cell_type": "markdown",
   "id": "b32bbc2d",
   "metadata": {},
   "source": [
    "## 브로드캐스팅(broadcasting)\n",
    "\n",
    "- 배열끼리 연산을 하기 위해서는 두 배열의 크기가 같아야 함\n",
    "- 서로 다른 크기를 가진 배열의 사칙 연산을 하는 경우 넘파이에서는 크기가 작은 배열을 자동으로 반복 확장하여 크기가 큰 배열에 맞춤\n"
   ]
  },
  {
   "cell_type": "code",
   "execution_count": 43,
   "id": "064b5765",
   "metadata": {},
   "outputs": [
    {
     "data": {
      "text/plain": [
       "array([[16, 17, 18, 19],\n",
       "       [17, 18, 19, 20],\n",
       "       [18, 19, 20, 21],\n",
       "       [19, 20, 21, 22]])"
      ]
     },
     "execution_count": 43,
     "metadata": {},
     "output_type": "execute_result"
    }
   ],
   "source": [
    "new_arr1 + new_arr2"
   ]
  },
  {
   "cell_type": "code",
   "execution_count": 44,
   "id": "fae1eec9",
   "metadata": {},
   "outputs": [
    {
     "data": {
      "text/plain": [
       "array([[ 60,  66,  72,  78],\n",
       "       [ 70,  77,  84,  91],\n",
       "       [ 80,  88,  96, 104],\n",
       "       [ 90,  99, 108, 117]])"
      ]
     },
     "execution_count": 44,
     "metadata": {},
     "output_type": "execute_result"
    }
   ],
   "source": [
    "# 행렬곱 연산\n",
    "new_arr1 * new_arr2"
   ]
  },
  {
   "cell_type": "code",
   "execution_count": 45,
   "id": "7020e91c",
   "metadata": {},
   "outputs": [
    {
     "data": {
      "text/plain": [
       "array([[ 60,  66,  72,  78],\n",
       "       [ 70,  77,  84,  91],\n",
       "       [ 80,  88,  96, 104],\n",
       "       [ 90,  99, 108, 117]])"
      ]
     },
     "execution_count": 45,
     "metadata": {},
     "output_type": "execute_result"
    }
   ],
   "source": [
    "new_arr1 @ new_arr2"
   ]
  },
  {
   "cell_type": "code",
   "execution_count": 46,
   "id": "72fa360e",
   "metadata": {},
   "outputs": [],
   "source": [
    "a = np.array([[1, 2], [3, 4]])\n",
    "b = np.array([[5, 6], [7, 8]])"
   ]
  },
  {
   "cell_type": "code",
   "execution_count": 47,
   "id": "e7169523",
   "metadata": {},
   "outputs": [
    {
     "data": {
      "text/plain": [
       "array([[1, 2],\n",
       "       [3, 4]])"
      ]
     },
     "execution_count": 47,
     "metadata": {},
     "output_type": "execute_result"
    }
   ],
   "source": [
    "a"
   ]
  },
  {
   "cell_type": "code",
   "execution_count": 48,
   "id": "1ba00637",
   "metadata": {},
   "outputs": [
    {
     "data": {
      "text/plain": [
       "array([[5, 6],\n",
       "       [7, 8]])"
      ]
     },
     "execution_count": 48,
     "metadata": {},
     "output_type": "execute_result"
    }
   ],
   "source": [
    "b"
   ]
  },
  {
   "cell_type": "code",
   "execution_count": 49,
   "id": "8b794c0d",
   "metadata": {},
   "outputs": [
    {
     "data": {
      "text/plain": [
       "array([[ 5, 12],\n",
       "       [21, 32]])"
      ]
     },
     "execution_count": 49,
     "metadata": {},
     "output_type": "execute_result"
    }
   ],
   "source": [
    "# * 연산자는 요소별 곱셈을 수행\n",
    "a * b"
   ]
  },
  {
   "cell_type": "code",
   "execution_count": 50,
   "id": "0f30dc57",
   "metadata": {},
   "outputs": [
    {
     "data": {
      "text/plain": [
       "array([[19, 22],\n",
       "       [43, 50]])"
      ]
     },
     "execution_count": 50,
     "metadata": {},
     "output_type": "execute_result"
    }
   ],
   "source": [
    "# @ 연산자는 행렬 곱셈을 수행\n",
    "a @ b"
   ]
  },
  {
   "cell_type": "markdown",
   "id": "25f6ed91",
   "metadata": {},
   "source": [
    "#### 연습문제\n",
    "\n",
    "1. 아래의 배열에서 3의 배수를 찾기\n",
    "2. 아래의 배열에서 4로 나누면 1이 남는 수 찾기\n",
    "3. 아래의 배열에서 3으로 나누어지고 4로 나누면 1이 남는 수 찾기"
   ]
  },
  {
   "cell_type": "code",
   "execution_count": 51,
   "id": "ac267daa",
   "metadata": {},
   "outputs": [
    {
     "data": {
      "text/plain": [
       "array([ 1,  2,  3,  4,  5,  6,  7,  8,  9, 10, 11, 12, 13, 14, 15, 16, 17,\n",
       "       18, 19, 20])"
      ]
     },
     "execution_count": 51,
     "metadata": {},
     "output_type": "execute_result"
    }
   ],
   "source": [
    "x = np.arange(1, 21)\n",
    "x"
   ]
  },
  {
   "cell_type": "code",
   "execution_count": 56,
   "id": "33b7f84d",
   "metadata": {
    "scrolled": true
   },
   "outputs": [
    {
     "data": {
      "text/plain": [
       "array([ 3,  6,  9, 12, 15, 18])"
      ]
     },
     "execution_count": 56,
     "metadata": {},
     "output_type": "execute_result"
    }
   ],
   "source": [
    "x[x % 3 == 0]"
   ]
  },
  {
   "cell_type": "code",
   "execution_count": 61,
   "id": "43f36890",
   "metadata": {},
   "outputs": [
    {
     "data": {
      "text/plain": [
       "array([ 3,  6,  9, 12, 15, 18])"
      ]
     },
     "execution_count": 61,
     "metadata": {},
     "output_type": "execute_result"
    }
   ],
   "source": [
    "x[2::3]"
   ]
  },
  {
   "cell_type": "code",
   "execution_count": 58,
   "id": "03c7b350",
   "metadata": {},
   "outputs": [
    {
     "data": {
      "text/plain": [
       "array([ 1,  5,  9, 13, 17])"
      ]
     },
     "execution_count": 58,
     "metadata": {},
     "output_type": "execute_result"
    }
   ],
   "source": [
    "x[x % 4 == 1]"
   ]
  },
  {
   "cell_type": "code",
   "execution_count": 60,
   "id": "28a536e2",
   "metadata": {},
   "outputs": [
    {
     "data": {
      "text/plain": [
       "array([9])"
      ]
     },
     "execution_count": 60,
     "metadata": {},
     "output_type": "execute_result"
    }
   ],
   "source": [
    "#  3으로 나누어지고 4로 나누면 1이 남는 수 \n",
    "x[(x % 3 == 0) & (x % 4 == 1)]"
   ]
  },
  {
   "cell_type": "markdown",
   "id": "90690c0b",
   "metadata": {},
   "source": [
    "## 축에 따른 연산\n",
    "\n",
    "- 동일한 축에 있는 원소들을 계산하기 위해서 필요"
   ]
  },
  {
   "cell_type": "code",
   "execution_count": 62,
   "id": "6e9de769",
   "metadata": {},
   "outputs": [
    {
     "data": {
      "text/plain": [
       "array([1, 2, 3, 4])"
      ]
     },
     "execution_count": 62,
     "metadata": {},
     "output_type": "execute_result"
    }
   ],
   "source": [
    "# 1차원 배열\n",
    "arr1 = np.array([1, 2, 3, 4])\n",
    "arr1"
   ]
  },
  {
   "cell_type": "code",
   "execution_count": 63,
   "id": "92539dcb",
   "metadata": {},
   "outputs": [
    {
     "data": {
      "text/plain": [
       "10"
      ]
     },
     "execution_count": 63,
     "metadata": {},
     "output_type": "execute_result"
    }
   ],
   "source": [
    "# 합계\n",
    "np.sum(arr1)"
   ]
  },
  {
   "cell_type": "code",
   "execution_count": 64,
   "id": "82c3fd84",
   "metadata": {},
   "outputs": [
    {
     "data": {
      "text/plain": [
       "10"
      ]
     },
     "execution_count": 64,
     "metadata": {},
     "output_type": "execute_result"
    }
   ],
   "source": [
    "arr1.sum()"
   ]
  },
  {
   "cell_type": "code",
   "execution_count": 65,
   "id": "a8f17602",
   "metadata": {},
   "outputs": [
    {
     "data": {
      "text/plain": [
       "4"
      ]
     },
     "execution_count": 65,
     "metadata": {},
     "output_type": "execute_result"
    }
   ],
   "source": [
    "# 최댓값\n",
    "arr1.max()"
   ]
  },
  {
   "cell_type": "code",
   "execution_count": 66,
   "id": "2182e982",
   "metadata": {},
   "outputs": [
    {
     "data": {
      "text/plain": [
       "1"
      ]
     },
     "execution_count": 66,
     "metadata": {},
     "output_type": "execute_result"
    }
   ],
   "source": [
    "# 최솟값\n",
    "arr1.min()"
   ]
  },
  {
   "cell_type": "code",
   "execution_count": 67,
   "id": "4013e0e6",
   "metadata": {},
   "outputs": [
    {
     "data": {
      "text/plain": [
       "0"
      ]
     },
     "execution_count": 67,
     "metadata": {},
     "output_type": "execute_result"
    }
   ],
   "source": [
    "# 최솟값의 위치\n",
    "arr1.argmin()"
   ]
  },
  {
   "cell_type": "code",
   "execution_count": 68,
   "id": "1f47c352",
   "metadata": {},
   "outputs": [
    {
     "data": {
      "text/plain": [
       "3"
      ]
     },
     "execution_count": 68,
     "metadata": {},
     "output_type": "execute_result"
    }
   ],
   "source": [
    "arr1.argmax()"
   ]
  },
  {
   "cell_type": "code",
   "execution_count": 69,
   "id": "1a61dc53",
   "metadata": {},
   "outputs": [
    {
     "data": {
      "text/plain": [
       "2.5"
      ]
     },
     "execution_count": 69,
     "metadata": {},
     "output_type": "execute_result"
    }
   ],
   "source": [
    "# 평균\n",
    "arr1.mean()"
   ]
  },
  {
   "cell_type": "code",
   "execution_count": 70,
   "id": "d2196df4",
   "metadata": {},
   "outputs": [
    {
     "data": {
      "text/plain": [
       "2.5"
      ]
     },
     "execution_count": 70,
     "metadata": {},
     "output_type": "execute_result"
    }
   ],
   "source": [
    "# 중앙값\n",
    "np.median(arr1)"
   ]
  },
  {
   "cell_type": "code",
   "execution_count": 71,
   "id": "81c8a6b3",
   "metadata": {},
   "outputs": [
    {
     "data": {
      "text/plain": [
       "array([[1, 2],\n",
       "       [3, 4]])"
      ]
     },
     "execution_count": 71,
     "metadata": {},
     "output_type": "execute_result"
    }
   ],
   "source": [
    "# 2차원 배열\n",
    "arr2 = arr1.reshape(2, 2)\n",
    "arr2"
   ]
  },
  {
   "cell_type": "code",
   "execution_count": 72,
   "id": "a0c14659",
   "metadata": {},
   "outputs": [
    {
     "data": {
      "text/plain": [
       "10"
      ]
     },
     "execution_count": 72,
     "metadata": {},
     "output_type": "execute_result"
    }
   ],
   "source": [
    "# 모든 원소를 더한 합\n",
    "np.sum(arr2)\n"
   ]
  },
  {
   "cell_type": "code",
   "execution_count": 73,
   "id": "884f1ab8",
   "metadata": {},
   "outputs": [
    {
     "data": {
      "text/plain": [
       "array([4, 6])"
      ]
     },
     "execution_count": 73,
     "metadata": {},
     "output_type": "execute_result"
    }
   ],
   "source": [
    "# 수직방향으로 같은 열에 속한 원소만 합산\n",
    "np.sum(arr2, axis = 0)"
   ]
  },
  {
   "cell_type": "code",
   "execution_count": 74,
   "id": "38d9148d",
   "metadata": {},
   "outputs": [
    {
     "data": {
      "text/plain": [
       "array([3, 7])"
      ]
     },
     "execution_count": 74,
     "metadata": {},
     "output_type": "execute_result"
    }
   ],
   "source": [
    "# 수평방향으로 같은 행에 속한 원소만 합산\n",
    "np.sum(arr2, axis = 1)"
   ]
  },
  {
   "cell_type": "code",
   "execution_count": 75,
   "id": "566d4b19",
   "metadata": {},
   "outputs": [
    {
     "data": {
      "text/plain": [
       "array([1, 2, 3, 4, 5, 6, 7, 8])"
      ]
     },
     "execution_count": 75,
     "metadata": {},
     "output_type": "execute_result"
    }
   ],
   "source": [
    "# 3차원 배열\n",
    "arr3 = np.arange(1, 9)\n",
    "arr3"
   ]
  },
  {
   "cell_type": "code",
   "execution_count": 76,
   "id": "b7481a1f",
   "metadata": {},
   "outputs": [
    {
     "data": {
      "text/plain": [
       "array([[[1, 2],\n",
       "        [3, 4]],\n",
       "\n",
       "       [[5, 6],\n",
       "        [7, 8]]])"
      ]
     },
     "execution_count": 76,
     "metadata": {},
     "output_type": "execute_result"
    }
   ],
   "source": [
    "arr4 = arr3.reshape(2, 2, 2)\n",
    "arr4"
   ]
  },
  {
   "cell_type": "code",
   "execution_count": 77,
   "id": "b15e1a3a",
   "metadata": {},
   "outputs": [
    {
     "data": {
      "text/plain": [
       "36"
      ]
     },
     "execution_count": 77,
     "metadata": {},
     "output_type": "execute_result"
    }
   ],
   "source": [
    "# 모든 원소를 더한 합\n",
    "np.sum(arr4)"
   ]
  },
  {
   "cell_type": "code",
   "execution_count": 78,
   "id": "fa20071d",
   "metadata": {},
   "outputs": [
    {
     "data": {
      "text/plain": [
       "array([[ 6,  8],\n",
       "       [10, 12]])"
      ]
     },
     "execution_count": 78,
     "metadata": {},
     "output_type": "execute_result"
    }
   ],
   "source": [
    "# 두 개의 행렬의 동일한 인덱스의 원소를 합한 값\n",
    "np.sum(arr4, axis = 0)"
   ]
  },
  {
   "cell_type": "code",
   "execution_count": 79,
   "id": "6467ba39",
   "metadata": {},
   "outputs": [
    {
     "data": {
      "text/plain": [
       "array([[ 4,  6],\n",
       "       [12, 14]])"
      ]
     },
     "execution_count": 79,
     "metadata": {},
     "output_type": "execute_result"
    }
   ],
   "source": [
    "# 각 2차원 배열의 0번축(열)의 합\n",
    "np.sum(arr4, axis = 1)"
   ]
  },
  {
   "cell_type": "code",
   "execution_count": 80,
   "id": "4d263725",
   "metadata": {},
   "outputs": [
    {
     "data": {
      "text/plain": [
       "array([[ 3,  7],\n",
       "       [11, 15]])"
      ]
     },
     "execution_count": 80,
     "metadata": {},
     "output_type": "execute_result"
    }
   ],
   "source": [
    "# 각 2차원 배열의 1번축(행)의 합\n",
    "np.sum(arr4, axis = 2)"
   ]
  },
  {
   "cell_type": "markdown",
   "id": "0bfa1b48",
   "metadata": {},
   "source": [
    "#### 연습문제\n",
    "\n",
    "1. 전체의 최댓값\n",
    "2. 각 행의 합\n",
    "3. 각 행의 최댓값\n",
    "4. 각 열의 평균\n",
    "5. 각 열의 최솟값"
   ]
  },
  {
   "cell_type": "code",
   "execution_count": 83,
   "id": "49ec1582",
   "metadata": {},
   "outputs": [
    {
     "data": {
      "text/plain": [
       "array([[0.28733508, 0.11470513, 0.67269485, 0.70625154, 0.68984142,\n",
       "        0.24184574],\n",
       "       [0.37181315, 0.15727288, 0.24552989, 0.48989981, 0.11569317,\n",
       "        0.92160271],\n",
       "       [0.19786255, 0.2728979 , 0.2476661 , 0.85615561, 0.5257666 ,\n",
       "        0.74322289],\n",
       "       [0.23663734, 0.33334422, 0.29158338, 0.55991459, 0.65004315,\n",
       "        0.28762448],\n",
       "       [0.85887411, 0.44371063, 0.6024273 , 0.85083017, 0.7340549 ,\n",
       "        0.14342822]])"
      ]
     },
     "execution_count": 83,
     "metadata": {},
     "output_type": "execute_result"
    }
   ],
   "source": [
    "x = np.random.random((5, 6))\n",
    "x"
   ]
  },
  {
   "cell_type": "code",
   "execution_count": 84,
   "id": "6412fed6",
   "metadata": {},
   "outputs": [
    {
     "data": {
      "text/plain": [
       "0.9216027066421129"
      ]
     },
     "execution_count": 84,
     "metadata": {},
     "output_type": "execute_result"
    }
   ],
   "source": [
    "x.max()"
   ]
  },
  {
   "cell_type": "code",
   "execution_count": 86,
   "id": "f6e1940d",
   "metadata": {},
   "outputs": [
    {
     "data": {
      "text/plain": [
       "(5, 6)"
      ]
     },
     "execution_count": 86,
     "metadata": {},
     "output_type": "execute_result"
    }
   ],
   "source": [
    "x.shape # 행, 열"
   ]
  },
  {
   "cell_type": "code",
   "execution_count": 95,
   "id": "351b9132",
   "metadata": {},
   "outputs": [
    {
     "data": {
      "text/plain": [
       "array([2.71267376, 2.3018116 , 2.84357166, 2.35914716, 3.63332532])"
      ]
     },
     "execution_count": 95,
     "metadata": {},
     "output_type": "execute_result"
    }
   ],
   "source": [
    "x.sum(axis = 1) "
   ]
  },
  {
   "cell_type": "code",
   "execution_count": 96,
   "id": "602e1f10",
   "metadata": {},
   "outputs": [
    {
     "data": {
      "text/plain": [
       "array([0.70625154, 0.92160271, 0.85615561, 0.65004315, 0.85887411])"
      ]
     },
     "execution_count": 96,
     "metadata": {},
     "output_type": "execute_result"
    }
   ],
   "source": [
    "x.max(axis = 1)"
   ]
  },
  {
   "cell_type": "code",
   "execution_count": 99,
   "id": "02fd8c4e",
   "metadata": {},
   "outputs": [
    {
     "data": {
      "text/plain": [
       "array([0.39050445, 0.26438615, 0.4119803 , 0.69261034, 0.54307985,\n",
       "       0.46754481])"
      ]
     },
     "execution_count": 99,
     "metadata": {},
     "output_type": "execute_result"
    }
   ],
   "source": [
    "x.mean(axis = 0)"
   ]
  },
  {
   "cell_type": "code",
   "execution_count": 98,
   "id": "3ca89fad",
   "metadata": {},
   "outputs": [
    {
     "data": {
      "text/plain": [
       "array([0.19786255, 0.11470513, 0.24552989, 0.48989981, 0.11569317,\n",
       "       0.14342822])"
      ]
     },
     "execution_count": 98,
     "metadata": {},
     "output_type": "execute_result"
    }
   ],
   "source": [
    "x.min(axis = 0)"
   ]
  },
  {
   "cell_type": "code",
   "execution_count": 100,
   "id": "9210a798",
   "metadata": {},
   "outputs": [
    {
     "data": {
      "text/plain": [
       "array([[[1, 2],\n",
       "        [3, 4]],\n",
       "\n",
       "       [[5, 6],\n",
       "        [7, 8]]])"
      ]
     },
     "execution_count": 100,
     "metadata": {},
     "output_type": "execute_result"
    }
   ],
   "source": [
    "arr4"
   ]
  },
  {
   "cell_type": "code",
   "execution_count": 101,
   "id": "9fd54ccd",
   "metadata": {},
   "outputs": [
    {
     "data": {
      "text/plain": [
       "array([[ 6,  8],\n",
       "       [10, 12]])"
      ]
     },
     "execution_count": 101,
     "metadata": {},
     "output_type": "execute_result"
    }
   ],
   "source": [
    "arr4.sum(axis = 0)"
   ]
  },
  {
   "cell_type": "code",
   "execution_count": 102,
   "id": "01b595be",
   "metadata": {},
   "outputs": [
    {
     "data": {
      "text/plain": [
       "array([[ 4,  6],\n",
       "       [12, 14]])"
      ]
     },
     "execution_count": 102,
     "metadata": {},
     "output_type": "execute_result"
    }
   ],
   "source": [
    "arr4.sum(axis = 1)"
   ]
  },
  {
   "cell_type": "code",
   "execution_count": 103,
   "id": "f0b1f18d",
   "metadata": {},
   "outputs": [
    {
     "data": {
      "text/plain": [
       "array([[ 3,  7],\n",
       "       [11, 15]])"
      ]
     },
     "execution_count": 103,
     "metadata": {},
     "output_type": "execute_result"
    }
   ],
   "source": [
    "arr4.sum(axis = 2)"
   ]
  },
  {
   "cell_type": "code",
   "execution_count": 104,
   "id": "fdfbe720",
   "metadata": {},
   "outputs": [
    {
     "data": {
      "text/plain": [
       "array([16, 20])"
      ]
     },
     "execution_count": 104,
     "metadata": {},
     "output_type": "execute_result"
    }
   ],
   "source": [
    "arr4.sum(axis = (0,1))"
   ]
  },
  {
   "cell_type": "code",
   "execution_count": 105,
   "id": "14d8b3cc",
   "metadata": {},
   "outputs": [
    {
     "data": {
      "text/plain": [
       "array([14, 22])"
      ]
     },
     "execution_count": 105,
     "metadata": {},
     "output_type": "execute_result"
    }
   ],
   "source": [
    "arr4.sum(axis = (0,2))"
   ]
  },
  {
   "cell_type": "code",
   "execution_count": 106,
   "id": "5d635f6e",
   "metadata": {},
   "outputs": [
    {
     "data": {
      "text/plain": [
       "array([10, 26])"
      ]
     },
     "execution_count": 106,
     "metadata": {},
     "output_type": "execute_result"
    }
   ],
   "source": [
    "arr4.sum(axis = (1,2))"
   ]
  },
  {
   "cell_type": "code",
   "execution_count": 107,
   "id": "505430b4",
   "metadata": {},
   "outputs": [
    {
     "data": {
      "text/plain": [
       "array([[[0, 0, 0, 2],\n",
       "        [0, 1, 2, 0],\n",
       "        [1, 0, 1, 2]],\n",
       "\n",
       "       [[0, 0, 1, 2],\n",
       "        [2, 1, 1, 1],\n",
       "        [1, 2, 0, 0]]])"
      ]
     },
     "execution_count": 107,
     "metadata": {},
     "output_type": "execute_result"
    }
   ],
   "source": [
    "arr5 = np.random.randint(0, 3, (2, 3, 4))\n",
    "arr5"
   ]
  },
  {
   "cell_type": "code",
   "execution_count": 108,
   "id": "38b88c46",
   "metadata": {},
   "outputs": [
    {
     "data": {
      "text/plain": [
       "array([[0, 0, 1, 4],\n",
       "       [2, 2, 3, 1],\n",
       "       [2, 2, 1, 2]])"
      ]
     },
     "execution_count": 108,
     "metadata": {},
     "output_type": "execute_result"
    }
   ],
   "source": [
    "arr5.sum(axis = 0)"
   ]
  },
  {
   "cell_type": "code",
   "execution_count": 109,
   "id": "2542be40",
   "metadata": {},
   "outputs": [
    {
     "data": {
      "text/plain": [
       "array([[1, 1, 3, 4],\n",
       "       [3, 3, 2, 3]])"
      ]
     },
     "execution_count": 109,
     "metadata": {},
     "output_type": "execute_result"
    }
   ],
   "source": [
    "arr5.sum(axis = 1)"
   ]
  },
  {
   "cell_type": "code",
   "execution_count": 110,
   "id": "93fc77d0",
   "metadata": {},
   "outputs": [
    {
     "data": {
      "text/plain": [
       "array([[0.5 , 0.75, 1.  ],\n",
       "       [0.75, 1.25, 0.75]])"
      ]
     },
     "execution_count": 110,
     "metadata": {},
     "output_type": "execute_result"
    }
   ],
   "source": [
    "arr5.mean(axis = 2)"
   ]
  },
  {
   "cell_type": "code",
   "execution_count": 111,
   "id": "f424dfc8",
   "metadata": {},
   "outputs": [
    {
     "data": {
      "text/plain": [
       "array([[2, 3, 4],\n",
       "       [3, 5, 3]])"
      ]
     },
     "execution_count": 111,
     "metadata": {},
     "output_type": "execute_result"
    }
   ],
   "source": [
    "arr5.sum(axis = 2)"
   ]
  },
  {
   "cell_type": "code",
   "execution_count": 113,
   "id": "a37db3b2",
   "metadata": {},
   "outputs": [
    {
     "data": {
      "text/plain": [
       "array([0.66666667, 0.66666667, 0.83333333, 1.16666667])"
      ]
     },
     "execution_count": 113,
     "metadata": {},
     "output_type": "execute_result"
    }
   ],
   "source": [
    "arr5.mean(axis = (0, 1))"
   ]
  },
  {
   "cell_type": "code",
   "execution_count": 114,
   "id": "db22f1dc",
   "metadata": {},
   "outputs": [
    {
     "data": {
      "text/plain": [
       "array([0.625, 1.   , 0.875])"
      ]
     },
     "execution_count": 114,
     "metadata": {},
     "output_type": "execute_result"
    }
   ],
   "source": [
    "arr5.mean(axis = (0, 2))"
   ]
  },
  {
   "cell_type": "code",
   "execution_count": 115,
   "id": "158f5f09",
   "metadata": {},
   "outputs": [
    {
     "data": {
      "text/plain": [
       "array([0.75      , 0.91666667])"
      ]
     },
     "execution_count": 115,
     "metadata": {},
     "output_type": "execute_result"
    }
   ],
   "source": [
    "arr5.mean(axis = (1, 2))"
   ]
  },
  {
   "cell_type": "code",
   "execution_count": 116,
   "id": "2b399c63",
   "metadata": {},
   "outputs": [
    {
     "data": {
      "text/plain": [
       "array([[[0.10585683, 0.23202264, 0.33002006, 0.27042762, 0.30657382,\n",
       "         0.1141149 ],\n",
       "        [0.44924896, 0.2759078 , 0.43782547, 0.32604656, 0.13511846,\n",
       "         0.44572353],\n",
       "        [0.5436644 , 0.88050025, 0.95857394, 0.32875011, 0.03040773,\n",
       "         0.88490107],\n",
       "        [0.91311479, 0.81466932, 0.66413126, 0.64632077, 0.32537446,\n",
       "         0.55167124],\n",
       "        [0.07853278, 0.09237694, 0.25397397, 0.63222071, 0.30272846,\n",
       "         0.45919196]],\n",
       "\n",
       "       [[0.2271191 , 0.88798076, 0.0099221 , 0.61351314, 0.60192938,\n",
       "         0.1942378 ],\n",
       "        [0.86120446, 0.92620349, 0.19555722, 0.22569114, 0.32343056,\n",
       "         0.38893802],\n",
       "        [0.60562377, 0.61301056, 0.64817838, 0.01401209, 0.22639111,\n",
       "         0.59795467],\n",
       "        [0.28930282, 0.68885908, 0.48984478, 0.09662318, 0.88312991,\n",
       "         0.46968105],\n",
       "        [0.4549279 , 0.39500015, 0.20495961, 0.33417669, 0.43844304,\n",
       "         0.2089517 ]],\n",
       "\n",
       "       [[0.66004141, 0.92482277, 0.07356783, 0.53735614, 0.84714272,\n",
       "         0.20408468],\n",
       "        [0.06851224, 0.01256059, 0.84040673, 0.55914317, 0.94483013,\n",
       "         0.14002788],\n",
       "        [0.74740487, 0.12005191, 0.19831752, 0.67078661, 0.71535506,\n",
       "         0.55027987],\n",
       "        [0.43972054, 0.66832793, 0.94832754, 0.29278914, 0.17729756,\n",
       "         0.18646559],\n",
       "        [0.66482308, 0.40593268, 0.7951108 , 0.80689522, 0.43608519,\n",
       "         0.28840412]]])"
      ]
     },
     "execution_count": 116,
     "metadata": {},
     "output_type": "execute_result"
    }
   ],
   "source": [
    "data_3d = np.random.random((3, 5, 6))\n",
    "data_3d"
   ]
  },
  {
   "cell_type": "markdown",
   "id": "5bc58a25",
   "metadata": {},
   "source": [
    "1. 각 2차원 배열에서의 최댓값\n",
    "2. 각 2차원 배열에서의 행의 합\n",
    "3. 각 2차원 배열에서의 각 행의 최댓값\n",
    "4. 전체 열의 평균\n",
    "5. 각 2차원 배열에서의 열의 평균\n",
    "6. 각 2차원 배열에서의 각 열의 최솟값\n"
   ]
  },
  {
   "cell_type": "code",
   "execution_count": 117,
   "id": "d9fc5734",
   "metadata": {},
   "outputs": [
    {
     "data": {
      "text/plain": [
       "(3, 5, 6)"
      ]
     },
     "execution_count": 117,
     "metadata": {},
     "output_type": "execute_result"
    }
   ],
   "source": [
    "data_3d.shape"
   ]
  },
  {
   "cell_type": "code",
   "execution_count": 146,
   "id": "dd8ef223",
   "metadata": {},
   "outputs": [
    {
     "data": {
      "text/plain": [
       "array([0.95857394, 0.92620349, 0.94832754])"
      ]
     },
     "execution_count": 146,
     "metadata": {},
     "output_type": "execute_result"
    }
   ],
   "source": [
    "data_3d.max(axis = (1, 2))"
   ]
  },
  {
   "cell_type": "code",
   "execution_count": 149,
   "id": "e595768c",
   "metadata": {},
   "outputs": [
    {
     "data": {
      "text/plain": [
       "array([[1.35901586, 2.06987078, 3.62679749, 3.91528184, 1.81902483],\n",
       "       [2.53470227, 2.92102489, 2.70517058, 2.91744083, 2.03645909],\n",
       "       [3.24701555, 2.56548075, 3.00219583, 2.71292831, 3.3972511 ]])"
      ]
     },
     "execution_count": 149,
     "metadata": {},
     "output_type": "execute_result"
    }
   ],
   "source": [
    "data_3d.sum(axis = 2)"
   ]
  },
  {
   "cell_type": "code",
   "execution_count": 150,
   "id": "0934b3f2",
   "metadata": {},
   "outputs": [
    {
     "data": {
      "text/plain": [
       "array([[0.33002006, 0.44924896, 0.95857394, 0.91311479, 0.63222071],\n",
       "       [0.88798076, 0.92620349, 0.64817838, 0.88312991, 0.4549279 ],\n",
       "       [0.92482277, 0.94483013, 0.74740487, 0.94832754, 0.80689522]])"
      ]
     },
     "execution_count": 150,
     "metadata": {},
     "output_type": "execute_result"
    }
   ],
   "source": [
    "data_3d.max(axis = 2)"
   ]
  },
  {
   "cell_type": "code",
   "execution_count": 151,
   "id": "8308fb82",
   "metadata": {},
   "outputs": [
    {
     "data": {
      "text/plain": [
       "array([0.47393986, 0.52921512, 0.46991448, 0.42365015, 0.4462825 ,\n",
       "       0.3789752 ])"
      ]
     },
     "execution_count": 151,
     "metadata": {},
     "output_type": "execute_result"
    }
   ],
   "source": [
    "data_3d.mean(axis = (0, 1))"
   ]
  },
  {
   "cell_type": "code",
   "execution_count": 154,
   "id": "1d962180",
   "metadata": {},
   "outputs": [
    {
     "data": {
      "text/plain": [
       "array([[0.41808355, 0.45909539, 0.52890494, 0.44075316, 0.22004058,\n",
       "        0.49112054],\n",
       "       [0.48763561, 0.70221081, 0.30969242, 0.25680325, 0.4946648 ,\n",
       "        0.37195265],\n",
       "       [0.51610043, 0.42633918, 0.57114608, 0.57339406, 0.62414213,\n",
       "        0.27385243]])"
      ]
     },
     "execution_count": 154,
     "metadata": {},
     "output_type": "execute_result"
    }
   ],
   "source": [
    "data_3d.mean(axis = 1)"
   ]
  },
  {
   "cell_type": "code",
   "execution_count": 155,
   "id": "e521c607",
   "metadata": {},
   "outputs": [
    {
     "data": {
      "text/plain": [
       "array([[0.07853278, 0.09237694, 0.25397397, 0.27042762, 0.03040773,\n",
       "        0.1141149 ],\n",
       "       [0.2271191 , 0.39500015, 0.0099221 , 0.01401209, 0.22639111,\n",
       "        0.1942378 ],\n",
       "       [0.06851224, 0.01256059, 0.07356783, 0.29278914, 0.17729756,\n",
       "        0.14002788]])"
      ]
     },
     "execution_count": 155,
     "metadata": {},
     "output_type": "execute_result"
    }
   ],
   "source": [
    "data_3d.min(axis = 1)"
   ]
  },
  {
   "cell_type": "markdown",
   "id": "d9b10084",
   "metadata": {},
   "source": [
    "# Inf와 nan\n",
    "\n",
    "- 넘파이에서는 무한대를 표현하기 위한 np.inf와 정의할 수 없는 숫자를 나타내는 np.nan이 있음\n"
   ]
  },
  {
   "cell_type": "code",
   "execution_count": 156,
   "id": "764fe6c8",
   "metadata": {},
   "outputs": [
    {
     "ename": "ZeroDivisionError",
     "evalue": "division by zero",
     "output_type": "error",
     "traceback": [
      "\u001b[1;31m---------------------------------------------------------------------------\u001b[0m",
      "\u001b[1;31mZeroDivisionError\u001b[0m                         Traceback (most recent call last)",
      "Cell \u001b[1;32mIn[156], line 1\u001b[0m\n\u001b[1;32m----> 1\u001b[0m \u001b[38;5;241m1\u001b[39m \u001b[38;5;241m/\u001b[39m \u001b[38;5;241m0\u001b[39m\n",
      "\u001b[1;31mZeroDivisionError\u001b[0m: division by zero"
     ]
    }
   ],
   "source": [
    "1 / 0"
   ]
  },
  {
   "cell_type": "code",
   "execution_count": 157,
   "id": "3448c0ae",
   "metadata": {},
   "outputs": [
    {
     "name": "stderr",
     "output_type": "stream",
     "text": [
      "C:\\Users\\ITSC\\AppData\\Local\\Temp\\ipykernel_6304\\2068585620.py:1: RuntimeWarning: divide by zero encountered in divide\n",
      "  np.array([0, 1, -1, 0]) / np.array([1, 0, 0, 0])\n",
      "C:\\Users\\ITSC\\AppData\\Local\\Temp\\ipykernel_6304\\2068585620.py:1: RuntimeWarning: invalid value encountered in divide\n",
      "  np.array([0, 1, -1, 0]) / np.array([1, 0, 0, 0])\n"
     ]
    },
    {
     "data": {
      "text/plain": [
       "array([  0.,  inf, -inf,  nan])"
      ]
     },
     "execution_count": 157,
     "metadata": {},
     "output_type": "execute_result"
    }
   ],
   "source": [
    "np.array([0, 1, -1, 0]) / np.array([1, 0, 0, 0])"
   ]
  },
  {
   "cell_type": "code",
   "execution_count": null,
   "id": "c1fe0175",
   "metadata": {},
   "outputs": [],
   "source": []
  }
 ],
 "metadata": {
  "kernelspec": {
   "display_name": "Python 3 (ipykernel)",
   "language": "python",
   "name": "python3"
  },
  "language_info": {
   "codemirror_mode": {
    "name": "ipython",
    "version": 3
   },
   "file_extension": ".py",
   "mimetype": "text/x-python",
   "name": "python",
   "nbconvert_exporter": "python",
   "pygments_lexer": "ipython3",
   "version": "3.11.5"
  }
 },
 "nbformat": 4,
 "nbformat_minor": 5
}
