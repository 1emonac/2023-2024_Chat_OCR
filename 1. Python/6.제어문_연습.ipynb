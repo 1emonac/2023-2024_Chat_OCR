{
 "cells": [
  {
   "cell_type": "code",
   "execution_count": 3,
   "id": "20cd08a7",
   "metadata": {},
   "outputs": [
    {
     "name": "stdout",
     "output_type": "stream",
     "text": [
      "166833\n"
     ]
    }
   ],
   "source": [
    "# 1. 1부터 1000까지의 자연수 // 중 3의 배수의 // 합 구하기\n",
    "# 166833\n",
    "\n",
    "i = 0\n",
    "tot = 0\n",
    "\n",
    "while i <= 1000: # 1부터 1000까지    \n",
    "    i += 1\n",
    "    \n",
    "    if i % 3 == 0: # i를 3으로 나눴을 때 나머지가 0인 경우 true = 3의 배수\n",
    "        tot += i # 합 구하기\n",
    "\n",
    "print(tot)"
   ]
  },
  {
   "cell_type": "code",
   "execution_count": 4,
   "id": "2106492d",
   "metadata": {},
   "outputs": [
    {
     "name": "stdout",
     "output_type": "stream",
     "text": [
      "166833\n"
     ]
    }
   ],
   "source": [
    "result = 0\n",
    "\n",
    "for i in range (3, 1001, 3):\n",
    "    result += i\n",
    "    \n",
    "print(result)"
   ]
  },
  {
   "cell_type": "code",
   "execution_count": 46,
   "id": "54a1d7f1",
   "metadata": {},
   "outputs": [
    {
     "name": "stdout",
     "output_type": "stream",
     "text": [
      "* \n",
      "* * \n",
      "* * * \n",
      "* * * * \n",
      "* * * * * \n",
      "\n",
      "*\n",
      "**\n",
      "***\n",
      "****\n",
      "*****\n",
      "\n",
      "*\n",
      "**\n",
      "***\n",
      "****\n",
      "*****\n"
     ]
    }
   ],
   "source": [
    "# 2. 계단식으로 별 출력하기(첫 줄에는 * 1개, 두 번째 줄에는 * 2개, ... 다섯번째 줄에 * 5개)\n",
    "\n",
    "for i in range(5):\n",
    "    for j in range(5):\n",
    "        if j <= i:\n",
    "            print(\"*\", end=\" \")\n",
    "    print()\n",
    "\n",
    "print()\n",
    "\n",
    "# version 2\n",
    "for i in range(1, 6):\n",
    "    print(\"*\" * i)\n",
    "    \n",
    "print()\n",
    "\n",
    "# version 3\n",
    "star = \"\"\n",
    "\n",
    "for _ in range(5):\n",
    "    star += \"*\"\n",
    "    print(star)"
   ]
  },
  {
   "cell_type": "code",
   "execution_count": 55,
   "id": "b51e4fa4",
   "metadata": {},
   "outputs": [
    {
     "name": "stdout",
     "output_type": "stream",
     "text": [
      "[2, 6, 10, 14, 18]\n"
     ]
    },
    {
     "data": {
      "text/plain": [
       "[2, 6, 10, 14, 18]"
      ]
     },
     "execution_count": 55,
     "metadata": {},
     "output_type": "execute_result"
    }
   ],
   "source": [
    "# 3. 1부터 10까지의 자연수 중 홀수만 2를 곱해서 리스트로 저장하기\n",
    "result = []\n",
    "\n",
    "for i in range(1, 11):\n",
    "    if i % 2 == 1:\n",
    "        result.append(i * 2)\n",
    "    \n",
    "print(result)\n",
    "\n",
    "# 리스트 내포\n",
    "result = [i * 2 for i in range(1, 11) if i % 2 == 1]\n",
    "result"
   ]
  },
  {
   "cell_type": "code",
   "execution_count": null,
   "id": "c1bfc718",
   "metadata": {},
   "outputs": [],
   "source": []
  },
  {
   "cell_type": "code",
   "execution_count": null,
   "id": "ba619906",
   "metadata": {},
   "outputs": [],
   "source": []
  },
  {
   "cell_type": "code",
   "execution_count": null,
   "id": "b6ed8ef2",
   "metadata": {},
   "outputs": [],
   "source": []
  },
  {
   "cell_type": "code",
   "execution_count": null,
   "id": "3342488b",
   "metadata": {},
   "outputs": [],
   "source": []
  },
  {
   "cell_type": "code",
   "execution_count": null,
   "id": "8294e476",
   "metadata": {},
   "outputs": [],
   "source": []
  },
  {
   "cell_type": "code",
   "execution_count": null,
   "id": "1d89a321",
   "metadata": {},
   "outputs": [],
   "source": []
  },
  {
   "cell_type": "code",
   "execution_count": null,
   "id": "52629cdf",
   "metadata": {},
   "outputs": [],
   "source": []
  },
  {
   "cell_type": "code",
   "execution_count": null,
   "id": "fb562dad",
   "metadata": {},
   "outputs": [],
   "source": []
  },
  {
   "cell_type": "code",
   "execution_count": null,
   "id": "ecd3b33d",
   "metadata": {},
   "outputs": [],
   "source": []
  },
  {
   "cell_type": "code",
   "execution_count": null,
   "id": "d4938e9e",
   "metadata": {},
   "outputs": [],
   "source": []
  },
  {
   "cell_type": "code",
   "execution_count": null,
   "id": "58ffabe3",
   "metadata": {},
   "outputs": [],
   "source": []
  },
  {
   "cell_type": "code",
   "execution_count": null,
   "id": "06db5fe6",
   "metadata": {},
   "outputs": [],
   "source": []
  }
 ],
 "metadata": {
  "kernelspec": {
   "display_name": "Python 3 (ipykernel)",
   "language": "python",
   "name": "python3"
  },
  "language_info": {
   "codemirror_mode": {
    "name": "ipython",
    "version": 3
   },
   "file_extension": ".py",
   "mimetype": "text/x-python",
   "name": "python",
   "nbconvert_exporter": "python",
   "pygments_lexer": "ipython3",
   "version": "3.11.5"
  }
 },
 "nbformat": 4,
 "nbformat_minor": 5
}
