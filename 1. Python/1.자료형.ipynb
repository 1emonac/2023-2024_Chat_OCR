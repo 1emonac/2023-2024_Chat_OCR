{
 "cells": [
  {
   "cell_type": "markdown",
   "id": "d7d781b5",
   "metadata": {},
   "source": [
    "# 자료형\n",
    "\n",
    "- 자료(data) : 프로그램이 처리할 수 있는 모든 것\n",
    "- 자료형(data type) : 자료를 개발자들이 쉽게 사용할 수 있도록 기능과 역할에 따라서 구분한 종류\n",
    "    - 문자열(string) : 메일 제목, 메시지 내용 등\n",
    "        - 예) \"안녕하세요\", \"Hello, World!\"\n",
    "    - 숫자(number) : 물건의 가격, 학생의 성적 등\n",
    "        - 예) 52, 273, 103.32\n",
    "    - 불(boolean) : 사용자의 로그인 상태 등\n",
    "        - 예) True, False"
   ]
  },
  {
   "cell_type": "markdown",
   "id": "df0c933f",
   "metadata": {},
   "source": [
    "## 숫자 자료형\n",
    "\n",
    "- 숫자 자료형의 종류\n",
    "    - 정수형(integer) : 소수점이 없는 숫자\n",
    "        - 예) 0, 1, 273, -53\n",
    "    - 실수형(Floating Point) : 소수점이 있는 숫자\n",
    "        - 예) 0.0, 52.573, -1.2\n",
    "        \n",
    "- 주의점\n",
    "    - 0과 0.0은 같은 크기를 표현하지만 소수점의 여부에 따라 숫자의 자료형이 달라짐"
   ]
  },
  {
   "cell_type": "code",
   "execution_count": 1,
   "id": "6582f69d",
   "metadata": {},
   "outputs": [
    {
     "data": {
      "text/plain": [
       "True"
      ]
     },
     "execution_count": 1,
     "metadata": {},
     "output_type": "execute_result"
    }
   ],
   "source": [
    "0 == 0.0"
   ]
  },
  {
   "cell_type": "code",
   "execution_count": 2,
   "id": "3700035f",
   "metadata": {},
   "outputs": [
    {
     "name": "stderr",
     "output_type": "stream",
     "text": [
      "<>:1: SyntaxWarning: \"is\" with a literal. Did you mean \"==\"?\n",
      "<>:1: SyntaxWarning: \"is\" with a literal. Did you mean \"==\"?\n",
      "C:\\Users\\ITSC\\AppData\\Local\\Temp\\ipykernel_2600\\3964195525.py:1: SyntaxWarning: \"is\" with a literal. Did you mean \"==\"?\n",
      "  0 is 0.0\n"
     ]
    },
    {
     "data": {
      "text/plain": [
       "False"
      ]
     },
     "execution_count": 2,
     "metadata": {},
     "output_type": "execute_result"
    }
   ],
   "source": [
    "0 is 0.0"
   ]
  },
  {
   "cell_type": "markdown",
   "id": "2949ab0b",
   "metadata": {},
   "source": [
    "### 정수형(Integer)"
   ]
  },
  {
   "cell_type": "code",
   "execution_count": 2,
   "id": "6bbb3bfe",
   "metadata": {},
   "outputs": [
    {
     "name": "stdout",
     "output_type": "stream",
     "text": [
      "123\n",
      "-178\n",
      "0\n",
      "<class 'int'>\n",
      "<class 'int'>\n",
      "<class 'int'>\n"
     ]
    }
   ],
   "source": [
    "a = 123\n",
    "b = -178\n",
    "c = 0\n",
    "\n",
    "print(a)\n",
    "print(b)\n",
    "print(c)\n",
    "\n",
    "# type() :  자료형 확인하기\n",
    "# type 함수의 괄호 내부에 자료를 넣으면 그 자료가 어떤 자료형을 가지고 있는지 확인\n",
    "print(type(a))\n",
    "print(type(b))\n",
    "print(type(c))"
   ]
  },
  {
   "cell_type": "markdown",
   "id": "30779824",
   "metadata": {},
   "source": [
    "## 실수형(Floating-point)"
   ]
  },
  {
   "cell_type": "code",
   "execution_count": 3,
   "id": "52034066",
   "metadata": {},
   "outputs": [
    {
     "name": "stdout",
     "output_type": "stream",
     "text": [
      "1.2\n",
      "-3.45\n",
      "<class 'float'>\n",
      "<class 'float'>\n"
     ]
    }
   ],
   "source": [
    "a = 1.2\n",
    "b = -3.45\n",
    "\n",
    "print(a)\n",
    "print(b)\n",
    "print(type(a))\n",
    "print(type(b))"
   ]
  },
  {
   "cell_type": "markdown",
   "id": "d6e928dc",
   "metadata": {},
   "source": [
    "### 실수형의 지수 표현 방식"
   ]
  },
  {
   "cell_type": "code",
   "execution_count": 4,
   "id": "18ba0f73",
   "metadata": {},
   "outputs": [
    {
     "name": "stdout",
     "output_type": "stream",
     "text": [
      "42400.0\n",
      "0.000424\n",
      "<class 'float'>\n",
      "<class 'float'>\n"
     ]
    }
   ],
   "source": [
    "a = 4.24e4 # + 생략 가능\n",
    "b = 4.24e-4\n",
    "\n",
    "#4.24e+4 (뒤에 0이 4개) 42,400\n",
    "#4.24e-4 (앞에 0이 4개) = 0.000424\n",
    "\n",
    "print(a)\n",
    "print(b)\n",
    "print(type(a))\n",
    "print(type(b))"
   ]
  },
  {
   "cell_type": "markdown",
   "id": "9372751f",
   "metadata": {},
   "source": [
    "### 2진수, 8진수, 16진수"
   ]
  },
  {
   "cell_type": "code",
   "execution_count": 6,
   "id": "bfa1ef49",
   "metadata": {},
   "outputs": [
    {
     "name": "stdout",
     "output_type": "stream",
     "text": [
      "10\n"
     ]
    }
   ],
   "source": [
    "# 2진수\n",
    "bi = 0b1010\n",
    "\n",
    "print(bi)"
   ]
  },
  {
   "cell_type": "code",
   "execution_count": 7,
   "id": "956665e0",
   "metadata": {},
   "outputs": [
    {
     "name": "stdout",
     "output_type": "stream",
     "text": [
      "127\n"
     ]
    }
   ],
   "source": [
    "# 8진수\n",
    "oc = 0o177\n",
    "\n",
    "print(oc)"
   ]
  },
  {
   "cell_type": "code",
   "execution_count": 8,
   "id": "62abaf56",
   "metadata": {},
   "outputs": [
    {
     "name": "stdout",
     "output_type": "stream",
     "text": [
      "375\n"
     ]
    }
   ],
   "source": [
    "# 16진수\n",
    "he = 0x177\n",
    "\n",
    "print(he)"
   ]
  },
  {
   "cell_type": "markdown",
   "id": "be66b3fc",
   "metadata": {},
   "source": [
    "#### 숫자에서 다른 진수로 변환하기\n",
    "\n",
    "- int -> str"
   ]
  },
  {
   "cell_type": "code",
   "execution_count": 10,
   "id": "0c41505f",
   "metadata": {},
   "outputs": [
    {
     "name": "stdout",
     "output_type": "stream",
     "text": [
      "0b101010\n",
      "<class 'str'>\n",
      "0o52\n",
      "<class 'str'>\n",
      "0x2a\n",
      "<class 'str'>\n"
     ]
    }
   ],
   "source": [
    "bi = bin(42)\n",
    "oc = oct(42)\n",
    "he = hex(42)\n",
    "\n",
    "print(bi)\n",
    "print(type(bi))\n",
    "print(oc)\n",
    "print(type(oc))\n",
    "print(he)\n",
    "print(type(he))"
   ]
  },
  {
   "cell_type": "markdown",
   "id": "b7dae648",
   "metadata": {},
   "source": [
    "#### 다른 진수의 문자열에서 숫자형으로 변환하기"
   ]
  },
  {
   "cell_type": "code",
   "execution_count": 11,
   "id": "7e4b2876",
   "metadata": {},
   "outputs": [
    {
     "name": "stdout",
     "output_type": "stream",
     "text": [
      "42\n"
     ]
    }
   ],
   "source": [
    "print(int(bi, 2))"
   ]
  },
  {
   "cell_type": "code",
   "execution_count": 12,
   "id": "f2599abe",
   "metadata": {},
   "outputs": [
    {
     "name": "stdout",
     "output_type": "stream",
     "text": [
      "42\n"
     ]
    }
   ],
   "source": [
    "print(int(oc, 8))"
   ]
  },
  {
   "cell_type": "code",
   "execution_count": 13,
   "id": "c56c79e0",
   "metadata": {},
   "outputs": [
    {
     "name": "stdout",
     "output_type": "stream",
     "text": [
      "42\n"
     ]
    }
   ],
   "source": [
    "print(int(he, 16))"
   ]
  },
  {
   "cell_type": "markdown",
   "id": "07c74f91",
   "metadata": {},
   "source": [
    "## 사칙연산"
   ]
  },
  {
   "cell_type": "code",
   "execution_count": 14,
   "id": "154703db",
   "metadata": {},
   "outputs": [
    {
     "name": "stdout",
     "output_type": "stream",
     "text": [
      "7\n",
      "-1\n",
      "12\n",
      "0.75\n",
      "81\n",
      "0\n",
      "3\n"
     ]
    }
   ],
   "source": [
    "a = 3\n",
    "b = 4\n",
    "\n",
    "print(a + b) # 합\n",
    "print(a - b) # 차\n",
    "print(a * b) # 곱\n",
    "print(a / b) # 나눗셈\n",
    "print(a ** b) # 제곱 (a의 b승)\n",
    "print(a // b) # 몫\n",
    "print(a % b) # 나머지"
   ]
  },
  {
   "cell_type": "markdown",
   "id": "1f767b7f",
   "metadata": {},
   "source": [
    "## 연산자의 우선순위\n",
    "\n",
    "- 숫자를 계산할 때는 곱셈과 나눗셈이 덧셈과 뺄셈보다 우선함\n",
    "- 같은 우선순위를 가지는 연산자는 왼쪽에서 오른쪽 순서로 계산\n"
   ]
  },
  {
   "cell_type": "code",
   "execution_count": 15,
   "id": "cdcc26d7",
   "metadata": {},
   "outputs": [
    {
     "name": "stdout",
     "output_type": "stream",
     "text": [
      "0.0\n"
     ]
    }
   ],
   "source": [
    "print(2 + 2 - 2 * 2 / 2 * 2)"
   ]
  },
  {
   "cell_type": "code",
   "execution_count": 16,
   "id": "7b5b5ddc",
   "metadata": {},
   "outputs": [
    {
     "name": "stdout",
     "output_type": "stream",
     "text": [
      "16\n",
      "11\n"
     ]
    }
   ],
   "source": [
    "# 먼저 연산하고 싶은 부분은 괄호로 표현\n",
    "print((5 + 3) * 2)\n",
    "print(5 + 3 * 2)"
   ]
  },
  {
   "cell_type": "code",
   "execution_count": 17,
   "id": "862739a3",
   "metadata": {},
   "outputs": [
    {
     "data": {
      "text/plain": [
       "11"
      ]
     },
     "execution_count": 17,
     "metadata": {},
     "output_type": "execute_result"
    }
   ],
   "source": [
    "# 연산자 우선순위가 확실한 경우에도 명확하게 표현하기 위해 괄호를 사용하기도 함\n",
    "5 + (3 * 2)"
   ]
  },
  {
   "cell_type": "markdown",
   "id": "9cea580d",
   "metadata": {},
   "source": [
    "# 문자열 자료형(string)\n",
    "\n",
    "- 문자열 : 글자들이 나열된 것"
   ]
  },
  {
   "cell_type": "code",
   "execution_count": 19,
   "id": "1237f72e",
   "metadata": {},
   "outputs": [
    {
     "name": "stdout",
     "output_type": "stream",
     "text": [
      "Hello, World!\n",
      "<class 'str'>\n",
      "123\n",
      "<class 'str'>\n"
     ]
    }
   ],
   "source": [
    "a = \"Hello, World!\"\n",
    "b = \"123\"\n",
    "\n",
    "print(a)\n",
    "print(type(a))\n",
    "print(b)\n",
    "print(type(b))"
   ]
  },
  {
   "cell_type": "code",
   "execution_count": 20,
   "id": "94eab85b",
   "metadata": {},
   "outputs": [
    {
     "name": "stdout",
     "output_type": "stream",
     "text": [
      "Hello\n",
      "Hello\n",
      "Hello\n",
      "Hello\n"
     ]
    }
   ],
   "source": [
    "# 문자열 표기법\n",
    "print(\"Hello\")\n",
    "print('Hello')\n",
    "print(\"\"\"Hello\"\"\")\n",
    "print('''Hello''')"
   ]
  },
  {
   "cell_type": "markdown",
   "id": "aa03bbca",
   "metadata": {},
   "source": [
    "### 문자열에 따옴표 포함하기"
   ]
  },
  {
   "cell_type": "code",
   "execution_count": 24,
   "id": "bbb475fd",
   "metadata": {},
   "outputs": [
    {
     "name": "stdout",
     "output_type": "stream",
     "text": [
      "Python's favorite food is perl\n",
      "\"Python is very easy.\" he says\"\n"
     ]
    }
   ],
   "source": [
    "# 'Python's favorite food is perl'\n",
    "print(\"Python's favorite food is perl\")\n",
    "print('\"Python is very easy.\" he says\"')"
   ]
  },
  {
   "cell_type": "code",
   "execution_count": 26,
   "id": "3af04e4b",
   "metadata": {},
   "outputs": [
    {
     "name": "stdout",
     "output_type": "stream",
     "text": [
      "Python's favorite food is perl\n",
      "\"Python is very easy.\" he says\n"
     ]
    }
   ],
   "source": [
    "# 백슬래시를 이용한 방법\n",
    "# \\와 큰따옴표, 작은따옴표를 사용하면 문자열을 만드는 기호가 아니라 단순한 따옴표로 인식\n",
    "print('Python\\'s favorite food is perl')\n",
    "print(\"\\\"Python is very easy.\\\" he says\")"
   ]
  },
  {
   "cell_type": "markdown",
   "id": "e6399ae8",
   "metadata": {},
   "source": [
    "### 여러 줄인 문자열"
   ]
  },
  {
   "cell_type": "code",
   "execution_count": 27,
   "id": "15c84852",
   "metadata": {},
   "outputs": [
    {
     "name": "stdout",
     "output_type": "stream",
     "text": [
      "Life is too short\n",
      "You need python\n"
     ]
    }
   ],
   "source": [
    "lines = \"Life is too short\\nYou need python\"\n",
    "print(lines)"
   ]
  },
  {
   "cell_type": "code",
   "execution_count": 28,
   "id": "dd351490",
   "metadata": {},
   "outputs": [
    {
     "name": "stdout",
     "output_type": "stream",
     "text": [
      "Life is too short\n",
      "You need python\n"
     ]
    }
   ],
   "source": [
    "lines = '''Life is too short\n",
    "You need python'''\n",
    "print(lines)"
   ]
  },
  {
   "cell_type": "markdown",
   "id": "004f7cdd",
   "metadata": {},
   "source": [
    "#### 이스케이프 코드\n",
    "- 특별한 의미를 가지는, 미리 정의된 문자 조합\n",
    "    - \\n : 줄바꿈\n",
    "    - \\t : 탭\n",
    "    - \\\\\\ : 역슬래시 문자열 입력\n",
    "    "
   ]
  },
  {
   "cell_type": "code",
   "execution_count": 29,
   "id": "d4d30996",
   "metadata": {},
   "outputs": [
    {
     "name": "stdout",
     "output_type": "stream",
     "text": [
      "안녕하세요\t안녕하세요\n"
     ]
    }
   ],
   "source": [
    "print(\"안녕하세요\\t안녕하세요\")"
   ]
  },
  {
   "cell_type": "markdown",
   "id": "113fd0df",
   "metadata": {},
   "source": [
    "## 문자열 연산자\n",
    "\n",
    "- 각각의 자료는 사용할 수 있는 연산자가 정해져 있음"
   ]
  },
  {
   "cell_type": "markdown",
   "id": "eafadbc2",
   "metadata": {},
   "source": [
    "### 문자열 연결 연산자\n",
    "\n",
    "- 두 문자열을 연결해서 새로운 문자열을 만들어냄"
   ]
  },
  {
   "cell_type": "code",
   "execution_count": 30,
   "id": "6a99b4b9",
   "metadata": {},
   "outputs": [
    {
     "data": {
      "text/plain": [
       "'Hello, World!'"
      ]
     },
     "execution_count": 30,
     "metadata": {},
     "output_type": "execute_result"
    }
   ],
   "source": [
    "# 문자열은 + 연산자로 문자열 연결 연산 적용\n",
    "# 숫자 더하기 연산자와 문자열 연결 연산자 모두 + 기호를 사용하지만, 완전히 다른 기능을 수행\n",
    "\"Hello, \" + \"World!\""
   ]
  },
  {
   "cell_type": "code",
   "execution_count": 31,
   "id": "4c67f036",
   "metadata": {},
   "outputs": [
    {
     "ename": "TypeError",
     "evalue": "can only concatenate str (not \"int\") to str",
     "output_type": "error",
     "traceback": [
      "\u001b[1;31m---------------------------------------------------------------------------\u001b[0m",
      "\u001b[1;31mTypeError\u001b[0m                                 Traceback (most recent call last)",
      "Cell \u001b[1;32mIn[31], line 2\u001b[0m\n\u001b[0;32m      1\u001b[0m \u001b[38;5;66;03m# 문자열과 숫자 사이에 문자열 연결 연산자를 사용하면 에러 발생\u001b[39;00m\n\u001b[1;32m----> 2\u001b[0m \u001b[38;5;28mprint\u001b[39m(\u001b[38;5;124m\"\u001b[39m\u001b[38;5;124m안녕하세요\u001b[39m\u001b[38;5;124m\"\u001b[39m \u001b[38;5;241m+\u001b[39m \u001b[38;5;241m1\u001b[39m)\n",
      "\u001b[1;31mTypeError\u001b[0m: can only concatenate str (not \"int\") to str"
     ]
    }
   ],
   "source": [
    "# 문자열과 숫자 사이에 문자열 연결 연산자를 사용하면 에러 발생\n",
    "print(\"안녕하세요\" + 1)"
   ]
  },
  {
   "cell_type": "code",
   "execution_count": 32,
   "id": "02c6a9d1",
   "metadata": {},
   "outputs": [
    {
     "name": "stdout",
     "output_type": "stream",
     "text": [
      "안녕하세요1\n"
     ]
    }
   ],
   "source": [
    "# 안녕하세요1 을 출력할 의도라면 숫자도 문자열로 인식시켜야함\n",
    "print(\"안녕하세요\" + \"1\") "
   ]
  },
  {
   "cell_type": "markdown",
   "id": "bfdacac3",
   "metadata": {},
   "source": [
    "### 문자열 반복 연산자\n",
    "\n",
    "- 문자열을 숫자와 * 연산자로 연결\n",
    "- 문자열을 숫자만큼 반복해서 출력"
   ]
  },
  {
   "cell_type": "code",
   "execution_count": 33,
   "id": "ca177ef6",
   "metadata": {},
   "outputs": [
    {
     "data": {
      "text/plain": [
       "'HelloHelloHello'"
      ]
     },
     "execution_count": 33,
     "metadata": {},
     "output_type": "execute_result"
    }
   ],
   "source": [
    "\"Hello\" * 3"
   ]
  },
  {
   "cell_type": "code",
   "execution_count": 34,
   "id": "97fce251",
   "metadata": {},
   "outputs": [
    {
     "data": {
      "text/plain": [
       "'HelloHelloHello'"
      ]
     },
     "execution_count": 34,
     "metadata": {},
     "output_type": "execute_result"
    }
   ],
   "source": [
    "3 * \"Hello\""
   ]
  },
  {
   "cell_type": "markdown",
   "id": "edb29a2e",
   "metadata": {},
   "source": [
    "### 문자열 인덱싱(indexing)\n",
    "\n",
    "- 대괄호(문자 선택 연산자)는 문자열 내부의 문자 하나를 선택하는 연산자\n",
    "- 대괄호 안에 선택할 문자의 위치(인덱스(index))를 지정\n",
    "    - 파이썬은 인덱스를 0부터 셈"
   ]
  },
  {
   "cell_type": "code",
   "execution_count": 35,
   "id": "9aa4913e",
   "metadata": {},
   "outputs": [],
   "source": [
    "str1 = \"Hello\"\n",
    "#       01234"
   ]
  },
  {
   "cell_type": "code",
   "execution_count": 36,
   "id": "bdbb1f0e",
   "metadata": {},
   "outputs": [
    {
     "data": {
      "text/plain": [
       "'H'"
      ]
     },
     "execution_count": 36,
     "metadata": {},
     "output_type": "execute_result"
    }
   ],
   "source": [
    "str1[0]"
   ]
  },
  {
   "cell_type": "code",
   "execution_count": 37,
   "id": "3b1eb82b",
   "metadata": {},
   "outputs": [
    {
     "data": {
      "text/plain": [
       "'o'"
      ]
     },
     "execution_count": 37,
     "metadata": {},
     "output_type": "execute_result"
    }
   ],
   "source": [
    "str1[4]"
   ]
  },
  {
   "cell_type": "code",
   "execution_count": 38,
   "id": "0e981835",
   "metadata": {},
   "outputs": [
    {
     "data": {
      "text/plain": [
       "'o'"
      ]
     },
     "execution_count": 38,
     "metadata": {},
     "output_type": "execute_result"
    }
   ],
   "source": [
    "str1[-1]"
   ]
  },
  {
   "cell_type": "markdown",
   "id": "f915c043",
   "metadata": {},
   "source": [
    "### 문자열 슬라이싱(slicing)\n",
    "\n",
    "- 문자열의 범위를 지정\n",
    "- 대괄호 안에 위치를 콜론(:)으로 구분해서 지정\n",
    "    - 파이썬은 범위 지정 시 마지막 숫자를 포함하지 않음"
   ]
  },
  {
   "cell_type": "code",
   "execution_count": 39,
   "id": "3581eb75",
   "metadata": {},
   "outputs": [
    {
     "data": {
      "text/plain": [
       "'Hell'"
      ]
     },
     "execution_count": 39,
     "metadata": {},
     "output_type": "execute_result"
    }
   ],
   "source": [
    "str1[0:4]"
   ]
  },
  {
   "cell_type": "code",
   "execution_count": 40,
   "id": "c750cd31",
   "metadata": {},
   "outputs": [
    {
     "data": {
      "text/plain": [
       "'Hell'"
      ]
     },
     "execution_count": 40,
     "metadata": {},
     "output_type": "execute_result"
    }
   ],
   "source": [
    "# 대괄호 안에 넣는 숫자를 생략할 수 있음\n",
    "# 생략하면 자동으로 가장 최대 위치(첫 번째 글자 또는 마지막 글자)까지 지정\n",
    "str1[:4]"
   ]
  },
  {
   "cell_type": "code",
   "execution_count": 41,
   "id": "6380921e",
   "metadata": {},
   "outputs": [
    {
     "data": {
      "text/plain": [
       "'Hell'"
      ]
     },
     "execution_count": 41,
     "metadata": {},
     "output_type": "execute_result"
    }
   ],
   "source": [
    "str1[:-1]"
   ]
  },
  {
   "cell_type": "code",
   "execution_count": 42,
   "id": "8e804617",
   "metadata": {},
   "outputs": [
    {
     "data": {
      "text/plain": [
       "'ello'"
      ]
     },
     "execution_count": 42,
     "metadata": {},
     "output_type": "execute_result"
    }
   ],
   "source": [
    "str1[1:5]"
   ]
  },
  {
   "cell_type": "code",
   "execution_count": 43,
   "id": "561eb4b3",
   "metadata": {},
   "outputs": [
    {
     "data": {
      "text/plain": [
       "'ello'"
      ]
     },
     "execution_count": 43,
     "metadata": {},
     "output_type": "execute_result"
    }
   ],
   "source": [
    "str1[1:] "
   ]
  },
  {
   "cell_type": "code",
   "execution_count": 44,
   "id": "195bd434",
   "metadata": {},
   "outputs": [
    {
     "data": {
      "text/plain": [
       "'Hello'"
      ]
     },
     "execution_count": 44,
     "metadata": {},
     "output_type": "execute_result"
    }
   ],
   "source": [
    "str1[:]"
   ]
  },
  {
   "cell_type": "markdown",
   "id": "809c81d8",
   "metadata": {},
   "source": [
    "## 문자열 포매팅(Formatting)"
   ]
  },
  {
   "cell_type": "code",
   "execution_count": 49,
   "id": "5c67ecf1",
   "metadata": {},
   "outputs": [
    {
     "name": "stdout",
     "output_type": "stream",
     "text": [
      "3 + 4 = 7\n",
      "3.1416\n",
      "    3\n",
      "00003\n"
     ]
    }
   ],
   "source": [
    "# 출력포맷 설정하기\n",
    "a = 3\n",
    "b = 4\n",
    "pi = 3.141592\n",
    "\n",
    "# 문자열 포맷 코드\n",
    "print(\"%d + %d = %d\"%(a, b, a + b))\n",
    "\n",
    "# 문자열 포맷 코드에서 소수점 표현\n",
    "print(\"%0.4f\"%pi) # %f = 실수형 데이터가 온다\n",
    "\n",
    "# 특정 칸에 출력하기\n",
    "print(\"%5d\"%(a)) # %5d = 5번째 자리에 나타내라\n",
    "\n",
    "# 빈칸을 0으로 채우기\n",
    "print(\"%05d\"%(a))"
   ]
  },
  {
   "cell_type": "code",
   "execution_count": 57,
   "id": "d76e6930",
   "metadata": {},
   "outputs": [
    {
     "name": "stdout",
     "output_type": "stream",
     "text": [
      "3 + 4 = 7\n",
      "I ate 10 apples. so I was sick for 3 days\n",
      "3.1416\n",
      "    3\n",
      "00003\n"
     ]
    }
   ],
   "source": [
    "# format 함수\n",
    "print(\"{0} + {1} = {2}\".format(a, b, (a + b))) # 0,1,2(숫자는 아무 숫자나 상관 없음) 생략 가능\n",
    "\n",
    "# 이름으로 값 넣기\n",
    "print(\"I ate {num} apples. so I was sick for {day} days\".format(num = 10, day = 3))\n",
    "\n",
    "# 소수점 표현\n",
    "print(\"{0:0.4f}\".format(pi)) # 앞에 0 생략 가능\n",
    "\n",
    "# 특정 칸에 출력하기\n",
    "print(\"{0:5d}\".format(a))\n",
    "\n",
    "# 빈칸을 0으로 채우기\n",
    "print(\"{0:05d}\".format(a))"
   ]
  },
  {
   "cell_type": "code",
   "execution_count": 64,
   "id": "c9d0dbea",
   "metadata": {},
   "outputs": [
    {
     "name": "stdout",
     "output_type": "stream",
     "text": [
      "3 + 4 = 7\n",
      "3.1416\n",
      "    3\n",
      "00003\n"
     ]
    }
   ],
   "source": [
    "# f-string(3.6버전부터 가능)\n",
    "print(f\"{a} + {b} = {a + b}\")\n",
    "\n",
    "# 소수점 표현\n",
    "print(f\"{pi:0.4f}\")\n",
    "\n",
    "# 특정 칸에 출력\n",
    "print(f\"{a:5d}\")\n",
    "\n",
    "# 빈칸을 0으로 채우기\n",
    "print(f\"{a:05d}\")"
   ]
  },
  {
   "cell_type": "markdown",
   "id": "d5571233",
   "metadata": {},
   "source": [
    "### 문자열 관련 함수"
   ]
  },
  {
   "cell_type": "code",
   "execution_count": 65,
   "id": "b0e115d0",
   "metadata": {},
   "outputs": [],
   "source": [
    "str1 = \"hobby\""
   ]
  },
  {
   "cell_type": "code",
   "execution_count": 66,
   "id": "1440e444",
   "metadata": {},
   "outputs": [
    {
     "data": {
      "text/plain": [
       "2"
      ]
     },
     "execution_count": 66,
     "metadata": {},
     "output_type": "execute_result"
    }
   ],
   "source": [
    "# 문자 개수 세기\n",
    "str1.count(\"b\")"
   ]
  },
  {
   "cell_type": "code",
   "execution_count": 67,
   "id": "8fa69052",
   "metadata": {},
   "outputs": [
    {
     "data": {
      "text/plain": [
       "2"
      ]
     },
     "execution_count": 67,
     "metadata": {},
     "output_type": "execute_result"
    }
   ],
   "source": [
    "# 위치 찾기1\n",
    "# 검색하는 문자가 처음으로 나온 위치 반환\n",
    "str1.find(\"b\")"
   ]
  },
  {
   "cell_type": "code",
   "execution_count": 68,
   "id": "9be217ff",
   "metadata": {},
   "outputs": [
    {
     "data": {
      "text/plain": [
       "-1"
      ]
     },
     "execution_count": 68,
     "metadata": {},
     "output_type": "execute_result"
    }
   ],
   "source": [
    "# 검색하는 문자가 존재하지 않는 경우 -1을 반환\n",
    "str1.find(\"a\")"
   ]
  },
  {
   "cell_type": "code",
   "execution_count": 69,
   "id": "ef5356b2",
   "metadata": {},
   "outputs": [
    {
     "data": {
      "text/plain": [
       "2"
      ]
     },
     "execution_count": 69,
     "metadata": {},
     "output_type": "execute_result"
    }
   ],
   "source": [
    "# 위치 찾기2\n",
    "str1.index(\"b\")"
   ]
  },
  {
   "cell_type": "code",
   "execution_count": 70,
   "id": "53c80876",
   "metadata": {},
   "outputs": [
    {
     "ename": "ValueError",
     "evalue": "substring not found",
     "output_type": "error",
     "traceback": [
      "\u001b[1;31m---------------------------------------------------------------------------\u001b[0m",
      "\u001b[1;31mValueError\u001b[0m                                Traceback (most recent call last)",
      "Cell \u001b[1;32mIn[70], line 2\u001b[0m\n\u001b[0;32m      1\u001b[0m \u001b[38;5;66;03m# 검색하는 문자가 존재하지 않는 경우 에러 발생\u001b[39;00m\n\u001b[1;32m----> 2\u001b[0m str1\u001b[38;5;241m.\u001b[39mindex(\u001b[38;5;124m\"\u001b[39m\u001b[38;5;124ma\u001b[39m\u001b[38;5;124m\"\u001b[39m)\n",
      "\u001b[1;31mValueError\u001b[0m: substring not found"
     ]
    }
   ],
   "source": [
    "# index는 검색하는 문자가 존재하지 않는 경우 에러 발생\n",
    "str1.index(\"a\")"
   ]
  },
  {
   "cell_type": "code",
   "execution_count": 71,
   "id": "a4c6b133",
   "metadata": {},
   "outputs": [
    {
     "data": {
      "text/plain": [
       "'a,b,c,d'"
      ]
     },
     "execution_count": 71,
     "metadata": {},
     "output_type": "execute_result"
    }
   ],
   "source": [
    "# 문자열 삽입\n",
    "\",\".join(\"abcd\")"
   ]
  },
  {
   "cell_type": "code",
   "execution_count": 72,
   "id": "ff314691",
   "metadata": {},
   "outputs": [
    {
     "data": {
      "text/plain": [
       "'a,b,c,d'"
      ]
     },
     "execution_count": 72,
     "metadata": {},
     "output_type": "execute_result"
    }
   ],
   "source": [
    "\",\".join([\"a\", \"b\", \"c\", \"d\"]) # 여러개의 데이터가 있을 때, 하나의 문자로 만들어주고 싶은 경우 join을 주로 활용함"
   ]
  },
  {
   "cell_type": "code",
   "execution_count": 74,
   "id": "7e8f1c01",
   "metadata": {},
   "outputs": [
    {
     "name": "stdout",
     "output_type": "stream",
     "text": [
      "HELLO\n",
      "hello\n"
     ]
    }
   ],
   "source": [
    "# 대소문자 변환\n",
    "print(\"hello\".upper())\n",
    "print(\"HELLO\".lower())"
   ]
  },
  {
   "cell_type": "code",
   "execution_count": 76,
   "id": "2d338ab0",
   "metadata": {},
   "outputs": [
    {
     "data": {
      "text/plain": [
       "'hello'"
      ]
     },
     "execution_count": 76,
     "metadata": {},
     "output_type": "execute_result"
    }
   ],
   "source": [
    "# 공백 제거\n",
    "\" hello \".strip() # 가운데 껴 있는 공백은 제거 못 해용~"
   ]
  },
  {
   "cell_type": "code",
   "execution_count": 77,
   "id": "ab02028f",
   "metadata": {},
   "outputs": [
    {
     "data": {
      "text/plain": [
       "'Python'"
      ]
     },
     "execution_count": 77,
     "metadata": {},
     "output_type": "execute_result"
    }
   ],
   "source": [
    "# 문자열 치환\n",
    "str1 = \"Pithon\"\n",
    "\n",
    "str1.replace(\"i\", \"y\")"
   ]
  },
  {
   "cell_type": "code",
   "execution_count": 78,
   "id": "85bbd17a",
   "metadata": {},
   "outputs": [
    {
     "data": {
      "text/plain": [
       "['Life', 'is', 'too', 'short']"
      ]
     },
     "execution_count": 78,
     "metadata": {},
     "output_type": "execute_result"
    }
   ],
   "source": [
    "# 문자열 나누기\n",
    "str1 = \"Life is too short\"\n",
    "\n",
    "str1.split()"
   ]
  },
  {
   "cell_type": "code",
   "execution_count": 79,
   "id": "3dced572",
   "metadata": {},
   "outputs": [
    {
     "data": {
      "text/plain": [
       "['a', 'b', 'c', 'd']"
      ]
     },
     "execution_count": 79,
     "metadata": {},
     "output_type": "execute_result"
    }
   ],
   "source": [
    "str2 = \"a:b:c:d\"\n",
    "\n",
    "str2.split(\":\") # 구분자로 나눠랑"
   ]
  },
  {
   "cell_type": "code",
   "execution_count": 80,
   "id": "d1bc221f",
   "metadata": {},
   "outputs": [
    {
     "name": "stdout",
     "output_type": "stream",
     "text": [
      "5\n"
     ]
    }
   ],
   "source": [
    "# 문자열의 길이 구하기\n",
    "print(len(\"안녕하세요\"))"
   ]
  },
  {
   "cell_type": "markdown",
   "id": "302cc68f",
   "metadata": {},
   "source": [
    "# 불 자료형(Boolean)\n",
    "\n",
    "- 참(True)과 거짓(False)을 나타내는 자료형\n",
    "    - 어떤 명제의 결과를 표현\n",
    "- 불린 또는 불리언 이라는 발음으로 부름\n",
    "    - 프로그래밍에서 짧게 Bool 이라고 쓰기도 함"
   ]
  },
  {
   "cell_type": "code",
   "execution_count": 81,
   "id": "a3ebb5cb",
   "metadata": {},
   "outputs": [
    {
     "name": "stdout",
     "output_type": "stream",
     "text": [
      "True\n",
      "<class 'bool'>\n",
      "False\n",
      "<class 'bool'>\n"
     ]
    }
   ],
   "source": [
    "a = True\n",
    "b = False\n",
    "\n",
    "print(a)\n",
    "print(type(a))\n",
    "print(b)\n",
    "print(type(b))"
   ]
  },
  {
   "cell_type": "markdown",
   "id": "5b4a9b17",
   "metadata": {},
   "source": [
    "## 불 연산"
   ]
  },
  {
   "cell_type": "markdown",
   "id": "be473152",
   "metadata": {},
   "source": [
    "### 비교 연산자\n",
    "\n",
    "- == : 같다\n",
    "- != : 다르다\n",
    "- <, > : 크다, 작다\n",
    "- <=, >= : 작거나 같다, 크거나 같다"
   ]
  },
  {
   "cell_type": "code",
   "execution_count": 82,
   "id": "6977edd4",
   "metadata": {},
   "outputs": [
    {
     "data": {
      "text/plain": [
       "True"
      ]
     },
     "execution_count": 82,
     "metadata": {},
     "output_type": "execute_result"
    }
   ],
   "source": [
    "1 == 1"
   ]
  },
  {
   "cell_type": "code",
   "execution_count": 83,
   "id": "9e2d83cb",
   "metadata": {},
   "outputs": [
    {
     "data": {
      "text/plain": [
       "False"
      ]
     },
     "execution_count": 83,
     "metadata": {},
     "output_type": "execute_result"
    }
   ],
   "source": [
    "1 != 1 "
   ]
  },
  {
   "cell_type": "code",
   "execution_count": 84,
   "id": "52eacd59",
   "metadata": {},
   "outputs": [
    {
     "data": {
      "text/plain": [
       "True"
      ]
     },
     "execution_count": 84,
     "metadata": {},
     "output_type": "execute_result"
    }
   ],
   "source": [
    "2 > 1 "
   ]
  },
  {
   "cell_type": "code",
   "execution_count": 85,
   "id": "1aafb209",
   "metadata": {},
   "outputs": [
    {
     "data": {
      "text/plain": [
       "False"
      ]
     },
     "execution_count": 85,
     "metadata": {},
     "output_type": "execute_result"
    }
   ],
   "source": [
    "2 < 1"
   ]
  },
  {
   "cell_type": "code",
   "execution_count": 87,
   "id": "af551e85",
   "metadata": {},
   "outputs": [
    {
     "data": {
      "text/plain": [
       "True"
      ]
     },
     "execution_count": 87,
     "metadata": {},
     "output_type": "execute_result"
    }
   ],
   "source": [
    "1 < 2 < 3"
   ]
  },
  {
   "cell_type": "code",
   "execution_count": 88,
   "id": "8bae4d5a",
   "metadata": {},
   "outputs": [
    {
     "data": {
      "text/plain": [
       "True"
      ]
     },
     "execution_count": 88,
     "metadata": {},
     "output_type": "execute_result"
    }
   ],
   "source": [
    "2 >= 1 "
   ]
  },
  {
   "cell_type": "code",
   "execution_count": 89,
   "id": "8c8b0662",
   "metadata": {},
   "outputs": [
    {
     "data": {
      "text/plain": [
       "False"
      ]
     },
     "execution_count": 89,
     "metadata": {},
     "output_type": "execute_result"
    }
   ],
   "source": [
    "2 <= 1"
   ]
  },
  {
   "cell_type": "code",
   "execution_count": 90,
   "id": "c31f930a",
   "metadata": {},
   "outputs": [
    {
     "name": "stdout",
     "output_type": "stream",
     "text": [
      "True\n",
      "False\n"
     ]
    }
   ],
   "source": [
    "# 문자열에 비교 연산자를 적용하면 한글은 사전순서로 앞에 있는 것이 작은 값을 가짐\n",
    "print(\"가방\" < \"하마\")\n",
    "print(\"가방\" > \"하마\")"
   ]
  },
  {
   "cell_type": "markdown",
   "id": "c63f5118",
   "metadata": {},
   "source": [
    "### 타입 변환"
   ]
  },
  {
   "cell_type": "code",
   "execution_count": 91,
   "id": "14e2e037",
   "metadata": {},
   "outputs": [
    {
     "data": {
      "text/plain": [
       "True"
      ]
     },
     "execution_count": 91,
     "metadata": {},
     "output_type": "execute_result"
    }
   ],
   "source": [
    "bool(\"python\") # 데이터의 크기가 존재하면 True로 나타남"
   ]
  },
  {
   "cell_type": "code",
   "execution_count": 92,
   "id": "a17af658",
   "metadata": {},
   "outputs": [
    {
     "data": {
      "text/plain": [
       "False"
      ]
     },
     "execution_count": 92,
     "metadata": {},
     "output_type": "execute_result"
    }
   ],
   "source": [
    "bool(\"\")  # 데이터의 크기가 0이면 False"
   ]
  },
  {
   "cell_type": "code",
   "execution_count": 93,
   "id": "3955cc55",
   "metadata": {},
   "outputs": [
    {
     "data": {
      "text/plain": [
       "True"
      ]
     },
     "execution_count": 93,
     "metadata": {},
     "output_type": "execute_result"
    }
   ],
   "source": [
    "bool([1, 2, 3])"
   ]
  },
  {
   "cell_type": "code",
   "execution_count": 94,
   "id": "645d8e67",
   "metadata": {},
   "outputs": [
    {
     "data": {
      "text/plain": [
       "False"
      ]
     },
     "execution_count": 94,
     "metadata": {},
     "output_type": "execute_result"
    }
   ],
   "source": [
    "bool([])"
   ]
  },
  {
   "cell_type": "code",
   "execution_count": 95,
   "id": "5cc64f91",
   "metadata": {},
   "outputs": [
    {
     "data": {
      "text/plain": [
       "True"
      ]
     },
     "execution_count": 95,
     "metadata": {},
     "output_type": "execute_result"
    }
   ],
   "source": [
    "bool(1) # 0외에 모든 숫자면 True, (-)도 True"
   ]
  },
  {
   "cell_type": "code",
   "execution_count": 96,
   "id": "94da6c00",
   "metadata": {},
   "outputs": [
    {
     "data": {
      "text/plain": [
       "False"
      ]
     },
     "execution_count": 96,
     "metadata": {},
     "output_type": "execute_result"
    }
   ],
   "source": [
    "bool(0) # 0 또한 False"
   ]
  },
  {
   "cell_type": "code",
   "execution_count": 97,
   "id": "fdc91395",
   "metadata": {},
   "outputs": [
    {
     "data": {
      "text/plain": [
       "True"
      ]
     },
     "execution_count": 97,
     "metadata": {},
     "output_type": "execute_result"
    }
   ],
   "source": [
    "bool(0.2)"
   ]
  },
  {
   "cell_type": "code",
   "execution_count": 98,
   "id": "81e47f0b",
   "metadata": {},
   "outputs": [
    {
     "data": {
      "text/plain": [
       "True"
      ]
     },
     "execution_count": 98,
     "metadata": {},
     "output_type": "execute_result"
    }
   ],
   "source": [
    "bool(-0.522)"
   ]
  },
  {
   "cell_type": "code",
   "execution_count": 99,
   "id": "5af81267",
   "metadata": {},
   "outputs": [
    {
     "data": {
      "text/plain": [
       "False"
      ]
     },
     "execution_count": 99,
     "metadata": {},
     "output_type": "execute_result"
    }
   ],
   "source": [
    "bool(0.0)"
   ]
  },
  {
   "cell_type": "code",
   "execution_count": 100,
   "id": "3acaf5ac",
   "metadata": {},
   "outputs": [
    {
     "data": {
      "text/plain": [
       "1"
      ]
     },
     "execution_count": 100,
     "metadata": {},
     "output_type": "execute_result"
    }
   ],
   "source": [
    "int(True)"
   ]
  },
  {
   "cell_type": "code",
   "execution_count": 101,
   "id": "623f0d68",
   "metadata": {},
   "outputs": [
    {
     "data": {
      "text/plain": [
       "0"
      ]
     },
     "execution_count": 101,
     "metadata": {},
     "output_type": "execute_result"
    }
   ],
   "source": [
    "int(False)"
   ]
  },
  {
   "cell_type": "markdown",
   "id": "7f1050f6",
   "metadata": {},
   "source": [
    "### 논리 연산자\n",
    "\n",
    "- not  : 불을 반대로 변환\n",
    "- and : 두 값이 모두 참일 때 True를 출력하고, 그 외에는 모두 False를 출력\n",
    "- or : 두 값 중 하나만 참이어도 True를 출력하고, 두 개가 모두 거짓일 때만 False를 출력"
   ]
  },
  {
   "cell_type": "code",
   "execution_count": 102,
   "id": "5f01eb42",
   "metadata": {},
   "outputs": [
    {
     "name": "stdout",
     "output_type": "stream",
     "text": [
      "False\n",
      "True\n"
     ]
    }
   ],
   "source": [
    "print(not True)\n",
    "print(not False)"
   ]
  },
  {
   "cell_type": "code",
   "execution_count": 104,
   "id": "715dd1de",
   "metadata": {},
   "outputs": [
    {
     "name": "stdout",
     "output_type": "stream",
     "text": [
      "True\n",
      "False\n",
      "False\n",
      "False\n"
     ]
    }
   ],
   "source": [
    "print(True and True)\n",
    "print(True and False)\n",
    "print(False and True)\n",
    "print(False and False)"
   ]
  },
  {
   "cell_type": "code",
   "execution_count": 106,
   "id": "86e68d2f",
   "metadata": {},
   "outputs": [
    {
     "name": "stdout",
     "output_type": "stream",
     "text": [
      "True\n",
      "True\n",
      "True\n",
      "False\n"
     ]
    }
   ],
   "source": [
    "print(True or True)\n",
    "print(True or False)\n",
    "print(False or True)\n",
    "print(False or False)"
   ]
  },
  {
   "cell_type": "markdown",
   "id": "c10f0991",
   "metadata": {},
   "source": [
    "# 연습문제"
   ]
  },
  {
   "cell_type": "code",
   "execution_count": 121,
   "id": "a3ab8104",
   "metadata": {},
   "outputs": [
    {
     "data": {
      "text/plain": [
       "True"
      ]
     },
     "execution_count": 121,
     "metadata": {},
     "output_type": "execute_result"
    }
   ],
   "source": [
    "# 1. 자연수를 입력받아 홀수인지 짝수인지 판별하기\n",
    "# 홀수는 False, 짝수는 True\n",
    "num = 52\n",
    "\n",
    "num % 2 == 0\n",
    "# 어렵게 생각하지말자ㅏ ㅏㅏ ㅏㅏ ㅏㅏㅏ ㅏㅏㅏ"
   ]
  },
  {
   "cell_type": "code",
   "execution_count": 126,
   "id": "3105106f",
   "metadata": {},
   "outputs": [
    {
     "name": "stdout",
     "output_type": "stream",
     "text": [
      "생년월일 : 881220\n",
      "성별 : 1\n"
     ]
    }
   ],
   "source": [
    "# 2. 주민등록번호에서 생년월일, 성별 추출하기\n",
    "hong = \"881220-1068234\"\n",
    "\n",
    "생년월일 = hong[:6]\n",
    "성별 = hong[7]\n",
    "\n",
    "print( '생년월일 :', 생년월일)\n",
    "print('성별 :', 성별)"
   ]
  },
  {
   "cell_type": "code",
   "execution_count": 161,
   "id": "00f45271",
   "metadata": {},
   "outputs": [
    {
     "name": "stdout",
     "output_type": "stream",
     "text": [
      "('dau40!', 'goo61!', 'you71!')\n"
     ]
    }
   ],
   "source": [
    "# 3. 비밀번호 만들기\n",
    "# 사이트별로 아래의 규칙에 따라 비밀번호를 생성하는 코드를 작성하기\n",
    "# 사이트 주소 예시 : \"http://naver.com\", \"http://daum.net\", \"http://google.com\"\n",
    "#                         \"http://youtube.com\"\n",
    "\n",
    "# 규칙1 : http:// 부분은 제외한다\n",
    "# 규칙2 : 처음 만나는 점(.) 이후 부분도 제외한다\n",
    "# 규칙3 : 남은 글자 중 처음 세 자리 + 글자 개수 + 글자 내 \"e\"의 개수 + \"!\"로 비밀번호를 구성한다.\n",
    "\n",
    "# 규칙에 따라 \"http:://naver.com\"의 비밀번호를 생성하면 nav51! 가 된다\n",
    "addr = \"http://naver.com\"\n",
    "addr2 = \"http://daum.net\"\n",
    "addr3 = \"http://google.com\"\n",
    "addr4 = \"http://youtube.com\"\n",
    "\n",
    "a2 = addr2[7:11]\n",
    "a3 = addr3[7:13]\n",
    "a4 = addr4[7:14]\n",
    "\n",
    "password = (a2[:3] + str(len(a2))+ str(a2.count(\"e\")) + \"!\", a3[:3] + str(len(a3))+ str(a3.count(\"e\")) + \"!\", a4[:3] + str(len(a4))+ str(a4.count(\"e\")) + \"!\")\n",
    "\n",
    "# pw2 = a2[:3] + str(len(a2))+ str(a2.count(\"e\")) + \"!\"\n",
    "# pw3 = a3[:3] + str(len(a3))+ str(a3.count(\"e\")) + \"!\"\n",
    "# pw4 = a4[:3] + str(len(a4))+ str(a4.count(\"e\")) + \"!\"\n",
    "                   \n",
    "print(password)"
   ]
  },
  {
   "cell_type": "code",
   "execution_count": 168,
   "id": "122101ab",
   "metadata": {},
   "outputs": [
    {
     "name": "stdout",
     "output_type": "stream",
     "text": [
      "nav51!\n"
     ]
    }
   ],
   "source": [
    "addr = \"http://naver.com\"\n",
    "\n",
    "addr = addr.replace(\"http://\", \"\") # 규칙 1번 적용\n",
    "addr = addr[:addr.index(\".\")] # 규칙 2번 적용\n",
    "\n",
    "password = addr[:3] + str(len(addr)) + str(addr.count(\"e\")) + \"!\"\n",
    "\n",
    "print(password)"
   ]
  },
  {
   "cell_type": "code",
   "execution_count": null,
   "id": "93711f8d",
   "metadata": {},
   "outputs": [],
   "source": []
  }
 ],
 "metadata": {
  "kernelspec": {
   "display_name": "Python 3 (ipykernel)",
   "language": "python",
   "name": "python3"
  },
  "language_info": {
   "codemirror_mode": {
    "name": "ipython",
    "version": 3
   },
   "file_extension": ".py",
   "mimetype": "text/x-python",
   "name": "python",
   "nbconvert_exporter": "python",
   "pygments_lexer": "ipython3",
   "version": "3.11.5"
  }
 },
 "nbformat": 4,
 "nbformat_minor": 5
}
