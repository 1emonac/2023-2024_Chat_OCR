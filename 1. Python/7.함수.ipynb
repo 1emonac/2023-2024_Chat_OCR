{
 "cells": [
  {
   "cell_type": "markdown",
   "id": "176a6337",
   "metadata": {},
   "source": [
    "# 파이썬 함수의 구조\n",
    "\n",
    "```\n",
    "def 함수명(매개변수):\n",
    "    수행할 문장\n",
    "```"
   ]
  },
  {
   "cell_type": "code",
   "execution_count": 1,
   "id": "ff391041",
   "metadata": {},
   "outputs": [],
   "source": [
    "# welcome 함수 정의\n",
    "def welcome():\n",
    "    print(\"Hello!\")\n",
    "    print(\"Nice to meet you\")"
   ]
  },
  {
   "cell_type": "code",
   "execution_count": 2,
   "id": "22486658",
   "metadata": {},
   "outputs": [
    {
     "name": "stdout",
     "output_type": "stream",
     "text": [
      "Hello!\n",
      "Nice to meet you\n"
     ]
    }
   ],
   "source": [
    "welcome() # 함수를 호출한다~"
   ]
  },
  {
   "cell_type": "code",
   "execution_count": 3,
   "id": "b19b6ddc",
   "metadata": {},
   "outputs": [],
   "source": [
    "# add 함수 정의\n",
    "def add(a, b):\n",
    "    return a + b"
   ]
  },
  {
   "cell_type": "code",
   "execution_count": 6,
   "id": "db7677a0",
   "metadata": {},
   "outputs": [
    {
     "name": "stdout",
     "output_type": "stream",
     "text": [
      "7\n"
     ]
    }
   ],
   "source": [
    "c = add(3, 4)\n",
    "print(c)"
   ]
  },
  {
   "cell_type": "markdown",
   "id": "2946e5b7",
   "metadata": {},
   "source": [
    "## 함수 사용의 장점\n",
    "\n",
    "- 코드의 용도를 구분\n",
    "- 코드 재사용이 용이\n",
    "- 실수를 방지(오타 등)"
   ]
  },
  {
   "cell_type": "markdown",
   "id": "7d9741c4",
   "metadata": {},
   "source": [
    "1. 일단 돌아가는 코드 작성\n",
    "2. 반복되는 패턴 파악\n",
    "3. 함수 작성"
   ]
  },
  {
   "cell_type": "markdown",
   "id": "f0afc33b",
   "metadata": {},
   "source": [
    "# 매개변수와 인수\n",
    "\n",
    "- 매개변수 : 함수에 입력으로 전달된 값을 받는 변수 (parameter)\n",
    "- 인수 :  함수를 호출할 때 전달하는 입력값 (argument)\n",
    "\n",
    "- 인수와 매개변수는 다른 개념이지만 함수가 호출된 뒤에는 구분이 모호해지므로 구분하지 않는 경우도 많음\n",
    "\n",
    "- 함수의 처리과정\n",
    "    - 입력값 -> 함수 -> 결괏값\n",
    "\n",
    "- 함수의 사용법\n",
    "    - 결괏값을 받을 변수 = 함수이름(입력인수1, 입력인수2, ...)"
   ]
  },
  {
   "cell_type": "code",
   "execution_count": 2,
   "id": "bbdbc9e8",
   "metadata": {},
   "outputs": [],
   "source": [
    "def print_n_times(value, n):\n",
    "    for _ in range(n): # range(n) = n번 코드가 실행된다~\n",
    "        print(value)\n",
    "        \n",
    "# 변수가 없으면 안되기 때문에 '_'를 사용해서 자리를 채워줌"
   ]
  },
  {
   "cell_type": "code",
   "execution_count": 3,
   "id": "6d9a63e1",
   "metadata": {},
   "outputs": [
    {
     "ename": "TypeError",
     "evalue": "print_n_times() missing 1 required positional argument: 'n'",
     "output_type": "error",
     "traceback": [
      "\u001b[1;31m---------------------------------------------------------------------------\u001b[0m",
      "\u001b[1;31mTypeError\u001b[0m                                 Traceback (most recent call last)",
      "Cell \u001b[1;32mIn[3], line 2\u001b[0m\n\u001b[0;32m      1\u001b[0m \u001b[38;5;66;03m# 매개변수를 2개 지정하고 인수를 하나만 넣는다면 에러 발생\u001b[39;00m\n\u001b[1;32m----> 2\u001b[0m print_n_times(\u001b[38;5;124m\"\u001b[39m\u001b[38;5;124m안녕하세요\u001b[39m\u001b[38;5;124m\"\u001b[39m)\n",
      "\u001b[1;31mTypeError\u001b[0m: print_n_times() missing 1 required positional argument: 'n'"
     ]
    }
   ],
   "source": [
    "# 매개변수를 2개 지정하고 인수를 하나만 넣는다면 에러 발생\n",
    "print_n_times(\"안녕하세요\")"
   ]
  },
  {
   "cell_type": "code",
   "execution_count": 4,
   "id": "7f3f9426",
   "metadata": {},
   "outputs": [
    {
     "ename": "TypeError",
     "evalue": "print_n_times() takes 2 positional arguments but 3 were given",
     "output_type": "error",
     "traceback": [
      "\u001b[1;31m---------------------------------------------------------------------------\u001b[0m",
      "\u001b[1;31mTypeError\u001b[0m                                 Traceback (most recent call last)",
      "Cell \u001b[1;32mIn[4], line 2\u001b[0m\n\u001b[0;32m      1\u001b[0m \u001b[38;5;66;03m# 지정한 매개변수보다 인수를 많이 넣으면 에러 발생\u001b[39;00m\n\u001b[1;32m----> 2\u001b[0m print_n_times(\u001b[38;5;124m\"\u001b[39m\u001b[38;5;124m안녕하세요\u001b[39m\u001b[38;5;124m\"\u001b[39m,\u001b[38;5;241m10\u001b[39m, \u001b[38;5;241m20\u001b[39m)\n",
      "\u001b[1;31mTypeError\u001b[0m: print_n_times() takes 2 positional arguments but 3 were given"
     ]
    }
   ],
   "source": [
    "# 지정한 매개변수보다 인수를 많이 넣으면 에러 발생\n",
    "print_n_times(\"안녕하세요\",10, 20)"
   ]
  },
  {
   "cell_type": "markdown",
   "id": "a6d913c8",
   "metadata": {},
   "source": [
    "### 입력값이 없고 결괏값이 있는 함수\n",
    "\n",
    "- 함수 사용법\n",
    "    - 결괏값을 받을 변수 = 함수이름()"
   ]
  },
  {
   "cell_type": "code",
   "execution_count": 5,
   "id": "6f2f27f7",
   "metadata": {},
   "outputs": [],
   "source": [
    "def say():\n",
    "    return \"Hi\" "
   ]
  },
  {
   "cell_type": "code",
   "execution_count": 6,
   "id": "08ad2076",
   "metadata": {},
   "outputs": [
    {
     "name": "stdout",
     "output_type": "stream",
     "text": [
      "Hi\n"
     ]
    }
   ],
   "source": [
    "a = say()\n",
    "print(a) # 결괏값"
   ]
  },
  {
   "cell_type": "code",
   "execution_count": 7,
   "id": "1327335e",
   "metadata": {},
   "outputs": [
    {
     "ename": "TypeError",
     "evalue": "say() takes 0 positional arguments but 1 was given",
     "output_type": "error",
     "traceback": [
      "\u001b[1;31m---------------------------------------------------------------------------\u001b[0m",
      "\u001b[1;31mTypeError\u001b[0m                                 Traceback (most recent call last)",
      "Cell \u001b[1;32mIn[7], line 1\u001b[0m\n\u001b[1;32m----> 1\u001b[0m a \u001b[38;5;241m=\u001b[39m say(\u001b[38;5;241m123\u001b[39m)\n\u001b[0;32m      2\u001b[0m \u001b[38;5;28mprint\u001b[39m(a)\n",
      "\u001b[1;31mTypeError\u001b[0m: say() takes 0 positional arguments but 1 was given"
     ]
    }
   ],
   "source": [
    "a = say(123)\n",
    "print(a) # say 함수에 아무 것도 없어야함"
   ]
  },
  {
   "cell_type": "markdown",
   "id": "73fbec3b",
   "metadata": {},
   "source": [
    "### 결괏값이 없고 입력값이 있는 함수\n",
    "\n",
    "- 함수 사용법\n",
    "    - 함수 이름(입력인수1, 입력인수2, ...)"
   ]
  },
  {
   "cell_type": "code",
   "execution_count": 8,
   "id": "a2ae41a5",
   "metadata": {},
   "outputs": [],
   "source": [
    "def add(a, b): #(a, b) = 입력값\n",
    "    print(f\"{a}, {b}의 합은 {a + b}입니다\")"
   ]
  },
  {
   "cell_type": "code",
   "execution_count": 9,
   "id": "569382f8",
   "metadata": {},
   "outputs": [
    {
     "name": "stdout",
     "output_type": "stream",
     "text": [
      "3, 4의 합은 7입니다\n"
     ]
    }
   ],
   "source": [
    "add(3, 4)"
   ]
  },
  {
   "cell_type": "code",
   "execution_count": 10,
   "id": "8f9f2715",
   "metadata": {},
   "outputs": [
    {
     "name": "stdout",
     "output_type": "stream",
     "text": [
      "3, 4의 합은 7입니다\n",
      "None\n"
     ]
    }
   ],
   "source": [
    "# 결괏값 확인\n",
    "a = add(3, 4)\n",
    "print(a) # 결괏값 없음"
   ]
  },
  {
   "cell_type": "markdown",
   "id": "f64936dc",
   "metadata": {},
   "source": [
    "### 입력값도 결괏값도 없는 함수\n",
    "\n",
    "- 사용법\n",
    "    - 함수이름()"
   ]
  },
  {
   "cell_type": "code",
   "execution_count": 11,
   "id": "d57348e1",
   "metadata": {},
   "outputs": [],
   "source": [
    "def say():\n",
    "    print(\"Hi\")"
   ]
  },
  {
   "cell_type": "code",
   "execution_count": 13,
   "id": "a93a39f1",
   "metadata": {},
   "outputs": [
    {
     "name": "stdout",
     "output_type": "stream",
     "text": [
      "Hi\n",
      "None\n"
     ]
    }
   ],
   "source": [
    "print(say()) # 결괏값 x"
   ]
  },
  {
   "cell_type": "markdown",
   "id": "95f4c82f",
   "metadata": {},
   "source": [
    "## 매개변수 지정하여 호출하기"
   ]
  },
  {
   "cell_type": "code",
   "execution_count": 19,
   "id": "882320de",
   "metadata": {},
   "outputs": [],
   "source": [
    "def add(a, b):\n",
    "    print(f\"{a}, {b}의 합은 {a + b}입니다\")"
   ]
  },
  {
   "cell_type": "code",
   "execution_count": 20,
   "id": "c164a488",
   "metadata": {},
   "outputs": [
    {
     "name": "stdout",
     "output_type": "stream",
     "text": [
      "3, 7의 합은 10입니다\n"
     ]
    }
   ],
   "source": [
    "add(a = 3, b = 7)"
   ]
  },
  {
   "cell_type": "code",
   "execution_count": 21,
   "id": "11226157",
   "metadata": {},
   "outputs": [
    {
     "name": "stdout",
     "output_type": "stream",
     "text": [
      "7, 3의 합은 10입니다\n"
     ]
    }
   ],
   "source": [
    "add(a = 7, b = 3)"
   ]
  },
  {
   "cell_type": "code",
   "execution_count": 22,
   "id": "941c9ce8",
   "metadata": {},
   "outputs": [
    {
     "name": "stdout",
     "output_type": "stream",
     "text": [
      "3, 5의 합은 8입니다\n"
     ]
    }
   ],
   "source": [
    "add(b = 5, a = 3)"
   ]
  },
  {
   "cell_type": "markdown",
   "id": "ed4e3db2",
   "metadata": {},
   "source": [
    "# 함수의 결괏값"
   ]
  },
  {
   "cell_type": "code",
   "execution_count": 23,
   "id": "9fcfdb7b",
   "metadata": {},
   "outputs": [],
   "source": [
    "def add_and_mul(a, b):\n",
    "    return a + b, a*b"
   ]
  },
  {
   "cell_type": "code",
   "execution_count": 24,
   "id": "cb0f9d5b",
   "metadata": {},
   "outputs": [
    {
     "name": "stdout",
     "output_type": "stream",
     "text": [
      "(7, 12)\n"
     ]
    }
   ],
   "source": [
    "result = add_and_mul(3, 4)\n",
    "\n",
    "# 함수의 결괏값은 2개가 아니라 하나의 튜플로 반환되었음\n",
    "print(result)\n",
    "\n",
    "#  (7, 12) = 결괏값 1개"
   ]
  },
  {
   "cell_type": "code",
   "execution_count": 25,
   "id": "0e3bb06e",
   "metadata": {},
   "outputs": [
    {
     "name": "stdout",
     "output_type": "stream",
     "text": [
      "7 12\n"
     ]
    }
   ],
   "source": [
    "# 2개의 결괏값처럼 받을 수 있음\n",
    "result1, result2 = add_and_mul(3, 4)\n",
    "print(result1, result2)\n",
    "\n",
    "# 7 12 결괏값 2개 받음"
   ]
  },
  {
   "cell_type": "code",
   "execution_count": 31,
   "id": "7f798b07",
   "metadata": {},
   "outputs": [],
   "source": [
    "def add_and_mul(a, b):\n",
    "    return a + b\n",
    "    return a * b"
   ]
  },
  {
   "cell_type": "code",
   "execution_count": 33,
   "id": "d1b33d55",
   "metadata": {},
   "outputs": [
    {
     "name": "stdout",
     "output_type": "stream",
     "text": [
      "5\n"
     ]
    }
   ],
   "source": [
    "# 함수는 return을 만나는 순간 함수 실행이 종료됨\n",
    "result = add_and_mul(2, 3)\n",
    "print(result)"
   ]
  },
  {
   "cell_type": "markdown",
   "id": "3685f62a",
   "metadata": {},
   "source": [
    "### return\n",
    "\n",
    "- 함수를 종료시키고 싶을 때 사용할 수도 있음"
   ]
  },
  {
   "cell_type": "code",
   "execution_count": 35,
   "id": "6c3c6089",
   "metadata": {},
   "outputs": [],
   "source": [
    "def say_nick(nick):\n",
    "    if nick == \"바보\":\n",
    "        return\n",
    "    print(f\"나의 별명은 {nick} 입니다\")"
   ]
  },
  {
   "cell_type": "code",
   "execution_count": 36,
   "id": "c049f731",
   "metadata": {},
   "outputs": [
    {
     "name": "stdout",
     "output_type": "stream",
     "text": [
      "나의 별명은 야호 입니다\n"
     ]
    }
   ],
   "source": [
    "say_nick(\"야호\")"
   ]
  },
  {
   "cell_type": "code",
   "execution_count": 37,
   "id": "97f5b2a3",
   "metadata": {},
   "outputs": [],
   "source": [
    "say_nick(\"바보\")"
   ]
  },
  {
   "cell_type": "markdown",
   "id": "a04b3fc7",
   "metadata": {},
   "source": [
    "# 디폴트 매개변수\n",
    "\n",
    "- 매개변수로 전달되는 인수가 없는 경우에 기본적으로 사용하는 값"
   ]
  },
  {
   "cell_type": "code",
   "execution_count": 38,
   "id": "988c53b6",
   "metadata": {},
   "outputs": [],
   "source": [
    "def say_myself(name, old, man = True):\n",
    "    print(f\"나의 이름은 {name} 입니다\")\n",
    "    print(f\"나이는 {old} 살 입니다\")\n",
    "    \n",
    "    if man:\n",
    "        print(\"남자입니다\")\n",
    "    else:\n",
    "        print(\"여자입니다\")"
   ]
  },
  {
   "cell_type": "code",
   "execution_count": 39,
   "id": "e866cba8",
   "metadata": {},
   "outputs": [
    {
     "name": "stdout",
     "output_type": "stream",
     "text": [
      "나의 이름은 파이썬 입니다\n",
      "나이는 27 살 입니다\n",
      "남자입니다\n"
     ]
    }
   ],
   "source": [
    "say_myself(\"파이썬\", 27)"
   ]
  },
  {
   "cell_type": "code",
   "execution_count": 40,
   "id": "6b7576a9",
   "metadata": {},
   "outputs": [
    {
     "name": "stdout",
     "output_type": "stream",
     "text": [
      "나의 이름은 파이썬 입니다\n",
      "나이는 27 살 입니다\n",
      "남자입니다\n"
     ]
    }
   ],
   "source": [
    "say_myself(\"파이썬\", 27, True) # True자리에, True값을 강력하게 표출하고 싶을 때 사용"
   ]
  },
  {
   "cell_type": "code",
   "execution_count": 41,
   "id": "d9be88fb",
   "metadata": {},
   "outputs": [
    {
     "name": "stdout",
     "output_type": "stream",
     "text": [
      "나의 이름은 파이썬 입니다\n",
      "나이는 27 살 입니다\n",
      "여자입니다\n"
     ]
    }
   ],
   "source": [
    "say_myself(\"파이썬\", 27, False)"
   ]
  },
  {
   "cell_type": "code",
   "execution_count": 46,
   "id": "8c9fa89a",
   "metadata": {},
   "outputs": [
    {
     "name": "stdout",
     "output_type": "stream",
     "text": [
      "나의 이름은 파이썬 입니다\n",
      "나이는 27 살 입니다\n",
      "남자입니다\n"
     ]
    }
   ],
   "source": [
    "say_myself(\"파이썬\", 27, \"girl\") \n",
    "# 입력값 (\"girl\")이 있기 때문에 남자로 나옴, \"\" = 입력값이 없기 때문에 False로 여자가 출력"
   ]
  },
  {
   "cell_type": "code",
   "execution_count": 47,
   "id": "145b6e6f",
   "metadata": {},
   "outputs": [
    {
     "name": "stdout",
     "output_type": "stream",
     "text": [
      "나의 이름은 파이썬 입니다\n",
      "나이는 27 살 입니다\n",
      "여자입니다\n"
     ]
    }
   ],
   "source": [
    "say_myself(\"파이썬\", 27, \"\") "
   ]
  },
  {
   "cell_type": "code",
   "execution_count": 44,
   "id": "f0e2795b",
   "metadata": {},
   "outputs": [],
   "source": [
    "def print_n_times(value, n = 2):\n",
    "    for _ in range(n):\n",
    "        print(value)"
   ]
  },
  {
   "cell_type": "code",
   "execution_count": 45,
   "id": "a2af8d76",
   "metadata": {},
   "outputs": [
    {
     "name": "stdout",
     "output_type": "stream",
     "text": [
      "안녕하세요\n",
      "안녕하세요\n"
     ]
    }
   ],
   "source": [
    "print_n_times(\"안녕하세요\")"
   ]
  },
  {
   "cell_type": "markdown",
   "id": "919d5050",
   "metadata": {},
   "source": [
    "## 디폴트 매개변수의 위치"
   ]
  },
  {
   "cell_type": "code",
   "execution_count": 48,
   "id": "e370ab1e",
   "metadata": {},
   "outputs": [
    {
     "ename": "SyntaxError",
     "evalue": "non-default argument follows default argument (3631387087.py, line 1)",
     "output_type": "error",
     "traceback": [
      "\u001b[1;36m  Cell \u001b[1;32mIn[48], line 1\u001b[1;36m\u001b[0m\n\u001b[1;33m    def say_myself(name, man = True, old):\u001b[0m\n\u001b[1;37m                                     ^\u001b[0m\n\u001b[1;31mSyntaxError\u001b[0m\u001b[1;31m:\u001b[0m non-default argument follows default argument\n"
     ]
    }
   ],
   "source": [
    "# 파이썬은 인수를 어디에 대입해야할지 알 수 없음\n",
    "def say_myself(name, man = True, old): # man = True = 디폴트 매개변수! (맨 뒤에 와야됨)\n",
    "    print(f\"나의 이름은 {name} 입니다\")\n",
    "    print(f\"나이는 {old} 살 입니다\")\n",
    "    \n",
    "    if man:\n",
    "        print(\"남자입니다\")\n",
    "    else:\n",
    "        print(\"여자입니다\")"
   ]
  },
  {
   "cell_type": "markdown",
   "id": "cf56f47d",
   "metadata": {},
   "source": [
    "# 지역변수와 전역변수\n",
    "\n",
    "- 지역변수\n",
    "    - 함수 내부에서 선언한 변수는 함수 내부에서만 사용할 수 있는 변수가 됨\n",
    "    - 함수 외부에서는 지역변수에 접근할 수 없음\n",
    "    \n",
    "- 전역변수\n",
    "    - 함수 외부에서 선언한 변수는 함수 내부에서도 사용 가능\n"
   ]
  },
  {
   "cell_type": "code",
   "execution_count": 51,
   "id": "d30d6d25",
   "metadata": {},
   "outputs": [],
   "source": [
    "def vartest():\n",
    "    d = 10 # 지역변수\n",
    "    print(d)"
   ]
  },
  {
   "cell_type": "code",
   "execution_count": 52,
   "id": "ba304f66",
   "metadata": {},
   "outputs": [
    {
     "name": "stdout",
     "output_type": "stream",
     "text": [
      "10\n"
     ]
    }
   ],
   "source": [
    "vartest()"
   ]
  },
  {
   "cell_type": "code",
   "execution_count": 53,
   "id": "ae631487",
   "metadata": {},
   "outputs": [
    {
     "ename": "NameError",
     "evalue": "name 'd' is not defined",
     "output_type": "error",
     "traceback": [
      "\u001b[1;31m---------------------------------------------------------------------------\u001b[0m",
      "\u001b[1;31mNameError\u001b[0m                                 Traceback (most recent call last)",
      "Cell \u001b[1;32mIn[53], line 1\u001b[0m\n\u001b[1;32m----> 1\u001b[0m \u001b[38;5;28mprint\u001b[39m(d)\n",
      "\u001b[1;31mNameError\u001b[0m: name 'd' is not defined"
     ]
    }
   ],
   "source": [
    "print(d)"
   ]
  },
  {
   "cell_type": "code",
   "execution_count": 54,
   "id": "031a862c",
   "metadata": {},
   "outputs": [],
   "source": [
    "e = 10 # 전역변수\n",
    "\n",
    "def etest():\n",
    "    print(e)"
   ]
  },
  {
   "cell_type": "code",
   "execution_count": 55,
   "id": "53b202c0",
   "metadata": {},
   "outputs": [
    {
     "name": "stdout",
     "output_type": "stream",
     "text": [
      "10\n"
     ]
    }
   ],
   "source": [
    "etest()"
   ]
  },
  {
   "cell_type": "markdown",
   "id": "a2320672",
   "metadata": {},
   "source": [
    "### 전역변수를 함수 내부에서 사용하는 2가지 경우\n",
    "\n",
    "- 단순 참조\n",
    "- 전역변수의 값을 변경"
   ]
  },
  {
   "cell_type": "code",
   "execution_count": 56,
   "id": "0060c610",
   "metadata": {},
   "outputs": [],
   "source": [
    "a = 0\n",
    "\n",
    "def f():\n",
    "    a = 10\n",
    "    print(a)"
   ]
  },
  {
   "cell_type": "code",
   "execution_count": 57,
   "id": "0fd9cc4c",
   "metadata": {},
   "outputs": [
    {
     "name": "stdout",
     "output_type": "stream",
     "text": [
      "10\n"
     ]
    }
   ],
   "source": [
    "f()"
   ]
  },
  {
   "cell_type": "code",
   "execution_count": 58,
   "id": "ea75c049",
   "metadata": {},
   "outputs": [
    {
     "name": "stdout",
     "output_type": "stream",
     "text": [
      "0\n"
     ]
    }
   ],
   "source": [
    "print(a) # 전역변수"
   ]
  },
  {
   "cell_type": "code",
   "execution_count": 59,
   "id": "b0e67fe5",
   "metadata": {},
   "outputs": [],
   "source": [
    "def f():\n",
    "    global a # 전역변수 a를 사용하겠다\n",
    "    a = 10\n",
    "    print(a)"
   ]
  },
  {
   "cell_type": "code",
   "execution_count": 60,
   "id": "d2216155",
   "metadata": {},
   "outputs": [
    {
     "name": "stdout",
     "output_type": "stream",
     "text": [
      "10\n"
     ]
    }
   ],
   "source": [
    "f()"
   ]
  },
  {
   "cell_type": "code",
   "execution_count": 61,
   "id": "e05e487a",
   "metadata": {},
   "outputs": [
    {
     "name": "stdout",
     "output_type": "stream",
     "text": [
      "10\n"
     ]
    }
   ],
   "source": [
    "print(a) # global a를 사용했기 때문에 전역변수도 10으로 출력됨\n",
    "# global을 실무에서 건들이는 것은 별로, 추적하기가 어려워짐"
   ]
  },
  {
   "cell_type": "markdown",
   "id": "c2c6a088",
   "metadata": {},
   "source": [
    "# 가변 매개변수(여러 개의 입력값을 받는 함수)\n",
    "\n",
    "- 함수로 전달해야하는 인수의 개수가 정해지지 않은 매개변수\n",
    "- 함수 정의시 매개변수 앞에 * 를 붙이면 가변 매개변수가 됨\n",
    "- 전달되는 인수는 하나의 튜플 형태로 전달\n",
    "\n",
    "- 가변 매개변수의 제약\n",
    "    - 가변 매개변수 뒤에는 일반 매개변수가 올 수 없음\n",
    "    - 가변 매개변수는 하나만 사용할 수 있음"
   ]
  },
  {
   "cell_type": "code",
   "execution_count": 62,
   "id": "cc448cfc",
   "metadata": {},
   "outputs": [],
   "source": [
    "def show(*args):\n",
    "    print(args)"
   ]
  },
  {
   "cell_type": "code",
   "execution_count": 63,
   "id": "e65255be",
   "metadata": {},
   "outputs": [
    {
     "name": "stdout",
     "output_type": "stream",
     "text": [
      "('Python',)\n"
     ]
    }
   ],
   "source": [
    "show(\"Python\")"
   ]
  },
  {
   "cell_type": "code",
   "execution_count": 64,
   "id": "389d997d",
   "metadata": {},
   "outputs": [
    {
     "name": "stdout",
     "output_type": "stream",
     "text": [
      "('happy', 'birthday')\n"
     ]
    }
   ],
   "source": [
    "show(\"happy\", \"birthday\")"
   ]
  },
  {
   "cell_type": "code",
   "execution_count": 65,
   "id": "a1def4d4",
   "metadata": {},
   "outputs": [],
   "source": [
    "def add_many(*args):\n",
    "    result = 0\n",
    "    \n",
    "    for i in args:\n",
    "        result += i\n",
    "        \n",
    "    return result"
   ]
  },
  {
   "cell_type": "code",
   "execution_count": 67,
   "id": "93d64705",
   "metadata": {},
   "outputs": [
    {
     "name": "stdout",
     "output_type": "stream",
     "text": [
      "21\n"
     ]
    }
   ],
   "source": [
    "result = add_many(1, 2, 3)\n",
    "print(result)"
   ]
  },
  {
   "cell_type": "code",
   "execution_count": 69,
   "id": "5eefaf7b",
   "metadata": {},
   "outputs": [
    {
     "name": "stdout",
     "output_type": "stream",
     "text": [
      "55\n"
     ]
    }
   ],
   "source": [
    "result = add_many(1, 2, 3, 4, 5, 6, 7, 8, 9, 10)\n",
    "print(result)"
   ]
  },
  {
   "cell_type": "code",
   "execution_count": 71,
   "id": "f20ddc84",
   "metadata": {},
   "outputs": [],
   "source": [
    "def add_mul(choice, *args):\n",
    "    if choice == \"add\":\n",
    "        result = 0\n",
    "        for i in args:\n",
    "            result += i\n",
    "            \n",
    "    elif choice == \"mul\":\n",
    "        result = 1\n",
    "        for i in args:\n",
    "            result *= i\n",
    "            \n",
    "    return result"
   ]
  },
  {
   "cell_type": "code",
   "execution_count": 72,
   "id": "b6176f38",
   "metadata": {},
   "outputs": [
    {
     "name": "stdout",
     "output_type": "stream",
     "text": [
      "15\n"
     ]
    }
   ],
   "source": [
    "result = add_mul(\"add\", 1, 2, 3, 4, 5)\n",
    "print(result)"
   ]
  },
  {
   "cell_type": "code",
   "execution_count": 73,
   "id": "d17e6e1c",
   "metadata": {},
   "outputs": [
    {
     "name": "stdout",
     "output_type": "stream",
     "text": [
      "120\n"
     ]
    }
   ],
   "source": [
    "result = add_mul(\"mul\", 1, 2, 3, 4, 5)\n",
    "print(result)"
   ]
  },
  {
   "cell_type": "markdown",
   "id": "4ea40ffe",
   "metadata": {},
   "source": [
    "### 함수 매개변수 순서\n",
    "1. 일반 매개변수\n",
    "2. 디폴트 매개변수\n",
    "3. 가변 매개변수\n",
    "4. 키워드 매개변수"
   ]
  },
  {
   "cell_type": "markdown",
   "id": "7dc52ddc",
   "metadata": {},
   "source": [
    "# 키워드 매개변수"
   ]
  },
  {
   "cell_type": "code",
   "execution_count": 74,
   "id": "dba34891",
   "metadata": {},
   "outputs": [],
   "source": [
    "def print_kwargs(**kwargs):\n",
    "    print(kwargs)"
   ]
  },
  {
   "cell_type": "code",
   "execution_count": 75,
   "id": "6ef6da76",
   "metadata": {},
   "outputs": [
    {
     "name": "stdout",
     "output_type": "stream",
     "text": [
      "{'a': 1}\n"
     ]
    }
   ],
   "source": [
    "print_kwargs(a = 1)"
   ]
  },
  {
   "cell_type": "code",
   "execution_count": 76,
   "id": "64f6604d",
   "metadata": {},
   "outputs": [
    {
     "name": "stdout",
     "output_type": "stream",
     "text": [
      "{'name': 'foo', 'age': 3}\n"
     ]
    }
   ],
   "source": [
    "print_kwargs(name = \"foo\", age = 3)"
   ]
  },
  {
   "cell_type": "code",
   "execution_count": null,
   "id": "629c60bc",
   "metadata": {},
   "outputs": [],
   "source": []
  }
 ],
 "metadata": {
  "kernelspec": {
   "display_name": "Python 3 (ipykernel)",
   "language": "python",
   "name": "python3"
  },
  "language_info": {
   "codemirror_mode": {
    "name": "ipython",
    "version": 3
   },
   "file_extension": ".py",
   "mimetype": "text/x-python",
   "name": "python",
   "nbconvert_exporter": "python",
   "pygments_lexer": "ipython3",
   "version": "3.11.5"
  }
 },
 "nbformat": 4,
 "nbformat_minor": 5
}
