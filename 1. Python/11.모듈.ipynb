{
 "cells": [
  {
   "cell_type": "markdown",
   "id": "a5485eca",
   "metadata": {},
   "source": [
    "# 모듈\n",
    "\n",
    "- 함수나 변수 또는 클래스를 모아 둔 파일\n",
    "- 다른 파이썬 프로그램에서 불러와 사용할 수 있게 만든 파이썬 파일\n",
    "\n",
    "- 종류\n",
    "    - 표준 모듈 : 파이썬에 기본적으로 내장되어 있는 모듈\n",
    "    - 외부 모듈 : 다른 사람들이 만들어서 공개한 모듈"
   ]
  },
  {
   "cell_type": "markdown",
   "id": "e3c3540b",
   "metadata": {},
   "source": [
    "# 모듈 사용\n",
    "\n",
    "- import 모듈\n",
    "- from 모듈 import 함수1, 함수2\n",
    "- from 모듈 import *"
   ]
  },
  {
   "cell_type": "code",
   "execution_count": 1,
   "id": "149d549b",
   "metadata": {},
   "outputs": [],
   "source": [
    "import add_sub_module"
   ]
  },
  {
   "cell_type": "code",
   "execution_count": 4,
   "id": "4ed261a6",
   "metadata": {},
   "outputs": [
    {
     "name": "stdout",
     "output_type": "stream",
     "text": [
      "9\n"
     ]
    }
   ],
   "source": [
    "print(add_sub_module.add(4, 5))"
   ]
  },
  {
   "cell_type": "code",
   "execution_count": 5,
   "id": "29f0c7ad",
   "metadata": {},
   "outputs": [
    {
     "name": "stdout",
     "output_type": "stream",
     "text": [
      "-1\n"
     ]
    }
   ],
   "source": [
    "print(add_sub_module.sub(4, 5))"
   ]
  },
  {
   "cell_type": "code",
   "execution_count": 6,
   "id": "64028605",
   "metadata": {},
   "outputs": [],
   "source": [
    "from add_sub_module import add, sub"
   ]
  },
  {
   "cell_type": "code",
   "execution_count": 7,
   "id": "92a98411",
   "metadata": {},
   "outputs": [
    {
     "data": {
      "text/plain": [
       "7"
      ]
     },
     "execution_count": 7,
     "metadata": {},
     "output_type": "execute_result"
    }
   ],
   "source": [
    "add(3, 4)"
   ]
  },
  {
   "cell_type": "code",
   "execution_count": 8,
   "id": "61f9e1b3",
   "metadata": {},
   "outputs": [
    {
     "data": {
      "text/plain": [
       "1"
      ]
     },
     "execution_count": 8,
     "metadata": {},
     "output_type": "execute_result"
    }
   ],
   "source": [
    "sub(4, 3)"
   ]
  },
  {
   "cell_type": "code",
   "execution_count": 9,
   "id": "416b878b",
   "metadata": {},
   "outputs": [
    {
     "data": {
      "text/plain": [
       "<function add_sub_module.add(a, b)>"
      ]
     },
     "execution_count": 9,
     "metadata": {},
     "output_type": "execute_result"
    }
   ],
   "source": [
    "add"
   ]
  },
  {
   "cell_type": "code",
   "execution_count": 10,
   "id": "f718c025",
   "metadata": {},
   "outputs": [],
   "source": [
    "import converter"
   ]
  },
  {
   "cell_type": "code",
   "execution_count": 11,
   "id": "53b1b217",
   "metadata": {},
   "outputs": [
    {
     "name": "stdout",
     "output_type": "stream",
     "text": [
      "160km = 99.41936miles\n"
     ]
    }
   ],
   "source": [
    "miles = converter.kilometer_to_miles(160)\n",
    "print(f\"160km = {miles}miles\")"
   ]
  },
  {
   "cell_type": "code",
   "execution_count": 13,
   "id": "a6f02527",
   "metadata": {},
   "outputs": [
    {
     "name": "stdout",
     "output_type": "stream",
     "text": [
      "1000g = 2.20462pounds\n"
     ]
    }
   ],
   "source": [
    "pounds = converter.gram_to_pounds(1000)\n",
    "print(f\"1000g = {pounds}pounds\")"
   ]
  },
  {
   "cell_type": "code",
   "execution_count": 14,
   "id": "ecbd0486",
   "metadata": {},
   "outputs": [],
   "source": [
    "from converter import * # 모든 변수, 모든 클래스를 땡겨오겠다"
   ]
  },
  {
   "cell_type": "code",
   "execution_count": 15,
   "id": "c3fe14f6",
   "metadata": {},
   "outputs": [
    {
     "name": "stdout",
     "output_type": "stream",
     "text": [
      "86.99194\n"
     ]
    }
   ],
   "source": [
    "miles = kilometer_to_miles(140)\n",
    "print(miles)"
   ]
  },
  {
   "cell_type": "code",
   "execution_count": 16,
   "id": "ddbb3dfb",
   "metadata": {},
   "outputs": [
    {
     "name": "stdout",
     "output_type": "stream",
     "text": [
      "0.220462\n"
     ]
    }
   ],
   "source": [
    "pounds = gram_to_pounds(100)\n",
    "print(pounds)"
   ]
  },
  {
   "cell_type": "markdown",
   "id": "7a823a66",
   "metadata": {},
   "source": [
    "# 별명 사용하기"
   ]
  },
  {
   "cell_type": "code",
   "execution_count": 17,
   "id": "aad2e00a",
   "metadata": {},
   "outputs": [],
   "source": [
    "import converter as cvt"
   ]
  },
  {
   "cell_type": "code",
   "execution_count": 18,
   "id": "3b9d577f",
   "metadata": {},
   "outputs": [
    {
     "name": "stdout",
     "output_type": "stream",
     "text": [
      "93.20565\n"
     ]
    }
   ],
   "source": [
    "miles = cvt.kilometer_to_miles(150)\n",
    "print(miles)"
   ]
  },
  {
   "cell_type": "code",
   "execution_count": 19,
   "id": "9070c364",
   "metadata": {},
   "outputs": [
    {
     "name": "stdout",
     "output_type": "stream",
     "text": [
      "2.20462\n"
     ]
    }
   ],
   "source": [
    "pounds = cvt.gram_to_pounds(1000)\n",
    "print(pounds)"
   ]
  },
  {
   "cell_type": "code",
   "execution_count": 21,
   "id": "73b52943",
   "metadata": {},
   "outputs": [],
   "source": [
    "from converter import kilometer_to_miles as k2m"
   ]
  },
  {
   "cell_type": "code",
   "execution_count": 22,
   "id": "32879aad",
   "metadata": {},
   "outputs": [
    {
     "name": "stdout",
     "output_type": "stream",
     "text": [
      "93.20565\n"
     ]
    }
   ],
   "source": [
    "miles = k2m(150)\n",
    "print(miles)"
   ]
  },
  {
   "cell_type": "markdown",
   "id": "394d584a",
   "metadata": {},
   "source": [
    "# 표준 모듈\n",
    "\n",
    "- 파이썬에 기본적으로 설치되어 있는 모듈\n",
    "- 별도의 설치 없이 import 사용 가능"
   ]
  },
  {
   "cell_type": "markdown",
   "id": "d5093c9f",
   "metadata": {},
   "source": [
    "## math\n",
    "\n",
    "- 수학과 관련된 값과 함수를 제공\n"
   ]
  },
  {
   "cell_type": "code",
   "execution_count": 23,
   "id": "578a128e",
   "metadata": {},
   "outputs": [],
   "source": [
    "import math"
   ]
  },
  {
   "cell_type": "code",
   "execution_count": 24,
   "id": "31100d5f",
   "metadata": {},
   "outputs": [
    {
     "data": {
      "text/plain": [
       "3.141592653589793"
      ]
     },
     "execution_count": 24,
     "metadata": {},
     "output_type": "execute_result"
    }
   ],
   "source": [
    "# 원주율\n",
    "math.pi"
   ]
  },
  {
   "cell_type": "code",
   "execution_count": 25,
   "id": "d2fbbee6",
   "metadata": {},
   "outputs": [
    {
     "name": "stdout",
     "output_type": "stream",
     "text": [
      "2\n",
      "1\n"
     ]
    }
   ],
   "source": [
    "# 올림과 내림\n",
    "print(math.ceil(1.1)) # 올림\n",
    "print(math.floor(1.9)) # 내림"
   ]
  },
  {
   "cell_type": "code",
   "execution_count": 27,
   "id": "32375d0b",
   "metadata": {},
   "outputs": [
    {
     "name": "stdout",
     "output_type": "stream",
     "text": [
      "-1\n",
      "-2\n"
     ]
    }
   ],
   "source": [
    "# 소수점 이하 절사\n",
    "print(math.trunc(-1.9)) # 절사\n",
    "print(math.floor(-1.9)) # 내림"
   ]
  },
  {
   "cell_type": "code",
   "execution_count": 28,
   "id": "1c224a03",
   "metadata": {},
   "outputs": [
    {
     "data": {
      "text/plain": [
       "5.0"
      ]
     },
     "execution_count": 28,
     "metadata": {},
     "output_type": "execute_result"
    }
   ],
   "source": [
    "# 제곱근\n",
    "math.sqrt(25) # 루트 25"
   ]
  },
  {
   "cell_type": "markdown",
   "id": "b843edcb",
   "metadata": {},
   "source": [
    "## random\n",
    "\n",
    "- 난수 생성 모듈\n"
   ]
  },
  {
   "cell_type": "code",
   "execution_count": 29,
   "id": "0e57998c",
   "metadata": {},
   "outputs": [],
   "source": [
    "import random"
   ]
  },
  {
   "cell_type": "markdown",
   "id": "6f8e8bb3",
   "metadata": {},
   "source": [
    "- randint()\n",
    "    - 전달하는 두 인수 사이의 정수를 임의로 생성"
   ]
  },
  {
   "cell_type": "code",
   "execution_count": 36,
   "id": "05abc55b",
   "metadata": {},
   "outputs": [
    {
     "data": {
      "text/plain": [
       "9"
      ]
     },
     "execution_count": 36,
     "metadata": {},
     "output_type": "execute_result"
    }
   ],
   "source": [
    "random.randint(1, 10)"
   ]
  },
  {
   "cell_type": "markdown",
   "id": "fb4e7031",
   "metadata": {},
   "source": [
    "- randrange()\n",
    "    - 특정 범위에 속한 정수 중에서 하나를 임의로 생성"
   ]
  },
  {
   "cell_type": "code",
   "execution_count": 44,
   "id": "401cb65c",
   "metadata": {},
   "outputs": [
    {
     "data": {
      "text/plain": [
       "1"
      ]
     },
     "execution_count": 44,
     "metadata": {},
     "output_type": "execute_result"
    }
   ],
   "source": [
    "random.randrange(10)"
   ]
  },
  {
   "cell_type": "code",
   "execution_count": 50,
   "id": "e7537d46",
   "metadata": {},
   "outputs": [
    {
     "data": {
      "text/plain": [
       "1"
      ]
     },
     "execution_count": 50,
     "metadata": {},
     "output_type": "execute_result"
    }
   ],
   "source": [
    "random.randrange(1, 10, 2) # randint와 다르게 증감값을 설정할 수 있다"
   ]
  },
  {
   "cell_type": "markdown",
   "id": "614db9ba",
   "metadata": {},
   "source": [
    "- random()\n",
    "    - 0이상 1미만 범위에서 임의의 실수를 생성\n",
    "    - 0% 이상 100% 미만으로 확률을 처리할 때도 사용"
   ]
  },
  {
   "cell_type": "code",
   "execution_count": 51,
   "id": "4954a183",
   "metadata": {},
   "outputs": [
    {
     "data": {
      "text/plain": [
       "0.43124470297504347"
      ]
     },
     "execution_count": 51,
     "metadata": {},
     "output_type": "execute_result"
    }
   ],
   "source": [
    "random.random()"
   ]
  },
  {
   "cell_type": "markdown",
   "id": "e3de8868",
   "metadata": {},
   "source": [
    "- choice()\n",
    "    - 전달된 시퀀스 자료형에 속한 요소 중에서 하나를 임의로 반환"
   ]
  },
  {
   "cell_type": "code",
   "execution_count": 52,
   "id": "2d554784",
   "metadata": {},
   "outputs": [
    {
     "data": {
      "text/plain": [
       "'winter'"
      ]
     },
     "execution_count": 52,
     "metadata": {},
     "output_type": "execute_result"
    }
   ],
   "source": [
    "seasons = [\"sprint\", \"summer\", \"fall\", \"winter\"]\n",
    "random.choice(seasons)"
   ]
  },
  {
   "cell_type": "markdown",
   "id": "806b7272",
   "metadata": {},
   "source": [
    "- sample()\n",
    "    - 전달된 시퀀스 자료형에 속한 요소 중 지정된 개수의 요소를 임의로 반환\n",
    "    - 반환 결과는 리스트 자료형\n",
    "    - 중복없이 선택"
   ]
  },
  {
   "cell_type": "code",
   "execution_count": 53,
   "id": "b2c44f08",
   "metadata": {},
   "outputs": [
    {
     "data": {
      "text/plain": [
       "[1, 14, 16, 41, 37, 6]"
      ]
     },
     "execution_count": 53,
     "metadata": {},
     "output_type": "execute_result"
    }
   ],
   "source": [
    "random.sample(range(1, 46), 6)"
   ]
  },
  {
   "cell_type": "code",
   "execution_count": 54,
   "id": "f436e47d",
   "metadata": {},
   "outputs": [
    {
     "data": {
      "text/plain": [
       "[2, 10, 26, 31, 36, 38]"
      ]
     },
     "execution_count": 54,
     "metadata": {},
     "output_type": "execute_result"
    }
   ],
   "source": [
    "sorted(random.sample(range(1, 46), 6))"
   ]
  },
  {
   "cell_type": "markdown",
   "id": "86ce76b9",
   "metadata": {},
   "source": [
    "## time\n",
    "\n",
    "- 시간처리와 관련된 모듈"
   ]
  },
  {
   "cell_type": "code",
   "execution_count": 55,
   "id": "d7168cdf",
   "metadata": {},
   "outputs": [],
   "source": [
    "import time"
   ]
  },
  {
   "cell_type": "markdown",
   "id": "52ed88de",
   "metadata": {},
   "source": [
    "- time()\n",
    "    - 1970년 1월 1일 0시 0분 0초부터 현재까지 경과된 시간을 반환(UNIX OS 배포날짜)\n",
    "    - 소수점이 하는 마이크로초를 의미"
   ]
  },
  {
   "cell_type": "code",
   "execution_count": 56,
   "id": "a81819e2",
   "metadata": {},
   "outputs": [
    {
     "data": {
      "text/plain": [
       "1704694279.8671649"
      ]
     },
     "execution_count": 56,
     "metadata": {},
     "output_type": "execute_result"
    }
   ],
   "source": [
    "time.time()"
   ]
  },
  {
   "cell_type": "code",
   "execution_count": 57,
   "id": "dd71b2b4",
   "metadata": {},
   "outputs": [
    {
     "data": {
      "text/plain": [
       "1704694304.79535"
      ]
     },
     "execution_count": 57,
     "metadata": {},
     "output_type": "execute_result"
    }
   ],
   "source": [
    "time.time()"
   ]
  },
  {
   "cell_type": "markdown",
   "id": "6b3a8a36",
   "metadata": {},
   "source": [
    "- ctime()\n",
    "    - 인수로 전달된 시간을 형식을 갖춰 반환"
   ]
  },
  {
   "cell_type": "code",
   "execution_count": 58,
   "id": "bdbe5d54",
   "metadata": {},
   "outputs": [
    {
     "data": {
      "text/plain": [
       "'Mon Jan  8 15:12:53 2024'"
      ]
     },
     "execution_count": 58,
     "metadata": {},
     "output_type": "execute_result"
    }
   ],
   "source": [
    "time.ctime(time.time())"
   ]
  },
  {
   "cell_type": "markdown",
   "id": "f498163c",
   "metadata": {},
   "source": [
    "- sleep()\n",
    "    - 인수로 전달된 초 만큼 일시 정지"
   ]
  },
  {
   "cell_type": "code",
   "execution_count": 59,
   "id": "fb2de671",
   "metadata": {},
   "outputs": [],
   "source": [
    "# 1초간 일시 정지\n",
    "time.sleep(1)"
   ]
  },
  {
   "cell_type": "code",
   "execution_count": 60,
   "id": "2101e028",
   "metadata": {},
   "outputs": [
    {
     "name": "stdout",
     "output_type": "stream",
     "text": [
      "1.000899076461792\n"
     ]
    }
   ],
   "source": [
    "S = time.time()\n",
    "time.sleep(1)\n",
    "print(time.time() - S)"
   ]
  },
  {
   "cell_type": "markdown",
   "id": "aafee619",
   "metadata": {},
   "source": [
    "## datetime\n",
    "\n",
    "- 날짜와 시간 데이터를 처리"
   ]
  },
  {
   "cell_type": "code",
   "execution_count": 63,
   "id": "d3232076",
   "metadata": {},
   "outputs": [],
   "source": [
    "import datetime"
   ]
  },
  {
   "cell_type": "markdown",
   "id": "daf6a7ee",
   "metadata": {},
   "source": [
    "- now()\n",
    "    - 시스템의 현재 날짜와 시간을 반환"
   ]
  },
  {
   "cell_type": "code",
   "execution_count": 64,
   "id": "2f8ec9f7",
   "metadata": {},
   "outputs": [
    {
     "name": "stdout",
     "output_type": "stream",
     "text": [
      "2024-01-08 15:19:48.579883\n"
     ]
    }
   ],
   "source": [
    "print(datetime.datetime.now())"
   ]
  },
  {
   "cell_type": "markdown",
   "id": "e05c5cec",
   "metadata": {},
   "source": [
    "- date()\n",
    "    - 특정 날짜를 만들어서 반환"
   ]
  },
  {
   "cell_type": "code",
   "execution_count": 65,
   "id": "b4b93152",
   "metadata": {},
   "outputs": [
    {
     "name": "stdout",
     "output_type": "stream",
     "text": [
      "2024-01-10\n"
     ]
    }
   ],
   "source": [
    "print(datetime.date(2024, 1, 10))"
   ]
  },
  {
   "cell_type": "markdown",
   "id": "6980c413",
   "metadata": {},
   "source": [
    "- 날짜/시간 관련 속성값"
   ]
  },
  {
   "cell_type": "code",
   "execution_count": 66,
   "id": "080911df",
   "metadata": {},
   "outputs": [],
   "source": [
    "today = datetime.datetime.now()"
   ]
  },
  {
   "cell_type": "code",
   "execution_count": 67,
   "id": "efa165c6",
   "metadata": {},
   "outputs": [
    {
     "data": {
      "text/plain": [
       "2024"
      ]
     },
     "execution_count": 67,
     "metadata": {},
     "output_type": "execute_result"
    }
   ],
   "source": [
    "today.year"
   ]
  },
  {
   "cell_type": "code",
   "execution_count": 68,
   "id": "cdabb9c0",
   "metadata": {},
   "outputs": [
    {
     "data": {
      "text/plain": [
       "1"
      ]
     },
     "execution_count": 68,
     "metadata": {},
     "output_type": "execute_result"
    }
   ],
   "source": [
    "today.month"
   ]
  },
  {
   "cell_type": "code",
   "execution_count": 69,
   "id": "02400b52",
   "metadata": {},
   "outputs": [
    {
     "data": {
      "text/plain": [
       "8"
      ]
     },
     "execution_count": 69,
     "metadata": {},
     "output_type": "execute_result"
    }
   ],
   "source": [
    "today.day"
   ]
  },
  {
   "cell_type": "code",
   "execution_count": 70,
   "id": "d81fb3fb",
   "metadata": {},
   "outputs": [
    {
     "data": {
      "text/plain": [
       "15"
      ]
     },
     "execution_count": 70,
     "metadata": {},
     "output_type": "execute_result"
    }
   ],
   "source": [
    "today.hour"
   ]
  },
  {
   "cell_type": "code",
   "execution_count": 71,
   "id": "7e21f9df",
   "metadata": {},
   "outputs": [
    {
     "data": {
      "text/plain": [
       "22"
      ]
     },
     "execution_count": 71,
     "metadata": {},
     "output_type": "execute_result"
    }
   ],
   "source": [
    "today.minute"
   ]
  },
  {
   "cell_type": "code",
   "execution_count": 72,
   "id": "ad9c47f6",
   "metadata": {},
   "outputs": [
    {
     "data": {
      "text/plain": [
       "4"
      ]
     },
     "execution_count": 72,
     "metadata": {},
     "output_type": "execute_result"
    }
   ],
   "source": [
    "today.second"
   ]
  },
  {
   "cell_type": "markdown",
   "id": "603789a8",
   "metadata": {},
   "source": [
    "- timedelta()\n",
    "    - 날짜/시간 데이터의 연산을 위해 사용"
   ]
  },
  {
   "cell_type": "code",
   "execution_count": 73,
   "id": "6f40b63c",
   "metadata": {},
   "outputs": [],
   "source": [
    "today = datetime.datetime.now()\n",
    "yesterday = today - datetime.timedelta(days = 1)\n",
    "tmrw = today + datetime.timedelta(days = 1)"
   ]
  },
  {
   "cell_type": "code",
   "execution_count": 74,
   "id": "153384d1",
   "metadata": {},
   "outputs": [
    {
     "name": "stdout",
     "output_type": "stream",
     "text": [
      "2024-01-07 15:27:53.049868\n"
     ]
    }
   ],
   "source": [
    "print(yesterday)"
   ]
  },
  {
   "cell_type": "code",
   "execution_count": 75,
   "id": "8fb8b018",
   "metadata": {},
   "outputs": [
    {
     "name": "stdout",
     "output_type": "stream",
     "text": [
      "2024-01-09 15:27:53.049868\n"
     ]
    }
   ],
   "source": [
    "print(tmrw)"
   ]
  },
  {
   "cell_type": "markdown",
   "id": "4d6a77ff",
   "metadata": {},
   "source": [
    "# 패키지\n",
    "\n",
    "- 모듈의 집합\n",
    "- 모듈은 기본적으로 패키지의 형태로 배포됨\n",
    "- 파이썬에서 기본적으로 제공하지 않는 외부에서 만들어진 패키지를 외부모듈이라고 함"
   ]
  },
  {
   "cell_type": "markdown",
   "id": "cbf40907",
   "metadata": {},
   "source": [
    "## 패키지 관리자\n",
    "\n",
    "- 패키지의 추가나 삭제와 같은 작업을 수행하기 위해 사용\n",
    "    - pip\n",
    "    - conda\n",
    "    \n",
    "- 설치 명령어\n",
    "    - pip install (package)\n",
    "    - conda intall (package)\n",
    "    \n",
    "- 삭제 명령어\n",
    "    - pip unintall (package)\n",
    "    - conda uninstall (package)"
   ]
  },
  {
   "cell_type": "code",
   "execution_count": 76,
   "id": "677c561f",
   "metadata": {},
   "outputs": [],
   "source": [
    "import numpy as np"
   ]
  },
  {
   "cell_type": "code",
   "execution_count": 77,
   "id": "834393af",
   "metadata": {},
   "outputs": [
    {
     "data": {
      "text/plain": [
       "15"
      ]
     },
     "execution_count": 77,
     "metadata": {},
     "output_type": "execute_result"
    }
   ],
   "source": [
    "np.sum([1, 2, 3, 4, 5])"
   ]
  },
  {
   "cell_type": "code",
   "execution_count": null,
   "id": "3e50d01a",
   "metadata": {},
   "outputs": [],
   "source": []
  }
 ],
 "metadata": {
  "kernelspec": {
   "display_name": "Python 3 (ipykernel)",
   "language": "python",
   "name": "python3"
  },
  "language_info": {
   "codemirror_mode": {
    "name": "ipython",
    "version": 3
   },
   "file_extension": ".py",
   "mimetype": "text/x-python",
   "name": "python",
   "nbconvert_exporter": "python",
   "pygments_lexer": "ipython3",
   "version": "3.11.5"
  }
 },
 "nbformat": 4,
 "nbformat_minor": 5
}
