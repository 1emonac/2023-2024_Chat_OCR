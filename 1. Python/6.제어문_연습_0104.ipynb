{
 "cells": [
  {
   "cell_type": "code",
   "execution_count": 3,
   "id": "f71a9056",
   "metadata": {},
   "outputs": [
    {
     "name": "stdout",
     "output_type": "stream",
     "text": [
      "166833\n"
     ]
    }
   ],
   "source": [
    "# 1. 1부터 1000까지의 자연수 // 중 3의 배수의 // 합 구하기\n",
    "# 166833\n",
    "\n",
    "i = 0\n",
    "tot = 0\n",
    "\n",
    "while i <= 1000: # 1부터 1000까지    \n",
    "    i += 1\n",
    "    \n",
    "    if i % 3 == 0: # i를 3으로 나눴을 때 나머지가 0인 경우 true = 3의 배수\n",
    "        tot += i # 합 구하기\n",
    "\n",
    "print(tot)"
   ]
  },
  {
   "cell_type": "code",
   "execution_count": 4,
   "id": "033ba5ab",
   "metadata": {},
   "outputs": [
    {
     "name": "stdout",
     "output_type": "stream",
     "text": [
      "166833\n"
     ]
    }
   ],
   "source": [
    "result = 0\n",
    "\n",
    "for i in range (3, 1001, 3):\n",
    "    result += i\n",
    "    \n",
    "print(result)"
   ]
  },
  {
   "cell_type": "code",
   "execution_count": 46,
   "id": "3771abc1",
   "metadata": {},
   "outputs": [
    {
     "name": "stdout",
     "output_type": "stream",
     "text": [
      "* \n",
      "* * \n",
      "* * * \n",
      "* * * * \n",
      "* * * * * \n",
      "\n",
      "*\n",
      "**\n",
      "***\n",
      "****\n",
      "*****\n",
      "\n",
      "*\n",
      "**\n",
      "***\n",
      "****\n",
      "*****\n"
     ]
    }
   ],
   "source": [
    "# 2. 계단식으로 별 출력하기(첫 줄에는 * 1개, 두 번째 줄에는 * 2개, ... 다섯번째 줄에 * 5개)\n",
    "\n",
    "for i in range(5):\n",
    "    for j in range(5):\n",
    "        if j <= i:\n",
    "            print(\"*\", end=\" \")\n",
    "    print()\n",
    "\n",
    "print()\n",
    "\n",
    "# version 2\n",
    "for i in range(1, 6):\n",
    "    print(\"*\" * i)\n",
    "    \n",
    "print()\n",
    "\n",
    "# version 3\n",
    "star = \"\"\n",
    "\n",
    "for _ in range(5):\n",
    "    star += \"*\"\n",
    "    print(star)"
   ]
  },
  {
   "cell_type": "code",
   "execution_count": 55,
   "id": "9269c99b",
   "metadata": {},
   "outputs": [
    {
     "name": "stdout",
     "output_type": "stream",
     "text": [
      "[2, 6, 10, 14, 18]\n"
     ]
    },
    {
     "data": {
      "text/plain": [
       "[2, 6, 10, 14, 18]"
      ]
     },
     "execution_count": 55,
     "metadata": {},
     "output_type": "execute_result"
    }
   ],
   "source": [
    "# 3. 1부터 10까지의 자연수 중 홀수만 2를 곱해서 리스트로 저장하기\n",
    "result = []\n",
    "\n",
    "for i in range(1, 11):\n",
    "    if i % 2 == 1:\n",
    "        result.append(i * 2)\n",
    "    \n",
    "print(result)\n",
    "\n",
    "# 리스트 내포\n",
    "result = [i * 2 for i in range(1, 11) if i % 2 == 1]\n",
    "result"
   ]
  },
  {
   "cell_type": "code",
   "execution_count": 57,
   "id": "23382b0d",
   "metadata": {},
   "outputs": [
    {
     "name": "stdout",
     "output_type": "stream",
     "text": [
      "[2, 6, 10, 14, 18]\n"
     ]
    },
    {
     "data": {
      "text/plain": [
       "[2, 6, 10, 14, 18]"
      ]
     },
     "execution_count": 57,
     "metadata": {},
     "output_type": "execute_result"
    }
   ],
   "source": [
    "result = []\n",
    "\n",
    "for i in range(1, 11, 2): # 1부터 10까지의 홀수\n",
    "    result.append(i * 2)\n",
    "    \n",
    "print(result)\n",
    "\n",
    "# 리스트 내포\n",
    "[i * 2 for i in range(1, 11, 2)]"
   ]
  },
  {
   "cell_type": "code",
   "execution_count": 60,
   "id": "889ec12c",
   "metadata": {},
   "outputs": [
    {
     "name": "stdout",
     "output_type": "stream",
     "text": [
      "50000 - 3\n",
      "10000 - 0\n",
      "5000 - 1\n",
      "1000 - 1\n",
      "500 - 1\n",
      "100 - 2\n",
      "50 - 1\n",
      "10 - 3\n"
     ]
    }
   ],
   "source": [
    "# 4. 화폐매수 구하기\n",
    "\n",
    "a = 156780 # 원\n",
    "b = [50000, 10000, 5000, 1000, 500, 100, 50, 10]\n",
    "\n",
    "# 위 화폐 단위를 제외한 나머지를 취하는 식\n",
    "# 50000 - a // 50000\n",
    "# 10000 - (a%50000) // 10000\n",
    "# 5000 - (a%50000) // 5000\n",
    "# 1000 - \n",
    "# 500 - \n",
    "# 100 - \n",
    "# 50 - \n",
    "# 10 - \n",
    "\n",
    "# 결국  알고 보면 a를 화폐 단위로 나눈 수의 나머지와 몫으로 화폐 매수를 구할 수 있음\n",
    "\n",
    "# % 나머지\n",
    "# // 몫\n",
    "\n",
    "for i in b:\n",
    "    won = a//i # a를 i로 나누었을 때 몫을 추출 (몫만 추출함으로서 매수가 계산됨)\n",
    "    a = a%i # a를 i로 나누었을 때 나머지를 추출 (앞에 단위 수 만큼 돈이 차감됨)\n",
    "    print(i, \"-\", won)"
   ]
  },
  {
   "cell_type": "code",
   "execution_count": 66,
   "id": "e3d565fb",
   "metadata": {},
   "outputs": [
    {
     "name": "stdout",
     "output_type": "stream",
     "text": [
      "50000 - 3\n",
      "10000 - 0\n",
      "5000 - 1\n",
      "1000 - 1\n",
      "500 - 1\n",
      "100 - 2\n",
      "50 - 1\n",
      "10 - 3\n"
     ]
    }
   ],
   "source": [
    "a = 156780 # 원\n",
    "b = [50000, 10000, 5000, 1000, 500, 100, 50, 10]\n",
    "\n",
    "for i in b:\n",
    "    n = a // i\n",
    "    a -= n*i\n",
    "    print(f\"{i} - {n}\")"
   ]
  },
  {
   "cell_type": "code",
   "execution_count": 95,
   "id": "940b5ca8",
   "metadata": {},
   "outputs": [
    {
     "name": "stdout",
     "output_type": "stream",
     "text": [
      "name = ['y1', 'y2']\n",
      "data = ['123', '234']\n",
      "\n",
      "y1 123 \n",
      "y2 234 \n",
      "\n",
      "y1 123\n",
      "y2 234\n",
      "\n",
      "y1 123\n",
      "y2 234\n"
     ]
    }
   ],
   "source": [
    "# 5. name과 data를 각각 리스트에 담기\n",
    "#    name과 data를 각각 리스트에 담고 각각 요소들을 짝지어 출력하기\n",
    "q5 = [{\"name\":\"y1\",\"data\":\"123\"},{\"name\":\"y2\",\"data\":\"234\"}]\n",
    "\n",
    "name = []\n",
    "data = []\n",
    "\n",
    "# 리스트 내포를 쓰지 않았을 때\n",
    "for key in q5:\n",
    "    name.append(key[\"name\"])\n",
    "    data.append(key[\"data\"])\n",
    "print(f\"name = {name}\")\n",
    "print(f\"data = {data}\")\n",
    "\n",
    "print()\n",
    "\n",
    "for key in q5:\n",
    "    print(key[\"name\"], end=\" \")\n",
    "    print(key[\"data\"], end=\" \")\n",
    "    print()\n",
    "\n",
    "print()\n",
    "for i in range(len(name)):\n",
    "    print(name[i], data[i])\n",
    "\n",
    "print()\n",
    "for i in zip(name, data):\n",
    "    print(i[0], i[1])"
   ]
  },
  {
   "cell_type": "code",
   "execution_count": 91,
   "id": "728cd988",
   "metadata": {},
   "outputs": [
    {
     "name": "stdout",
     "output_type": "stream",
     "text": [
      "name = ['y1', 'y2']\n",
      "data = ['123', '234']\n"
     ]
    }
   ],
   "source": [
    "# 리스트 내포 (연습용으로 해보쟈 )\n",
    "name = [key[\"name\"] for key in q5]\n",
    "data = [key[\"data\"] for key in q5]\n",
    "print(f\"name = {name}\")\n",
    "print(f\"data = {data}\")"
   ]
  },
  {
   "cell_type": "code",
   "execution_count": 205,
   "id": "2d35d22a",
   "metadata": {},
   "outputs": [
    {
     "name": "stdout",
     "output_type": "stream",
     "text": [
      "id = ['a386', 'a383']\n",
      "name = ['123', '123']\n",
      "age = [34, 36]\n",
      "\n",
      "['a386', 'a383', 'a386', 'a383']\n",
      "['123', '123', '123', '123']\n",
      "[34, 36, 34, 36]\n",
      "\n",
      "a386 123 34\n",
      "a383 123 36\n",
      "\n",
      "a386 123 34\n",
      "a383 123 36\n"
     ]
    }
   ],
   "source": [
    "# 6. id, name, age를 각각 리스트에 담고 각각의 요소들을 짝지어 출력하기\n",
    "q6 = {\"ret\":{\"id\":\"a386\",\"name\":\"123\",\"age\":34},\"ret1\":{\"id\":\"a383\",\"name\":\"123\",\"age\":36}}\n",
    "\n",
    "id_list = []\n",
    "name = []\n",
    "age = []\n",
    "\n",
    "for key in q6.values():\n",
    "    id_list.append(key[\"id\"])\n",
    "    name.append(key[\"name\"])\n",
    "    age.append(key[\"age\"])\n",
    "    \n",
    "print(f\"id = {id_list}\")\n",
    "print(f\"name = {name}\")\n",
    "print(f\"age = {age}\")\n",
    "\n",
    "print()\n",
    "\n",
    "for i in q6:\n",
    "    id_list.append(q6[i][\"id\"])\n",
    "    name.append(q6[i][\"name\"])\n",
    "    age.append(q6[i][\"age\"])\n",
    "    \n",
    "print(id_list)\n",
    "print(name)\n",
    "print(age)\n",
    "\n",
    "print()\n",
    "\n",
    "for i in range(len(id)):\n",
    "    print(id[i], name[i], age[i])\n",
    "    \n",
    "print()\n",
    "\n",
    "for i in zip(id, name, age):\n",
    "    print(i[0], i[1], i[2])\n"
   ]
  },
  {
   "cell_type": "code",
   "execution_count": 46,
   "id": "f42d9d00",
   "metadata": {},
   "outputs": [
    {
     "name": "stdout",
     "output_type": "stream",
     "text": [
      "['a2001', 'a2002', 'a2003', 'a2004', 'a2005', 'a2006', 'a2007']\n",
      "['123', '123', '123', '123', '123', '123', '123']\n",
      "[34, 54, 36, 38, 17, 52, 33]\n"
     ]
    }
   ],
   "source": [
    "# 7. id, name, age를 각각 리스트에 담고 각각의 요소들을 짝지어 출력하기\n",
    "q7 = {\"ret\":[{\"id\":\"a2001\",\"name\":\"123\",\"age\":34},{\"id\":\"a2002\",\"name\":\"123\",\"age\":54},{\"id\":\"a2003\",\"name\":\"123\",\"age\":36},{\"id\":\"a2004\",\"name\":\"123\",\"age\":38}],\"ret1\":[{\"id\":\"a2005\",\"name\":\"123\",\"age\":17},{\"id\":\"a2006\",\"name\":\"123\",\"age\":52},{\"id\":\"a2007\",\"name\":\"123\",\"age\":33}]}\n",
    "\n",
    "id_list = []\n",
    "name = []\n",
    "age = []\n",
    "\n",
    "for i in q7:\n",
    "    for j in range(len(q7[i])):\n",
    "        id_list.append(q7[i][j][\"id\"])\n",
    "        name.append(q7[i][j][\"name\"])\n",
    "        age.append(q7[i][j][\"age\"])\n",
    "\n",
    "print(id_list)\n",
    "print(name)\n",
    "print(age)"
   ]
  },
  {
   "cell_type": "code",
   "execution_count": 48,
   "id": "7c92a432",
   "metadata": {},
   "outputs": [
    {
     "name": "stdout",
     "output_type": "stream",
     "text": [
      "<class 'list'>\n",
      "<class 'list'>\n",
      "<class 'list'>\n",
      "<class 'list'>\n",
      "<class 'list'>\n",
      "<class 'list'>\n",
      "<class 'list'>\n"
     ]
    }
   ],
   "source": [
    "id_list = []\n",
    "name = []\n",
    "age = []\n",
    "\n",
    "for i in q7:\n",
    "    for j in q7[i]:\n",
    "        id_list.append(j[\"id\"])\n",
    "        name.append(j[\"name\"])\n",
    "        age.append(j[\"age\"])\n",
    "\n",
    "print(id_list)\n",
    "print(name)\n",
    "print(age)\n",
    "\n",
    "print()\n",
    "\n",
    "for i in range(len(id_list)):\n",
    "    print(id_list[i], name[i], age[i])"
   ]
  },
  {
   "cell_type": "code",
   "execution_count": 94,
   "id": "15bcaab0",
   "metadata": {},
   "outputs": [
    {
     "name": "stdout",
     "output_type": "stream",
     "text": [
      "name ['AAA', 'BBB', 'CCC']\n",
      "species ['cat', 'dog', 'cat']\n",
      "likes [['tuna', 'catnip'], ['bones', 'carrots'], ['mice']]\n",
      "dislikes [['ham', 'zucchini'], ['tuna'], ['cookies']]\n",
      "\n",
      "AAA cat ['tuna', 'catnip'] ['ham', 'zucchini']\n",
      "BBB dog ['bones', 'carrots'] ['tuna']\n",
      "CCC cat ['mice'] ['cookies']\n"
     ]
    }
   ],
   "source": [
    "# 8. name, species, likes, dislikes 를 각각 리스트에 담고 각각의 요소들을 짝지어 출력하기\n",
    "q8 = [{\"name\":\"AAA\",\"species\":\"cat\",\"foods\":{\"likes\":[\"tuna\",\"catnip\"],\"dislikes\":[\"ham\",\"zucchini\"]}},{\"name\":\"BBB\",\"species\":\"dog\",\"foods\":{\"likes\":[\"bones\",\"carrots\"],\"dislikes\":[\"tuna\"]}},{\"name\":\"CCC\",\"species\":\"cat\",\"foods\":{\"likes\":[\"mice\"],\"dislikes\":[\"cookies\"]}}]\n",
    "\n",
    "name = []\n",
    "species = []\n",
    "likes = []\n",
    "dislikes = []\n",
    "\n",
    "# type(q8) = list\n",
    "\n",
    "for i in q8:\n",
    "    name.append(i[\"name\"])\n",
    "    species.append(i[\"species\"])\n",
    "    likes.append(i[\"foods\"][\"likes\"])\n",
    "    dislikes.append(i[\"foods\"][\"dislikes\"])\n",
    "\n",
    "print(f\"name {name}\")\n",
    "print(f\"species {species}\")\n",
    "print(f\"likes {likes}\")\n",
    "print(f\"dislikes {dislikes}\")\n",
    "\n",
    "print()\n",
    "\n",
    "for i in range(len(name)):\n",
    "    print(name[i], species[i], likes[i], dislikes[i])"
   ]
  },
  {
   "cell_type": "code",
   "execution_count": 98,
   "id": "c522515a",
   "metadata": {},
   "outputs": [
    {
     "name": "stdout",
     "output_type": "stream",
     "text": [
      "['id1', 'id2', 'id3', 'id4', 'id5']\n",
      "['가나다1', '가나다2', '가나다3', '가나다4', '가나다5']\n",
      "[31, 32, 33, 34, 35]\n",
      "\n",
      "id1 가나다1 31\n",
      "id2 가나다2 32\n",
      "id3 가나다3 33\n",
      "id4 가나다4 34\n",
      "id5 가나다5 35\n"
     ]
    }
   ],
   "source": [
    "# 9. id, name, age를 각각 리스트에 담고 각각의 요소들을 짝지어 출력하기\n",
    "\n",
    "q9 = {\"ret\":\"y\",\"data\":[{\"id\":\"id1\",\"name\":\"가나다1\",\"age\":31},{\"id\":\"id2\",\"name\":\"가나다2\",\"age\":32},{\"id\":\"id3\",\"name\":\"가나다3\",\"age\":33},{\"id\":\"id4\",\"name\":\"가나다4\",\"age\":34},{\"id\":\"id5\",\"name\":\"가나다5\",\"age\":35}]}\n",
    "\n",
    "id_list = []\n",
    "name = []\n",
    "age = []\n",
    "\n",
    "# type = dict\n",
    "\n",
    "# for문을 2개 만든다는 의미는! for문으 2번 반복된다는 의미! \n",
    "# 한 번 만들 수 있으면 for문을 한 번 돌려야함!\n",
    "\n",
    "for i in q9[\"data\"]: # q9은 type이 'dict'이므로! q9[\"data\"]를 사용할 수 있음\n",
    "    id_list.append(i[\"id\"])\n",
    "    name.append(i[\"name\"])\n",
    "    age.append(i[\"age\"])\n",
    "\n",
    "print(id_list)\n",
    "print(name)\n",
    "print(age)\n",
    "\n",
    "print()\n",
    "\n",
    "for i in range(len(id_list)):\n",
    "    print(id_list[i], name[i], age[i])"
   ]
  },
  {
   "cell_type": "code",
   "execution_count": 141,
   "id": "31238b8d",
   "metadata": {},
   "outputs": [
    {
     "name": "stdout",
     "output_type": "stream",
     "text": [
      "['id1', 'id2', 'id3', 'id4', 'id5']\n",
      "['가나다1', '가나다2', '가나다3', '가나다4', '가나다5']\n",
      "[31, 32, 33, 34, 35]\n",
      "[50, 90, 70, 80, 80]\n",
      "[90, 68, 76, 79, 78]\n",
      "[69, 80, 60, 50, 90]\n",
      "[209, 238, 206, 209, 248]\n",
      "\n",
      "id1 가나다1 31 50 90 69 209\n",
      "id2 가나다2 32 90 68 80 238\n",
      "id3 가나다3 33 70 76 60 206\n",
      "id4 가나다4 34 80 79 50 209\n",
      "id5 가나다5 35 80 78 90 248\n"
     ]
    }
   ],
   "source": [
    "# 10. id, name, age, math, eng, kor, (math, eng, kor)합계를 각각 리스트에 담고 \n",
    "# 각각의 요소를 짝지어 출력하기\n",
    "\n",
    "q10 = {\"ret\":\"y\",\"data\":[{\"id\":\"id1\",\"name\":\"가나다1\",\"age\":31,\"score\":{\"math\":50,\"eng\":90,\"kor\":69}},{\"id\":\"id2\",\"name\":\"가나다2\",\"age\":32,\"score\":{\"math\":90,\"eng\":68,\"kor\":80}},{\"id\":\"id3\",\"name\":\"가나다3\",\"age\":33,\"score\":{\"math\":70,\"eng\":76,\"kor\":60}},{\"id\":\"id4\",\"name\":\"가나다4\",\"age\":34,\"score\":{\"math\":80,\"eng\":79,\"kor\":50}},{\"id\":\"id5\",\"name\":\"가나다5\",\"age\":35,\"score\":{\"math\":80,\"eng\":78,\"kor\":90}}]}\n",
    "\n",
    "id_list = []\n",
    "name = []\n",
    "age = []\n",
    "math = []\n",
    "eng = []\n",
    "kor = []\n",
    "total = []\n",
    "\n",
    "# print(type(q10)) # dict\n",
    "\n",
    "# print(type(q10[\"data\"][0][\"score\"]))  # dict\n",
    "# j = q10[\"data\"][0][\"score\"].values()\n",
    "# print(sum(j))\n",
    "\n",
    "for i in q10[\"data\"]:\n",
    "    id_list.append(i[\"id\"])\n",
    "    name.append(i[\"name\"])\n",
    "    age.append(i[\"age\"])\n",
    "    math.append(i[\"score\"][\"math\"])\n",
    "    eng.append(i[\"score\"][\"eng\"])\n",
    "    kor.append(i[\"score\"][\"kor\"])\n",
    "    total.append(sum(i[\"score\"].values()))\n",
    "    # total(math[-1] + eng[-1] + kor[-1])\n",
    "    \n",
    "print(id_list)\n",
    "print(name)\n",
    "print(age)\n",
    "print(math)\n",
    "print(eng)\n",
    "print(kor)\n",
    "print(total)\n",
    "    \n",
    "print()\n",
    "\n",
    "for i in range(len(id_list)):\n",
    "    print(id_list[i], name[i], age[i], math[i], eng[i], kor[i], total[i])"
   ]
  },
  {
   "cell_type": "code",
   "execution_count": 205,
   "id": "5fbe9ea2",
   "metadata": {},
   "outputs": [
    {
     "name": "stdout",
     "output_type": "stream",
     "text": [
      "['미션임파서블:고스트프로토콜', '마이 웨이', '셜록홈즈 : 그림자 게임', '퍼펙트 게임', '프렌즈: 몬스터섬의비밀 ', '라이온 킹', '오싹한 연애', '극장판 포켓몬스터 베스트 위시「비크티니와 백의 영웅 레시라무」', '앨빈과 슈퍼밴드3', '극장판 포켓몬스터 베스트 위시 「비크티니와 흑의 영웅 제크로무」']\n"
     ]
    }
   ],
   "source": [
    "# 11. 영화 제목만 추출된 리스트 생성하기\n",
    "q11 = {\"boxOfficeResult\":{\"boxofficeType\":\"일별 박스오피스\",\"showRange\":\"20120101~20120101\",\"dailyBoxOfficeList\":[{\"rnum\":\"1\",\"rank\":\"1\",\"rankInten\":\"0\",\"rankOldAndNew\":\"OLD\",\"movieCd\":\"20112207\",\"movieNm\":\"미션임파서블:고스트프로토콜\",\"openDt\":\"2011-12-15\",\"salesAmt\":\"2776060500\",\"salesShare\":\"36.3\",\"salesInten\":\"-415699000\",\"salesChange\":\"-13\",\"salesAcc\":\"40541108500\",\"audiCnt\":\"353274\",\"audiInten\":\"-60106\",\"audiChange\":\"-14.5\",\"audiAcc\":\"5328435\",\"scrnCnt\":\"697\",\"showCnt\":\"3223\"},{\"rnum\":\"2\",\"rank\":\"2\",\"rankInten\":\"1\",\"rankOldAndNew\":\"OLD\",\"movieCd\":\"20110295\",\"movieNm\":\"마이 웨이\",\"openDt\":\"2011-12-21\",\"salesAmt\":\"1189058500\",\"salesShare\":\"15.6\",\"salesInten\":\"-105894500\",\"salesChange\":\"-8.2\",\"salesAcc\":\"13002897500\",\"audiCnt\":\"153501\",\"audiInten\":\"-16465\",\"audiChange\":\"-9.7\",\"audiAcc\":\"1739543\",\"scrnCnt\":\"588\",\"showCnt\":\"2321\"},{\"rnum\":\"3\",\"rank\":\"3\",\"rankInten\":\"-1\",\"rankOldAndNew\":\"OLD\",\"movieCd\":\"20112621\",\"movieNm\":\"셜록홈즈 : 그림자 게임\",\"openDt\":\"2011-12-21\",\"salesAmt\":\"1176022500\",\"salesShare\":\"15.4\",\"salesInten\":\"-210328500\",\"salesChange\":\"-15.2\",\"salesAcc\":\"10678327500\",\"audiCnt\":\"153004\",\"audiInten\":\"-31283\",\"audiChange\":\"-17\",\"audiAcc\":\"1442861\",\"scrnCnt\":\"360\",\"showCnt\":\"1832\"},{\"rnum\":\"4\",\"rank\":\"4\",\"rankInten\":\"0\",\"rankOldAndNew\":\"OLD\",\"movieCd\":\"20113260\",\"movieNm\":\"퍼펙트 게임\",\"openDt\":\"2011-12-21\",\"salesAmt\":\"644532000\",\"salesShare\":\"8.4\",\"salesInten\":\"-75116500\",\"salesChange\":\"-10.4\",\"salesAcc\":\"6640940000\",\"audiCnt\":\"83644\",\"audiInten\":\"-12225\",\"audiChange\":\"-12.8\",\"audiAcc\":\"895416\",\"scrnCnt\":\"396\",\"showCnt\":\"1364\"},{\"rnum\":\"5\",\"rank\":\"5\",\"rankInten\":\"0\",\"rankOldAndNew\":\"OLD\",\"movieCd\":\"20113271\",\"movieNm\":\"프렌즈: 몬스터섬의비밀 \",\"openDt\":\"2011-12-29\",\"salesAmt\":\"436753500\",\"salesShare\":\"5.7\",\"salesInten\":\"-89051000\",\"salesChange\":\"-16.9\",\"salesAcc\":\"1523037000\",\"audiCnt\":\"55092\",\"audiInten\":\"-15568\",\"audiChange\":\"-22\",\"audiAcc\":\"202909\",\"scrnCnt\":\"290\",\"showCnt\":\"838\"},{\"rnum\":\"6\",\"rank\":\"6\",\"rankInten\":\"1\",\"rankOldAndNew\":\"OLD\",\"movieCd\":\"19940256\",\"movieNm\":\"라이온 킹\",\"openDt\":\"1994-07-02\",\"salesAmt\":\"507115500\",\"salesShare\":\"6.6\",\"salesInten\":\"-114593500\",\"salesChange\":\"-18.4\",\"salesAcc\":\"1841625000\",\"audiCnt\":\"45750\",\"audiInten\":\"-11699\",\"audiChange\":\"-20.4\",\"audiAcc\":\"171285\",\"scrnCnt\":\"244\",\"showCnt\":\"895\"},{\"rnum\":\"7\",\"rank\":\"7\",\"rankInten\":\"-1\",\"rankOldAndNew\":\"OLD\",\"movieCd\":\"20113381\",\"movieNm\":\"오싹한 연애\",\"openDt\":\"2011-12-01\",\"salesAmt\":\"344871000\",\"salesShare\":\"4.5\",\"salesInten\":\"-107005500\",\"salesChange\":\"-23.7\",\"salesAcc\":\"20634684500\",\"audiCnt\":\"45062\",\"audiInten\":\"-15926\",\"audiChange\":\"-26.1\",\"audiAcc\":\"2823060\",\"scrnCnt\":\"243\",\"showCnt\":\"839\"},{\"rnum\":\"8\",\"rank\":\"8\",\"rankInten\":\"0\",\"rankOldAndNew\":\"OLD\",\"movieCd\":\"20112709\",\"movieNm\":\"극장판 포켓몬스터 베스트 위시「비크티니와 백의 영웅 레시라무」\",\"openDt\":\"2011-12-22\",\"salesAmt\":\"167809500\",\"salesShare\":\"2.2\",\"salesInten\":\"-45900500\",\"salesChange\":\"-21.5\",\"salesAcc\":\"1897120000\",\"audiCnt\":\"24202\",\"audiInten\":\"-7756\",\"audiChange\":\"-24.3\",\"audiAcc\":\"285959\",\"scrnCnt\":\"186\",\"showCnt\":\"348\"},{\"rnum\":\"9\",\"rank\":\"9\",\"rankInten\":\"0\",\"rankOldAndNew\":\"OLD\",\"movieCd\":\"20113311\",\"movieNm\":\"앨빈과 슈퍼밴드3\",\"openDt\":\"2011-12-15\",\"salesAmt\":\"137030000\",\"salesShare\":\"1.8\",\"salesInten\":\"-35408000\",\"salesChange\":\"-20.5\",\"salesAcc\":\"3416675000\",\"audiCnt\":\"19729\",\"audiInten\":\"-6461\",\"audiChange\":\"-24.7\",\"audiAcc\":\"516289\",\"scrnCnt\":\"169\",\"showCnt\":\"359\"},{\"rnum\":\"10\",\"rank\":\"10\",\"rankInten\":\"0\",\"rankOldAndNew\":\"OLD\",\"movieCd\":\"20112708\",\"movieNm\":\"극장판 포켓몬스터 베스트 위시 「비크티니와 흑의 영웅 제크로무」\",\"openDt\":\"2011-12-22\",\"salesAmt\":\"125535500\",\"salesShare\":\"1.6\",\"salesInten\":\"-40756000\",\"salesChange\":\"-24.5\",\"salesAcc\":\"1595695000\",\"audiCnt\":\"17817\",\"audiInten\":\"-6554\",\"audiChange\":\"-26.9\",\"audiAcc\":\"235070\",\"scrnCnt\":\"175\",\"showCnt\":\"291\"}]}}\n",
    "\n",
    "movieNm = []\n",
    "\n",
    "for i in q11:\n",
    "    for j in q11[i][\"dailyBoxOfficeList\"]:\n",
    "        movieNm.append(j['movieNm'])\n",
    "\n",
    "print(movieNm)"
   ]
  },
  {
   "cell_type": "markdown",
   "id": "fc18273c",
   "metadata": {},
   "source": [
    "for i q11[\"boxOfficeResult\"][\"dailyBoxOfficeList\"]:\n",
    "    tittle.append(i[\"movieNm\"])\n",
    "\n",
    "    print(tittle)"
   ]
  },
  {
   "cell_type": "code",
   "execution_count": 256,
   "id": "1899afe3",
   "metadata": {
    "scrolled": true
   },
   "outputs": [
    {
     "name": "stdout",
     "output_type": "stream",
     "text": [
      "{'name': '기사', 'hp': 200, 'mp': 30, 'level': 5}\n"
     ]
    }
   ],
   "source": [
    "# 12. 두 리스트를 조합해 하나의 딕셔너리 만들기\n",
    "key_list = [\"name\", \"hp\", \"mp\", \"level\"]\n",
    "value_list = [\"기사\", 200, 30, 5]\n",
    "character = dict()\n",
    "\n",
    "a = {}\n",
    "for i in range(len(key_list)):\n",
    "    a[key_list[i]] = value_list[i]\n",
    "\n",
    "print(a)"
   ]
  },
  {
   "cell_type": "code",
   "execution_count": 257,
   "id": "a4fb2b30",
   "metadata": {},
   "outputs": [
    {
     "name": "stdout",
     "output_type": "stream",
     "text": [
      "name\n",
      "기사\n"
     ]
    }
   ],
   "source": [
    "print(key_list[0])\n",
    "print(value_list[0])\n",
    "\n",
    "character[\"name\"] = \"기사\"\n",
    "character[\"hp\"] = 200\n",
    "character[\"mp\"] = 30\n",
    "character[\"level\"] = 5\n",
    "\n",
    "character[key_list[0]] = value_list[0]\n",
    "character[key_list[1]] = value_list[1]\n",
    "character[key_list[2]] = value_list[2]\n",
    "character[key_list[3]] = value_list[3]\n",
    "\n",
    "for i in range(len(key_list)):\n",
    "    character[key_list[i]] = value_list[i]"
   ]
  },
  {
   "cell_type": "code",
   "execution_count": 303,
   "id": "e82a9575",
   "metadata": {},
   "outputs": [
    {
     "name": "stdout",
     "output_type": "stream",
     "text": [
      "{1: 3, 2: 4, 6: 1, 8: 2, 4: 3, 3: 3, 9: 3, 5: 2, 7: 2}\n"
     ]
    }
   ],
   "source": [
    "# 13. 리스트의 각 숫자가 몇 번 등장하는지 출력하는 코드 작성하기\n",
    "numbers = [1, 2, 6, 8, 4, 3, 2, 1, 9, 5, 4, 9, 7, 2, 1, 3, 5, 4, 8, 9, 7, 2, 3]\n",
    "counter = dict()\n",
    "\n",
    "counter[numbers[0]] = numbers.count(1)\n",
    "counter[numbers[1]] = numbers.count(2)\n",
    "counter[numbers[2]] = numbers.count(6)\n",
    "counter[numbers[3]] = numbers.count(8)\n",
    "counter[numbers[4]] = numbers.count(4)\n",
    "counter[numbers[5]] = numbers.count(3)\n",
    "counter[numbers[6]] = numbers.count(9)\n",
    "counter[numbers[7]] = numbers.count(5)\n",
    "counter[numbers[8]] = numbers.count(7)\n",
    "\n",
    "# for문 - 반복\n",
    "# numbers를 확인한다\n",
    "# 0번 인덱스에 있는 숫자를 카운트 하고 counter에 저장한다\n",
    "# 1번 인덱스에 있는 숫자를 카운트 하고 counter에 저장한다 (반복)\n",
    "# key로 만들 것을 저정해야함 for in ~\n",
    "# value로 만들 것을 저장해야함 for in ~\n",
    "# 이때 counter에 저장된 숫자들은 제외하고 다음 숫자를 key로 설정한다 = if ~ \n",
    "    # 반복문을 만든다\n",
    "    \n",
    "# numbers.count = 숫자 카운팅 함수\n",
    "\n",
    "# count() 함수 이용 방식\n",
    "for i in set(numbers):\n",
    "    counter[i] = numbers.count(i)\n",
    "    \n",
    "print(counter)"
   ]
  },
  {
   "cell_type": "code",
   "execution_count": 304,
   "id": "054174e7",
   "metadata": {},
   "outputs": [
    {
     "name": "stdout",
     "output_type": "stream",
     "text": [
      "{1: 3, 2: 4, 3: 3, 4: 3, 5: 2, 6: 1, 7: 2, 8: 2, 9: 3}\n"
     ]
    }
   ],
   "source": [
    "# 딕셔너리 내포\n",
    "counter = {i : numbers.count(i) for i in set(numbers)}\n",
    "print(counter)"
   ]
  },
  {
   "cell_type": "code",
   "execution_count": 306,
   "id": "b34ea470",
   "metadata": {},
   "outputs": [
    {
     "name": "stdout",
     "output_type": "stream",
     "text": [
      "{1: 3, 2: 4, 6: 1, 8: 2, 4: 3, 3: 3, 9: 3, 5: 2, 7: 2}\n"
     ]
    }
   ],
   "source": [
    "# 하나하나 세는 방식\n",
    "numbers = [1, 2, 6, 8, 4, 3, 2, 1, 9, 5, 4, 9, 7, 2, 1, 3, 5, 4, 8, 9, 7, 2, 3]\n",
    "counter = dict()\n",
    "\n",
    "for num in numbers:\n",
    "    if num in counter: # 해당 key가 딕셔너리 안에 있다면\n",
    "        counter[num] = counter[num] + 1 # 값 수정\n",
    "        \n",
    "    else: # 해당 키가 딕셔너리 안에 없다면\n",
    "        counter[num] = 1 # 요소 추가\n",
    "        \n",
    "print(counter)"
   ]
  },
  {
   "cell_type": "code",
   "execution_count": 307,
   "id": "da46add2",
   "metadata": {},
   "outputs": [
    {
     "name": "stdout",
     "output_type": "stream",
     "text": [
      "{1: 3, 2: 4, 6: 1, 8: 2, 4: 3, 3: 3, 9: 3, 5: 2, 7: 2}\n"
     ]
    }
   ],
   "source": [
    "# 위 코드를 get() 메서드로 개선\n",
    "numbers = [1, 2, 6, 8, 4, 3, 2, 1, 9, 5, 4, 9, 7, 2, 1, 3, 5, 4, 8, 9, 7, 2, 3]\n",
    "counter = dict()\n",
    "\n",
    "for num in numbers:\n",
    "    counter[num] = counter.get(num, 0) + 1\n",
    "    \n",
    "print(counter)"
   ]
  },
  {
   "cell_type": "code",
   "execution_count": null,
   "id": "29da6d09",
   "metadata": {},
   "outputs": [],
   "source": []
  }
 ],
 "metadata": {
  "kernelspec": {
   "display_name": "Python 3 (ipykernel)",
   "language": "python",
   "name": "python3"
  },
  "language_info": {
   "codemirror_mode": {
    "name": "ipython",
    "version": 3
   },
   "file_extension": ".py",
   "mimetype": "text/x-python",
   "name": "python",
   "nbconvert_exporter": "python",
   "pygments_lexer": "ipython3",
   "version": "3.11.5"
  }
 },
 "nbformat": 4,
 "nbformat_minor": 5
}
