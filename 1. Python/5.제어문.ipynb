{
 "cells": [
  {
   "cell_type": "markdown",
   "id": "35ef6dc3",
   "metadata": {},
   "source": [
    "<img src = \"./img/control.png\" width = \"900\" height = \"800\">"
   ]
  },
  {
   "cell_type": "markdown",
   "id": "3c251a86",
   "metadata": {},
   "source": [
    "# 조건문\n",
    "\n",
    "- 특정 조건을 만족하는지 여부에 따라 실행하는 코드가 달라야 할 때 사용"
   ]
  },
  {
   "cell_type": "code",
   "execution_count": 1,
   "id": "4ca8d2dd",
   "metadata": {},
   "outputs": [
    {
     "name": "stdout",
     "output_type": "stream",
     "text": [
      "True입니다\n"
     ]
    }
   ],
   "source": [
    "if True:\n",
    "    print(\"True입니다\")"
   ]
  },
  {
   "cell_type": "code",
   "execution_count": 2,
   "id": "dc78604e",
   "metadata": {},
   "outputs": [],
   "source": [
    "if False:\n",
    "    print(\"False입니다\")"
   ]
  },
  {
   "cell_type": "markdown",
   "id": "5acc843a",
   "metadata": {},
   "source": [
    "## if-else 문\n",
    "\n",
    "- 조건식을 만족하는 경우와 만족하지 않는 경우를 구분하여 코드를 작성할 때 사용\n",
    "- 조건문이 두 가지로만 구분될 때 if-else문을 사용하면 비교를 한 번만 하기 때문에 if만 사용할 대보다 더 효율적\n",
    "\n",
    "- 조건식 : 참과 거짓을 판단하는 문장"
   ]
  },
  {
   "cell_type": "code",
   "execution_count": 5,
   "id": "3c675748",
   "metadata": {},
   "outputs": [
    {
     "name": "stdout",
     "output_type": "stream",
     "text": [
      "택시를 타고 가라\n"
     ]
    }
   ],
   "source": [
    "money = True\n",
    "\n",
    "if money:\n",
    "    print(\"택시를 타고 가라\")\n",
    "\n",
    "else:\n",
    "    print(\"걸어 가라\")"
   ]
  },
  {
   "cell_type": "code",
   "execution_count": 6,
   "id": "12bfb47d",
   "metadata": {},
   "outputs": [
    {
     "name": "stdout",
     "output_type": "stream",
     "text": [
      "False\n",
      "True\n",
      "False\n",
      "True\n"
     ]
    }
   ],
   "source": [
    "# 비교연산자\n",
    "print(3 < 2)\n",
    "print(3 > 2)\n",
    "print(3 == 2)\n",
    "print(3 != 2)"
   ]
  },
  {
   "cell_type": "code",
   "execution_count": 7,
   "id": "7f9484c7",
   "metadata": {},
   "outputs": [
    {
     "name": "stdout",
     "output_type": "stream",
     "text": [
      "걸어 가라\n"
     ]
    }
   ],
   "source": [
    "money = 20000\n",
    "pay = 30000\n",
    "\n",
    "if money >= pay:\n",
    "    print(\"택시를 타고 가라\")\n",
    "    \n",
    "else:\n",
    "    print(\"걸어 가라\")"
   ]
  },
  {
   "cell_type": "markdown",
   "id": "d3f912ee",
   "metadata": {},
   "source": [
    "- 논리 연산자\n",
    "    - x or y\n",
    "        - x와 y둘 중에 하나만 참이어도 참\n",
    "    \n",
    "    - x and y\n",
    "        - x와 y모두 참이어야 참\n",
    "   \n",
    "   - not x\n",
    "        - x가 거짓이면 참"
   ]
  },
  {
   "cell_type": "markdown",
   "id": "4d1bd244",
   "metadata": {},
   "source": [
    "- 1. \\>=, <=, ==, != 비교연산자를 먼저 계산\n",
    "- 2. and, or, not가 비교연산자 다음으로 계산"
   ]
  },
  {
   "cell_type": "code",
   "execution_count": 8,
   "id": "0b135c53",
   "metadata": {},
   "outputs": [
    {
     "name": "stdout",
     "output_type": "stream",
     "text": [
      "택시를 타고 가라\n"
     ]
    }
   ],
   "source": [
    "money =20000\n",
    "pay = 30000\n",
    "card = True\n",
    "\n",
    "if money >= pay or card:\n",
    "    print(\"택시를 타고 가라\")\n",
    "    \n",
    "else:\n",
    "    print(\"걸어 가라\")"
   ]
  },
  {
   "cell_type": "markdown",
   "id": "ac861ac0",
   "metadata": {},
   "source": [
    "- in, not in\n",
    "    - x in 반복가능한 객체\n",
    "    - x not in 반복가능한 객체"
   ]
  },
  {
   "cell_type": "code",
   "execution_count": 9,
   "id": "6a0cc4ea",
   "metadata": {},
   "outputs": [
    {
     "name": "stdout",
     "output_type": "stream",
     "text": [
      "True\n"
     ]
    }
   ],
   "source": [
    "print(1 in [1, 2, 3])"
   ]
  },
  {
   "cell_type": "code",
   "execution_count": 10,
   "id": "abadaf09",
   "metadata": {},
   "outputs": [
    {
     "name": "stdout",
     "output_type": "stream",
     "text": [
      "False\n"
     ]
    }
   ],
   "source": [
    "print(1 not in [1, 2, 3])"
   ]
  },
  {
   "cell_type": "code",
   "execution_count": 12,
   "id": "00b7b924",
   "metadata": {},
   "outputs": [
    {
     "name": "stdout",
     "output_type": "stream",
     "text": [
      "True\n"
     ]
    }
   ],
   "source": [
    "print(\"a\" in (\"a\", \"b\", \"c\"))"
   ]
  },
  {
   "cell_type": "code",
   "execution_count": 13,
   "id": "42b88130",
   "metadata": {},
   "outputs": [
    {
     "name": "stdout",
     "output_type": "stream",
     "text": [
      "True\n"
     ]
    }
   ],
   "source": [
    "print(\"j\" not in (\"python\"))"
   ]
  },
  {
   "cell_type": "code",
   "execution_count": 14,
   "id": "3bd66142",
   "metadata": {},
   "outputs": [
    {
     "name": "stdout",
     "output_type": "stream",
     "text": [
      "택시를 타고 가라\n"
     ]
    }
   ],
   "source": [
    "pocket = [\"cellphone\", \"money\"]\n",
    "\n",
    "if \"money\" in pocket:\n",
    "    print(\"택시를 타고 가라\")\n",
    "    \n",
    "else:\n",
    "    print(\"걸어 가라\")"
   ]
  },
  {
   "cell_type": "markdown",
   "id": "add3feee",
   "metadata": {},
   "source": [
    "## if-elif문\n",
    "\n",
    "- 특정 조건에 따라 3가지 이상으로 구분해야 할 때 사용\n",
    "\n",
    "```\n",
    "if 조건식1:\n",
    "    조건식1의 결과가 True일 때 실행문\n",
    "elif 조건식2:\n",
    "    조건식1의 결과가 False이고, 조건식2의 결과가 True일 때 실행문\n",
    "elif 조건식3:\n",
    "    조건식 1, 2의 결과가 모두 False이고, 조건식3의 결과가 True일 때 실행문\n",
    "else:\n",
    "    조건식 1, 2, 3의 결과가 모두 False일 때 실행문\n",
    "```"
   ]
  },
  {
   "cell_type": "code",
   "execution_count": 17,
   "id": "1658d36c",
   "metadata": {},
   "outputs": [
    {
     "name": "stdout",
     "output_type": "stream",
     "text": [
      "카드로 택시를 타고 가라\n"
     ]
    }
   ],
   "source": [
    "# 예) 주머니에 돈이 있으면 택시를 타고,\n",
    "# 주머니에 돈은 없지만 카드가 있으면 택시를 타고,\n",
    "# 돈도 없고 카드도 없으면 걸어가라\n",
    "pocket = [\"cellphone\"]\n",
    "card = True\n",
    "\n",
    "if \"money\" in pocket:\n",
    "    print(\"택시를 타고 가라\")\n",
    "    \n",
    "else:\n",
    "    if card:\n",
    "        print(\"카드로 택시를 타고 가라\")\n",
    "        \n",
    "    else:\n",
    "            print(\"걸어 가라\")"
   ]
  },
  {
   "cell_type": "code",
   "execution_count": 18,
   "id": "40b54278",
   "metadata": {},
   "outputs": [
    {
     "name": "stdout",
     "output_type": "stream",
     "text": [
      "카드로 택시를 타고 가라\n"
     ]
    }
   ],
   "source": [
    "pocket = [\"cellphone\"]\n",
    "card = True\n",
    "\n",
    "if \"money\" in pocket:\n",
    "    print(\"돈으로 택시를 타고 가라\")\n",
    "    \n",
    "elif card:\n",
    "    print(\"카드로 택시를 타고 가라\")\n",
    "    \n",
    "else:\n",
    "    print(\"걸어 가라\")"
   ]
  },
  {
   "cell_type": "markdown",
   "id": "e2a21e5b",
   "metadata": {},
   "source": [
    "- if 조건문에 불이 아닌 다른 값이 올 때는 자동으로 불로 변환해서 처리함\n",
    "    - 따라서 어떤 값이 True로 변환되고 어떤 값이 False로 변환되는지 파악하고 있어야 함"
   ]
  },
  {
   "cell_type": "code",
   "execution_count": 19,
   "id": "79a0fb07",
   "metadata": {},
   "outputs": [
    {
     "name": "stdout",
     "output_type": "stream",
     "text": [
      "거짓\n"
     ]
    }
   ],
   "source": [
    "if None:\n",
    "    print(\"참\")\n",
    "    \n",
    "else:\n",
    "    print(\"거짓\")"
   ]
  },
  {
   "cell_type": "code",
   "execution_count": 21,
   "id": "f87612d6",
   "metadata": {},
   "outputs": [
    {
     "data": {
      "text/plain": [
       "False"
      ]
     },
     "execution_count": 21,
     "metadata": {},
     "output_type": "execute_result"
    }
   ],
   "source": [
    "bool(None)"
   ]
  },
  {
   "cell_type": "code",
   "execution_count": 22,
   "id": "9bb5bc28",
   "metadata": {},
   "outputs": [
    {
     "name": "stdout",
     "output_type": "stream",
     "text": [
      "참\n"
     ]
    }
   ],
   "source": [
    "if 3.5:\n",
    "    print(\"참\")\n",
    "    \n",
    "else:\n",
    "    print(\"거짓\")"
   ]
  },
  {
   "cell_type": "markdown",
   "id": "f3778c0e",
   "metadata": {},
   "source": [
    "# pass\n",
    "\n",
    "- 일단 프로그램의 전체 골격을 잡아 놓고 내부에서 처리할 내용은 차근차근 만들어 가고 싶은 경우 사용\n",
    "    - \"아무것도 안함\" 또는 \"곧 개발하겠음\"의 의미"
   ]
  },
  {
   "cell_type": "code",
   "execution_count": 25,
   "id": "de5edca8",
   "metadata": {},
   "outputs": [],
   "source": [
    "if True:\n",
    "    pass\n",
    "else:\n",
    "    pass # 이 조건에 걸리지 않으면 그냥 넘긴다의 의미도 가능"
   ]
  },
  {
   "cell_type": "markdown",
   "id": "35dd2f46",
   "metadata": {},
   "source": [
    "# 조건부 표현식\n",
    "\n",
    "- <조건문이 참인 경우의 값> if <조건문> else <조건문이 거짓인 경우의 값>"
   ]
  },
  {
   "cell_type": "code",
   "execution_count": 26,
   "id": "1aaad143",
   "metadata": {},
   "outputs": [
    {
     "name": "stdout",
     "output_type": "stream",
     "text": [
      "success\n"
     ]
    }
   ],
   "source": [
    "score = 60\n",
    "\n",
    "if score >= 60:\n",
    "    message = \"success\"\n",
    "\n",
    "else:\n",
    "    message = \"failure\"\n",
    "    \n",
    "print(message)"
   ]
  },
  {
   "cell_type": "code",
   "execution_count": 27,
   "id": "30d6f221",
   "metadata": {},
   "outputs": [
    {
     "name": "stdout",
     "output_type": "stream",
     "text": [
      "failure\n"
     ]
    }
   ],
   "source": [
    "score = 50\n",
    "message = \"success\" if score >= 60 else \"failure\"\n",
    "# <조건문이 참인 경우의 값> if <조건문> else <조건문이 거짓인 경우의 값>\n",
    "print(message)"
   ]
  },
  {
   "cell_type": "markdown",
   "id": "014df497",
   "metadata": {},
   "source": [
    "# 확인문제"
   ]
  },
  {
   "cell_type": "code",
   "execution_count": 2,
   "id": "f421c37a",
   "metadata": {},
   "outputs": [
    {
     "name": "stdout",
     "output_type": "stream",
     "text": [
      "일반인\n"
     ]
    }
   ],
   "source": [
    "# 학점을 입력받아 다음의 조건에 따라 적절한 문장을 출력하기\n",
    "# 학점이 4.2 이상이면 \"교수님의 사랑\"\n",
    "# 학점이 2.8 이상이고 4.2 미만이면 \"일반인\"\n",
    "# 학점이 2.8 미만이면 \"오락문화의 선구자\"\n",
    "\n",
    "score = 3.4\n",
    "\n",
    "if score >= 4.2:\n",
    "    message = \"교수님의 사랑\"\n",
    "    \n",
    "elif score >=2.8 :\n",
    "    message = \"일반인\"\n",
    "    \n",
    "else:\n",
    "    message = \"오락문화의 선구자\"\n",
    "    \n",
    "print(message)"
   ]
  },
  {
   "cell_type": "markdown",
   "id": "a788f0c0",
   "metadata": {},
   "source": [
    "# while문\n",
    "\n",
    "-  특정 조건을 만족하는 동안 반복해서 수행해야 할 때 사용\n",
    "- 조건이 True인 동안 반복해서 실행\n",
    "- 반복해야 하는 횟수나 값의 범위가 명확하지 않은 경우에 주로 사용\n",
    "\n",
    "```\n",
    "while 조건식:\n",
    "    반복 실행문\n",
    "```"
   ]
  },
  {
   "cell_type": "code",
   "execution_count": 3,
   "id": "05ad0804",
   "metadata": {},
   "outputs": [
    {
     "name": "stdout",
     "output_type": "stream",
     "text": [
      "나무를 1번째 찍었습니다\n",
      "나무를 2번째 찍었습니다\n",
      "나무를 3번째 찍었습니다\n",
      "나무를 4번째 찍었습니다\n",
      "나무를 5번째 찍었습니다\n",
      "나무를 6번째 찍었습니다\n",
      "나무를 7번째 찍었습니다\n",
      "나무를 8번째 찍었습니다\n",
      "나무를 9번째 찍었습니다\n",
      "나무를 10번째 찍었습니다\n",
      "나무가 넘어갑니다\n"
     ]
    }
   ],
   "source": [
    "hits = 0\n",
    "tree_hp = 10\n",
    "\n",
    "while hits < tree_hp:\n",
    "    hits += 1\n",
    "    print(f\"나무를 {hits}번째 찍었습니다\")\n",
    "    \n",
    "    if hits == 10:\n",
    "        print(\"나무가 넘어갑니다\")"
   ]
  },
  {
   "cell_type": "markdown",
   "id": "3214de60",
   "metadata": {},
   "source": [
    "## while문 중첩"
   ]
  },
  {
   "cell_type": "code",
   "execution_count": 5,
   "id": "1b1e1c58",
   "metadata": {},
   "outputs": [
    {
     "name": "stdout",
     "output_type": "stream",
     "text": [
      "1일차 1교시입니다\n",
      "1일차 2교시입니다\n",
      "1일차 3교시입니다\n",
      "2일차 1교시입니다\n",
      "2일차 2교시입니다\n",
      "2일차 3교시입니다\n",
      "3일차 1교시입니다\n",
      "3일차 2교시입니다\n",
      "3일차 3교시입니다\n",
      "4일차 1교시입니다\n",
      "4일차 2교시입니다\n",
      "4일차 3교시입니다\n",
      "5일차 1교시입니다\n",
      "5일차 2교시입니다\n",
      "5일차 3교시입니다\n"
     ]
    }
   ],
   "source": [
    "day = 1\n",
    "\n",
    "while day <= 5:\n",
    "    hour = 1\n",
    "    \n",
    "    while hour <=3:\n",
    "        print(f\"{day}일차 {hour}교시입니다\")\n",
    "        hour += 1\n",
    "        \n",
    "    day +=1"
   ]
  },
  {
   "cell_type": "code",
   "execution_count": 6,
   "id": "73175025",
   "metadata": {},
   "outputs": [
    {
     "data": {
      "text/plain": [
       "(6, 4)"
      ]
     },
     "execution_count": 6,
     "metadata": {},
     "output_type": "execute_result"
    }
   ],
   "source": [
    "day, hour"
   ]
  },
  {
   "cell_type": "markdown",
   "id": "17b85fb4",
   "metadata": {},
   "source": [
    "## break\n",
    "\n",
    "- 반복문을 강제로 종료시킬 때 사용"
   ]
  },
  {
   "cell_type": "code",
   "execution_count": 7,
   "id": "bb34fc16",
   "metadata": {},
   "outputs": [
    {
     "name": "stdout",
     "output_type": "stream",
     "text": [
      "1\n",
      "2\n",
      "3\n",
      "4\n",
      "5\n",
      "6\n",
      "7\n",
      "8\n",
      "9\n",
      "10\n"
     ]
    }
   ],
   "source": [
    "n = 1\n",
    "\n",
    "while True:\n",
    "    print(n)\n",
    "    \n",
    "    if n == 10:\n",
    "        break\n",
    "    \n",
    "    n += 1"
   ]
  },
  {
   "cell_type": "code",
   "execution_count": 10,
   "id": "28217fe0",
   "metadata": {},
   "outputs": [
    {
     "data": {
      "text/plain": [
       "10"
      ]
     },
     "execution_count": 10,
     "metadata": {},
     "output_type": "execute_result"
    }
   ],
   "source": [
    "n"
   ]
  },
  {
   "cell_type": "markdown",
   "id": "bfa1e475",
   "metadata": {},
   "source": [
    "- break를 만나는 순간 실행이 종료 되므로 11이 아니라 n이 10으로 출력됨"
   ]
  },
  {
   "cell_type": "markdown",
   "id": "91bbf7f2",
   "metadata": {},
   "source": [
    "## continue\n",
    "\n",
    "- 반복문의 시작 지점으로 이동\n",
    "- 반복에서 제외하거나 생략하고 싶은 코드가 있을 때 사용"
   ]
  },
  {
   "cell_type": "code",
   "execution_count": 8,
   "id": "71557922",
   "metadata": {},
   "outputs": [
    {
     "name": "stdout",
     "output_type": "stream",
     "text": [
      "1\n",
      "3\n",
      "5\n",
      "7\n",
      "9\n"
     ]
    }
   ],
   "source": [
    "a = 0\n",
    "\n",
    "while a < 10:\n",
    "    a += 1\n",
    "    \n",
    "    if a % 2 == 0: # a를 2로 나누었을 때 나머지가 0인 경우\n",
    "        continue\n",
    "        \n",
    "    print(a)"
   ]
  },
  {
   "cell_type": "code",
   "execution_count": 9,
   "id": "b3f39205",
   "metadata": {},
   "outputs": [
    {
     "data": {
      "text/plain": [
       "10"
      ]
     },
     "execution_count": 9,
     "metadata": {},
     "output_type": "execute_result"
    }
   ],
   "source": [
    "a"
   ]
  },
  {
   "cell_type": "markdown",
   "id": "06785bc2",
   "metadata": {},
   "source": [
    "# for문\n",
    "\n",
    "- 값의 범위나 반복 횟수가 정해져 있을 때 주로 사용하는 반복문\n",
    "\n",
    "```\n",
    "for 변수 in 반복가능객체:\n",
    "    반복 실행문\n",
    "```\n",
    "\n",
    "- 반복 가능 객체 : 문자열, 리스트, 튜플, range, 세트, 딕셔너리"
   ]
  },
  {
   "cell_type": "code",
   "execution_count": 12,
   "id": "90ce69dc",
   "metadata": {},
   "outputs": [
    {
     "name": "stdout",
     "output_type": "stream",
     "text": [
      "one\n",
      "two\n",
      "three\n"
     ]
    }
   ],
   "source": [
    "test = [\"one\", \"two\", \"three\"]\n",
    "\n",
    "for i in test:\n",
    "    print(i) # i = item의 줄임말\n",
    "    \n",
    "# 리스트에 있는 요소 하나하나가 i 라는 변수에 들어가며, 차례차례 반복"
   ]
  },
  {
   "cell_type": "code",
   "execution_count": 13,
   "id": "25e6334a",
   "metadata": {},
   "outputs": [
    {
     "name": "stdout",
     "output_type": "stream",
     "text": [
      "안\n",
      "녕\n",
      "하\n",
      "세\n",
      "요\n"
     ]
    }
   ],
   "source": [
    "# for 반복문은 문자열을 함께 사용할 수도 있음\n",
    "for char in \"안녕하세요\":\n",
    "    print(char)"
   ]
  },
  {
   "cell_type": "code",
   "execution_count": 14,
   "id": "88918f04",
   "metadata": {},
   "outputs": [
    {
     "name": "stdout",
     "output_type": "stream",
     "text": [
      "1번 학생은 합격입니다\n",
      "2번 학생은 불합격입니다\n",
      "3번 학생은 합격입니다\n",
      "4번 학생은 불합격입니다\n",
      "5번 학생은 합격입니다\n"
     ]
    }
   ],
   "source": [
    "# 5명의 학생이 시험을 보았는데 시험 점수가 60점을 넘으면 합격이고 그렇지 않으면 불합격\n",
    "# 학생들의 시험점수를 차례로 검사해서 합격인지 불합격인지 통보해 주는 프로그램 만들기\n",
    "\n",
    "scores = [90, 25, 67, 45, 80]\n",
    "number = 0\n",
    "\n",
    "for score in scores:\n",
    "    number += 1\n",
    "    \n",
    "    if score >= 60:\n",
    "        print(f\"{number}번 학생은 합격입니다\")\n",
    "        \n",
    "    else:\n",
    "        print(f\"{number}번 학생은 불합격입니다\")"
   ]
  },
  {
   "cell_type": "markdown",
   "id": "5255d938",
   "metadata": {},
   "source": [
    "## for문 중첩\n",
    "\n",
    "- 일반적으로 n차원 처리를 할 때 사용\n",
    "    - 리스트가 한 겹으로 감씨자면 1차원 리스트\n",
    "        - 예) [1, 2, 3]\n",
    "    - 리스트가 두 겹으로 감싸지면 2차원리스트\n",
    "        - 예) [[1, 2, 3], [4, 5, 6]]\n",
    "        \n",
    "    - 위와 같은 n차원 리스트 요소를 모두 확인하려면 반복문을 n번 중첩해야함"
   ]
  },
  {
   "cell_type": "code",
   "execution_count": 17,
   "id": "aa1191a1",
   "metadata": {},
   "outputs": [
    {
     "name": "stdout",
     "output_type": "stream",
     "text": [
      "1\n",
      "2\n",
      "3\n",
      "4\n",
      "5\n",
      "6\n",
      "7\n",
      "8\n",
      "9\n"
     ]
    }
   ],
   "source": [
    "over_list = [\n",
    "    [1, 2, 3],\n",
    "    [4, 5, 6, 7],\n",
    "    [8, 9]\n",
    "]\n",
    "\n",
    "for items in over_list:\n",
    "    for item in items:\n",
    "        print(item)"
   ]
  },
  {
   "cell_type": "markdown",
   "id": "17decb53",
   "metadata": {},
   "source": [
    "## continue"
   ]
  },
  {
   "cell_type": "code",
   "execution_count": 18,
   "id": "6f96d379",
   "metadata": {},
   "outputs": [
    {
     "name": "stdout",
     "output_type": "stream",
     "text": [
      "1번 학생은 합격입니다\n",
      "3번 학생은 합격입니다\n",
      "5번 학생은 합격입니다\n"
     ]
    }
   ],
   "source": [
    "scores = [90, 25, 67, 45, 80]\n",
    "number = 0\n",
    "\n",
    "for score in scores:\n",
    "    number += 1\n",
    "    \n",
    "    if score < 60:\n",
    "        continue\n",
    "        \n",
    "    print(f\"{number}번 학생은 합격입니다\")"
   ]
  },
  {
   "cell_type": "markdown",
   "id": "10889fbe",
   "metadata": {},
   "source": [
    "## range\n",
    "\n",
    "- 수열을 자동으로 만들어주는 함수\n",
    "- range(시작값, 종료값, 증감값) # 값을 하나 입력하면 종료값으로 인식함, 시작은 생략되면 0\n"
   ]
  },
  {
   "cell_type": "code",
   "execution_count": 19,
   "id": "8e1be269",
   "metadata": {},
   "outputs": [
    {
     "name": "stdout",
     "output_type": "stream",
     "text": [
      "0 1 2 3 4 5 6 7 8 9 "
     ]
    }
   ],
   "source": [
    "for i in range(10): # 종료값 10\n",
    "    print(i, end = \" \") # 기본적으로 엔터를 치지만, 엔터 치지 말고 띄어쓰기만 해"
   ]
  },
  {
   "cell_type": "code",
   "execution_count": 20,
   "id": "0fe1deeb",
   "metadata": {},
   "outputs": [
    {
     "name": "stdout",
     "output_type": "stream",
     "text": [
      "1 2 3 4 5 6 7 8 9 10 "
     ]
    }
   ],
   "source": [
    "for i in range(1, 11): #  시작값 1, 종료값 11\n",
    "    print(i, end = \" \")"
   ]
  },
  {
   "cell_type": "code",
   "execution_count": 21,
   "id": "553ee8df",
   "metadata": {},
   "outputs": [
    {
     "name": "stdout",
     "output_type": "stream",
     "text": [
      "1 3 5 7 9 "
     ]
    }
   ],
   "source": [
    "for i  in range(1, 11, 2): # 시작값 1, 종료값 11, 증감값 2\n",
    "    print(i, end = \" \")"
   ]
  },
  {
   "cell_type": "code",
   "execution_count": 36,
   "id": "b7cd8d2f",
   "metadata": {},
   "outputs": [
    {
     "name": "stdout",
     "output_type": "stream",
     "text": [
      "1 3 6 10 15 21 28 36 45 55 \n",
      "55\n"
     ]
    }
   ],
   "source": [
    "# 1. 1부터 10까지 자연수의 총합 구하기\n",
    "\n",
    "n = 0\n",
    "\n",
    "for i in range(1, 11):\n",
    "    n += i\n",
    "      \n",
    "    print(n, end = \" \") # 1 3 6 10 15 21 28 36 45 55\n",
    "\n",
    "print()\n",
    "print(n) # 55\n",
    "\n",
    "# for문 안에서 print하면 step별로 출력이 되고, for문 밖에서 print하면 최종 값(55)만 출력 되는 것을 볼 수 있음\n",
    "# 파이썬에 sum 함수가 있기 때문에 sum이라는 변수명을 만드는 것은 좋지 않다"
   ]
  },
  {
   "cell_type": "code",
   "execution_count": 67,
   "id": "b9a6ab53",
   "metadata": {},
   "outputs": [
    {
     "name": "stdout",
     "output_type": "stream",
     "text": [
      "2 * 1 = 2\n",
      "2 * 2 = 4\n",
      "2 * 3 = 6\n",
      "2 * 4 = 8\n",
      "2 * 5 = 10\n",
      "2 * 6 = 12\n",
      "2 * 7 = 14\n",
      "2 * 8 = 16\n",
      "2 * 9 = 18\n"
     ]
    }
   ],
   "source": [
    "# 2. 구구단 출력하기\n",
    "# 2 * 1 = 2\n",
    "# 2 * 2 = 4\n",
    "# ~2 * 9 = 18\n",
    "\n",
    "dan = 2\n",
    "\n",
    "for i in range(1, 10):\n",
    "    print(f\"{dan} * {i} = {dan * i}\")\n",
    "        \n",
    "# 결과값을 따로 지정해 두지 않고 출력할 때 dan과 지정한 i 를 이용해서 수식을 만들어 출력하면 됨!"
   ]
  },
  {
   "cell_type": "markdown",
   "id": "c8672154",
   "metadata": {},
   "source": [
    "## for 반복문과 딕셔너리 조합\n",
    "\n",
    "- for 반복문과 딕셔너리를 조합하면 딕셔너리의 키가 변수로 들어감\n"
   ]
  },
  {
   "cell_type": "code",
   "execution_count": 73,
   "id": "dd1fda7e",
   "metadata": {},
   "outputs": [
    {
     "name": "stdout",
     "output_type": "stream",
     "text": [
      "name\n",
      "건조 망고\n",
      "----------\n",
      "type\n",
      "당절임\n",
      "----------\n",
      "ingredient\n",
      "['망고', '설탕', '나트륨', '색소']\n",
      "----------\n",
      "origin\n",
      "필리핀\n",
      "----------\n"
     ]
    }
   ],
   "source": [
    "dict1 = {\"name\" : \"건조 망고\",\n",
    "        \"type\" : \"당절임\",\n",
    "        \"ingredient\" : [\"망고\", \"설탕\", \"나트륨\", \"색소\"],\n",
    "        \"origin\" : \"필리핀\"}\n",
    "\n",
    "for key in dict1: # dict1을 key라는 변수에 넣어줘~\n",
    "    print(key)\n",
    "    print(dict1[key])\n",
    "    print(\"-\" * 10)"
   ]
  },
  {
   "cell_type": "markdown",
   "id": "5d05d594",
   "metadata": {},
   "source": [
    "## enumerate 함수\n",
    "\n",
    "- 리스트의 요소를 반복할 때 요소의 인덱스를 함께 반환\n",
    "- 현재 인덱스가 몇 번째인지 확인하고 싶은 경우 사용"
   ]
  },
  {
   "cell_type": "code",
   "execution_count": 81,
   "id": "b78ca821",
   "metadata": {},
   "outputs": [
    {
     "name": "stdout",
     "output_type": "stream",
     "text": [
      "0번째 요소는 요소1입니다\n",
      "1번째 요소는 요소2입니다\n",
      "2번째 요소는 요소3입니다\n"
     ]
    }
   ],
   "source": [
    "example_list = [\"요소1\", \"요소2\", \"요소3\"]\n",
    "\n",
    "for idx, value in enumerate(example_list):\n",
    "    print(f\"{idx}번째 요소는 {value}입니다\")"
   ]
  },
  {
   "cell_type": "code",
   "execution_count": 82,
   "id": "c92d5248",
   "metadata": {},
   "outputs": [
    {
     "name": "stdout",
     "output_type": "stream",
     "text": [
      "(0, '요소1')\n",
      "(1, '요소2')\n",
      "(2, '요소3')\n"
     ]
    }
   ],
   "source": [
    "for i in enumerate(example_list):\n",
    "    print(i)"
   ]
  },
  {
   "cell_type": "markdown",
   "id": "dbb14afa",
   "metadata": {},
   "source": [
    "# 리스트 내포(list comprehension)"
   ]
  },
  {
   "cell_type": "code",
   "execution_count": 85,
   "id": "75d0f332",
   "metadata": {},
   "outputs": [
    {
     "name": "stdout",
     "output_type": "stream",
     "text": [
      "525 ns ± 3.45 ns per loop (mean ± std. dev. of 7 runs, 1,000,000 loops each)\n"
     ]
    }
   ],
   "source": [
    "%%timeit\n",
    "# 리스트 내포를 쓰지 않았을 때\n",
    "result1 = []\n",
    "\n",
    "for num in range(10):\n",
    "    result1.append(num * 3)\n",
    "    \n",
    "result1"
   ]
  },
  {
   "cell_type": "code",
   "execution_count": 86,
   "id": "ac61a427",
   "metadata": {},
   "outputs": [
    {
     "name": "stdout",
     "output_type": "stream",
     "text": [
      "521 ns ± 8.32 ns per loop (mean ± std. dev. of 7 runs, 1,000,000 loops each)\n"
     ]
    }
   ],
   "source": [
    "%%timeit\n",
    "# 위의 코드를 리스트 내포를 사용하여 작성할 때\n",
    "result1 = [num * 3 for num in range(10)]\n",
    "\n",
    "result1"
   ]
  },
  {
   "cell_type": "code",
   "execution_count": 88,
   "id": "3d71f831",
   "metadata": {},
   "outputs": [
    {
     "data": {
      "text/plain": [
       "[0, 6, 12, 18, 24]"
      ]
     },
     "execution_count": 88,
     "metadata": {},
     "output_type": "execute_result"
    }
   ],
   "source": [
    "# 리스트 내포에 if 조건식 추가\n",
    "result = [num * 3 for num in range(10) if num % 2 == 0]\n",
    "result"
   ]
  },
  {
   "cell_type": "code",
   "execution_count": null,
   "id": "57daf9ff",
   "metadata": {},
   "outputs": [],
   "source": []
  }
 ],
 "metadata": {
  "kernelspec": {
   "display_name": "Python 3 (ipykernel)",
   "language": "python",
   "name": "python3"
  },
  "language_info": {
   "codemirror_mode": {
    "name": "ipython",
    "version": 3
   },
   "file_extension": ".py",
   "mimetype": "text/x-python",
   "name": "python",
   "nbconvert_exporter": "python",
   "pygments_lexer": "ipython3",
   "version": "3.11.5"
  }
 },
 "nbformat": 4,
 "nbformat_minor": 5
}
