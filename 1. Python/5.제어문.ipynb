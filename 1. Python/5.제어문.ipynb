{
 "cells": [
  {
   "cell_type": "markdown",
   "id": "35ef6dc3",
   "metadata": {},
   "source": [
    "<img src = \"./img/control.png\" width = \"900\" height = \"800\">"
   ]
  },
  {
   "cell_type": "markdown",
   "id": "3c251a86",
   "metadata": {},
   "source": [
    "# 조건문\n",
    "\n",
    "- 특정 조건을 만족하는지 여부에 따라 실행하는 코드가 달라야 할 때 사용"
   ]
  },
  {
   "cell_type": "code",
   "execution_count": 1,
   "id": "4ca8d2dd",
   "metadata": {},
   "outputs": [
    {
     "name": "stdout",
     "output_type": "stream",
     "text": [
      "True입니다\n"
     ]
    }
   ],
   "source": [
    "if True:\n",
    "    print(\"True입니다\")"
   ]
  },
  {
   "cell_type": "code",
   "execution_count": 2,
   "id": "dc78604e",
   "metadata": {},
   "outputs": [],
   "source": [
    "if False:\n",
    "    print(\"False입니다\")"
   ]
  },
  {
   "cell_type": "markdown",
   "id": "5acc843a",
   "metadata": {},
   "source": [
    "## if-else 문\n",
    "\n",
    "- 조건식을 만족하는 경우와 만족하지 않는 경우를 구분하여 코드를 작성할 때 사용\n",
    "- 조건문이 두 가지로만 구분될 때 if-else문을 사용하면 비교를 한 번만 하기 때문에 if만 사용할 대보다 더 효율적\n",
    "\n",
    "- 조건식 : 참과 거짓을 판단하는 문장"
   ]
  },
  {
   "cell_type": "code",
   "execution_count": 5,
   "id": "3c675748",
   "metadata": {},
   "outputs": [
    {
     "name": "stdout",
     "output_type": "stream",
     "text": [
      "택시를 타고 가라\n"
     ]
    }
   ],
   "source": [
    "money = True\n",
    "\n",
    "if money:\n",
    "    print(\"택시를 타고 가라\")\n",
    "\n",
    "else:\n",
    "    print(\"걸어 가라\")"
   ]
  },
  {
   "cell_type": "code",
   "execution_count": 6,
   "id": "12bfb47d",
   "metadata": {},
   "outputs": [
    {
     "name": "stdout",
     "output_type": "stream",
     "text": [
      "False\n",
      "True\n",
      "False\n",
      "True\n"
     ]
    }
   ],
   "source": [
    "# 비교연산자\n",
    "print(3 < 2)\n",
    "print(3 > 2)\n",
    "print(3 == 2)\n",
    "print(3 != 2)"
   ]
  },
  {
   "cell_type": "code",
   "execution_count": 7,
   "id": "7f9484c7",
   "metadata": {},
   "outputs": [
    {
     "name": "stdout",
     "output_type": "stream",
     "text": [
      "걸어 가라\n"
     ]
    }
   ],
   "source": [
    "money = 20000\n",
    "pay = 30000\n",
    "\n",
    "if money >= pay:\n",
    "    print(\"택시를 타고 가라\")\n",
    "    \n",
    "else:\n",
    "    print(\"걸어 가라\")"
   ]
  },
  {
   "cell_type": "markdown",
   "id": "d3f912ee",
   "metadata": {},
   "source": [
    "- 논리 연산자\n",
    "    - x or y\n",
    "        - x와 y둘 중에 하나만 참이어도 참\n",
    "    \n",
    "    - x and y\n",
    "        - x와 y모두 참이어야 참\n",
    "   \n",
    "   - not x\n",
    "        - x가 거짓이면 참"
   ]
  },
  {
   "cell_type": "markdown",
   "id": "4d1bd244",
   "metadata": {},
   "source": [
    "- 1. \\>=, <=, ==, != 비교연산자를 먼저 계산\n",
    "- 2. and, or, not가 비교연산자 다음으로 계산"
   ]
  },
  {
   "cell_type": "code",
   "execution_count": 8,
   "id": "0b135c53",
   "metadata": {},
   "outputs": [
    {
     "name": "stdout",
     "output_type": "stream",
     "text": [
      "택시를 타고 가라\n"
     ]
    }
   ],
   "source": [
    "money =20000\n",
    "pay = 30000\n",
    "card = True\n",
    "\n",
    "if money >= pay or card:\n",
    "    print(\"택시를 타고 가라\")\n",
    "    \n",
    "else:\n",
    "    print(\"걸어 가라\")"
   ]
  },
  {
   "cell_type": "markdown",
   "id": "ac861ac0",
   "metadata": {},
   "source": [
    "- in, not in\n",
    "    - x in 반복가능한 객체\n",
    "    - x not in 반복가능한 객체"
   ]
  },
  {
   "cell_type": "code",
   "execution_count": 9,
   "id": "6a0cc4ea",
   "metadata": {},
   "outputs": [
    {
     "name": "stdout",
     "output_type": "stream",
     "text": [
      "True\n"
     ]
    }
   ],
   "source": [
    "print(1 in [1, 2, 3])"
   ]
  },
  {
   "cell_type": "code",
   "execution_count": 10,
   "id": "abadaf09",
   "metadata": {},
   "outputs": [
    {
     "name": "stdout",
     "output_type": "stream",
     "text": [
      "False\n"
     ]
    }
   ],
   "source": [
    "print(1 not in [1, 2, 3])"
   ]
  },
  {
   "cell_type": "code",
   "execution_count": 12,
   "id": "00b7b924",
   "metadata": {},
   "outputs": [
    {
     "name": "stdout",
     "output_type": "stream",
     "text": [
      "True\n"
     ]
    }
   ],
   "source": [
    "print(\"a\" in (\"a\", \"b\", \"c\"))"
   ]
  },
  {
   "cell_type": "code",
   "execution_count": 13,
   "id": "42b88130",
   "metadata": {},
   "outputs": [
    {
     "name": "stdout",
     "output_type": "stream",
     "text": [
      "True\n"
     ]
    }
   ],
   "source": [
    "print(\"j\" not in (\"python\"))"
   ]
  },
  {
   "cell_type": "code",
   "execution_count": 14,
   "id": "3bd66142",
   "metadata": {},
   "outputs": [
    {
     "name": "stdout",
     "output_type": "stream",
     "text": [
      "택시를 타고 가라\n"
     ]
    }
   ],
   "source": [
    "pocket = [\"cellphone\", \"money\"]\n",
    "\n",
    "if \"money\" in pocket:\n",
    "    print(\"택시를 타고 가라\")\n",
    "    \n",
    "else:\n",
    "    print(\"걸어 가라\")"
   ]
  },
  {
   "cell_type": "markdown",
   "id": "add3feee",
   "metadata": {},
   "source": [
    "## if-elif문\n",
    "\n",
    "- 특정 조건에 따라 3가지 이상으로 구분해야 할 때 사용\n",
    "\n",
    "```\n",
    "if 조건식1:\n",
    "    조건식1의 결과가 True일 때 실행문\n",
    "elif 조건식2:\n",
    "    조건식1의 결과가 False이고, 조건식2의 결과가 True일 때 실행문\n",
    "elif 조건식3:\n",
    "    조건식 1, 2의 결과가 모두 False이고, 조건식3의 결과가 True일 때 실행문\n",
    "else:\n",
    "    조건식 1, 2, 3의 결과가 모두 False일 때 실행문\n",
    "```"
   ]
  },
  {
   "cell_type": "code",
   "execution_count": 17,
   "id": "1658d36c",
   "metadata": {},
   "outputs": [
    {
     "name": "stdout",
     "output_type": "stream",
     "text": [
      "카드로 택시를 타고 가라\n"
     ]
    }
   ],
   "source": [
    "# 예) 주머니에 돈이 있으면 택시를 타고,\n",
    "# 주머니에 돈은 없지만 카드가 있으면 택시를 타고,\n",
    "# 돈도 없고 카드도 없으면 걸어가라\n",
    "pocket = [\"cellphone\"]\n",
    "card = True\n",
    "\n",
    "if \"money\" in pocket:\n",
    "    print(\"택시를 타고 가라\")\n",
    "    \n",
    "else:\n",
    "    if card:\n",
    "        print(\"카드로 택시를 타고 가라\")\n",
    "        \n",
    "    else:\n",
    "            print(\"걸어 가라\")"
   ]
  },
  {
   "cell_type": "code",
   "execution_count": 18,
   "id": "40b54278",
   "metadata": {},
   "outputs": [
    {
     "name": "stdout",
     "output_type": "stream",
     "text": [
      "카드로 택시를 타고 가라\n"
     ]
    }
   ],
   "source": [
    "pocket = [\"cellphone\"]\n",
    "card = True\n",
    "\n",
    "if \"money\" in pocket:\n",
    "    print(\"돈으로 택시를 타고 가라\")\n",
    "    \n",
    "elif card:\n",
    "    print(\"카드로 택시를 타고 가라\")\n",
    "    \n",
    "else:\n",
    "    print(\"걸어 가라\")"
   ]
  },
  {
   "cell_type": "markdown",
   "id": "e2a21e5b",
   "metadata": {},
   "source": [
    "- if 조건문에 불이 아닌 다른 값이 올 때는 자동으로 불로 변환해서 처리함\n",
    "    - 따라서 어떤 값이 True로 변환되고 어떤 값이 False로 변환되는지 파악하고 있어야 함"
   ]
  },
  {
   "cell_type": "code",
   "execution_count": 19,
   "id": "79a0fb07",
   "metadata": {},
   "outputs": [
    {
     "name": "stdout",
     "output_type": "stream",
     "text": [
      "거짓\n"
     ]
    }
   ],
   "source": [
    "if None:\n",
    "    print(\"참\")\n",
    "    \n",
    "else:\n",
    "    print(\"거짓\")"
   ]
  },
  {
   "cell_type": "code",
   "execution_count": 21,
   "id": "f87612d6",
   "metadata": {},
   "outputs": [
    {
     "data": {
      "text/plain": [
       "False"
      ]
     },
     "execution_count": 21,
     "metadata": {},
     "output_type": "execute_result"
    }
   ],
   "source": [
    "bool(None)"
   ]
  },
  {
   "cell_type": "code",
   "execution_count": 22,
   "id": "9bb5bc28",
   "metadata": {},
   "outputs": [
    {
     "name": "stdout",
     "output_type": "stream",
     "text": [
      "참\n"
     ]
    }
   ],
   "source": [
    "if 3.5:\n",
    "    print(\"참\")\n",
    "    \n",
    "else:\n",
    "    print(\"거짓\")"
   ]
  },
  {
   "cell_type": "markdown",
   "id": "f3778c0e",
   "metadata": {},
   "source": [
    "# pass\n",
    "\n",
    "- 일단 프로그램의 전체 골격을 잡아 놓고 내부에서 처리할 내용은 차근차근 만들어 가고 싶은 경우 사용\n",
    "    - \"아무것도 안함\" 또는 \"곧 개발하겠음\"의 의미"
   ]
  },
  {
   "cell_type": "code",
   "execution_count": 25,
   "id": "de5edca8",
   "metadata": {},
   "outputs": [],
   "source": [
    "if True:\n",
    "    pass\n",
    "else:\n",
    "    pass # 이 조건에 걸리지 않으면 그냥 넘긴다의 의미도 가능"
   ]
  },
  {
   "cell_type": "markdown",
   "id": "35dd2f46",
   "metadata": {},
   "source": [
    "# 조건부 표현식\n",
    "\n",
    "- <조건문이 참인 경우의 값> if <조건문> else <조건문이 거짓인 경우의 값>"
   ]
  },
  {
   "cell_type": "code",
   "execution_count": 26,
   "id": "1aaad143",
   "metadata": {},
   "outputs": [
    {
     "name": "stdout",
     "output_type": "stream",
     "text": [
      "success\n"
     ]
    }
   ],
   "source": [
    "score = 60\n",
    "\n",
    "if score >= 60:\n",
    "    message = \"success\"\n",
    "\n",
    "else:\n",
    "    message = \"failure\"\n",
    "    \n",
    "print(message)"
   ]
  },
  {
   "cell_type": "code",
   "execution_count": 27,
   "id": "30d6f221",
   "metadata": {},
   "outputs": [
    {
     "name": "stdout",
     "output_type": "stream",
     "text": [
      "failure\n"
     ]
    }
   ],
   "source": [
    "score = 50\n",
    "message = \"success\" if score >= 60 else \"failure\"\n",
    "# <조건문이 참인 경우의 값> if <조건문> else <조건문이 거짓인 경우의 값>\n",
    "print(message)"
   ]
  },
  {
   "cell_type": "markdown",
   "id": "014df497",
   "metadata": {},
   "source": [
    "# 확인문제"
   ]
  },
  {
   "cell_type": "code",
   "execution_count": 35,
   "id": "f421c37a",
   "metadata": {},
   "outputs": [
    {
     "name": "stdout",
     "output_type": "stream",
     "text": [
      "일반인\n"
     ]
    }
   ],
   "source": [
    "# 학점을 입력받아 다음의 조건에 따라 적절한 문장을 출력하기\n",
    "# 학점이 4.2 이상이면 \"교수님의 사랑\"\n",
    "# 학점이 2.8 이상이고 4.2 미만이면 \"일반인\"\n",
    "# 학점이 2.8 미만이면 \"오락문화의 선구자\"\n",
    "\n",
    "score = 3.4\n",
    "\n",
    "if score >= 4.2:\n",
    "    message = \"교수님의 사랑\"\n",
    "    \n",
    "elif score >=2.8 :\n",
    "    message = \"일반인\"\n",
    "    \n",
    "else:\n",
    "    message = \"오락문화의 선구자\"\n",
    "    \n",
    "print(message)"
   ]
  },
  {
   "cell_type": "code",
   "execution_count": null,
   "id": "4fc0a3f3",
   "metadata": {},
   "outputs": [],
   "source": []
  },
  {
   "cell_type": "code",
   "execution_count": null,
   "id": "b9a6ab53",
   "metadata": {},
   "outputs": [],
   "source": []
  },
  {
   "cell_type": "code",
   "execution_count": null,
   "id": "ff71c381",
   "metadata": {},
   "outputs": [],
   "source": []
  },
  {
   "cell_type": "code",
   "execution_count": null,
   "id": "dd1fda7e",
   "metadata": {},
   "outputs": [],
   "source": []
  },
  {
   "cell_type": "code",
   "execution_count": null,
   "id": "a5509993",
   "metadata": {},
   "outputs": [],
   "source": []
  }
 ],
 "metadata": {
  "kernelspec": {
   "display_name": "Python 3 (ipykernel)",
   "language": "python",
   "name": "python3"
  },
  "language_info": {
   "codemirror_mode": {
    "name": "ipython",
    "version": 3
   },
   "file_extension": ".py",
   "mimetype": "text/x-python",
   "name": "python",
   "nbconvert_exporter": "python",
   "pygments_lexer": "ipython3",
   "version": "3.11.5"
  }
 },
 "nbformat": 4,
 "nbformat_minor": 5
}
