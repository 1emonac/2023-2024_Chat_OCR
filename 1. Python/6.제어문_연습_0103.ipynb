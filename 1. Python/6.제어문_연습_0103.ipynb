{
 "cells": [
  {
   "cell_type": "code",
   "execution_count": 3,
   "id": "f71a9056",
   "metadata": {},
   "outputs": [
    {
     "name": "stdout",
     "output_type": "stream",
     "text": [
      "166833\n"
     ]
    }
   ],
   "source": [
    "# 1. 1부터 1000까지의 자연수 // 중 3의 배수의 // 합 구하기\n",
    "# 166833\n",
    "\n",
    "i = 0\n",
    "tot = 0\n",
    "\n",
    "while i <= 1000: # 1부터 1000까지    \n",
    "    i += 1\n",
    "    \n",
    "    if i % 3 == 0: # i를 3으로 나눴을 때 나머지가 0인 경우 true = 3의 배수\n",
    "        tot += i # 합 구하기\n",
    "\n",
    "print(tot)"
   ]
  },
  {
   "cell_type": "code",
   "execution_count": 4,
   "id": "033ba5ab",
   "metadata": {},
   "outputs": [
    {
     "name": "stdout",
     "output_type": "stream",
     "text": [
      "166833\n"
     ]
    }
   ],
   "source": [
    "result = 0\n",
    "\n",
    "for i in range (3, 1001, 3):\n",
    "    result += i\n",
    "    \n",
    "print(result)"
   ]
  },
  {
   "cell_type": "code",
   "execution_count": 46,
   "id": "3771abc1",
   "metadata": {},
   "outputs": [
    {
     "name": "stdout",
     "output_type": "stream",
     "text": [
      "* \n",
      "* * \n",
      "* * * \n",
      "* * * * \n",
      "* * * * * \n",
      "\n",
      "*\n",
      "**\n",
      "***\n",
      "****\n",
      "*****\n",
      "\n",
      "*\n",
      "**\n",
      "***\n",
      "****\n",
      "*****\n"
     ]
    }
   ],
   "source": [
    "# 2. 계단식으로 별 출력하기(첫 줄에는 * 1개, 두 번째 줄에는 * 2개, ... 다섯번째 줄에 * 5개)\n",
    "\n",
    "for i in range(5):\n",
    "    for j in range(5):\n",
    "        if j <= i:\n",
    "            print(\"*\", end=\" \")\n",
    "    print()\n",
    "\n",
    "print()\n",
    "\n",
    "# version 2\n",
    "for i in range(1, 6):\n",
    "    print(\"*\" * i)\n",
    "    \n",
    "print()\n",
    "\n",
    "# version 3\n",
    "star = \"\"\n",
    "\n",
    "for _ in range(5):\n",
    "    star += \"*\"\n",
    "    print(star)"
   ]
  },
  {
   "cell_type": "code",
   "execution_count": 55,
   "id": "9269c99b",
   "metadata": {},
   "outputs": [
    {
     "name": "stdout",
     "output_type": "stream",
     "text": [
      "[2, 6, 10, 14, 18]\n"
     ]
    },
    {
     "data": {
      "text/plain": [
       "[2, 6, 10, 14, 18]"
      ]
     },
     "execution_count": 55,
     "metadata": {},
     "output_type": "execute_result"
    }
   ],
   "source": [
    "# 3. 1부터 10까지의 자연수 중 홀수만 2를 곱해서 리스트로 저장하기\n",
    "result = []\n",
    "\n",
    "for i in range(1, 11):\n",
    "    if i % 2 == 1:\n",
    "        result.append(i * 2)\n",
    "    \n",
    "print(result)\n",
    "\n",
    "# 리스트 내포\n",
    "result = [i * 2 for i in range(1, 11) if i % 2 == 1]\n",
    "result"
   ]
  },
  {
   "cell_type": "code",
   "execution_count": 57,
   "id": "23382b0d",
   "metadata": {},
   "outputs": [
    {
     "name": "stdout",
     "output_type": "stream",
     "text": [
      "[2, 6, 10, 14, 18]\n"
     ]
    },
    {
     "data": {
      "text/plain": [
       "[2, 6, 10, 14, 18]"
      ]
     },
     "execution_count": 57,
     "metadata": {},
     "output_type": "execute_result"
    }
   ],
   "source": [
    "result = []\n",
    "\n",
    "for i in range(1, 11, 2): # 1부터 10까지의 홀수\n",
    "    result.append(i * 2)\n",
    "    \n",
    "print(result)\n",
    "\n",
    "# 리스트 내포\n",
    "[i * 2 for i in range(1, 11, 2)]"
   ]
  },
  {
   "cell_type": "code",
   "execution_count": 60,
   "id": "889ec12c",
   "metadata": {},
   "outputs": [
    {
     "name": "stdout",
     "output_type": "stream",
     "text": [
      "50000 - 3\n",
      "10000 - 0\n",
      "5000 - 1\n",
      "1000 - 1\n",
      "500 - 1\n",
      "100 - 2\n",
      "50 - 1\n",
      "10 - 3\n"
     ]
    }
   ],
   "source": [
    "# 4. 화폐매수 구하기\n",
    "\n",
    "a = 156780 # 원\n",
    "b = [50000, 10000, 5000, 1000, 500, 100, 50, 10]\n",
    "\n",
    "# 위 화폐 단위를 제외한 나머지를 취하는 식\n",
    "# 50000 - a // 50000\n",
    "# 10000 - (a%50000) // 10000\n",
    "# 5000 - (a%50000) // 5000\n",
    "# 1000 - \n",
    "# 500 - \n",
    "# 100 - \n",
    "# 50 - \n",
    "# 10 - \n",
    "\n",
    "# 결국  알고 보면 a를 화폐 단위로 나눈 수의 나머지와 몫으로 화폐 매수를 구할 수 있음\n",
    "\n",
    "# % 나머지\n",
    "# // 몫\n",
    "\n",
    "for i in b:\n",
    "    won = a//i # a를 i로 나누었을 때 몫을 추출 (몫만 추출함으로서 매수가 계산됨)\n",
    "    a = a%i # a를 i로 나누었을 때 나머지를 추출 (앞에 단위 수 만큼 돈이 차감됨)\n",
    "    print(i, \"-\", won)"
   ]
  },
  {
   "cell_type": "code",
   "execution_count": 66,
   "id": "e3d565fb",
   "metadata": {},
   "outputs": [
    {
     "name": "stdout",
     "output_type": "stream",
     "text": [
      "50000 - 3\n",
      "10000 - 0\n",
      "5000 - 1\n",
      "1000 - 1\n",
      "500 - 1\n",
      "100 - 2\n",
      "50 - 1\n",
      "10 - 3\n"
     ]
    }
   ],
   "source": [
    "a = 156780 # 원\n",
    "b = [50000, 10000, 5000, 1000, 500, 100, 50, 10]\n",
    "\n",
    "for i in b:\n",
    "    n = a // i\n",
    "    a -= n*i\n",
    "    print(f\"{i} - {n}\")"
   ]
  },
  {
   "cell_type": "code",
   "execution_count": 95,
   "id": "940b5ca8",
   "metadata": {},
   "outputs": [
    {
     "name": "stdout",
     "output_type": "stream",
     "text": [
      "name = ['y1', 'y2']\n",
      "data = ['123', '234']\n",
      "\n",
      "y1 123 \n",
      "y2 234 \n",
      "\n",
      "y1 123\n",
      "y2 234\n",
      "\n",
      "y1 123\n",
      "y2 234\n"
     ]
    }
   ],
   "source": [
    "# 5. name과 data를 각각 리스트에 담기\n",
    "#    name과 data를 각각 리스트에 담고 각각 요소들을 짝지어 출력하기\n",
    "q5 = [{\"name\":\"y1\",\"data\":\"123\"},{\"name\":\"y2\",\"data\":\"234\"}]\n",
    "\n",
    "name = []\n",
    "data = []\n",
    "\n",
    "# 리스트 내포를 쓰지 않았을 때\n",
    "for key in q5:\n",
    "    name.append(key[\"name\"])\n",
    "    data.append(key[\"data\"])\n",
    "print(f\"name = {name}\")\n",
    "print(f\"data = {data}\")\n",
    "\n",
    "print()\n",
    "\n",
    "for key in q5:\n",
    "    print(key[\"name\"], end=\" \")\n",
    "    print(key[\"data\"], end=\" \")\n",
    "    print()\n",
    "\n",
    "print()\n",
    "for i in range(len(name)):\n",
    "    print(name[i], data[i])\n",
    "\n",
    "print()\n",
    "for i in zip(name, data):\n",
    "    print(i[0], i[1])"
   ]
  },
  {
   "cell_type": "code",
   "execution_count": 91,
   "id": "728cd988",
   "metadata": {},
   "outputs": [
    {
     "name": "stdout",
     "output_type": "stream",
     "text": [
      "name = ['y1', 'y2']\n",
      "data = ['123', '234']\n"
     ]
    }
   ],
   "source": [
    "# 리스트 내포 (연습용으로 해보쟈 )\n",
    "name = [key[\"name\"] for key in q5]\n",
    "data = [key[\"data\"] for key in q5]\n",
    "print(f\"name = {name}\")\n",
    "print(f\"data = {data}\")"
   ]
  },
  {
   "cell_type": "code",
   "execution_count": 205,
   "id": "2d35d22a",
   "metadata": {},
   "outputs": [
    {
     "name": "stdout",
     "output_type": "stream",
     "text": [
      "id = ['a386', 'a383']\n",
      "name = ['123', '123']\n",
      "age = [34, 36]\n",
      "\n",
      "['a386', 'a383', 'a386', 'a383']\n",
      "['123', '123', '123', '123']\n",
      "[34, 36, 34, 36]\n",
      "\n",
      "a386 123 34\n",
      "a383 123 36\n",
      "\n",
      "a386 123 34\n",
      "a383 123 36\n"
     ]
    }
   ],
   "source": [
    "# 6. id, name, age를 각각 리스트에 담고 각각의 요소들을 짝지어 출력하기\n",
    "q6 = {\"ret\":{\"id\":\"a386\",\"name\":\"123\",\"age\":34},\"ret1\":{\"id\":\"a383\",\"name\":\"123\",\"age\":36}}\n",
    "\n",
    "id_list = []\n",
    "name = []\n",
    "age = []\n",
    "\n",
    "for key in q6.values():\n",
    "    id_list.append(key[\"id\"])\n",
    "    name.append(key[\"name\"])\n",
    "    age.append(key[\"age\"])\n",
    "    \n",
    "print(f\"id = {id_list}\")\n",
    "print(f\"name = {name}\")\n",
    "print(f\"age = {age}\")\n",
    "\n",
    "print()\n",
    "\n",
    "for i in q6:\n",
    "    id_list.append(q6[i][\"id\"])\n",
    "    name.append(q6[i][\"name\"])\n",
    "    age.append(q6[i][\"age\"])\n",
    "    \n",
    "print(id_list)\n",
    "print(name)\n",
    "print(age)\n",
    "\n",
    "print()\n",
    "\n",
    "for i in range(len(id)):\n",
    "    print(id[i], name[i], age[i])\n",
    "    \n",
    "print()\n",
    "\n",
    "for i in zip(id, name, age):\n",
    "    print(i[0], i[1], i[2])\n"
   ]
  },
  {
   "cell_type": "code",
   "execution_count": 380,
   "id": "f42d9d00",
   "metadata": {},
   "outputs": [
    {
     "name": "stdout",
     "output_type": "stream",
     "text": [
      "['a2001', 'a2002', 'a2003', 'a2004', 'a2005', 'a2006', 'a2007']\n",
      "['123', '123', '123', '123', '123', '123', '123']\n",
      "[34, 54, 36, 38, 17, 52, 33]\n"
     ]
    }
   ],
   "source": [
    "# 7. id, name, age를 각각 리스트에 담고 각각의 요소들을 짝지어 출력하기\n",
    "q7 = {\"ret\":[{\"id\":\"a2001\",\"name\":\"123\",\"age\":34},{\"id\":\"a2002\",\"name\":\"123\",\"age\":54},{\"id\":\"a2003\",\"name\":\"123\",\"age\":36},{\"id\":\"a2004\",\"name\":\"123\",\"age\":38}],\"ret1\":[{\"id\":\"a2005\",\"name\":\"123\",\"age\":17},{\"id\":\"a2006\",\"name\":\"123\",\"age\":52},{\"id\":\"a2007\",\"name\":\"123\",\"age\":33}]}\n",
    "\n",
    "id_list = []\n",
    "name = []\n",
    "age = []\n",
    "\n",
    "for i in q7:\n",
    "    for j in range(len(q7[i])):\n",
    "        id_list.append(q7[i][j][\"id\"])\n",
    "        name.append(q7[i][j][\"name\"])\n",
    "        age.append(q7[i][j][\"age\"])\n",
    "\n",
    "print(id_list)\n",
    "print(name)\n",
    "print(age)"
   ]
  },
  {
   "cell_type": "code",
   "execution_count": 383,
   "id": "7c92a432",
   "metadata": {},
   "outputs": [
    {
     "name": "stdout",
     "output_type": "stream",
     "text": [
      "['a2001', 'a2002', 'a2003', 'a2004', 'a2005', 'a2006', 'a2007']\n",
      "['123', '123', '123', '123', '123', '123', '123']\n",
      "[34, 54, 36, 38, 17, 52, 33]\n",
      "\n",
      "a2001 123 34\n",
      "a2002 123 54\n",
      "a2003 123 36\n",
      "a2004 123 38\n",
      "a2005 123 17\n",
      "a2006 123 52\n",
      "a2007 123 33\n"
     ]
    }
   ],
   "source": [
    "id_list = []\n",
    "name = []\n",
    "age = []\n",
    "\n",
    "for i in q7:\n",
    "    for j in q7[i]:\n",
    "        id_list.append(j[\"id\"])\n",
    "        name.append(j[\"name\"])\n",
    "        age.append(j[\"age\"])\n",
    "\n",
    "print(id_list)\n",
    "print(name)\n",
    "print(age)\n",
    "\n",
    "print()\n",
    "\n",
    "for i in range(len(id_list)):\n",
    "    print(id_list[i], name[i], age[i])"
   ]
  },
  {
   "cell_type": "code",
   "execution_count": null,
   "id": "15bcaab0",
   "metadata": {},
   "outputs": [],
   "source": []
  },
  {
   "cell_type": "code",
   "execution_count": null,
   "id": "c522515a",
   "metadata": {},
   "outputs": [],
   "source": []
  },
  {
   "cell_type": "code",
   "execution_count": null,
   "id": "9ee590fd",
   "metadata": {},
   "outputs": [],
   "source": []
  },
  {
   "cell_type": "code",
   "execution_count": null,
   "id": "f3fcd0c6",
   "metadata": {},
   "outputs": [],
   "source": []
  },
  {
   "cell_type": "code",
   "execution_count": null,
   "id": "e23de6b9",
   "metadata": {},
   "outputs": [],
   "source": []
  },
  {
   "cell_type": "code",
   "execution_count": null,
   "id": "f9150b44",
   "metadata": {},
   "outputs": [],
   "source": []
  },
  {
   "cell_type": "code",
   "execution_count": null,
   "id": "3811585b",
   "metadata": {},
   "outputs": [],
   "source": []
  },
  {
   "cell_type": "code",
   "execution_count": null,
   "id": "3481b900",
   "metadata": {},
   "outputs": [],
   "source": []
  },
  {
   "cell_type": "code",
   "execution_count": null,
   "id": "93c7b146",
   "metadata": {},
   "outputs": [],
   "source": []
  },
  {
   "cell_type": "code",
   "execution_count": null,
   "id": "419d9958",
   "metadata": {},
   "outputs": [],
   "source": []
  },
  {
   "cell_type": "code",
   "execution_count": null,
   "id": "8d842dd1",
   "metadata": {},
   "outputs": [],
   "source": []
  },
  {
   "cell_type": "code",
   "execution_count": null,
   "id": "487b8b86",
   "metadata": {},
   "outputs": [],
   "source": []
  },
  {
   "cell_type": "code",
   "execution_count": null,
   "id": "9089f2de",
   "metadata": {},
   "outputs": [],
   "source": []
  },
  {
   "cell_type": "code",
   "execution_count": null,
   "id": "1913ebf6",
   "metadata": {},
   "outputs": [],
   "source": []
  },
  {
   "cell_type": "code",
   "execution_count": null,
   "id": "f951e3c4",
   "metadata": {},
   "outputs": [],
   "source": []
  },
  {
   "cell_type": "code",
   "execution_count": null,
   "id": "6eeb5d4c",
   "metadata": {},
   "outputs": [],
   "source": []
  },
  {
   "cell_type": "code",
   "execution_count": null,
   "id": "05126ec8",
   "metadata": {},
   "outputs": [],
   "source": []
  }
 ],
 "metadata": {
  "kernelspec": {
   "display_name": "Python 3 (ipykernel)",
   "language": "python",
   "name": "python3"
  },
  "language_info": {
   "codemirror_mode": {
    "name": "ipython",
    "version": 3
   },
   "file_extension": ".py",
   "mimetype": "text/x-python",
   "name": "python",
   "nbconvert_exporter": "python",
   "pygments_lexer": "ipython3",
   "version": "3.11.5"
  }
 },
 "nbformat": 4,
 "nbformat_minor": 5
}
