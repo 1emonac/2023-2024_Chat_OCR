{
 "cells": [
  {
   "cell_type": "markdown",
   "id": "d1f0f1ec",
   "metadata": {},
   "source": [
    "# 내장함수\n",
    "\n",
    "- 외부모듈이 아닌 파이썬에 내장된 함수\n",
    "- print(), input(), len(), map(), ........"
   ]
  },
  {
   "cell_type": "markdown",
   "id": "b1a1606d",
   "metadata": {},
   "source": [
    "## 문자열 내장 함수"
   ]
  },
  {
   "cell_type": "markdown",
   "id": "492e3671",
   "metadata": {},
   "source": [
    "### 1. chr() / ord()\n",
    "\n",
    "- 모든 문자는 각각 문자 코드라고 하는 자신만의 코드 값이 있음\n",
    "- chr() : 특정 문자의 유니코드 값을 전달하면 해당 문자를 반환\n",
    "- ord() : 문자를 전달하면 해당 문자의 유니코드 값을 반환"
   ]
  },
  {
   "cell_type": "code",
   "execution_count": 1,
   "id": "5d83080a",
   "metadata": {},
   "outputs": [
    {
     "data": {
      "text/plain": [
       "48"
      ]
     },
     "execution_count": 1,
     "metadata": {},
     "output_type": "execute_result"
    }
   ],
   "source": [
    "ord(\"0\")"
   ]
  },
  {
   "cell_type": "code",
   "execution_count": 2,
   "id": "83c057ea",
   "metadata": {},
   "outputs": [
    {
     "data": {
      "text/plain": [
       "49"
      ]
     },
     "execution_count": 2,
     "metadata": {},
     "output_type": "execute_result"
    }
   ],
   "source": [
    "ord(\"1\")"
   ]
  },
  {
   "cell_type": "code",
   "execution_count": 3,
   "id": "1ee3f47b",
   "metadata": {},
   "outputs": [
    {
     "data": {
      "text/plain": [
       "'0'"
      ]
     },
     "execution_count": 3,
     "metadata": {},
     "output_type": "execute_result"
    }
   ],
   "source": [
    "chr(48)"
   ]
  },
  {
   "cell_type": "code",
   "execution_count": 4,
   "id": "fc723a6e",
   "metadata": {},
   "outputs": [
    {
     "data": {
      "text/plain": [
       "'1'"
      ]
     },
     "execution_count": 4,
     "metadata": {},
     "output_type": "execute_result"
    }
   ],
   "source": [
    "chr(49)"
   ]
  },
  {
   "cell_type": "code",
   "execution_count": 5,
   "id": "8b018711",
   "metadata": {},
   "outputs": [
    {
     "data": {
      "text/plain": [
       "(97, 122)"
      ]
     },
     "execution_count": 5,
     "metadata": {},
     "output_type": "execute_result"
    }
   ],
   "source": [
    "ord(\"a\"), ord(\"z\")"
   ]
  },
  {
   "cell_type": "code",
   "execution_count": 6,
   "id": "247c24f8",
   "metadata": {},
   "outputs": [
    {
     "data": {
      "text/plain": [
       "'b'"
      ]
     },
     "execution_count": 6,
     "metadata": {},
     "output_type": "execute_result"
    }
   ],
   "source": [
    "chr(98)"
   ]
  },
  {
   "cell_type": "markdown",
   "id": "d1715910",
   "metadata": {},
   "source": [
    "### 2. eval()\n",
    "\n",
    "- 표현식을 문자열로 전달하면 결괏값을 반환"
   ]
  },
  {
   "cell_type": "code",
   "execution_count": 7,
   "id": "6f05bfcf",
   "metadata": {},
   "outputs": [
    {
     "data": {
      "text/plain": [
       "300"
      ]
     },
     "execution_count": 7,
     "metadata": {},
     "output_type": "execute_result"
    }
   ],
   "source": [
    "eval(\"100 + 200\")"
   ]
  },
  {
   "cell_type": "code",
   "execution_count": 8,
   "id": "9380501a",
   "metadata": {},
   "outputs": [
    {
     "data": {
      "text/plain": [
       "50"
      ]
     },
     "execution_count": 8,
     "metadata": {},
     "output_type": "execute_result"
    }
   ],
   "source": [
    "a = 10\n",
    "\n",
    "eval(\"a * 5\")"
   ]
  },
  {
   "cell_type": "code",
   "execution_count": 9,
   "id": "f7493e0c",
   "metadata": {},
   "outputs": [
    {
     "data": {
      "text/plain": [
       "1"
      ]
     },
     "execution_count": 9,
     "metadata": {},
     "output_type": "execute_result"
    }
   ],
   "source": [
    "eval(\"min(1, 2, 3)\")"
   ]
  },
  {
   "cell_type": "code",
   "execution_count": 11,
   "id": "38b6d1f6",
   "metadata": {},
   "outputs": [
    {
     "data": {
      "text/plain": [
       "[1, 2, 3]"
      ]
     },
     "execution_count": 11,
     "metadata": {},
     "output_type": "execute_result"
    }
   ],
   "source": [
    "eval(\"[1, 2, 3]\")"
   ]
  },
  {
   "cell_type": "code",
   "execution_count": 12,
   "id": "96d57213",
   "metadata": {},
   "outputs": [
    {
     "data": {
      "text/plain": [
       "'True'"
      ]
     },
     "execution_count": 12,
     "metadata": {},
     "output_type": "execute_result"
    }
   ],
   "source": [
    "str(True)"
   ]
  },
  {
   "cell_type": "markdown",
   "id": "a620bbb9",
   "metadata": {},
   "source": [
    "## 숫자 내장 함수"
   ]
  },
  {
   "cell_type": "markdown",
   "id": "f7ba6577",
   "metadata": {},
   "source": [
    "### 1. abs()\n",
    "\n",
    "- 절댓값을 반환\n",
    "\n"
   ]
  },
  {
   "cell_type": "code",
   "execution_count": 13,
   "id": "43626bca",
   "metadata": {},
   "outputs": [
    {
     "data": {
      "text/plain": [
       "20"
      ]
     },
     "execution_count": 13,
     "metadata": {},
     "output_type": "execute_result"
    }
   ],
   "source": [
    "abs(20)"
   ]
  },
  {
   "cell_type": "code",
   "execution_count": 14,
   "id": "1e2a8f64",
   "metadata": {},
   "outputs": [
    {
     "data": {
      "text/plain": [
       "10"
      ]
     },
     "execution_count": 14,
     "metadata": {},
     "output_type": "execute_result"
    }
   ],
   "source": [
    "abs(-10)"
   ]
  },
  {
   "cell_type": "markdown",
   "id": "1542607d",
   "metadata": {},
   "source": [
    "### 2. divmod()\n",
    "\n",
    "- 전달된 두 인수를 나누어 몫과 나머지를 반환"
   ]
  },
  {
   "cell_type": "code",
   "execution_count": 15,
   "id": "70ce1067",
   "metadata": {},
   "outputs": [
    {
     "data": {
      "text/plain": [
       "(3, 1)"
      ]
     },
     "execution_count": 15,
     "metadata": {},
     "output_type": "execute_result"
    }
   ],
   "source": [
    "divmod(10, 3)"
   ]
  },
  {
   "cell_type": "code",
   "execution_count": 16,
   "id": "77b0f30a",
   "metadata": {},
   "outputs": [
    {
     "name": "stdout",
     "output_type": "stream",
     "text": [
      "빵을 3개 사고 1000원이 남았습니다\n"
     ]
    }
   ],
   "source": [
    "money = 10000\n",
    "price = 3000\n",
    "\n",
    "n, remain = divmod(money, price)\n",
    "print(f\"빵을 {n}개 사고 {remain}원이 남았습니다\")"
   ]
  },
  {
   "cell_type": "markdown",
   "id": "02e9a0ae",
   "metadata": {},
   "source": [
    "### 3. max() / min()\n",
    "\n",
    "- 전달된 인수 중 최댓값을 반환 / 최솟값을 반환"
   ]
  },
  {
   "cell_type": "code",
   "execution_count": 17,
   "id": "111e3350",
   "metadata": {},
   "outputs": [
    {
     "data": {
      "text/plain": [
       "10"
      ]
     },
     "execution_count": 17,
     "metadata": {},
     "output_type": "execute_result"
    }
   ],
   "source": [
    "max(1,10)"
   ]
  },
  {
   "cell_type": "code",
   "execution_count": 18,
   "id": "e8a01cfa",
   "metadata": {},
   "outputs": [
    {
     "data": {
      "text/plain": [
       "1"
      ]
     },
     "execution_count": 18,
     "metadata": {},
     "output_type": "execute_result"
    }
   ],
   "source": [
    "min(1, 10)"
   ]
  },
  {
   "cell_type": "code",
   "execution_count": 19,
   "id": "eee0db91",
   "metadata": {},
   "outputs": [
    {
     "name": "stdout",
     "output_type": "stream",
     "text": [
      "5\n",
      "1\n"
     ]
    }
   ],
   "source": [
    "li = [1, 2, 3, 4, 5]\n",
    "print(max(li))\n",
    "print(min(li))"
   ]
  },
  {
   "cell_type": "markdown",
   "id": "62bf3659",
   "metadata": {},
   "source": [
    "### 4. pow()\n",
    "\n",
    "- 두 인수의 거듭제곱을 반환"
   ]
  },
  {
   "cell_type": "code",
   "execution_count": 20,
   "id": "eead4c92",
   "metadata": {},
   "outputs": [
    {
     "data": {
      "text/plain": [
       "100"
      ]
     },
     "execution_count": 20,
     "metadata": {},
     "output_type": "execute_result"
    }
   ],
   "source": [
    "pow(10, 2)"
   ]
  },
  {
   "cell_type": "code",
   "execution_count": 21,
   "id": "61fb998d",
   "metadata": {},
   "outputs": [
    {
     "data": {
      "text/plain": [
       "1000"
      ]
     },
     "execution_count": 21,
     "metadata": {},
     "output_type": "execute_result"
    }
   ],
   "source": [
    "pow(10, 3)"
   ]
  },
  {
   "cell_type": "code",
   "execution_count": 22,
   "id": "33233be3",
   "metadata": {},
   "outputs": [
    {
     "data": {
      "text/plain": [
       "0.01"
      ]
     },
     "execution_count": 22,
     "metadata": {},
     "output_type": "execute_result"
    }
   ],
   "source": [
    "pow(10, -2)"
   ]
  },
  {
   "cell_type": "code",
   "execution_count": 23,
   "id": "38cca98e",
   "metadata": {},
   "outputs": [
    {
     "data": {
      "text/plain": [
       "0.001"
      ]
     },
     "execution_count": 23,
     "metadata": {},
     "output_type": "execute_result"
    }
   ],
   "source": [
    "pow(10, -3)"
   ]
  },
  {
   "cell_type": "markdown",
   "id": "9b87a511",
   "metadata": {},
   "source": [
    "### 5. round()\n",
    "\n",
    "- 반올림한 값을 반환\n",
    "- 반올림했을 때 가장 가까운 수로 반올림됨"
   ]
  },
  {
   "cell_type": "code",
   "execution_count": 24,
   "id": "cd30d9ef",
   "metadata": {},
   "outputs": [
    {
     "data": {
      "text/plain": [
       "2"
      ]
     },
     "execution_count": 24,
     "metadata": {},
     "output_type": "execute_result"
    }
   ],
   "source": [
    "round(1.5)"
   ]
  },
  {
   "cell_type": "code",
   "execution_count": 25,
   "id": "7d63f98b",
   "metadata": {},
   "outputs": [
    {
     "data": {
      "text/plain": [
       "1"
      ]
     },
     "execution_count": 25,
     "metadata": {},
     "output_type": "execute_result"
    }
   ],
   "source": [
    "round(1.4)"
   ]
  },
  {
   "cell_type": "code",
   "execution_count": 26,
   "id": "0b70ac3f",
   "metadata": {},
   "outputs": [
    {
     "data": {
      "text/plain": [
       "1.6"
      ]
     },
     "execution_count": 26,
     "metadata": {},
     "output_type": "execute_result"
    }
   ],
   "source": [
    "round(1.55, 1)"
   ]
  },
  {
   "cell_type": "code",
   "execution_count": 27,
   "id": "f1170e1e",
   "metadata": {},
   "outputs": [
    {
     "data": {
      "text/plain": [
       "0"
      ]
     },
     "execution_count": 27,
     "metadata": {},
     "output_type": "execute_result"
    }
   ],
   "source": [
    "round(0)"
   ]
  },
  {
   "cell_type": "markdown",
   "id": "792c2963",
   "metadata": {},
   "source": [
    "### 6. sum()\n",
    "\n",
    "- 합계를 반환\n",
    "- 숫자가 아닌 값은 전달 불가능"
   ]
  },
  {
   "cell_type": "code",
   "execution_count": 28,
   "id": "ff03a648",
   "metadata": {},
   "outputs": [
    {
     "data": {
      "text/plain": [
       "15"
      ]
     },
     "execution_count": 28,
     "metadata": {},
     "output_type": "execute_result"
    }
   ],
   "source": [
    "li = [1, 2, 3, 4, 5]\n",
    "sum(li)"
   ]
  },
  {
   "cell_type": "code",
   "execution_count": 29,
   "id": "db9c0237",
   "metadata": {},
   "outputs": [
    {
     "data": {
      "text/plain": [
       "'he1'"
      ]
     },
     "execution_count": 29,
     "metadata": {},
     "output_type": "execute_result"
    }
   ],
   "source": [
    "\"h\" + \"e\" + \"1\""
   ]
  },
  {
   "cell_type": "code",
   "execution_count": 30,
   "id": "b5220848",
   "metadata": {},
   "outputs": [
    {
     "ename": "TypeError",
     "evalue": "sum() can't sum strings [use ''.join(seq) instead]",
     "output_type": "error",
     "traceback": [
      "\u001b[1;31m---------------------------------------------------------------------------\u001b[0m",
      "\u001b[1;31mTypeError\u001b[0m                                 Traceback (most recent call last)",
      "Cell \u001b[1;32mIn[30], line 1\u001b[0m\n\u001b[1;32m----> 1\u001b[0m \u001b[38;5;28msum\u001b[39m(\u001b[38;5;124m\"\u001b[39m\u001b[38;5;124mh\u001b[39m\u001b[38;5;124m\"\u001b[39m, \u001b[38;5;124m\"\u001b[39m\u001b[38;5;124me\u001b[39m\u001b[38;5;124m\"\u001b[39m)\n",
      "\u001b[1;31mTypeError\u001b[0m: sum() can't sum strings [use ''.join(seq) instead]"
     ]
    }
   ],
   "source": [
    "sum(\"h\", \"e\")"
   ]
  },
  {
   "cell_type": "markdown",
   "id": "f7f4f859",
   "metadata": {},
   "source": [
    "## 시퀀스 내장 함수"
   ]
  },
  {
   "cell_type": "markdown",
   "id": "ff6feba7",
   "metadata": {},
   "source": [
    "### 1. enumerate()\n",
    "\n",
    "- 리스트에 저장된 요소와 인덱스가 함께 추출"
   ]
  },
  {
   "cell_type": "code",
   "execution_count": 31,
   "id": "d9ada441",
   "metadata": {},
   "outputs": [
    {
     "name": "stdout",
     "output_type": "stream",
     "text": [
      "0 가위\n",
      "1 바위\n",
      "2 보\n"
     ]
    }
   ],
   "source": [
    "for idx, element in enumerate([\"가위\", \"바위\", \"보\"]):\n",
    "    print(idx, element)"
   ]
  },
  {
   "cell_type": "markdown",
   "id": "affcd601",
   "metadata": {},
   "source": [
    "### 2. range()\n",
    "\n",
    "- 특정 범위의 값을 생성\n",
    "- 주로 for문과 함께 사용\n",
    "- list() 함수로 리스트로 변환해서 사용하기도 함\n",
    "\n",
    "```\n",
    "range('하나만 넣으면 종료값'=stop)\n",
    "range(start, stop) # 2개\n",
    "range(start, stop, step)\n",
    "start <= n < stop\n",
    "```"
   ]
  },
  {
   "cell_type": "code",
   "execution_count": 32,
   "id": "308b5f8f",
   "metadata": {},
   "outputs": [
    {
     "data": {
      "text/plain": [
       "range(0, 10)"
      ]
     },
     "execution_count": 32,
     "metadata": {},
     "output_type": "execute_result"
    }
   ],
   "source": [
    "range(10)"
   ]
  },
  {
   "cell_type": "code",
   "execution_count": 33,
   "id": "a8ab6427",
   "metadata": {},
   "outputs": [
    {
     "data": {
      "text/plain": [
       "[0, 1, 2, 3, 4, 5, 6, 7, 8, 9]"
      ]
     },
     "execution_count": 33,
     "metadata": {},
     "output_type": "execute_result"
    }
   ],
   "source": [
    "list(range(10))"
   ]
  },
  {
   "cell_type": "code",
   "execution_count": 34,
   "id": "4267183b",
   "metadata": {},
   "outputs": [
    {
     "data": {
      "text/plain": [
       "[1, 2, 3, 4, 5, 6, 7, 8, 9, 10]"
      ]
     },
     "execution_count": 34,
     "metadata": {},
     "output_type": "execute_result"
    }
   ],
   "source": [
    "list(range(1, 11))"
   ]
  },
  {
   "cell_type": "code",
   "execution_count": 35,
   "id": "a32faaf2",
   "metadata": {},
   "outputs": [
    {
     "data": {
      "text/plain": [
       "[0, 5, 10, 15, 20, 25]"
      ]
     },
     "execution_count": 35,
     "metadata": {},
     "output_type": "execute_result"
    }
   ],
   "source": [
    "list(range(0, 30, 5))"
   ]
  },
  {
   "cell_type": "code",
   "execution_count": 36,
   "id": "44c7aaea",
   "metadata": {},
   "outputs": [
    {
     "data": {
      "text/plain": [
       "[0, 3, 6, 9]"
      ]
     },
     "execution_count": 36,
     "metadata": {},
     "output_type": "execute_result"
    }
   ],
   "source": [
    "list(range(0, 10, 3))"
   ]
  },
  {
   "cell_type": "code",
   "execution_count": 38,
   "id": "ce539eba",
   "metadata": {},
   "outputs": [
    {
     "data": {
      "text/plain": [
       "[0, -1, -2, -3, -4, -5, -6, -7, -8, -9]"
      ]
     },
     "execution_count": 38,
     "metadata": {},
     "output_type": "execute_result"
    }
   ],
   "source": [
    "list(range(0, -10, -1))"
   ]
  },
  {
   "cell_type": "code",
   "execution_count": 39,
   "id": "c1098eec",
   "metadata": {},
   "outputs": [
    {
     "data": {
      "text/plain": [
       "[]"
      ]
     },
     "execution_count": 39,
     "metadata": {},
     "output_type": "execute_result"
    }
   ],
   "source": [
    "list(range(0))"
   ]
  },
  {
   "cell_type": "code",
   "execution_count": 40,
   "id": "0f33aae8",
   "metadata": {},
   "outputs": [
    {
     "data": {
      "text/plain": [
       "[]"
      ]
     },
     "execution_count": 40,
     "metadata": {},
     "output_type": "execute_result"
    }
   ],
   "source": [
    "list(range(1, 0))"
   ]
  },
  {
   "cell_type": "markdown",
   "id": "1c2b44da",
   "metadata": {},
   "source": [
    "### 3. len()\n",
    "\n",
    "- 객체의 길이(항목의 수)를 반환"
   ]
  },
  {
   "cell_type": "code",
   "execution_count": 42,
   "id": "2c2372ea",
   "metadata": {},
   "outputs": [
    {
     "data": {
      "text/plain": [
       "4"
      ]
     },
     "execution_count": 42,
     "metadata": {},
     "output_type": "execute_result"
    }
   ],
   "source": [
    "li = [\"a\", \"b\", \"c\", \"d\"]\n",
    "len(li)"
   ]
  },
  {
   "cell_type": "code",
   "execution_count": 43,
   "id": "9686d1ab",
   "metadata": {},
   "outputs": [
    {
     "data": {
      "text/plain": [
       "2"
      ]
     },
     "execution_count": 43,
     "metadata": {},
     "output_type": "execute_result"
    }
   ],
   "source": [
    "d = {\"a\" : \"apple\", \"b\" : \"banana\"}\n",
    "len(d)"
   ]
  },
  {
   "cell_type": "code",
   "execution_count": 44,
   "id": "71e5118b",
   "metadata": {},
   "outputs": [
    {
     "data": {
      "text/plain": [
       "10"
      ]
     },
     "execution_count": 44,
     "metadata": {},
     "output_type": "execute_result"
    }
   ],
   "source": [
    "len(range(10))"
   ]
  },
  {
   "cell_type": "code",
   "execution_count": 45,
   "id": "1157e8d4",
   "metadata": {},
   "outputs": [
    {
     "data": {
      "text/plain": [
       "9"
      ]
     },
     "execution_count": 45,
     "metadata": {},
     "output_type": "execute_result"
    }
   ],
   "source": [
    "len(range(1, 10))"
   ]
  },
  {
   "cell_type": "markdown",
   "id": "4dc6a6a5",
   "metadata": {},
   "source": [
    "### 4. sorted()\n",
    "\n",
    "- 오름차순, 내림차순 정렬 결과를 반환\n",
    "- 비파괴적임"
   ]
  },
  {
   "cell_type": "code",
   "execution_count": 46,
   "id": "6021e645",
   "metadata": {},
   "outputs": [
    {
     "data": {
      "text/plain": [
       "[1, 2, 3, 4, 5, 6]"
      ]
     },
     "execution_count": 46,
     "metadata": {},
     "output_type": "execute_result"
    }
   ],
   "source": [
    "my_list = [6, 3, 1, 2, 5, 4]\n",
    "sorted(my_list)"
   ]
  },
  {
   "cell_type": "code",
   "execution_count": 47,
   "id": "92fef38d",
   "metadata": {},
   "outputs": [
    {
     "data": {
      "text/plain": [
       "[1, 2, 3, 4, 5, 6]"
      ]
     },
     "execution_count": 47,
     "metadata": {},
     "output_type": "execute_result"
    }
   ],
   "source": [
    "sorted(my_list, reverse = False) # 오름차순"
   ]
  },
  {
   "cell_type": "code",
   "execution_count": 48,
   "id": "b999ab21",
   "metadata": {},
   "outputs": [
    {
     "data": {
      "text/plain": [
       "[6, 5, 4, 3, 2, 1]"
      ]
     },
     "execution_count": 48,
     "metadata": {},
     "output_type": "execute_result"
    }
   ],
   "source": [
    "sorted(my_list, reverse = True) # 내림차순"
   ]
  },
  {
   "cell_type": "code",
   "execution_count": 50,
   "id": "f52de336",
   "metadata": {},
   "outputs": [
    {
     "data": {
      "text/plain": [
       "[6, 3, 1, 2, 5, 4]"
      ]
     },
     "execution_count": 50,
     "metadata": {},
     "output_type": "execute_result"
    }
   ],
   "source": [
    "my_list # my_list 변수 자체가 정렬되는 것이 아님"
   ]
  },
  {
   "cell_type": "code",
   "execution_count": 51,
   "id": "7ba1ad59",
   "metadata": {},
   "outputs": [
    {
     "data": {
      "text/plain": [
       "[1, 2, 3, 4, 5, 6]"
      ]
     },
     "execution_count": 51,
     "metadata": {},
     "output_type": "execute_result"
    }
   ],
   "source": [
    "my_list = sorted(my_list)\n",
    "my_list"
   ]
  },
  {
   "cell_type": "markdown",
   "id": "21b26ac4",
   "metadata": {},
   "source": [
    "### 5. zip()\n",
    "\n",
    "- 여러 개의 반복가능객체의 각 요소를 묶어서 반환\n",
    "- 전달된 객체들의 길이가 다르면 짧은 객체를 기준으로 동작"
   ]
  },
  {
   "cell_type": "code",
   "execution_count": 53,
   "id": "00081e35",
   "metadata": {},
   "outputs": [
    {
     "name": "stdout",
     "output_type": "stream",
     "text": [
      "james의 점수는 60점 입니다\n",
      "emily의 점수는 70점 입니다\n",
      "amanda의 점수는 80점 입니다\n"
     ]
    }
   ],
   "source": [
    "names = [\"james\", \"emily\", \"amanda\", \"jun\"]\n",
    "scores = [60, 70, 80]\n",
    "\n",
    "for name, score in zip(names, scores):\n",
    "    print(f\"{name}의 점수는 {score}점 입니다\")"
   ]
  },
  {
   "cell_type": "code",
   "execution_count": null,
   "id": "bb650122",
   "metadata": {},
   "outputs": [],
   "source": []
  }
 ],
 "metadata": {
  "kernelspec": {
   "display_name": "Python 3 (ipykernel)",
   "language": "python",
   "name": "python3"
  },
  "language_info": {
   "codemirror_mode": {
    "name": "ipython",
    "version": 3
   },
   "file_extension": ".py",
   "mimetype": "text/x-python",
   "name": "python",
   "nbconvert_exporter": "python",
   "pygments_lexer": "ipython3",
   "version": "3.11.5"
  }
 },
 "nbformat": 4,
 "nbformat_minor": 5
}
