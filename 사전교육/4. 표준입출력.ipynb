{
 "cells": [
  {
   "cell_type": "markdown",
   "id": "4a3d2f93",
   "metadata": {},
   "source": [
    "# 표준 출력"
   ]
  },
  {
   "cell_type": "markdown",
   "id": "65105c8d",
   "metadata": {},
   "source": [
    "## 이스케이프 문자\n",
    "\n",
    "- \\n : 줄바꿈\n",
    "- \\t : 탭\n",
    "- \\\\' : 작은 따옴표\n",
    "- \\\\\" : 큰 따옴표"
   ]
  },
  {
   "cell_type": "code",
   "execution_count": 5,
   "id": "6d6650f5",
   "metadata": {},
   "outputs": [
    {
     "name": "stdout",
     "output_type": "stream",
     "text": [
      "Hello, \"World!\"\n"
     ]
    }
   ],
   "source": [
    "print(\"Hello, \\\"World!\\\"\")"
   ]
  },
  {
   "cell_type": "code",
   "execution_count": 7,
   "id": "6fcd3594",
   "metadata": {},
   "outputs": [
    {
     "name": "stdout",
     "output_type": "stream",
     "text": [
      "*\n",
      "**\n",
      "***\n"
     ]
    }
   ],
   "source": [
    "print(\"*\")\n",
    "print(\"**\")\n",
    "print(\"***\")"
   ]
  },
  {
   "cell_type": "code",
   "execution_count": 8,
   "id": "c870e3a6",
   "metadata": {},
   "outputs": [
    {
     "name": "stdout",
     "output_type": "stream",
     "text": [
      "*\n",
      "**\n",
      "***\n"
     ]
    }
   ],
   "source": [
    "print(\"*\\n**\\n***\")"
   ]
  },
  {
   "cell_type": "code",
   "execution_count": 9,
   "id": "031e72f0",
   "metadata": {},
   "outputs": [
    {
     "name": "stdout",
     "output_type": "stream",
     "text": [
      "이름\t연락처\n"
     ]
    }
   ],
   "source": [
    "print(\"이름\\t연락처\")"
   ]
  },
  {
   "cell_type": "markdown",
   "id": "2553ea2b",
   "metadata": {},
   "source": [
    "## print() 함수\n",
    "\n",
    "- print(*args, sep=' ', end='\\n', file=None, flush=False)\n",
    "\n",
    "     - sep : 출력할 값의 구분자\n",
    "     - end : 값을 출력한 후 출력할 문자"
   ]
  },
  {
   "cell_type": "code",
   "execution_count": 14,
   "id": "2f9cc7e5",
   "metadata": {},
   "outputs": [
    {
     "name": "stdout",
     "output_type": "stream",
     "text": [
      "Python Java C\n",
      "Python|Java|C\n",
      "Python\tJava\tC\n"
     ]
    }
   ],
   "source": [
    "print(\"Python\", \"Java\", \"C\")\n",
    "print(\"Python\", \"Java\", \"C\", sep = \"|\")\n",
    "print(\"Python\", \"Java\", \"C\", sep = \"\\t\")"
   ]
  },
  {
   "cell_type": "code",
   "execution_count": 16,
   "id": "372cd652",
   "metadata": {},
   "outputs": [
    {
     "name": "stdout",
     "output_type": "stream",
     "text": [
      "영화 타이타닉\n",
      "평점:5점\n"
     ]
    }
   ],
   "source": [
    "print(\"영화 타이타닉\")\n",
    "print(\"평점\", end = \":\")\n",
    "print(\"5점\")"
   ]
  },
  {
   "cell_type": "markdown",
   "id": "fd44bd7d",
   "metadata": {},
   "source": [
    "# 형식을 갖춘 문자열\n",
    "\n",
    "- 문자열 포매팅(string formatting)\n",
    "    - % 연산자, format() 메소드 등의 명령어들을 이용해 원하는 형식의 문자열을 만드는 것"
   ]
  },
  {
   "cell_type": "markdown",
   "id": "9f1f7b13",
   "metadata": {},
   "source": [
    "## % 연산자\n",
    "\n",
    "- %d : 정수(10진수)\n",
    "- %f : 실수\n",
    "- %s : 문자열"
   ]
  },
  {
   "cell_type": "code",
   "execution_count": 21,
   "id": "ffdeb994",
   "metadata": {},
   "outputs": [
    {
     "name": "stdout",
     "output_type": "stream",
     "text": [
      "10\n"
     ]
    }
   ],
   "source": [
    "print(\"%d\" %10)"
   ]
  },
  {
   "cell_type": "code",
   "execution_count": 22,
   "id": "738aea3a",
   "metadata": {},
   "outputs": [
    {
     "name": "stdout",
     "output_type": "stream",
     "text": [
      "3.140000\n"
     ]
    }
   ],
   "source": [
    "print(\"%f\"%3.14)"
   ]
  },
  {
   "cell_type": "code",
   "execution_count": 24,
   "id": "67a068c9",
   "metadata": {},
   "outputs": [
    {
     "name": "stdout",
     "output_type": "stream",
     "text": [
      "3.14\n"
     ]
    }
   ],
   "source": [
    "print(\"%.2f\"%3.14)"
   ]
  },
  {
   "cell_type": "code",
   "execution_count": 25,
   "id": "bd7aa447",
   "metadata": {},
   "outputs": [
    {
     "name": "stdout",
     "output_type": "stream",
     "text": [
      "python\n"
     ]
    }
   ],
   "source": [
    "print(\"%s\"%\"python\")"
   ]
  },
  {
   "cell_type": "code",
   "execution_count": 26,
   "id": "50223e18",
   "metadata": {},
   "outputs": [
    {
     "name": "stdout",
     "output_type": "stream",
     "text": [
      "10 20\n"
     ]
    }
   ],
   "source": [
    "print(\"%d %d\"%(10, 20))"
   ]
  },
  {
   "cell_type": "code",
   "execution_count": 27,
   "id": "5d22d1f0",
   "metadata": {},
   "outputs": [
    {
     "name": "stdout",
     "output_type": "stream",
     "text": [
      "10 3.14\n"
     ]
    }
   ],
   "source": [
    "print(\"%s %s\"%(10, 3.14))"
   ]
  },
  {
   "cell_type": "markdown",
   "id": "732f346d",
   "metadata": {},
   "source": [
    "### 활용법"
   ]
  },
  {
   "cell_type": "code",
   "execution_count": 28,
   "id": "5aeb5238",
   "metadata": {},
   "outputs": [
    {
     "name": "stdout",
     "output_type": "stream",
     "text": [
      "내 이름은 Jun입니다\n"
     ]
    }
   ],
   "source": [
    "name = \"Jun\"\n",
    "print(\"내 이름은 %s입니다\"%name)"
   ]
  },
  {
   "cell_type": "code",
   "execution_count": 29,
   "id": "b2fb1bf3",
   "metadata": {},
   "outputs": [
    {
     "name": "stdout",
     "output_type": "stream",
     "text": [
      "내 키는 120.50cm입니다.\n",
      "내 몸무게는 23.6kg입니다.\n"
     ]
    }
   ],
   "source": [
    "height = 120.5\n",
    "weight = 23.55\n",
    "print(\"내 키는 %.2fcm입니다.\"%height)\n",
    "print(\"내 몸무게는 %.1fkg입니다.\"%weight)"
   ]
  },
  {
   "cell_type": "markdown",
   "id": "07c1287d",
   "metadata": {},
   "source": [
    "## format() 메소드\n",
    "\n",
    "- 함수의 인수로 변수나 값을 표시하고, 해당 값이 표시될 위치를 중괄호({})로 표시"
   ]
  },
  {
   "cell_type": "code",
   "execution_count": 30,
   "id": "372e06b1",
   "metadata": {},
   "outputs": [
    {
     "name": "stdout",
     "output_type": "stream",
     "text": [
      "Breakfast is banana and protein\n"
     ]
    }
   ],
   "source": [
    "print(\"Breakfast is {} and {}\".format(\"banana\", \"protein\"))"
   ]
  },
  {
   "cell_type": "code",
   "execution_count": 32,
   "id": "5e193612",
   "metadata": {},
   "outputs": [
    {
     "name": "stdout",
     "output_type": "stream",
     "text": [
      "Breakfast is banana and protein\n"
     ]
    }
   ],
   "source": [
    "print(\"Breakfast is {0} and {1}\".format(\"banana\", \"protein\"))"
   ]
  },
  {
   "cell_type": "code",
   "execution_count": 31,
   "id": "1a39872b",
   "metadata": {},
   "outputs": [
    {
     "name": "stdout",
     "output_type": "stream",
     "text": [
      "My name is Jun\n",
      "My name is Jun\n",
      "My name is James\n"
     ]
    }
   ],
   "source": [
    "print(\"My name is {}\".format(name))\n",
    "print(\"My name is {0}\".format(name))\n",
    "print(\"My name is {name}\".format(name = \"James\"))"
   ]
  },
  {
   "cell_type": "code",
   "execution_count": 33,
   "id": "604e90ca",
   "metadata": {},
   "outputs": [
    {
     "name": "stdout",
     "output_type": "stream",
     "text": [
      "My name is James. I'm 25 years old\n"
     ]
    }
   ],
   "source": [
    "print(\"My name is {name}. I'm {age} years old\".format(name = \"James\", age = 25))"
   ]
  },
  {
   "cell_type": "code",
   "execution_count": null,
   "id": "b43ce11b",
   "metadata": {},
   "outputs": [],
   "source": []
  },
  {
   "cell_type": "code",
   "execution_count": null,
   "id": "4c60a811",
   "metadata": {},
   "outputs": [],
   "source": []
  },
  {
   "cell_type": "code",
   "execution_count": null,
   "id": "f6f09c94",
   "metadata": {},
   "outputs": [],
   "source": []
  },
  {
   "cell_type": "code",
   "execution_count": null,
   "id": "b2b61612",
   "metadata": {},
   "outputs": [],
   "source": []
  },
  {
   "cell_type": "code",
   "execution_count": null,
   "id": "df8b2309",
   "metadata": {},
   "outputs": [],
   "source": []
  },
  {
   "cell_type": "code",
   "execution_count": null,
   "id": "74f90329",
   "metadata": {},
   "outputs": [],
   "source": []
  },
  {
   "cell_type": "code",
   "execution_count": null,
   "id": "43d6e7b3",
   "metadata": {},
   "outputs": [],
   "source": []
  },
  {
   "cell_type": "code",
   "execution_count": null,
   "id": "a87d2392",
   "metadata": {},
   "outputs": [],
   "source": []
  },
  {
   "cell_type": "code",
   "execution_count": null,
   "id": "5f909286",
   "metadata": {},
   "outputs": [],
   "source": []
  },
  {
   "cell_type": "code",
   "execution_count": null,
   "id": "bd4929cc",
   "metadata": {},
   "outputs": [],
   "source": []
  },
  {
   "cell_type": "code",
   "execution_count": null,
   "id": "6da0e56d",
   "metadata": {},
   "outputs": [],
   "source": []
  },
  {
   "cell_type": "code",
   "execution_count": null,
   "id": "a5fb5c7e",
   "metadata": {},
   "outputs": [],
   "source": []
  },
  {
   "cell_type": "code",
   "execution_count": null,
   "id": "3b4db0c1",
   "metadata": {},
   "outputs": [],
   "source": []
  },
  {
   "cell_type": "code",
   "execution_count": null,
   "id": "f00d7686",
   "metadata": {},
   "outputs": [],
   "source": []
  }
 ],
 "metadata": {
  "kernelspec": {
   "display_name": "Python 3 (ipykernel)",
   "language": "python",
   "name": "python3"
  },
  "language_info": {
   "codemirror_mode": {
    "name": "ipython",
    "version": 3
   },
   "file_extension": ".py",
   "mimetype": "text/x-python",
   "name": "python",
   "nbconvert_exporter": "python",
   "pygments_lexer": "ipython3",
   "version": "3.11.5"
  }
 },
 "nbformat": 4,
 "nbformat_minor": 5
}
