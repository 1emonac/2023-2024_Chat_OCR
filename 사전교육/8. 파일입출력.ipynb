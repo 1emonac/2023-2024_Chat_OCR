{
 "cells": [
  {
   "cell_type": "markdown",
   "id": "f6ad0ba6",
   "metadata": {},
   "source": [
    "# 파일입출력의 개요\n",
    "\n",
    "- 파일 입력 : 파일의 내용을 읽어들이는 것\n",
    "- 파일 출력 : 파일에 새로운 내용을 추가하거나 새 파일을 생성하는 것"
   ]
  },
  {
   "cell_type": "markdown",
   "id": "e58dccbe",
   "metadata": {},
   "source": [
    "## 파일 열기\n",
    "\n",
    "- 입출력 작업을 할 파일을 지정하는 것"
   ]
  },
  {
   "cell_type": "code",
   "execution_count": 1,
   "id": "0a3805d5",
   "metadata": {},
   "outputs": [],
   "source": [
    "f = open(\"./sample.txt\", mode = \"r\")"
   ]
  },
  {
   "cell_type": "markdown",
   "id": "3117f39a",
   "metadata": {},
   "source": [
    "### 파일 열기 모드\n",
    "\n",
    "- r : 읽기 모드, 파일 없으면 Error\n",
    "- w : 쓰기 모드, 파일 없으면 새로 만듦\n",
    "    - 기존 파일에 있던 데이터를 완전히 지우고 다시 씀\n",
    "- a : 파일 추가로 쓰기 모드, 파일이 없으면 새로 만듦\n",
    "\n",
    "- r+ : 읽기 또는 쓰기 모드, 파일 없으면 Error\n",
    "    - 기존 파일 내용은 그대로 두고 그 위에 덮어 쓰기를 함\n",
    "- w+ : 읽기 또는 쓰기 모드, 파일 없으면 새로 만듦\n",
    "- a+ : 읽기 또는 파일 추가 모드, 파일 없으면 새로 만듦\n",
    "\n",
    "- t : 텍스트 모드로 파일을 엶\n",
    "    - wt, rt, at\n",
    "- b : 바이너리 모드로 파일을 엶\n",
    "    - rb, wb, ab"
   ]
  },
  {
   "cell_type": "code",
   "execution_count": 2,
   "id": "b5693046",
   "metadata": {},
   "outputs": [],
   "source": [
    "# 파일 닫기\n",
    "f.close()"
   ]
  },
  {
   "cell_type": "markdown",
   "id": "3fdaf5e6",
   "metadata": {},
   "source": [
    "### 파일 생성"
   ]
  },
  {
   "cell_type": "code",
   "execution_count": 4,
   "id": "f10eef37",
   "metadata": {},
   "outputs": [],
   "source": [
    "f = open(\"myfile.txt\", mode = \"w\")\n",
    "f.close()"
   ]
  },
  {
   "cell_type": "markdown",
   "id": "75eb0a0e",
   "metadata": {},
   "source": [
    "## with 문\n",
    "\n",
    "- 파일 사용이 끝난 다음에는 반드시 close()로 파일을 닫아줘야 함\n",
    "- 자동으로 파일을 닫아주는 문법이 with 문\n"
   ]
  },
  {
   "cell_type": "code",
   "execution_count": 6,
   "id": "673db9e3",
   "metadata": {},
   "outputs": [
    {
     "name": "stdout",
     "output_type": "stream",
     "text": [
      "myfile.txt 파일이 생성됨\n"
     ]
    }
   ],
   "source": [
    "with open(\"myfile.txt\", mode = \"w\") as f:\n",
    "    print(\"myfile.txt 파일이 생성됨\")"
   ]
  },
  {
   "cell_type": "markdown",
   "id": "b0a26498",
   "metadata": {},
   "source": [
    "### 파일 출력"
   ]
  },
  {
   "cell_type": "code",
   "execution_count": 9,
   "id": "7aadaae3",
   "metadata": {},
   "outputs": [],
   "source": [
    "with open(\"myfile.txt\", mode = \"w\") as f:\n",
    "    f.write(\"안녕하세요\\n반갑습니다\\n\")"
   ]
  },
  {
   "cell_type": "markdown",
   "id": "cf843762",
   "metadata": {},
   "source": [
    "### 파일에 내용 추가"
   ]
  },
  {
   "cell_type": "code",
   "execution_count": 10,
   "id": "acfd1122",
   "metadata": {},
   "outputs": [],
   "source": [
    "with open(\"myfile.txt\", mode = \"a\") as f:\n",
    "    f.write(\"Hello\\nNice to meet you\\n\")"
   ]
  },
  {
   "cell_type": "markdown",
   "id": "cb1e5777",
   "metadata": {},
   "source": [
    "### 파일 입력"
   ]
  },
  {
   "cell_type": "code",
   "execution_count": 12,
   "id": "d273b7ce",
   "metadata": {},
   "outputs": [
    {
     "name": "stdout",
     "output_type": "stream",
     "text": [
      "안녕하세요\n",
      "반갑습니다\n",
      "Hello\n",
      "Nice to meet you\n",
      "\n"
     ]
    }
   ],
   "source": [
    "# read()\n",
    "with open(\"myfile.txt\", mode = \"r\") as f:\n",
    "    string = f.read()\n",
    "    print(string)"
   ]
  },
  {
   "cell_type": "code",
   "execution_count": 17,
   "id": "587d0b45",
   "metadata": {},
   "outputs": [
    {
     "name": "stdout",
     "output_type": "stream",
     "text": [
      "안녕하세요\n"
     ]
    }
   ],
   "source": [
    "with open(\"myfile.txt\", mode = \"r\") as f:\n",
    "    string = f.read(5) # 최대 5글자만 읽음\n",
    "    print(string)"
   ]
  },
  {
   "cell_type": "code",
   "execution_count": 18,
   "id": "50b23ff4",
   "metadata": {},
   "outputs": [
    {
     "name": "stdout",
     "output_type": "stream",
     "text": [
      "안녕하세요\n",
      "\n",
      "반갑습니다\n",
      "\n",
      "Hello\n",
      "\n",
      "Nice to meet you\n",
      "\n"
     ]
    }
   ],
   "source": [
    "# readline()\n",
    "with open(\"myfile.txt\", mode = \"r\") as f:\n",
    "    while True:\n",
    "        string = f.readline()\n",
    "        \n",
    "        if string == \"\":\n",
    "            break\n",
    "            \n",
    "        print(string)"
   ]
  },
  {
   "cell_type": "code",
   "execution_count": 19,
   "id": "ec1e9eec",
   "metadata": {},
   "outputs": [
    {
     "name": "stdout",
     "output_type": "stream",
     "text": [
      "안녕하세요\n",
      "\n",
      "반갑습니다\n",
      "\n",
      "Hello\n",
      "\n",
      "Nice to meet you\n",
      "\n"
     ]
    }
   ],
   "source": [
    "# readlines()\n",
    "with open(\"myfile.txt\", mode = \"r\") as f:\n",
    "    # f.readlines() = [\"안녕하세요\\n\", \"반갑습니다\\n\", \"Hello\\n\", \"Nice to meet you\\n\"] \n",
    "    for line in f.readlines():\n",
    "        print(line)"
   ]
  },
  {
   "cell_type": "code",
   "execution_count": null,
   "id": "eb0ed8f6",
   "metadata": {},
   "outputs": [],
   "source": []
  }
 ],
 "metadata": {
  "kernelspec": {
   "display_name": "Python 3 (ipykernel)",
   "language": "python",
   "name": "python3"
  },
  "language_info": {
   "codemirror_mode": {
    "name": "ipython",
    "version": 3
   },
   "file_extension": ".py",
   "mimetype": "text/x-python",
   "name": "python",
   "nbconvert_exporter": "python",
   "pygments_lexer": "ipython3",
   "version": "3.11.5"
  }
 },
 "nbformat": 4,
 "nbformat_minor": 5
}
