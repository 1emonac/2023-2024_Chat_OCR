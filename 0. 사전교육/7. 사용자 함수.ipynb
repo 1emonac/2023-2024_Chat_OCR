{
 "cells": [
  {
   "cell_type": "markdown",
   "id": "9436c436",
   "metadata": {},
   "source": [
    "# 사용자 함수\n",
    "\n",
    "- 인수 : 사용자 함수에 전달할 입력. argument\n",
    "- 매개변수 : 인수를 받아서 저장하는 변수. parameter\n",
    "- 반환값 : 사용자 함수의 출력. return\n",
    "- 함수 호출 : 만들어진 함수를 실제로 사용하는 것"
   ]
  },
  {
   "cell_type": "markdown",
   "id": "202c74b1",
   "metadata": {},
   "source": [
    "## 함수 정의\n",
    "\n",
    "'''\n",
    "def 함수이름(매개변수):\n",
    "    실행문\n",
    "    return 반환값\n",
    "'''"
   ]
  },
  {
   "cell_type": "code",
   "execution_count": 1,
   "id": "f1b4893d",
   "metadata": {},
   "outputs": [],
   "source": [
    "# welcome 함수 정의\n",
    "def welcome():\n",
    "    print(\"Hello!\")\n",
    "    print(\"Nice to meet you\")"
   ]
  },
  {
   "cell_type": "code",
   "execution_count": 2,
   "id": "6a7051e7",
   "metadata": {},
   "outputs": [
    {
     "name": "stdout",
     "output_type": "stream",
     "text": [
      "Hello!\n",
      "Nice to meet you\n"
     ]
    }
   ],
   "source": [
    "welcome()"
   ]
  },
  {
   "cell_type": "markdown",
   "id": "7636f9d3",
   "metadata": {},
   "source": [
    "## 함수 사용의 장점\n",
    "\n",
    "- 코드의 용도를 구분\n",
    "- 코드 재사용이 용이\n",
    "- 실수를 방지(오타 등)"
   ]
  },
  {
   "cell_type": "markdown",
   "id": "e96a2f4b",
   "metadata": {},
   "source": [
    "## 인수와 매개변수\n",
    "\n",
    "- 인수와 매개변수는 다른 개념이지만 함수가 호출된 뒤에 구분이 모호해지므로 구분하지 않는 경우도 많음"
   ]
  },
  {
   "cell_type": "markdown",
   "id": "4f22cf50",
   "metadata": {},
   "source": [
    "### 인수가 있는 함수"
   ]
  },
  {
   "cell_type": "code",
   "execution_count": 3,
   "id": "ce383762",
   "metadata": {},
   "outputs": [],
   "source": [
    "def introduce(name, age): # 매개변수 : name, age\n",
    "    print(f\"내 이름은 {name}이고, 나이는 {age}살입니다.\")"
   ]
  },
  {
   "cell_type": "code",
   "execution_count": 7,
   "id": "d2b232ba",
   "metadata": {},
   "outputs": [
    {
     "ename": "TypeError",
     "evalue": "introduce() missing 2 required positional arguments: 'name' and 'age'",
     "output_type": "error",
     "traceback": [
      "\u001b[1;31m---------------------------------------------------------------------------\u001b[0m",
      "\u001b[1;31mTypeError\u001b[0m                                 Traceback (most recent call last)",
      "Cell \u001b[1;32mIn[7], line 1\u001b[0m\n\u001b[1;32m----> 1\u001b[0m introduce()\n",
      "\u001b[1;31mTypeError\u001b[0m: introduce() missing 2 required positional arguments: 'name' and 'age'"
     ]
    }
   ],
   "source": [
    "introduce() # 2개의 arguments(인수)가 필요하다는 에러"
   ]
  },
  {
   "cell_type": "code",
   "execution_count": 8,
   "id": "2cd77acb",
   "metadata": {},
   "outputs": [
    {
     "name": "stdout",
     "output_type": "stream",
     "text": [
      "내 이름은 jun이고, 나이는 25살입니다.\n"
     ]
    }
   ],
   "source": [
    "introduce(\"jun\", 25)"
   ]
  },
  {
   "cell_type": "markdown",
   "id": "078e84af",
   "metadata": {},
   "source": [
    "### 가변 매개변수\n",
    "\n",
    "- 함수로 전달해야 하는 인수의 개수가 정해지지 않은 매개변수\n",
    "- 함수 정의 시 매개변수 앞에 * 를 붙이면 가변 매개변수가 됨\n",
    "- 전달되는 인수는 하나의 튜플 형태로 전달"
   ]
  },
  {
   "cell_type": "code",
   "execution_count": 9,
   "id": "31a12ff6",
   "metadata": {},
   "outputs": [],
   "source": [
    "def show(*args):\n",
    "    print(args)"
   ]
  },
  {
   "cell_type": "code",
   "execution_count": 10,
   "id": "b8d9799c",
   "metadata": {},
   "outputs": [
    {
     "name": "stdout",
     "output_type": "stream",
     "text": [
      "('Python',)\n"
     ]
    }
   ],
   "source": [
    "show(\"Python\")"
   ]
  },
  {
   "cell_type": "code",
   "execution_count": 11,
   "id": "3506c8e0",
   "metadata": {},
   "outputs": [
    {
     "name": "stdout",
     "output_type": "stream",
     "text": [
      "('happy', 'birthday')\n"
     ]
    }
   ],
   "source": [
    "show(\"happy\", \"birthday\")"
   ]
  },
  {
   "cell_type": "markdown",
   "id": "20df4766",
   "metadata": {},
   "source": [
    "### 디폴트 매개변수\n",
    "\n",
    "- 매개변수로 전달되는 인수가 없는 경우에 기본적으로 사용하는 값"
   ]
  },
  {
   "cell_type": "code",
   "execution_count": 12,
   "id": "453873ee",
   "metadata": {},
   "outputs": [],
   "source": [
    "def greet(message = \"안녕하세요\"):\n",
    "    print(message)"
   ]
  },
  {
   "cell_type": "code",
   "execution_count": 14,
   "id": "17f0fe5e",
   "metadata": {},
   "outputs": [
    {
     "name": "stdout",
     "output_type": "stream",
     "text": [
      "안녕하세요\n"
     ]
    }
   ],
   "source": [
    "greet()"
   ]
  },
  {
   "cell_type": "code",
   "execution_count": 15,
   "id": "1270c1e6",
   "metadata": {},
   "outputs": [
    {
     "name": "stdout",
     "output_type": "stream",
     "text": [
      "반갑습니다\n"
     ]
    }
   ],
   "source": [
    "greet(\"반갑습니다\")"
   ]
  },
  {
   "cell_type": "markdown",
   "id": "3a928949",
   "metadata": {},
   "source": [
    "#### 디폴트 매개변수의 위치\n",
    "\n",
    "- 초기값이 지정된 매개변수 다음에는 초기값 없는 매개변수가 올 수 없음"
   ]
  },
  {
   "cell_type": "code",
   "execution_count": 16,
   "id": "e220a1ae",
   "metadata": {},
   "outputs": [
    {
     "ename": "SyntaxError",
     "evalue": "non-default argument follows default argument (1827357526.py, line 1)",
     "output_type": "error",
     "traceback": [
      "\u001b[1;36m  Cell \u001b[1;32mIn[16], line 1\u001b[1;36m\u001b[0m\n\u001b[1;33m    def info(name, address = \"비공개\", age):\u001b[0m\n\u001b[1;37m                                    ^\u001b[0m\n\u001b[1;31mSyntaxError\u001b[0m\u001b[1;31m:\u001b[0m non-default argument follows default argument\n"
     ]
    }
   ],
   "source": [
    "def info(name, address = \"비공개\", age):\n",
    "    print(f\"이름은 {name} 나이는 {age} 주소는 {address}\")\n",
    "    \n",
    "info(\"홍길동\", 30)"
   ]
  },
  {
   "cell_type": "code",
   "execution_count": 17,
   "id": "b8572889",
   "metadata": {},
   "outputs": [
    {
     "name": "stdout",
     "output_type": "stream",
     "text": [
      "이름은 홍길동 나이는 30 주소는 비공개\n"
     ]
    }
   ],
   "source": [
    "def info(name, age, address = \"비공개\"):\n",
    "    print(f\"이름은 {name} 나이는 {age} 주소는 {address}\")\n",
    "    \n",
    "info(\"홍길동\", 30)"
   ]
  },
  {
   "cell_type": "markdown",
   "id": "9d32722d",
   "metadata": {},
   "source": [
    "## 반환값\n",
    "\n",
    "- 함수 호출의 결과\n",
    "- return 문을 통해 반환값 설정 가능"
   ]
  },
  {
   "cell_type": "markdown",
   "id": "251e86a7",
   "metadata": {},
   "source": [
    "### 반환값이 있는 함수"
   ]
  },
  {
   "cell_type": "code",
   "execution_count": 18,
   "id": "7f9222bc",
   "metadata": {},
   "outputs": [],
   "source": [
    "def address():\n",
    "    str1 = \"우편번호 12345\"\n",
    "    str1 = str1 + \"서울시 마포구\""
   ]
  },
  {
   "cell_type": "code",
   "execution_count": 19,
   "id": "5f99bbca",
   "metadata": {},
   "outputs": [
    {
     "name": "stdout",
     "output_type": "stream",
     "text": [
      "None\n"
     ]
    }
   ],
   "source": [
    "print(address())"
   ]
  },
  {
   "cell_type": "code",
   "execution_count": 21,
   "id": "5c19db65",
   "metadata": {},
   "outputs": [],
   "source": [
    "def address():\n",
    "    str1 = \"우편번호 12345\"\n",
    "    str1 = str1 + \"서울시 마포구\"\n",
    "    return str1"
   ]
  },
  {
   "cell_type": "code",
   "execution_count": 22,
   "id": "472b60d0",
   "metadata": {},
   "outputs": [
    {
     "name": "stdout",
     "output_type": "stream",
     "text": [
      "우편번호 12345서울시 마포구\n"
     ]
    }
   ],
   "source": [
    "print(address())"
   ]
  },
  {
   "cell_type": "markdown",
   "id": "fae6f142",
   "metadata": {},
   "source": [
    "### 다중 반환\n",
    "\n",
    "- 하나의 반환값 뿐만 아니라 여러 개의 반환값도 처리 가능"
   ]
  },
  {
   "cell_type": "code",
   "execution_count": 25,
   "id": "bdd24509",
   "metadata": {},
   "outputs": [],
   "source": [
    "def calculator(*args):\n",
    "    return sum(args), sum(args)/len(args), max(args), min(args)"
   ]
  },
  {
   "cell_type": "code",
   "execution_count": 26,
   "id": "7d094cd1",
   "metadata": {},
   "outputs": [
    {
     "data": {
      "text/plain": [
       "(15, 3.0, 5, 1)"
      ]
     },
     "execution_count": 26,
     "metadata": {},
     "output_type": "execute_result"
    }
   ],
   "source": [
    "calculator(1, 2, 3, 4, 5)"
   ]
  },
  {
   "cell_type": "code",
   "execution_count": 27,
   "id": "23ddd0a9",
   "metadata": {},
   "outputs": [],
   "source": [
    "result = calculator(1, 2, 3, 4, 5)"
   ]
  },
  {
   "cell_type": "code",
   "execution_count": 28,
   "id": "8b87ebed",
   "metadata": {},
   "outputs": [
    {
     "data": {
      "text/plain": [
       "(15, 3.0, 5, 1)"
      ]
     },
     "execution_count": 28,
     "metadata": {},
     "output_type": "execute_result"
    }
   ],
   "source": [
    "result"
   ]
  },
  {
   "cell_type": "code",
   "execution_count": 30,
   "id": "c2b81aa3",
   "metadata": {},
   "outputs": [
    {
     "name": "stdout",
     "output_type": "stream",
     "text": [
      "합계 :  15\n",
      "평균 :  3.0\n",
      "최댓값 :  5\n",
      "최솟값 :  1\n"
     ]
    }
   ],
   "source": [
    "print(\"합계 : \", result[0])\n",
    "print(\"평균 : \", result[1])\n",
    "print(\"최댓값 : \", result[2])\n",
    "print(\"최솟값 : \", result[3])"
   ]
  },
  {
   "cell_type": "code",
   "execution_count": 31,
   "id": "209a7b47",
   "metadata": {},
   "outputs": [
    {
     "name": "stdout",
     "output_type": "stream",
     "text": [
      "합계 :  15\n",
      "평균 :  3.0\n",
      "최댓값 :  5\n",
      "최솟값 :  1\n"
     ]
    }
   ],
   "source": [
    "plus, mean, maximum, minimum = calculator(1, 2, 3, 4, 5)\n",
    "\n",
    "print(\"합계 : \", plus)\n",
    "print(\"평균 : \", mean)\n",
    "print(\"최댓값 : \", maximum)\n",
    "print(\"최솟값 : \", minimum)"
   ]
  },
  {
   "cell_type": "markdown",
   "id": "1e54cf43",
   "metadata": {},
   "source": [
    "# 지역변수와 전역변수\n",
    "\n",
    "## 지역변수\n",
    "- 함수 내부에서 선언한 변수는 함수 내부에서만 사용할 수 있는 변수가 됨\n",
    "- 함수 외부에서는 지역변수에 접근할 수 없음"
   ]
  },
  {
   "cell_type": "code",
   "execution_count": 32,
   "id": "251cc7ac",
   "metadata": {},
   "outputs": [],
   "source": [
    "def f():\n",
    "    a = 10\n",
    "    print(a)"
   ]
  },
  {
   "cell_type": "code",
   "execution_count": 33,
   "id": "b05a4669",
   "metadata": {},
   "outputs": [
    {
     "name": "stdout",
     "output_type": "stream",
     "text": [
      "10\n"
     ]
    }
   ],
   "source": [
    "f()"
   ]
  },
  {
   "cell_type": "code",
   "execution_count": 34,
   "id": "9d2ae6f1",
   "metadata": {},
   "outputs": [
    {
     "ename": "NameError",
     "evalue": "name 'a' is not defined",
     "output_type": "error",
     "traceback": [
      "\u001b[1;31m---------------------------------------------------------------------------\u001b[0m",
      "\u001b[1;31mNameError\u001b[0m                                 Traceback (most recent call last)",
      "Cell \u001b[1;32mIn[34], line 1\u001b[0m\n\u001b[1;32m----> 1\u001b[0m \u001b[38;5;28mprint\u001b[39m(a)\n",
      "\u001b[1;31mNameError\u001b[0m: name 'a' is not defined"
     ]
    }
   ],
   "source": [
    "print(a)"
   ]
  },
  {
   "cell_type": "markdown",
   "id": "130c7033",
   "metadata": {},
   "source": [
    "## 전역변수\n",
    "\n",
    "- 함수 외부에서 선언한 변수\n",
    "- 전역변수는 함수 내부에서도 사용 가능"
   ]
  },
  {
   "cell_type": "code",
   "execution_count": 35,
   "id": "6b7c4948",
   "metadata": {},
   "outputs": [],
   "source": [
    "b = 10"
   ]
  },
  {
   "cell_type": "code",
   "execution_count": 36,
   "id": "b9b5136f",
   "metadata": {},
   "outputs": [],
   "source": [
    "def f():\n",
    "    print(b)"
   ]
  },
  {
   "cell_type": "code",
   "execution_count": 37,
   "id": "b2f54a70",
   "metadata": {},
   "outputs": [
    {
     "name": "stdout",
     "output_type": "stream",
     "text": [
      "10\n"
     ]
    }
   ],
   "source": [
    "f()"
   ]
  },
  {
   "cell_type": "markdown",
   "id": "a6cb35d3",
   "metadata": {},
   "source": [
    "- 전역변수를 함수 내부에서 사용하는 2가지 경우\n",
    "    - 단순 참조\n",
    "    - 전역변수의 값을 변경"
   ]
  },
  {
   "cell_type": "code",
   "execution_count": 38,
   "id": "1e6e3ed0",
   "metadata": {},
   "outputs": [],
   "source": [
    "# 전역변수의 값을 변경\n",
    "a = 0"
   ]
  },
  {
   "cell_type": "code",
   "execution_count": 39,
   "id": "b1a4e2f9",
   "metadata": {},
   "outputs": [],
   "source": [
    "def f():\n",
    "    a = 10\n",
    "    print(a)"
   ]
  },
  {
   "cell_type": "code",
   "execution_count": 40,
   "id": "a5d0c902",
   "metadata": {},
   "outputs": [
    {
     "name": "stdout",
     "output_type": "stream",
     "text": [
      "10\n"
     ]
    }
   ],
   "source": [
    "f()"
   ]
  },
  {
   "cell_type": "code",
   "execution_count": 41,
   "id": "d17f71b9",
   "metadata": {},
   "outputs": [
    {
     "data": {
      "text/plain": [
       "0"
      ]
     },
     "execution_count": 41,
     "metadata": {},
     "output_type": "execute_result"
    }
   ],
   "source": [
    "a"
   ]
  },
  {
   "cell_type": "code",
   "execution_count": 42,
   "id": "518314df",
   "metadata": {},
   "outputs": [],
   "source": [
    "def f():\n",
    "    global a # 전역변수 a를 사용하겠다\n",
    "    a = 10\n",
    "    print(a)"
   ]
  },
  {
   "cell_type": "code",
   "execution_count": 43,
   "id": "5310cb0e",
   "metadata": {},
   "outputs": [
    {
     "name": "stdout",
     "output_type": "stream",
     "text": [
      "10\n"
     ]
    }
   ],
   "source": [
    "f()"
   ]
  },
  {
   "cell_type": "code",
   "execution_count": 44,
   "id": "447a19be",
   "metadata": {},
   "outputs": [
    {
     "data": {
      "text/plain": [
       "10"
      ]
     },
     "execution_count": 44,
     "metadata": {},
     "output_type": "execute_result"
    }
   ],
   "source": [
    "a"
   ]
  },
  {
   "cell_type": "markdown",
   "id": "f2b2f92f",
   "metadata": {},
   "source": [
    "### 딕셔너리 인수"
   ]
  },
  {
   "cell_type": "code",
   "execution_count": 46,
   "id": "16efa82d",
   "metadata": {},
   "outputs": [],
   "source": [
    "def info(name, age, address):\n",
    "    print(\"name 변수는 \", name)\n",
    "    print(\"age 변수는 \", age)\n",
    "    print(\"address 변수는 \", address)\n",
    "    print()\n",
    "    print(f\"이름은 {name} 나이는 {age} 주소는 {address}\")"
   ]
  },
  {
   "cell_type": "code",
   "execution_count": 49,
   "id": "07235030",
   "metadata": {},
   "outputs": [
    {
     "name": "stdout",
     "output_type": "stream",
     "text": [
      "name 변수는  홍길동\n",
      "age 변수는  30\n",
      "address 변수는  서울시 마포구\n",
      "\n",
      "이름은 홍길동 나이는 30 주소는 서울시 마포구\n"
     ]
    }
   ],
   "source": [
    "info(\"홍길동\", 30, \"서울시 마포구\")"
   ]
  },
  {
   "cell_type": "code",
   "execution_count": 51,
   "id": "727ce55d",
   "metadata": {},
   "outputs": [],
   "source": [
    "x = {\"name\" : \"홍길동\",\n",
    "    \"age\" : 30,\n",
    "    \"address\" : \"서울시 마포구\"}"
   ]
  },
  {
   "cell_type": "code",
   "execution_count": 52,
   "id": "8d29af29",
   "metadata": {},
   "outputs": [
    {
     "name": "stdout",
     "output_type": "stream",
     "text": [
      "name 변수는  홍길동\n",
      "age 변수는  30\n",
      "address 변수는  서울시 마포구\n",
      "\n",
      "이름은 홍길동 나이는 30 주소는 서울시 마포구\n"
     ]
    }
   ],
   "source": [
    "info(**x) # dic data인데 통째로 들어가는 것이 아니라 풀어헤쳐서 사용할거임"
   ]
  },
  {
   "cell_type": "code",
   "execution_count": 53,
   "id": "a0a9e341",
   "metadata": {},
   "outputs": [],
   "source": [
    "# 매개변수 이름과 딕셔너리의 키가 다르면 에러가 발생\n",
    "def info(name, old, address):\n",
    "    print(\"name 변수는 \", name)\n",
    "    print(\"old 변수는 \", old)\n",
    "    print(\"address 변수는 \", address)\n",
    "    print()\n",
    "    print(f\"이름은 {name} 나이는 {old} 주소는 {address}\")"
   ]
  },
  {
   "cell_type": "code",
   "execution_count": 54,
   "id": "c4ee5e43",
   "metadata": {},
   "outputs": [
    {
     "ename": "TypeError",
     "evalue": "info() got an unexpected keyword argument 'age'",
     "output_type": "error",
     "traceback": [
      "\u001b[1;31m---------------------------------------------------------------------------\u001b[0m",
      "\u001b[1;31mTypeError\u001b[0m                                 Traceback (most recent call last)",
      "Cell \u001b[1;32mIn[54], line 1\u001b[0m\n\u001b[1;32m----> 1\u001b[0m info(\u001b[38;5;241m*\u001b[39m\u001b[38;5;241m*\u001b[39mx)\n",
      "\u001b[1;31mTypeError\u001b[0m: info() got an unexpected keyword argument 'age'"
     ]
    }
   ],
   "source": [
    "info(**x)"
   ]
  },
  {
   "cell_type": "code",
   "execution_count": 55,
   "id": "28bf8d50",
   "metadata": {},
   "outputs": [
    {
     "name": "stdout",
     "output_type": "stream",
     "text": [
      "name 변수는  name\n",
      "old 변수는  age\n",
      "address 변수는  address\n",
      "\n",
      "이름은 name 나이는 age 주소는 address\n"
     ]
    }
   ],
   "source": [
    "# *을 하나만 쓰면 x 딕셔너리의 키가 출력됨\n",
    "info(*x) # (\"name\", \"age\", \"address\")"
   ]
  },
  {
   "cell_type": "markdown",
   "id": "3e18a4b4",
   "metadata": {},
   "source": [
    "### 키워드 인수를 사용하는 가변 인수 함수"
   ]
  },
  {
   "cell_type": "code",
   "execution_count": 56,
   "id": "6a4052bb",
   "metadata": {},
   "outputs": [],
   "source": [
    "def info(**kwargs): # keyword argument\n",
    "    for kw, arg in kwargs.items():\n",
    "        print(kw, \":\", arg)"
   ]
  },
  {
   "cell_type": "code",
   "execution_count": 57,
   "id": "e949c64a",
   "metadata": {},
   "outputs": [
    {
     "name": "stdout",
     "output_type": "stream",
     "text": [
      "name : 홍길동\n"
     ]
    }
   ],
   "source": [
    "info(name = \"홍길동\")"
   ]
  },
  {
   "cell_type": "code",
   "execution_count": 58,
   "id": "126973b8",
   "metadata": {},
   "outputs": [
    {
     "name": "stdout",
     "output_type": "stream",
     "text": [
      "name : 홍길동\n",
      "age : 30\n",
      "address : 부산시 부산진구\n"
     ]
    }
   ],
   "source": [
    "info(name = \"홍길동\", age = 30, address = \"부산시 부산진구\")"
   ]
  },
  {
   "cell_type": "code",
   "execution_count": null,
   "id": "f170b68f",
   "metadata": {},
   "outputs": [],
   "source": []
  }
 ],
 "metadata": {
  "kernelspec": {
   "display_name": "Python 3 (ipykernel)",
   "language": "python",
   "name": "python3"
  },
  "language_info": {
   "codemirror_mode": {
    "name": "ipython",
    "version": 3
   },
   "file_extension": ".py",
   "mimetype": "text/x-python",
   "name": "python",
   "nbconvert_exporter": "python",
   "pygments_lexer": "ipython3",
   "version": "3.11.5"
  }
 },
 "nbformat": 4,
 "nbformat_minor": 5
}
