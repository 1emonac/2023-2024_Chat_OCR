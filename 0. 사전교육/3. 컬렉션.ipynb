{
 "cells": [
  {
   "cell_type": "markdown",
   "id": "b4382f47",
   "metadata": {},
   "source": [
    "# 컬렉션\n",
    "\n",
    "- 여러 값을 하나의 이름으로 묶어서 관리하는 자료형\n",
    "\n",
    "| 컬렉션 | 생성 함수 | 특징 | 예시 |\n",
    "| :-- | :-- | :-- | :-- |\n",
    "| 리스트 | list() | 추가, 수정, 삭제가 언제나 가능 | a = [1, 2, 3] |\n",
    "| 튜플 | tuple() | 생성되고 나면 변경 불가능 | a = (1, 2, 3) |\n",
    "| 세트 | set() | 중복된 값의 저장 불가능 | a = {1, 2, 3} |\n",
    "| 딕셔너리 | dict() | 키 + 값으로 관리 | a = {\"age\" : 25} |\n",
    "\n",
    "- 이 중에서 저장된 값들의 순서가 있는 컬렉션을 시퀀스(Sequence) 라고 부름\n",
    "    - 시퀀스 : 리스트, 튜플 "
   ]
  },
  {
   "cell_type": "markdown",
   "id": "4a0b7ec8",
   "metadata": {},
   "source": [
    "## 리스트\n",
    "\n",
    "- 여러 값을 저장할 때 가장 많이 사용하는 자료형\n",
    "- 저장하려는 값들의 자료형이 서로 다르더라도 하나의 리스트로 저장할 수 있음"
   ]
  },
  {
   "cell_type": "code",
   "execution_count": 2,
   "id": "28cf34f7",
   "metadata": {},
   "outputs": [
    {
     "data": {
      "text/plain": [
       "[100, 3.14, 'hello']"
      ]
     },
     "execution_count": 2,
     "metadata": {},
     "output_type": "execute_result"
    }
   ],
   "source": [
    "# 리스트 생성\n",
    "li = [100, 3.14, \"hello\"]\n",
    "li"
   ]
  },
  {
   "cell_type": "code",
   "execution_count": 5,
   "id": "029b5556",
   "metadata": {},
   "outputs": [
    {
     "data": {
      "text/plain": [
       "[0, 1, 2, 3, 4, 5, 6, 7, 8, 9]"
      ]
     },
     "execution_count": 5,
     "metadata": {},
     "output_type": "execute_result"
    }
   ],
   "source": [
    "# range() : 연속된 숫자 생성\n",
    "list(range(10))"
   ]
  },
  {
   "cell_type": "code",
   "execution_count": 7,
   "id": "baf8b4d2",
   "metadata": {},
   "outputs": [
    {
     "data": {
      "text/plain": [
       "[-4, -2, 0, 2, 4, 6, 8]"
      ]
     },
     "execution_count": 7,
     "metadata": {},
     "output_type": "execute_result"
    }
   ],
   "source": [
    "list(range(-4, 10, 2)) # (시작값, 종료값, 증감값)"
   ]
  },
  {
   "cell_type": "code",
   "execution_count": 10,
   "id": "12f2edd4",
   "metadata": {},
   "outputs": [
    {
     "data": {
      "text/plain": [
       "[10, 9, 8, 7, 6, 5, 4, 3, 2, 1]"
      ]
     },
     "execution_count": 10,
     "metadata": {},
     "output_type": "execute_result"
    }
   ],
   "source": [
    "list(range(10, 0, -1))"
   ]
  },
  {
   "cell_type": "code",
   "execution_count": 11,
   "id": "1a07754c",
   "metadata": {},
   "outputs": [
    {
     "data": {
      "text/plain": [
       "[5, 3, 1, -1, -3, -5, -7, -9]"
      ]
     },
     "execution_count": 11,
     "metadata": {},
     "output_type": "execute_result"
    }
   ],
   "source": [
    "# range()를 이용하여 [5, 3, 1, -1, -3, -5, -7, -9]를 출력\n",
    "list(range(5, -10, -2))"
   ]
  },
  {
   "cell_type": "markdown",
   "id": "546308ee",
   "metadata": {},
   "source": [
    "### 리스트의 인덱싱(Indexing)과 슬라이싱(Slicing)"
   ]
  },
  {
   "cell_type": "code",
   "execution_count": 13,
   "id": "71fda6d7",
   "metadata": {},
   "outputs": [
    {
     "name": "stdout",
     "output_type": "stream",
     "text": [
      "100\n",
      "3.14\n",
      "hello\n"
     ]
    }
   ],
   "source": [
    "# 인덱싱\n",
    "print(li[0])\n",
    "print(li[1])\n",
    "print(li[2])"
   ]
  },
  {
   "cell_type": "code",
   "execution_count": 16,
   "id": "fe72b868",
   "metadata": {},
   "outputs": [
    {
     "data": {
      "text/plain": [
       "[10, 20, 30]"
      ]
     },
     "execution_count": 16,
     "metadata": {},
     "output_type": "execute_result"
    }
   ],
   "source": [
    "# 슬라이싱\n",
    "li = [10, 20, 30, 40, 50]\n",
    "li[:3] # li[시작인덱스:종료인덱스:(증감값)]"
   ]
  },
  {
   "cell_type": "markdown",
   "id": "7f429bfa",
   "metadata": {},
   "source": [
    "### 리스트 요소의 추가와 삭제\n",
    "\n",
    "- 새로운 요소 추가 : append(), insert()\n",
    "- 요소 삭제 : pop(), del"
   ]
  },
  {
   "cell_type": "code",
   "execution_count": 17,
   "id": "cb70b397",
   "metadata": {},
   "outputs": [
    {
     "data": {
      "text/plain": [
       "[50, 40, 30]"
      ]
     },
     "execution_count": 17,
     "metadata": {},
     "output_type": "execute_result"
    }
   ],
   "source": [
    "scores = [50, 40, 30]\n",
    "scores"
   ]
  },
  {
   "cell_type": "code",
   "execution_count": 18,
   "id": "0abb9af5",
   "metadata": {},
   "outputs": [],
   "source": [
    "# scores 리스트에 마지막 요소로 100을 추가\n",
    "scores.append(100)"
   ]
  },
  {
   "cell_type": "code",
   "execution_count": 19,
   "id": "79afe12d",
   "metadata": {},
   "outputs": [
    {
     "data": {
      "text/plain": [
       "[50, 40, 30, 100]"
      ]
     },
     "execution_count": 19,
     "metadata": {},
     "output_type": "execute_result"
    }
   ],
   "source": [
    "scores"
   ]
  },
  {
   "cell_type": "code",
   "execution_count": 20,
   "id": "defe81aa",
   "metadata": {},
   "outputs": [],
   "source": [
    "# scores 리스트의 인덱스 0에 90을 추가\n",
    "scores.insert(0, 90)"
   ]
  },
  {
   "cell_type": "code",
   "execution_count": 22,
   "id": "c3830205",
   "metadata": {},
   "outputs": [
    {
     "data": {
      "text/plain": [
       "[90, 50, 40, 30, 100]"
      ]
     },
     "execution_count": 22,
     "metadata": {},
     "output_type": "execute_result"
    }
   ],
   "source": [
    "scores"
   ]
  },
  {
   "cell_type": "code",
   "execution_count": 23,
   "id": "cb77bb7a",
   "metadata": {},
   "outputs": [
    {
     "data": {
      "text/plain": [
       "100"
      ]
     },
     "execution_count": 23,
     "metadata": {},
     "output_type": "execute_result"
    }
   ],
   "source": [
    "# scores 리스트의 마지막 요소를 제거\n",
    "scores.pop()"
   ]
  },
  {
   "cell_type": "code",
   "execution_count": 24,
   "id": "c0f84166",
   "metadata": {},
   "outputs": [
    {
     "data": {
      "text/plain": [
       "[90, 50, 40, 30]"
      ]
     },
     "execution_count": 24,
     "metadata": {},
     "output_type": "execute_result"
    }
   ],
   "source": [
    "scores"
   ]
  },
  {
   "cell_type": "code",
   "execution_count": 25,
   "id": "d18507dc",
   "metadata": {},
   "outputs": [
    {
     "data": {
      "text/plain": [
       "90"
      ]
     },
     "execution_count": 25,
     "metadata": {},
     "output_type": "execute_result"
    }
   ],
   "source": [
    "# 인덱스가 0인 요소를 제거\n",
    "scores.pop(0)"
   ]
  },
  {
   "cell_type": "code",
   "execution_count": 26,
   "id": "e2c64c02",
   "metadata": {},
   "outputs": [
    {
     "data": {
      "text/plain": [
       "[50, 40, 30]"
      ]
     },
     "execution_count": 26,
     "metadata": {},
     "output_type": "execute_result"
    }
   ],
   "source": [
    "scores"
   ]
  },
  {
   "cell_type": "code",
   "execution_count": 27,
   "id": "95f54982",
   "metadata": {},
   "outputs": [],
   "source": [
    "# 인덱스가 0인 요소를 제거\n",
    "del scores[0]"
   ]
  },
  {
   "cell_type": "code",
   "execution_count": 28,
   "id": "b36931b8",
   "metadata": {},
   "outputs": [
    {
     "data": {
      "text/plain": [
       "[40, 30]"
      ]
     },
     "execution_count": 28,
     "metadata": {},
     "output_type": "execute_result"
    }
   ],
   "source": [
    "scores"
   ]
  },
  {
   "cell_type": "markdown",
   "id": "2e081877",
   "metadata": {},
   "source": [
    "## 튜플\n",
    "\n",
    "- 지정된 값을 변경 할 수 없는 리스트\n",
    "- 리스트와 마찬가지로 인덱싱, 슬라이싱이 가능하지만 값의 추가, 수정, 삭제가 불가능\n",
    "- 표현법 : 소괄호() 또는 tuple()"
   ]
  },
  {
   "cell_type": "code",
   "execution_count": 30,
   "id": "e6ce6287",
   "metadata": {},
   "outputs": [],
   "source": [
    "t1 = (1, 2, 3)\n",
    "t2 = 1, 2, 3\n",
    "t3 = tuple([100, 3.14, \"hello\"])\n",
    "t4 = (100) # tuple 아님\n",
    "t5 = (100,)"
   ]
  },
  {
   "cell_type": "code",
   "execution_count": 31,
   "id": "fadffac0",
   "metadata": {},
   "outputs": [
    {
     "name": "stdout",
     "output_type": "stream",
     "text": [
      "(1, 2, 3)\n",
      "<class 'tuple'>\n"
     ]
    }
   ],
   "source": [
    "print(t1)\n",
    "print(type(t1))"
   ]
  },
  {
   "cell_type": "code",
   "execution_count": 32,
   "id": "f88ef279",
   "metadata": {},
   "outputs": [
    {
     "name": "stdout",
     "output_type": "stream",
     "text": [
      "(1, 2, 3)\n",
      "<class 'tuple'>\n"
     ]
    }
   ],
   "source": [
    "print(t2)\n",
    "print(type(t2))"
   ]
  },
  {
   "cell_type": "code",
   "execution_count": 33,
   "id": "18a74b0a",
   "metadata": {},
   "outputs": [
    {
     "name": "stdout",
     "output_type": "stream",
     "text": [
      "(100, 3.14, 'hello')\n",
      "<class 'tuple'>\n"
     ]
    }
   ],
   "source": [
    "print(t3)\n",
    "print(type(t3))"
   ]
  },
  {
   "cell_type": "code",
   "execution_count": 35,
   "id": "cdafe3dc",
   "metadata": {},
   "outputs": [
    {
     "name": "stdout",
     "output_type": "stream",
     "text": [
      "100\n",
      "<class 'int'>\n",
      "(100,)\n",
      "<class 'tuple'>\n"
     ]
    }
   ],
   "source": [
    "print(t4)\n",
    "print(type(t4))\n",
    "print(t5)\n",
    "print(type(t5))"
   ]
  },
  {
   "cell_type": "markdown",
   "id": "512ce402",
   "metadata": {},
   "source": [
    "## 시퀀스 자료형의 공통 기능\n",
    "\n",
    "- 시퀀스 : 리스트, 튜플, range, 문자열"
   ]
  },
  {
   "cell_type": "markdown",
   "id": "8ec5a668",
   "metadata": {},
   "source": [
    "### 특정 값이 있는지 확인\n",
    "\n",
    "- 값 in 시퀀스 객체\n",
    "- 값 not in 시퀀스 객체"
   ]
  },
  {
   "cell_type": "code",
   "execution_count": 36,
   "id": "499f7b65",
   "metadata": {},
   "outputs": [
    {
     "data": {
      "text/plain": [
       "[0, 10, 20, 30, 40, 50, 60, 70, 80, 90]"
      ]
     },
     "execution_count": 36,
     "metadata": {},
     "output_type": "execute_result"
    }
   ],
   "source": [
    "a = [0, 10, 20, 30, 40, 50, 60, 70, 80, 90]\n",
    "a"
   ]
  },
  {
   "cell_type": "code",
   "execution_count": 37,
   "id": "09ccef99",
   "metadata": {},
   "outputs": [
    {
     "data": {
      "text/plain": [
       "True"
      ]
     },
     "execution_count": 37,
     "metadata": {},
     "output_type": "execute_result"
    }
   ],
   "source": [
    "30 in a"
   ]
  },
  {
   "cell_type": "code",
   "execution_count": 38,
   "id": "5de8c6c4",
   "metadata": {},
   "outputs": [
    {
     "data": {
      "text/plain": [
       "False"
      ]
     },
     "execution_count": 38,
     "metadata": {},
     "output_type": "execute_result"
    }
   ],
   "source": [
    "100 in a "
   ]
  },
  {
   "cell_type": "code",
   "execution_count": 39,
   "id": "621a6189",
   "metadata": {},
   "outputs": [
    {
     "data": {
      "text/plain": [
       "False"
      ]
     },
     "execution_count": 39,
     "metadata": {},
     "output_type": "execute_result"
    }
   ],
   "source": [
    "30 not in a"
   ]
  },
  {
   "cell_type": "code",
   "execution_count": 40,
   "id": "174cf2d3",
   "metadata": {},
   "outputs": [
    {
     "data": {
      "text/plain": [
       "True"
      ]
     },
     "execution_count": 40,
     "metadata": {},
     "output_type": "execute_result"
    }
   ],
   "source": [
    "100 not in a "
   ]
  },
  {
   "cell_type": "markdown",
   "id": "c0b50992",
   "metadata": {},
   "source": [
    "### 시퀀스 객체 연결\n",
    "\n",
    "- 시퀀스 객체는 + 연산자를 이용하여 연결\n",
    "    - 단, range는 연결되지 않음\n",
    "        - range를 리스트 또는 튜플로 바꾸어서 연결"
   ]
  },
  {
   "cell_type": "code",
   "execution_count": 41,
   "id": "2595c959",
   "metadata": {},
   "outputs": [],
   "source": [
    "a = [0, 10, 20, 30]\n",
    "b = [9, 8, 7, 6]"
   ]
  },
  {
   "cell_type": "code",
   "execution_count": 42,
   "id": "f932c3ec",
   "metadata": {},
   "outputs": [
    {
     "data": {
      "text/plain": [
       "[0, 10, 20, 30, 9, 8, 7, 6]"
      ]
     },
     "execution_count": 42,
     "metadata": {},
     "output_type": "execute_result"
    }
   ],
   "source": [
    "a + b"
   ]
  },
  {
   "cell_type": "code",
   "execution_count": 43,
   "id": "0a25fe89",
   "metadata": {},
   "outputs": [
    {
     "data": {
      "text/plain": [
       "(0, 1, 2, 3, 4, 5, 6, 7, 8, 9, 10, 11, 12, 13, 14, 15, 16, 17, 18, 19)"
      ]
     },
     "execution_count": 43,
     "metadata": {},
     "output_type": "execute_result"
    }
   ],
   "source": [
    "tuple(range(10)) + tuple(range(10, 20))"
   ]
  },
  {
   "cell_type": "code",
   "execution_count": 44,
   "id": "bb90c7ab",
   "metadata": {},
   "outputs": [
    {
     "data": {
      "text/plain": [
       "'Hello, World!'"
      ]
     },
     "execution_count": 44,
     "metadata": {},
     "output_type": "execute_result"
    }
   ],
   "source": [
    "\"Hello, \" + \"World!\""
   ]
  },
  {
   "cell_type": "markdown",
   "id": "b1976440",
   "metadata": {},
   "source": [
    "### 시퀀스 객체 반복\n",
    "\n",
    "- \\* 연산자 : 시퀀스 객체를 특정 횟수만큼 반복"
   ]
  },
  {
   "cell_type": "code",
   "execution_count": 46,
   "id": "be3f3f76",
   "metadata": {},
   "outputs": [
    {
     "data": {
      "text/plain": [
       "'Hello Hello Hello '"
      ]
     },
     "execution_count": 46,
     "metadata": {},
     "output_type": "execute_result"
    }
   ],
   "source": [
    "\"Hello \" * 3"
   ]
  },
  {
   "cell_type": "markdown",
   "id": "0cfe1b6c",
   "metadata": {},
   "source": [
    "### 시퀀스 객체의 요소 개수 구하기\n",
    "\n",
    "- len() : 요소의 개수(길이)를 구하는 함수"
   ]
  },
  {
   "cell_type": "code",
   "execution_count": 47,
   "id": "caccb070",
   "metadata": {},
   "outputs": [
    {
     "data": {
      "text/plain": [
       "10"
      ]
     },
     "execution_count": 47,
     "metadata": {},
     "output_type": "execute_result"
    }
   ],
   "source": [
    "a = [0, 10, 20, 30, 40, 50, 60, 70, 80, 90]\n",
    "len(a)"
   ]
  },
  {
   "cell_type": "markdown",
   "id": "0e4e3dfa",
   "metadata": {},
   "source": [
    "### 요소에 값 할당\n",
    "\n",
    "- [] 로 요소에 접근한 뒤 = 로 할당\n",
    "- 시퀀스객체[인덱스] = 값"
   ]
  },
  {
   "cell_type": "code",
   "execution_count": 48,
   "id": "8ff0541a",
   "metadata": {},
   "outputs": [],
   "source": [
    "a = [0, 0, 0, 0, 0]"
   ]
  },
  {
   "cell_type": "code",
   "execution_count": 49,
   "id": "f3bf03e0",
   "metadata": {},
   "outputs": [],
   "source": [
    "a[0] = 38"
   ]
  },
  {
   "cell_type": "code",
   "execution_count": 50,
   "id": "1d46f933",
   "metadata": {},
   "outputs": [
    {
     "data": {
      "text/plain": [
       "[38, 0, 0, 0, 0]"
      ]
     },
     "execution_count": 50,
     "metadata": {},
     "output_type": "execute_result"
    }
   ],
   "source": [
    "a"
   ]
  },
  {
   "cell_type": "code",
   "execution_count": 51,
   "id": "e7d3ee68",
   "metadata": {},
   "outputs": [],
   "source": [
    "a[1] = 21\n",
    "a[2] = 53\n",
    "a[3] = 62\n",
    "a[4] = 19"
   ]
  },
  {
   "cell_type": "code",
   "execution_count": 52,
   "id": "0563bc70",
   "metadata": {},
   "outputs": [
    {
     "data": {
      "text/plain": [
       "[38, 21, 53, 62, 19]"
      ]
     },
     "execution_count": 52,
     "metadata": {},
     "output_type": "execute_result"
    }
   ],
   "source": [
    "a"
   ]
  },
  {
   "cell_type": "code",
   "execution_count": 73,
   "id": "3923047e",
   "metadata": {},
   "outputs": [
    {
     "data": {
      "text/plain": [
       "'p'"
      ]
     },
     "execution_count": 73,
     "metadata": {},
     "output_type": "execute_result"
    }
   ],
   "source": [
    "# 1. 문자열 \"maple\"의 가운데 글자를 출력\n",
    "s = \"maple\"\n",
    "s[int(len(s) / 2)]\n",
    "s[len(s)//2]"
   ]
  },
  {
   "cell_type": "code",
   "execution_count": 74,
   "id": "c7cad24d",
   "metadata": {},
   "outputs": [
    {
     "data": {
      "text/plain": [
       "30"
      ]
     },
     "execution_count": 74,
     "metadata": {},
     "output_type": "execute_result"
    }
   ],
   "source": [
    "# 2. 리스트 [0, 10, 20, 30, 40, 50, 60, 70, 80, 90, 100]의 세번째부터 일곱번째 요소까지만 추출한 \n",
    "# 결과 리스트에서 두번째 요소를 출력\n",
    "\n",
    "c = [0, 10, 20, 30, 40, 50, 60, 70, 80, 90, 100]\n",
    "c[2:7][1]"
   ]
  },
  {
   "cell_type": "markdown",
   "id": "1ef82204",
   "metadata": {},
   "source": [
    "## 세트\n",
    "\n",
    "- 수학의 집합 개념을 구현한 자료형\n",
    "- 순서가 없기 때문에 인덱싱, 슬라이싱 불가\n",
    "- 중복 제거, 교집합, 합집합, 차집합 개념이 필요한 경우에 사용\n",
    "- 표현법 : 중괄호({}) 또는 set()\n",
    "    - 빈 중괄호를 입력하면 빈 딕셔너리로가 생성되기 때문에 빈 세트를 생성하고 싶을 때에는 중괄호를 사용할 수 없음"
   ]
  },
  {
   "cell_type": "code",
   "execution_count": 75,
   "id": "ee199394",
   "metadata": {},
   "outputs": [
    {
     "name": "stdout",
     "output_type": "stream",
     "text": [
      "<class 'dict'>\n"
     ]
    }
   ],
   "source": [
    "s = {}\n",
    "print(type(s)) # 빈 중괄호~ 빈 딕셔너리가 됨~"
   ]
  },
  {
   "cell_type": "code",
   "execution_count": 77,
   "id": "4266e130",
   "metadata": {},
   "outputs": [
    {
     "name": "stdout",
     "output_type": "stream",
     "text": [
      "<class 'set'>\n"
     ]
    }
   ],
   "source": [
    "s = set()\n",
    "print(type(s))"
   ]
  },
  {
   "cell_type": "markdown",
   "id": "8db67735",
   "metadata": {},
   "source": [
    "### 세트의 특징\n",
    "\n",
    "1. 순서가 없음\n",
    "2. 중복된 값을 저장할 수 없음"
   ]
  },
  {
   "cell_type": "code",
   "execution_count": 78,
   "id": "176b433b",
   "metadata": {},
   "outputs": [],
   "source": [
    "# 리스트의 중복 제거\n",
    "li = [1, 1, 2, 2, 3, 3]"
   ]
  },
  {
   "cell_type": "code",
   "execution_count": 80,
   "id": "13100dbf",
   "metadata": {},
   "outputs": [
    {
     "data": {
      "text/plain": [
       "{1, 2, 3}"
      ]
     },
     "execution_count": 80,
     "metadata": {},
     "output_type": "execute_result"
    }
   ],
   "source": [
    "set(li) # 중복값이 제거되어 나옴~"
   ]
  },
  {
   "cell_type": "code",
   "execution_count": 81,
   "id": "d8294d12",
   "metadata": {},
   "outputs": [
    {
     "data": {
      "text/plain": [
       "[1, 2, 3]"
      ]
     },
     "execution_count": 81,
     "metadata": {},
     "output_type": "execute_result"
    }
   ],
   "source": [
    "list(set(li))"
   ]
  },
  {
   "cell_type": "markdown",
   "id": "1b628649",
   "metadata": {},
   "source": [
    "### 세트 요소의 추가와 삭제\n",
    "\n",
    "- 추가 : add()\n",
    "- 삭제 : remove(), discard()"
   ]
  },
  {
   "cell_type": "code",
   "execution_count": 82,
   "id": "f61e29f4",
   "metadata": {},
   "outputs": [],
   "source": [
    "s = {10, 20, 30}\n",
    "s.add(40) # s 세트에 40을 추가"
   ]
  },
  {
   "cell_type": "code",
   "execution_count": 83,
   "id": "fdde82ba",
   "metadata": {},
   "outputs": [
    {
     "data": {
      "text/plain": [
       "{10, 20, 30, 40}"
      ]
     },
     "execution_count": 83,
     "metadata": {},
     "output_type": "execute_result"
    }
   ],
   "source": [
    "s"
   ]
  },
  {
   "cell_type": "code",
   "execution_count": 84,
   "id": "a499ec98",
   "metadata": {},
   "outputs": [],
   "source": [
    "# 세트에서 요소를 제거. 찾는 요소가 없으면 에러 발생\n",
    "s.remove(20)"
   ]
  },
  {
   "cell_type": "code",
   "execution_count": 85,
   "id": "a22d20f1",
   "metadata": {},
   "outputs": [
    {
     "data": {
      "text/plain": [
       "{10, 30, 40}"
      ]
     },
     "execution_count": 85,
     "metadata": {},
     "output_type": "execute_result"
    }
   ],
   "source": [
    "s"
   ]
  },
  {
   "cell_type": "code",
   "execution_count": 87,
   "id": "8b76b7ca",
   "metadata": {},
   "outputs": [],
   "source": [
    "# 세트에서 요소를 제거. 찾는 요소가 없어도 에러 발생하지 않음\n",
    "s.discard(30)"
   ]
  },
  {
   "cell_type": "code",
   "execution_count": 88,
   "id": "0f0916b3",
   "metadata": {},
   "outputs": [
    {
     "data": {
      "text/plain": [
       "{10, 40}"
      ]
     },
     "execution_count": 88,
     "metadata": {},
     "output_type": "execute_result"
    }
   ],
   "source": [
    "s"
   ]
  },
  {
   "cell_type": "markdown",
   "id": "ce3d2699",
   "metadata": {},
   "source": [
    "### 세트에 특정 값이 있는지 확인하기\n",
    "\n",
    "- 표현법 : 값 in 세트\n",
    "    - 특정 값이 없는지 확인 : 값 not in 세트"
   ]
  },
  {
   "cell_type": "code",
   "execution_count": 89,
   "id": "8ac4efe6",
   "metadata": {},
   "outputs": [
    {
     "data": {
      "text/plain": [
       "True"
      ]
     },
     "execution_count": 89,
     "metadata": {},
     "output_type": "execute_result"
    }
   ],
   "source": [
    "10 in s"
   ]
  },
  {
   "cell_type": "code",
   "execution_count": 90,
   "id": "b8a2b314",
   "metadata": {},
   "outputs": [
    {
     "data": {
      "text/plain": [
       "False"
      ]
     },
     "execution_count": 90,
     "metadata": {},
     "output_type": "execute_result"
    }
   ],
   "source": [
    "30 in s"
   ]
  },
  {
   "cell_type": "code",
   "execution_count": 91,
   "id": "4c61318c",
   "metadata": {},
   "outputs": [
    {
     "data": {
      "text/plain": [
       "False"
      ]
     },
     "execution_count": 91,
     "metadata": {},
     "output_type": "execute_result"
    }
   ],
   "source": [
    "10 not in s "
   ]
  },
  {
   "cell_type": "code",
   "execution_count": 92,
   "id": "fcde0067",
   "metadata": {},
   "outputs": [
    {
     "data": {
      "text/plain": [
       "True"
      ]
     },
     "execution_count": 92,
     "metadata": {},
     "output_type": "execute_result"
    }
   ],
   "source": [
    "30 not in s"
   ]
  },
  {
   "cell_type": "markdown",
   "id": "636ba12a",
   "metadata": {},
   "source": [
    "### 집합 연산 사용하기"
   ]
  },
  {
   "cell_type": "code",
   "execution_count": 94,
   "id": "1185c8f1",
   "metadata": {},
   "outputs": [
    {
     "data": {
      "text/plain": [
       "{1, 2, 3, 4, 5, 6}"
      ]
     },
     "execution_count": 94,
     "metadata": {},
     "output_type": "execute_result"
    }
   ],
   "source": [
    "# 합집합\n",
    "a = {1, 2, 3, 4,}\n",
    "b = {3, 4, 5, 6}\n",
    "a | b"
   ]
  },
  {
   "cell_type": "code",
   "execution_count": 95,
   "id": "2571c421",
   "metadata": {},
   "outputs": [
    {
     "data": {
      "text/plain": [
       "{3, 4}"
      ]
     },
     "execution_count": 95,
     "metadata": {},
     "output_type": "execute_result"
    }
   ],
   "source": [
    "# 교집합\n",
    "a & b"
   ]
  },
  {
   "cell_type": "code",
   "execution_count": 96,
   "id": "cd28c1a3",
   "metadata": {},
   "outputs": [
    {
     "data": {
      "text/plain": [
       "{1, 2}"
      ]
     },
     "execution_count": 96,
     "metadata": {},
     "output_type": "execute_result"
    }
   ],
   "source": [
    "# 차집합\n",
    "a - b"
   ]
  },
  {
   "cell_type": "markdown",
   "id": "623a9d3d",
   "metadata": {},
   "source": [
    "## 딕셔너리\n",
    "\n",
    "- 사전을 의미하며, 사전과 마찬가지로 \"키\"와 \"값\"을 \"단어\"와 \"단어의 의미\"처럼 사용\n",
    "- 표현법 : dict{키1 : 값2, 키2 : 값3, ......}"
   ]
  },
  {
   "cell_type": "code",
   "execution_count": 98,
   "id": "039fc980",
   "metadata": {},
   "outputs": [
    {
     "data": {
      "text/plain": [
       "{'a': 'apple', 'b': 'banana'}"
      ]
     },
     "execution_count": 98,
     "metadata": {},
     "output_type": "execute_result"
    }
   ],
   "source": [
    "# 딕셔너리 생성\n",
    "d = {\"a\" : \"apple\", \"b\" : \"banana\"}\n",
    "d"
   ]
  },
  {
   "cell_type": "code",
   "execution_count": 99,
   "id": "b9fb7810",
   "metadata": {},
   "outputs": [
    {
     "data": {
      "text/plain": [
       "dict"
      ]
     },
     "execution_count": 99,
     "metadata": {},
     "output_type": "execute_result"
    }
   ],
   "source": [
    "type(d)"
   ]
  },
  {
   "cell_type": "code",
   "execution_count": 100,
   "id": "c9371bad",
   "metadata": {},
   "outputs": [
    {
     "data": {
      "text/plain": [
       "'apple'"
      ]
     },
     "execution_count": 100,
     "metadata": {},
     "output_type": "execute_result"
    }
   ],
   "source": [
    "d['a']"
   ]
  },
  {
   "cell_type": "code",
   "execution_count": 101,
   "id": "99495f41",
   "metadata": {},
   "outputs": [
    {
     "data": {
      "text/plain": [
       "'banana'"
      ]
     },
     "execution_count": 101,
     "metadata": {},
     "output_type": "execute_result"
    }
   ],
   "source": [
    "d[\"b\"]"
   ]
  },
  {
   "cell_type": "code",
   "execution_count": 102,
   "id": "4f1ba9a3",
   "metadata": {},
   "outputs": [
    {
     "ename": "KeyError",
     "evalue": "'c'",
     "output_type": "error",
     "traceback": [
      "\u001b[1;31m---------------------------------------------------------------------------\u001b[0m",
      "\u001b[1;31mKeyError\u001b[0m                                  Traceback (most recent call last)",
      "Cell \u001b[1;32mIn[102], line 2\u001b[0m\n\u001b[0;32m      1\u001b[0m \u001b[38;5;66;03m# 존재하지 않는 키를 조회하려고 하면 에러 발생\u001b[39;00m\n\u001b[1;32m----> 2\u001b[0m d[\u001b[38;5;124m\"\u001b[39m\u001b[38;5;124mc\u001b[39m\u001b[38;5;124m\"\u001b[39m]\n",
      "\u001b[1;31mKeyError\u001b[0m: 'c'"
     ]
    }
   ],
   "source": [
    "# 존재하지 않는 키를 조회하려고 하면 에러 발생\n",
    "d[\"c\"]"
   ]
  },
  {
   "cell_type": "code",
   "execution_count": 103,
   "id": "55e36928",
   "metadata": {},
   "outputs": [
    {
     "data": {
      "text/plain": [
       "{'a': 'apple', 'b': 'banana'}"
      ]
     },
     "execution_count": 103,
     "metadata": {},
     "output_type": "execute_result"
    }
   ],
   "source": [
    "# 딕셔너리를 생성하는 다른 방법\n",
    "d = dict(a = \"apple\", b = \"banana\")\n",
    "d"
   ]
  },
  {
   "cell_type": "markdown",
   "id": "0b32ed8d",
   "metadata": {},
   "source": [
    "### 딕셔너리 요소의 추가와 삭제"
   ]
  },
  {
   "cell_type": "code",
   "execution_count": 104,
   "id": "001c3b96",
   "metadata": {},
   "outputs": [],
   "source": [
    "dic = {\"apple\" : \"사과\"}"
   ]
  },
  {
   "cell_type": "code",
   "execution_count": 106,
   "id": "46ee4f1e",
   "metadata": {},
   "outputs": [],
   "source": [
    "dic[\"watermelon\"] = \"멜론\""
   ]
  },
  {
   "cell_type": "code",
   "execution_count": 107,
   "id": "bfcb7f09",
   "metadata": {},
   "outputs": [
    {
     "data": {
      "text/plain": [
       "{'apple': '사과', 'watermelon': '멜론'}"
      ]
     },
     "execution_count": 107,
     "metadata": {},
     "output_type": "execute_result"
    }
   ],
   "source": [
    "dic"
   ]
  },
  {
   "cell_type": "code",
   "execution_count": 109,
   "id": "728d567f",
   "metadata": {},
   "outputs": [],
   "source": [
    "# 딕셔너리 요소 수정\n",
    "dic[\"watermelon\"] = \"수박\""
   ]
  },
  {
   "cell_type": "code",
   "execution_count": 110,
   "id": "3a417ea5",
   "metadata": {},
   "outputs": [
    {
     "data": {
      "text/plain": [
       "{'apple': '사과', 'watermelon': '수박'}"
      ]
     },
     "execution_count": 110,
     "metadata": {},
     "output_type": "execute_result"
    }
   ],
   "source": [
    "dic"
   ]
  },
  {
   "cell_type": "code",
   "execution_count": 111,
   "id": "75a7f2f8",
   "metadata": {},
   "outputs": [],
   "source": [
    "# update() : 키의 값 수정, 키가 없으면 키-값 쌍 추가\n",
    "me = {\"name\" : \"james\"}"
   ]
  },
  {
   "cell_type": "code",
   "execution_count": 112,
   "id": "6590fb98",
   "metadata": {},
   "outputs": [
    {
     "data": {
      "text/plain": [
       "{'name': 'james'}"
      ]
     },
     "execution_count": 112,
     "metadata": {},
     "output_type": "execute_result"
    }
   ],
   "source": [
    "me"
   ]
  },
  {
   "cell_type": "code",
   "execution_count": 113,
   "id": "c9e0d04e",
   "metadata": {},
   "outputs": [],
   "source": [
    "me.update(age = 25) # age를 25로 추가"
   ]
  },
  {
   "cell_type": "code",
   "execution_count": 114,
   "id": "dcbb88eb",
   "metadata": {},
   "outputs": [
    {
     "data": {
      "text/plain": [
       "{'name': 'james', 'age': 25}"
      ]
     },
     "execution_count": 114,
     "metadata": {},
     "output_type": "execute_result"
    }
   ],
   "source": [
    "me"
   ]
  },
  {
   "cell_type": "code",
   "execution_count": 115,
   "id": "c81af3db",
   "metadata": {},
   "outputs": [],
   "source": [
    "me.update(age = 35, address = \"seoul\")"
   ]
  },
  {
   "cell_type": "code",
   "execution_count": 116,
   "id": "a934e90e",
   "metadata": {},
   "outputs": [
    {
     "data": {
      "text/plain": [
       "{'name': 'james', 'age': 35, 'address': 'seoul'}"
      ]
     },
     "execution_count": 116,
     "metadata": {},
     "output_type": "execute_result"
    }
   ],
   "source": [
    "me"
   ]
  },
  {
   "cell_type": "code",
   "execution_count": 117,
   "id": "572c2340",
   "metadata": {},
   "outputs": [
    {
     "data": {
      "text/plain": [
       "'seoul'"
      ]
     },
     "execution_count": 117,
     "metadata": {},
     "output_type": "execute_result"
    }
   ],
   "source": [
    "# 딕셔너리 요소 삭제\n",
    "me.pop(\"address\")"
   ]
  },
  {
   "cell_type": "code",
   "execution_count": 118,
   "id": "58409202",
   "metadata": {},
   "outputs": [
    {
     "data": {
      "text/plain": [
       "{'name': 'james', 'age': 35}"
      ]
     },
     "execution_count": 118,
     "metadata": {},
     "output_type": "execute_result"
    }
   ],
   "source": [
    "me"
   ]
  },
  {
   "cell_type": "markdown",
   "id": "5a4a8b66",
   "metadata": {},
   "source": [
    "### 딕셔너리에 키가 있는지 확인하기\n",
    "\n",
    "- 표현법 : 키 in 딕셔너리"
   ]
  },
  {
   "cell_type": "code",
   "execution_count": 119,
   "id": "e4d632f9",
   "metadata": {},
   "outputs": [
    {
     "data": {
      "text/plain": [
       "True"
      ]
     },
     "execution_count": 119,
     "metadata": {},
     "output_type": "execute_result"
    }
   ],
   "source": [
    "\"name\" in me"
   ]
  },
  {
   "cell_type": "code",
   "execution_count": 120,
   "id": "900a1622",
   "metadata": {},
   "outputs": [
    {
     "data": {
      "text/plain": [
       "False"
      ]
     },
     "execution_count": 120,
     "metadata": {},
     "output_type": "execute_result"
    }
   ],
   "source": [
    "# in 연산자를 통해서는 key만 확인할 수 있음\n",
    "\"james\" in me # james = value"
   ]
  },
  {
   "cell_type": "code",
   "execution_count": 121,
   "id": "7683d247",
   "metadata": {},
   "outputs": [
    {
     "data": {
      "text/plain": [
       "False"
      ]
     },
     "execution_count": 121,
     "metadata": {},
     "output_type": "execute_result"
    }
   ],
   "source": [
    "\"address\" in me"
   ]
  },
  {
   "cell_type": "code",
   "execution_count": null,
   "id": "4ed90cc6",
   "metadata": {},
   "outputs": [],
   "source": []
  }
 ],
 "metadata": {
  "kernelspec": {
   "display_name": "Python 3 (ipykernel)",
   "language": "python",
   "name": "python3"
  },
  "language_info": {
   "codemirror_mode": {
    "name": "ipython",
    "version": 3
   },
   "file_extension": ".py",
   "mimetype": "text/x-python",
   "name": "python",
   "nbconvert_exporter": "python",
   "pygments_lexer": "ipython3",
   "version": "3.11.5"
  }
 },
 "nbformat": 4,
 "nbformat_minor": 5
}
