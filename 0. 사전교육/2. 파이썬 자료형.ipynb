{
 "cells": [
  {
   "cell_type": "markdown",
   "id": "c2c589f8",
   "metadata": {},
   "source": [
    "# 기본 자료형\n",
    "\n",
    "- :-- 왼쪽 정렬, :--: 가운데 정렬, --: 오른쪽 정렬\n",
    "\n",
    "| 구분 | 자료형 | 변환 함수 | 의미 |\n",
    "| :-- | :-- | :-- | :-- |\n",
    "| int | 정수 | int(n) | n을 정수로 변환 |\n",
    "| float | 실수 | float(n) | n을 실수로 변환 |\n",
    "| bool | 논리 | bool(n) | n을 논리로 변환 |\n",
    "| str | 문자열 | str(n) | n을 문자열로 변환 |"
   ]
  },
  {
   "cell_type": "markdown",
   "id": "691422f4",
   "metadata": {},
   "source": [
    "## 정수(int)"
   ]
  },
  {
   "cell_type": "code",
   "execution_count": 1,
   "id": "972bc4ef",
   "metadata": {},
   "outputs": [
    {
     "name": "stdout",
     "output_type": "stream",
     "text": [
      "<class 'int'>\n"
     ]
    }
   ],
   "source": [
    "age = 25\n",
    "print(type(age))"
   ]
  },
  {
   "cell_type": "markdown",
   "id": "be3516a1",
   "metadata": {},
   "source": [
    "## 다른 자료형의 값을 정수형 데이터로 변환"
   ]
  },
  {
   "cell_type": "code",
   "execution_count": 2,
   "id": "96d58ab6",
   "metadata": {},
   "outputs": [
    {
     "name": "stdout",
     "output_type": "stream",
     "text": [
      "1\n",
      "1\n",
      "0\n",
      "100\n"
     ]
    }
   ],
   "source": [
    "print(int(1.9))\n",
    "print(int(True)) # bool type, 1\n",
    "print(int(False)) # bool type, 0\n",
    "print(int(\"100\")) # 문자열 100이 아니라 int로 변환하여 정수 값으로 출력됨"
   ]
  },
  {
   "cell_type": "markdown",
   "id": "48bd150f",
   "metadata": {},
   "source": [
    "## 실수(float)"
   ]
  },
  {
   "cell_type": "code",
   "execution_count": 3,
   "id": "9bcb830f",
   "metadata": {},
   "outputs": [
    {
     "name": "stdout",
     "output_type": "stream",
     "text": [
      "<class 'float'>\n"
     ]
    }
   ],
   "source": [
    "height = 168.5\n",
    "print(type(height))"
   ]
  },
  {
   "cell_type": "markdown",
   "id": "2fd4cfd0",
   "metadata": {},
   "source": [
    "### 다른 자료형의 값을 실수형 데이터로 변환"
   ]
  },
  {
   "cell_type": "code",
   "execution_count": 4,
   "id": "e1d2eb25",
   "metadata": {},
   "outputs": [
    {
     "name": "stdout",
     "output_type": "stream",
     "text": [
      "1.0\n",
      "1.0\n",
      "0.0\n",
      "3.14\n",
      "100.0\n"
     ]
    }
   ],
   "source": [
    "print(float(1))\n",
    "print(float(True))\n",
    "print(float(False))\n",
    "print(float(\"3.14\"))\n",
    "print(float(\"100\"))"
   ]
  },
  {
   "cell_type": "markdown",
   "id": "52d90144",
   "metadata": {},
   "source": [
    "## 논리(bool)\n",
    "\n",
    "- 참과 거짓을 표현하는 True, False 값을 가짐\n",
    "- 영국의 수학자 조지 불(George Boole)이 만듦"
   ]
  },
  {
   "cell_type": "code",
   "execution_count": 6,
   "id": "396e4fa3",
   "metadata": {},
   "outputs": [
    {
     "name": "stdout",
     "output_type": "stream",
     "text": [
      "False\n",
      "False\n"
     ]
    }
   ],
   "source": [
    "print(bool(0))\n",
    "print(bool(\"\"))"
   ]
  },
  {
   "cell_type": "code",
   "execution_count": 7,
   "id": "9654d7fc",
   "metadata": {},
   "outputs": [
    {
     "name": "stdout",
     "output_type": "stream",
     "text": [
      "True\n",
      "True\n"
     ]
    }
   ],
   "source": [
    "print(bool(1))\n",
    "print(bool(\"hello\")) # 공백 하나라도 들어가 있으면 True로 출력됨"
   ]
  },
  {
   "cell_type": "markdown",
   "id": "1a23a0f7",
   "metadata": {},
   "source": [
    "### 비교 연산자의 판단 결과"
   ]
  },
  {
   "cell_type": "code",
   "execution_count": 8,
   "id": "ef39eba4",
   "metadata": {},
   "outputs": [
    {
     "name": "stdout",
     "output_type": "stream",
     "text": [
      "True\n",
      "False\n"
     ]
    }
   ],
   "source": [
    "print(3 > 1)\n",
    "print(3 < 1)"
   ]
  },
  {
   "cell_type": "markdown",
   "id": "1ff7ff63",
   "metadata": {},
   "source": [
    "### 같은지 다른지 비교"
   ]
  },
  {
   "cell_type": "code",
   "execution_count": 11,
   "id": "8a61280d",
   "metadata": {},
   "outputs": [
    {
     "name": "stdout",
     "output_type": "stream",
     "text": [
      "True\n",
      "True\n",
      "False\n",
      "False\n"
     ]
    }
   ],
   "source": [
    "# 같은지 비교\n",
    "print(10 == 10)\n",
    "print(10 == 10.0)\n",
    "print(10 == 12)\n",
    "print(10 == 10.1)"
   ]
  },
  {
   "cell_type": "code",
   "execution_count": 12,
   "id": "0ee40d3c",
   "metadata": {},
   "outputs": [
    {
     "name": "stdout",
     "output_type": "stream",
     "text": [
      "False\n"
     ]
    }
   ],
   "source": [
    "# 다른지 비교\n",
    "print(10 != 10)"
   ]
  },
  {
   "cell_type": "code",
   "execution_count": 13,
   "id": "6899f9ac",
   "metadata": {},
   "outputs": [
    {
     "name": "stdout",
     "output_type": "stream",
     "text": [
      "True\n",
      "False\n"
     ]
    }
   ],
   "source": [
    "print(\"Python\" == \"Python\")\n",
    "print(\"Python\" == \"python\")"
   ]
  },
  {
   "cell_type": "markdown",
   "id": "8573df41",
   "metadata": {},
   "source": [
    "## 문자열(str)\n",
    "\n",
    "- 기본적으로 따옴표로 묶어서 표현\n",
    "- 작은 따옴표('')와 큰 따옴표(\"\") 모두 사용 가능\n",
    "- 삼중 따옴표(''' ''', \"\"\" \"\"\")도 사용 가능"
   ]
  },
  {
   "cell_type": "code",
   "execution_count": 14,
   "id": "ad0e351a",
   "metadata": {},
   "outputs": [
    {
     "name": "stdout",
     "output_type": "stream",
     "text": [
      "<class 'str'>\n"
     ]
    }
   ],
   "source": [
    "name = \"Alice\"\n",
    "print(type(name))"
   ]
  },
  {
   "cell_type": "markdown",
   "id": "88b282d2",
   "metadata": {},
   "source": [
    "### 문자열 변환"
   ]
  },
  {
   "cell_type": "code",
   "execution_count": 16,
   "id": "08dccec3",
   "metadata": {},
   "outputs": [
    {
     "name": "stdout",
     "output_type": "stream",
     "text": [
      "100\n",
      "True\n",
      "False\n",
      "3.14\n"
     ]
    }
   ],
   "source": [
    "print(str(100))\n",
    "print(str(True))\n",
    "print(str(False))\n",
    "print(str(3.14))"
   ]
  },
  {
   "cell_type": "markdown",
   "id": "7ef9cedb",
   "metadata": {},
   "source": [
    "### 문자열 인덱싱(Indexing)\n",
    "\n",
    "- 문자열 인덱스 : 문자열을 구성하는 모든 문자에 부여한 고유 번호\n",
    "- 인덱스 시작번호는 0임"
   ]
  },
  {
   "cell_type": "code",
   "execution_count": 17,
   "id": "c849b83f",
   "metadata": {},
   "outputs": [],
   "source": [
    "s = \"hello\""
   ]
  },
  {
   "cell_type": "code",
   "execution_count": 18,
   "id": "fd17a5b6",
   "metadata": {},
   "outputs": [
    {
     "name": "stdout",
     "output_type": "stream",
     "text": [
      "h\n"
     ]
    }
   ],
   "source": [
    "print(s[0])"
   ]
  },
  {
   "cell_type": "code",
   "execution_count": 19,
   "id": "4145a36c",
   "metadata": {},
   "outputs": [
    {
     "name": "stdout",
     "output_type": "stream",
     "text": [
      "o\n"
     ]
    }
   ],
   "source": [
    "print(s[-1])"
   ]
  },
  {
   "cell_type": "code",
   "execution_count": 21,
   "id": "98869c7f",
   "metadata": {},
   "outputs": [
    {
     "data": {
      "text/plain": [
       "True"
      ]
     },
     "execution_count": 21,
     "metadata": {},
     "output_type": "execute_result"
    }
   ],
   "source": [
    "s[4] == s[-1]"
   ]
  },
  {
   "cell_type": "markdown",
   "id": "f85585ef",
   "metadata": {},
   "source": [
    "### 문자열 슬라이싱(slicing)\n",
    "\n",
    "- 표현법 : 데이터[시작 인덱스 : 종료 인덱스 : 증감값]\n",
    "    - 대부분 증감값은 생략하고 [시작 인덱스 : 종료 인덱스]의 형태로 사용"
   ]
  },
  {
   "cell_type": "code",
   "execution_count": 26,
   "id": "2669b183",
   "metadata": {},
   "outputs": [
    {
     "data": {
      "text/plain": [
       "'ban'"
      ]
     },
     "execution_count": 26,
     "metadata": {},
     "output_type": "execute_result"
    }
   ],
   "source": [
    "s = \"banana\"\n",
    "s[0:3]"
   ]
  },
  {
   "cell_type": "markdown",
   "id": "677e7e17",
   "metadata": {},
   "source": [
    "# 실습\n",
    "\n",
    "1. 휴대폰 번호 가운데 4자리 추출\n",
    "2. 31025를 학년, 반, 번호로 나누어 출력"
   ]
  },
  {
   "cell_type": "code",
   "execution_count": 27,
   "id": "3207b9fa",
   "metadata": {},
   "outputs": [],
   "source": [
    "# 1. 휴대폰 번호 가운데 4자리를 추출\n",
    "number = \"010-1234-5678\""
   ]
  },
  {
   "cell_type": "code",
   "execution_count": 29,
   "id": "d58a025a",
   "metadata": {},
   "outputs": [
    {
     "data": {
      "text/plain": [
       "'1234'"
      ]
     },
     "execution_count": 29,
     "metadata": {},
     "output_type": "execute_result"
    }
   ],
   "source": [
    "number[4:8]"
   ]
  },
  {
   "cell_type": "code",
   "execution_count": 28,
   "id": "82ae012e",
   "metadata": {},
   "outputs": [],
   "source": [
    "# 2. 31025를 학년, 반, 번호로 나누어 출력\n",
    "q2= \"31025\""
   ]
  },
  {
   "cell_type": "code",
   "execution_count": 49,
   "id": "4be73d87",
   "metadata": {},
   "outputs": [],
   "source": [
    "학년 = q2[0]\n",
    "반 = q2[1:3]\n",
    "번 = q2[-2:]"
   ]
  },
  {
   "cell_type": "code",
   "execution_count": 50,
   "id": "ea6d3d40",
   "metadata": {},
   "outputs": [
    {
     "name": "stdout",
     "output_type": "stream",
     "text": [
      "3 학년 10 반 25 번\n"
     ]
    }
   ],
   "source": [
    "print(학년, \"학년\", 반, \"반\", 번, \"번\")"
   ]
  },
  {
   "cell_type": "code",
   "execution_count": null,
   "id": "b3e9a9e3",
   "metadata": {},
   "outputs": [],
   "source": []
  }
 ],
 "metadata": {
  "kernelspec": {
   "display_name": "Python 3 (ipykernel)",
   "language": "python",
   "name": "python3"
  },
  "language_info": {
   "codemirror_mode": {
    "name": "ipython",
    "version": 3
   },
   "file_extension": ".py",
   "mimetype": "text/x-python",
   "name": "python",
   "nbconvert_exporter": "python",
   "pygments_lexer": "ipython3",
   "version": "3.11.5"
  }
 },
 "nbformat": 4,
 "nbformat_minor": 5
}
