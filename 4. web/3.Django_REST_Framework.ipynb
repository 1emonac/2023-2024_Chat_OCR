{
 "cells": [
  {
   "cell_type": "markdown",
   "id": "c84bc475",
   "metadata": {},
   "source": [
    "# DRF란 (Django REST Framework)\n",
    "\n",
    "- 장고를 기반으로 REST API 서버를 만들기 위한 라이브러리\n",
    "- API는 웹 뿐만 아니라 앱이나 다양한 플랫폼의 백엔드 서비스를 위해 JSON과 같은 규격화된 데이터를 제공\n",
    "    - DRF를 사용하면 기존의 자체적인 웹템플릿에만 데이터를 전덜하던 장고 프로젝트에서 JSON과 같은 양식으로 다양한 플랫폼의 클라이언트에게 데이터를 제공해줄 수 있는 API 서버 프로젝트가 완성됨"
   ]
  },
  {
   "cell_type": "code",
   "execution_count": 2,
   "id": "45112f26",
   "metadata": {},
   "outputs": [],
   "source": [
    "import requests"
   ]
  },
  {
   "cell_type": "code",
   "execution_count": 3,
   "id": "757c86b9",
   "metadata": {},
   "outputs": [],
   "source": [
    "res = requests.get(\"http://127.0.0.1:8000/example/hello/\")"
   ]
  },
  {
   "cell_type": "code",
   "execution_count": 4,
   "id": "944fff4f",
   "metadata": {},
   "outputs": [
    {
     "data": {
      "text/plain": [
       "<Response [200]>"
      ]
     },
     "execution_count": 4,
     "metadata": {},
     "output_type": "execute_result"
    }
   ],
   "source": [
    "res"
   ]
  },
  {
   "cell_type": "code",
   "execution_count": 5,
   "id": "10affb89",
   "metadata": {},
   "outputs": [
    {
     "data": {
      "text/plain": [
       "'\"hello world!\"'"
      ]
     },
     "execution_count": 5,
     "metadata": {},
     "output_type": "execute_result"
    }
   ],
   "source": [
    "res.text"
   ]
  },
  {
   "cell_type": "code",
   "execution_count": 6,
   "id": "5bee8332",
   "metadata": {},
   "outputs": [
    {
     "data": {
      "text/plain": [
       "'hello world!'"
      ]
     },
     "execution_count": 6,
     "metadata": {},
     "output_type": "execute_result"
    }
   ],
   "source": [
    "res.json()"
   ]
  },
  {
   "cell_type": "code",
   "execution_count": null,
   "id": "5370a675",
   "metadata": {},
   "outputs": [],
   "source": [
    "# pip install djangorestframework\n",
    "# django-admin startproject myapi(프로젝트명) .\n",
    "# python manage.py startapp example(앱 이름)"
   ]
  },
  {
   "cell_type": "code",
   "execution_count": 1,
   "id": "2369a42b",
   "metadata": {},
   "outputs": [],
   "source": [
    "# Settings = py\n",
    "\n",
    "INSTALLED_APPS = [\n",
    "    \"django.contrib.admin\",\n",
    "    \"django.contrib.auth\",\n",
    "    \"django.contrib.contenttypes\",\n",
    "    \"django.contrib.sessions\",\n",
    "    \"django.contrib.messages\",\n",
    "    \"django.contrib.staticfiles\",\n",
    "    \"example\",\n",
    "    \"rest_framework\", # django rest framework를 쓸거야!\n",
    "]\n",
    "\n",
    "TIME_ZONE = \"Asia/Seoul\""
   ]
  },
  {
   "cell_type": "code",
   "execution_count": null,
   "id": "b47ba21f",
   "metadata": {},
   "outputs": [],
   "source": [
    "# python manage.py makemigrations\n",
    "# python manage.py migrate - db.sqlite3가 만들어짐~"
   ]
  },
  {
   "cell_type": "code",
   "execution_count": null,
   "id": "5a54d394",
   "metadata": {},
   "outputs": [],
   "source": [
    "# example/views.py\n",
    "\n",
    "from rest_framework import status\n",
    "from rest_framework.response import Response\n",
    "from rest_framework.views import APIView\n",
    "from rest_framework.decorators import api_view\n",
    "\n",
    "# Create your views here.\n",
    "@api_view([\"GET\"]) # decorator 데코레이터\n",
    "def helloAPI(request):\n",
    "    return Response(\"hello world!\")"
   ]
  },
  {
   "cell_type": "markdown",
   "id": "f6541b0d",
   "metadata": {},
   "source": [
    "## DRF의 뷰\n",
    "\n",
    "- @와 함께 작성된 코드를 데코레이터라고 부름\n",
    "    - 데코레이터는 함수를 꾸미는 역할\n",
    "    - 해당 함수에 대한 성격이나 스타일을 표시해주는 표기법\n",
    "    - helloAPI는 get요청을 받을 수 있는 api라는 것을 api_view라는 표기법으로 나타냄\n",
    "    \n",
    "- request 객체는 요청에 대한 정보를 담고 있음\n",
    "    - 요청이 어떤 타입인지(get, post)\n",
    "    - 사용자가 어떤 데이터를 함께 보내주었는지\n",
    "    - 이런 정보를 알고 싶을 때 request.method, request.data 등으로 요청타입과 데이터에 접근할 수 있음\n",
    "    \n",
    "- Response 클래스는 DRF의 결과 반환 방식\n",
    "    - request와 마찬가지로 Response에는 응답에 대한 정보를 담고 있음\n",
    "    - response.data, response.status"
   ]
  },
  {
   "cell_type": "code",
   "execution_count": null,
   "id": "585bd45c",
   "metadata": {},
   "outputs": [],
   "source": [
    "# myapi/urls.py\n",
    "\n",
    "from django.contrib import admin\n",
    "from django.urls import path, include\n",
    "\n",
    "urlpatterns = [\n",
    "    path(\"admin/\", admin.site.urls),\n",
    "    path(\"example/\", include(\"example.urls\")),\n",
    "]"
   ]
  },
  {
   "cell_type": "code",
   "execution_count": null,
   "id": "610328a5",
   "metadata": {},
   "outputs": [],
   "source": [
    "# example/urls.py\n",
    "\n",
    "from django.urls import path\n",
    "from example.views import helloAPI\n",
    "\n",
    "urlpatterns = [\n",
    "    path(\"hello/\", helloAPI),\n",
    "]"
   ]
  },
  {
   "cell_type": "markdown",
   "id": "b18ac8cd",
   "metadata": {},
   "source": [
    "## Django와 달라진 점\n",
    "\n",
    "- DRF는 Response를 제공하는 API의 형태로 결과물이 나옴\n",
    "    - 템플릿의 형태가 아닌 JSON과 같은 형태의 응답을 제공\n",
    "    - 기존 장고에서는 템플릿으로 데이터를 제공했다면 DRF에서는 Serializer가 템플릿과 같은 역할을 수행\n",
    "    \n",
    "| 특징 | Pure Django | Django REST Framework |\n",
    "| :--: | :--: | :--: |\n",
    "| 개발 목적 | 웹 풀스택 개발 | 백엔드 API 서버 개발 |\n",
    "| 개발 결과 | 웹 페이지를 포함한 웹 서비스 | 여러 클라이언트에서 사용할 수 있는 API 서버 |\n",
    "| 응답 형태 | HTML | JSON|\n",
    "| 다른 파일 | templates | serializers.py |"
   ]
  },
  {
   "cell_type": "markdown",
   "id": "d1f93fc9",
   "metadata": {},
   "source": [
    "# Django REST Framework 기초 개념"
   ]
  },
  {
   "cell_type": "markdown",
   "id": "705d23c8",
   "metadata": {},
   "source": [
    "## DRF Serializer\n",
    "\n",
    "- 시리얼라이저의 사전적 의미는 직렬화\n",
    "    - 직렬화는 장고 프로젝트에서 만든 모델을 JSON으로 변환하는 것\n",
    "    \n",
    "- DRF 내에서 데이터를 저정할 때에는 장고의 모델을 통해 저장\n",
    "    - 모델은 데이터베이스 테이블을 추상화한 개념\n",
    "    - 장고의 ORM을 통해 파이썬 문법으로 데이터를 처리할 수 있음\n",
    "    - 이 때 장고 모델의 데이터는 파이썬 객체의 형태\n",
    "    \n",
    "- API는 위의 데이터를 클라이언트에 보내주는 역할을 하는데 파이썬 객체를 그대로 보낸다면 파이썬 데이터를 읽지 못할 수도 있음\n",
    "    - 그렇기 때문에 파이썬 데이터를 읽을 수 있도록 문자열(JSON 등)의 형태로 변환해서 보내줘야함\n",
    "    - 파이썬 데이터 객체를 문자열 등으로 변환하는 작업을 직렬화(serializer)\n",
    "    \n",
    "- 반대로 클라이언트가 데이터를 DRF 서버에 보내주는 경우\n",
    "    - 클라이언트는 API 요청에 데이터를 JSON 등 문자열 형태로 입력하여 보내주게 됨\n",
    "    - DRF 서버에서는 모델을 통해 데이터를 저장하려면 데이터가 파이썬 객체의 형태여야 함\n",
    "    - 따라서 앞선 경우와 반대로 JSON 등 문자열 데이터를 파이썬 데이터 객체로 변환해야 함\n",
    "        - 이 작업을 역직렬화(Deserialize)라고 함\n",
    "        \n",
    "- 시리얼라이저는 직렬화와 역직렬화 기능을 동시에 가짐\n",
    "    - 요약하자면 시리얼라이저는 클라이언트와 API 서버 간 데이터 양식을 맞춰주는 변환기"
   ]
  },
  {
   "cell_type": "code",
   "execution_count": null,
   "id": "d31a51ca",
   "metadata": {},
   "outputs": [],
   "source": []
  },
  {
   "cell_type": "code",
   "execution_count": null,
   "id": "31ca9701",
   "metadata": {},
   "outputs": [],
   "source": []
  },
  {
   "cell_type": "code",
   "execution_count": null,
   "id": "42f8e621",
   "metadata": {},
   "outputs": [],
   "source": []
  }
 ],
 "metadata": {
  "kernelspec": {
   "display_name": "Python 3 (ipykernel)",
   "language": "python",
   "name": "python3"
  },
  "language_info": {
   "codemirror_mode": {
    "name": "ipython",
    "version": 3
   },
   "file_extension": ".py",
   "mimetype": "text/x-python",
   "name": "python",
   "nbconvert_exporter": "python",
   "pygments_lexer": "ipython3",
   "version": "3.11.5"
  }
 },
 "nbformat": 4,
 "nbformat_minor": 5
}
