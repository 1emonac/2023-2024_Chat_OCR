{
 "cells": [
  {
   "cell_type": "markdown",
   "id": "abfd4d7f",
   "metadata": {},
   "source": [
    "# Django\n",
    "\n",
    "- 파이썬 기반의 웹 풀스택 프레임워크\n",
    "- Django만으로 웹 개발을 처음부터 끝까지 완성해낼 수 있음\n",
    "- Django는 다른 프레임워크들에 비해 자유도가 낮음\n",
    "    - 건드릴 수 있는 부분이 적음 -> 몇 가지 건드리지 않아도 웹 어플리케이션이 완성됨\n",
    "    - 초보들에게 적합한 프레임워크\n",
    "    \n",
    "- Django를 사용중인 곳\n",
    "    - 인스타그램\n",
    "    - 번개장터\n",
    "    - 숨은고수\n",
    "    - 헤이딜러\n",
    "    - 라프텔"
   ]
  },
  {
   "cell_type": "markdown",
   "id": "c00ee080",
   "metadata": {},
   "source": [
    "# 개발패턴\n",
    "\n",
    "- 만들어야 하는 개발 요소들에 대한 규격화된 양식\n",
    "- 개발 프로젝트를 요약하자면 개발에 필요한 내용들을 몇 가지 단위로 나눠놓고, 하나하나 만든 후에 이것들을 연결하는 것\n",
    "    - DJango에서는 MTV패턴을 사용"
   ]
  },
  {
   "cell_type": "markdown",
   "id": "130e618c",
   "metadata": {},
   "source": [
    "- 가상환경 설정\n",
    "    - 가상환경 생성\n",
    "        - $ conda create -n 가상환경이름\n",
    "        \n",
    "    - 가상환경 리스트\n",
    "        - $ conda env list\n",
    "        \n",
    "    - 가상환경 활성화\n",
    "        - $ conda activate 가상환경이름\n",
    "        \n",
    "    - 가상환경 비활성화\n",
    "        - $ conda deactivate 가상환경이름\n",
    "        \n",
    "    - 가상환경 삭제\n",
    "        - $ conda env remove -n 가상환경이름"
   ]
  },
  {
   "cell_type": "markdown",
   "id": "7bcfdccc",
   "metadata": {},
   "source": [
    "# 장고 프로젝트 생성\n",
    "\n",
    "- django-admin startproject 프로젝트이름 .\n",
    "    - 프로젝트를 생성하는 명령어\n",
    "    - 맨 마지막의 닷(.)은 \"이 폴더에 프로젝트를 만든다\" 라는 의미\n",
    "    \n",
    "- 잘 실행됐다면 프로젝트 폴더와 manage.py 파일이 생성됨"
   ]
  },
  {
   "cell_type": "markdown",
   "id": "76b9b1c1",
   "metadata": {},
   "source": [
    "# 서버 실행\n",
    "\n",
    "- python manage.py runserver\n",
    "    - 서버를 실행하는 명령어\n",
    "    - 아직 마이그레이션을 하지 않았다는 오류 메시지가 나타나지만 프로젝트 생성 확인에는 문제 없음"
   ]
  },
  {
   "cell_type": "markdown",
   "id": "147663db",
   "metadata": {},
   "source": [
    "- 프로젝트 폴더\n",
    "    - urls.py\n",
    "    - settings.py"
   ]
  },
  {
   "cell_type": "markdown",
   "id": "5af0f057",
   "metadata": {},
   "source": [
    "# Django 프로젝트 구조"
   ]
  },
  {
   "cell_type": "markdown",
   "id": "7686f16c",
   "metadata": {},
   "source": [
    "## Django 프로젝트와 앱\n",
    "\n",
    "- 프로젝트(Project)\n",
    "    - 어떤 하나의 큰 서비스\n",
    "        - 우리가 만들고 있는 하나의 웹 사이트\n",
    "        \n",
    "- 앱(App)\n",
    "    - 프로젝트 내 기능과 같은 요소들을 일정한 기준으로 나눠 놓은 단위\n",
    "    - 예) 페이스북과 같은 sns를 만든다고 하면 페이스북은 프로젝트가 되고 이 프로젝트는 몇 가지 그룹으로 나뉠 수 있음\n",
    "        - 회원 가입/로그인/친구 맺기 피드 관련 내용\n",
    "        - 글쓰기/삭제하기/수정하기/공유하기\n",
    "    - 위 예시에서 회원앱/메신저앱 으로 나눠놓는다면 어떤 기능 관련 코드를 찾을 때 어느 그룹으로 가야하는지 알 수 있고 여럿이 협업해서 개발한다면 역할 분담이 쉬워짐\n",
    "    - 무엇을 기준으로 나누느냐에 따라 프로젝트 구조가 달라지고 개발 난이도에 영향을 줄 수 있음"
   ]
  },
  {
   "cell_type": "markdown",
   "id": "0c4962b0",
   "metadata": {},
   "source": [
    "## Django 프로젝트 구성요소\n",
    "\n",
    "- manage.py\n",
    "    - Django와 관련된 명령어를 써야할 때 사용하는 파일\n",
    "    - 사용자가 입력하는 명령어를 처리하는 파일\n",
    "    \n",
    "- 프로젝트 폴더\n",
    "    - startproject 명령어로 만들어진 폴더로, 총 5개의 .py 파일이 존재\n",
    "    - 그 중에서 주로 사용하게 될 파일은 settings.py, urls.py\n",
    "    - settings.py\n",
    "        - 프로젝트의 설정 파일\n",
    "        - DEBUG\n",
    "        - ALLOWED_HOSTS\n",
    "        - INSTALLED_APPS"
   ]
  },
  {
   "cell_type": "code",
   "execution_count": null,
   "id": "a97d0337",
   "metadata": {},
   "outputs": [],
   "source": []
  },
  {
   "cell_type": "code",
   "execution_count": null,
   "id": "a9b19f5d",
   "metadata": {},
   "outputs": [],
   "source": []
  },
  {
   "cell_type": "code",
   "execution_count": null,
   "id": "4f42df6e",
   "metadata": {},
   "outputs": [],
   "source": []
  },
  {
   "cell_type": "code",
   "execution_count": null,
   "id": "ac80c063",
   "metadata": {},
   "outputs": [],
   "source": []
  },
  {
   "cell_type": "code",
   "execution_count": null,
   "id": "4675d384",
   "metadata": {},
   "outputs": [],
   "source": []
  },
  {
   "cell_type": "code",
   "execution_count": null,
   "id": "2230b053",
   "metadata": {},
   "outputs": [],
   "source": []
  },
  {
   "cell_type": "code",
   "execution_count": null,
   "id": "62174da0",
   "metadata": {},
   "outputs": [],
   "source": []
  },
  {
   "cell_type": "code",
   "execution_count": null,
   "id": "4327539e",
   "metadata": {},
   "outputs": [],
   "source": []
  },
  {
   "cell_type": "code",
   "execution_count": null,
   "id": "7380a79d",
   "metadata": {},
   "outputs": [],
   "source": []
  },
  {
   "cell_type": "code",
   "execution_count": null,
   "id": "37c57a22",
   "metadata": {},
   "outputs": [],
   "source": []
  },
  {
   "cell_type": "code",
   "execution_count": null,
   "id": "f4af5973",
   "metadata": {},
   "outputs": [],
   "source": []
  },
  {
   "cell_type": "code",
   "execution_count": null,
   "id": "a8c62b87",
   "metadata": {},
   "outputs": [],
   "source": []
  }
 ],
 "metadata": {
  "kernelspec": {
   "display_name": "Python 3 (ipykernel)",
   "language": "python",
   "name": "python3"
  },
  "language_info": {
   "codemirror_mode": {
    "name": "ipython",
    "version": 3
   },
   "file_extension": ".py",
   "mimetype": "text/x-python",
   "name": "python",
   "nbconvert_exporter": "python",
   "pygments_lexer": "ipython3",
   "version": "3.11.5"
  }
 },
 "nbformat": 4,
 "nbformat_minor": 5
}
