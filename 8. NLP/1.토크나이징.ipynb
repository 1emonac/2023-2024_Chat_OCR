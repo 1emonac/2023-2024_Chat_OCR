{
 "cells": [
  {
   "cell_type": "markdown",
   "id": "e469d081",
   "metadata": {},
   "source": [
    "# 토크나이징\n",
    "\n",
    "- 토큰(token)\n",
    "    - 일정한 의미가 있는 가장 작은 단어들\n",
    "    \n",
    "- 토크나이징\n",
    "    - 주어진 문장에서 토큰 단위로 정보를 나누는 작업\n",
    "    - 문장 형태의 데이터를 처리하기 위해 제일 처음 수행하는 기본적인 작업\n",
    "    - 텍스트 전처리 과정에서 사용됨\n",
    "    - 토크나이징을 어떻게 하느냐에 따라 성능 차이가 날 수 있음\n",
    "    \n",
    "- 한국어 토크나이징에넌 KoNLPy 가 많이 사용됨"
   ]
  },
  {
   "cell_type": "markdown",
   "id": "308cfa0f",
   "metadata": {},
   "source": [
    "# KoNLPy\n",
    "\n",
    "- 기본적인 한국어 자연어 처리를 위한 파이썬 라이브러리\n",
    "- 한국어는 토큰 단위를 형태소 단위로 사용할 때 단어와 품사의 정보를 같이 활용할 수 있기 때문에 효과적임\n",
    "- 형태소 분석기\n",
    "    - 한국어의 복잡한 특성에 따라 문장에서 형태소를 분석할 수 있는 도구\n",
    "    - 문장에서 형태소, 어근, 접두사/접미사, 품사 등 다양한 언어적 속성의 구조를 파악해줌\n",
    "    - 형태소의 의미를 고려해 품사를 태깅"
   ]
  },
  {
   "cell_type": "markdown",
   "id": "f53f82c3",
   "metadata": {},
   "source": [
    "## Kkma\n",
    "\n",
    "- 서울대학교 IDS(Intelligent Data Systems) 연구실에서 자연어 처리를 위해 개발한 한국어 형태소 분석기\n",
    "- 다른 형태소 분석기에 비해 속도가 느리지만 지원하는 품사 태그가 다양해서 속도가 느리더라도 정확한 품사 정보가 필요할 때 사용"
   ]
  },
  {
   "cell_type": "code",
   "execution_count": 2,
   "id": "c9750ac5",
   "metadata": {},
   "outputs": [],
   "source": [
    "from konlpy.tag import Kkma"
   ]
  },
  {
   "cell_type": "code",
   "execution_count": 3,
   "id": "5149d68e",
   "metadata": {},
   "outputs": [],
   "source": [
    "# 꼬꼬마 형태소 분석기 객체 생성\n",
    "kkma = Kkma()"
   ]
  },
  {
   "cell_type": "code",
   "execution_count": 4,
   "id": "ce9e462d",
   "metadata": {},
   "outputs": [],
   "source": [
    "text = \"아버지가 방에 들어갑니다.\""
   ]
  },
  {
   "cell_type": "code",
   "execution_count": 5,
   "id": "11f0dc08",
   "metadata": {},
   "outputs": [
    {
     "name": "stdout",
     "output_type": "stream",
     "text": [
      "['아버지', '가', '방', '에', '들어가', 'ㅂ니다', '.']\n"
     ]
    }
   ],
   "source": [
    "# 형태소 추출\n",
    "morphs = kkma.morphs(text)\n",
    "print(morphs)"
   ]
  },
  {
   "cell_type": "markdown",
   "id": "f102d25b",
   "metadata": {},
   "source": [
    "- 형태소 단위로 토크나이징\n",
    "- 리스트 형태로 반환됨\n"
   ]
  },
  {
   "cell_type": "code",
   "execution_count": 6,
   "id": "7c17659f",
   "metadata": {},
   "outputs": [
    {
     "name": "stdout",
     "output_type": "stream",
     "text": [
      "[('아버지', 'NNG'), ('가', 'JKS'), ('방', 'NNG'), ('에', 'JKM'), ('들어가', 'VV'), ('ㅂ니다', 'EFN'), ('.', 'SF')]\n"
     ]
    }
   ],
   "source": [
    "# 형태소와 품사 태그 추출\n",
    "pos = kkma.pos(text)\n",
    "print(pos)"
   ]
  },
  {
   "cell_type": "markdown",
   "id": "9c5fb4d5",
   "metadata": {},
   "source": [
    "- 품사 태깅\n",
    "- 리스트 형태로 반환됨"
   ]
  },
  {
   "cell_type": "code",
   "execution_count": 7,
   "id": "936113cb",
   "metadata": {},
   "outputs": [
    {
     "name": "stdout",
     "output_type": "stream",
     "text": [
      "['아버지', '방']\n"
     ]
    }
   ],
   "source": [
    "# 명사만 추출\n",
    "nouns = kkma.nouns(text)\n",
    "print(nouns)"
   ]
  },
  {
   "cell_type": "markdown",
   "id": "61292cf4",
   "metadata": {},
   "source": [
    "- 품사가 명사인 단어들만 추출"
   ]
  },
  {
   "cell_type": "code",
   "execution_count": 9,
   "id": "3120d06e",
   "metadata": {},
   "outputs": [
    {
     "name": "stdout",
     "output_type": "stream",
     "text": [
      "['오늘 날씨는 어 때요?', '내일은 덥다 던데.']\n"
     ]
    }
   ],
   "source": [
    "# 문장 분리\n",
    "sentences = \"오늘 날씨는 어때요? 내일은 덥다던데.\"\n",
    "s = kkma.sentences(sentences)\n",
    "print(s)"
   ]
  },
  {
   "cell_type": "markdown",
   "id": "a6e70ccb",
   "metadata": {},
   "source": [
    " - 복합 문장(2개 이상의 문장)이 있을 때 문장 단위로 토크나이징"
   ]
  },
  {
   "cell_type": "markdown",
   "id": "65f1f7ff",
   "metadata": {},
   "source": [
    "## Komoran\n",
    "\n",
    "- Korean Morpohological Analyzer\n",
    "- Shineware 에서 자바로 개발한 한국어 형태소 분석기\n",
    "- 공백이 포함된 형태소 단위로도 분석이 가능"
   ]
  },
  {
   "cell_type": "code",
   "execution_count": 10,
   "id": "7dfd941f",
   "metadata": {},
   "outputs": [],
   "source": [
    "from konlpy.tag import Komoran"
   ]
  },
  {
   "cell_type": "code",
   "execution_count": 11,
   "id": "6b5c6957",
   "metadata": {},
   "outputs": [],
   "source": [
    "# 코모란 형태소 분석기 객체 생성\n",
    "komoran = Komoran()"
   ]
  },
  {
   "cell_type": "code",
   "execution_count": 12,
   "id": "a26e3f7b",
   "metadata": {},
   "outputs": [
    {
     "name": "stdout",
     "output_type": "stream",
     "text": [
      "['아버지', '가', '방', '에', '들어가', 'ㅂ니다', '.']\n"
     ]
    }
   ],
   "source": [
    "# 형태소 추출\n",
    "morphs = komoran.morphs(text)\n",
    "print(morphs)"
   ]
  },
  {
   "cell_type": "code",
   "execution_count": 13,
   "id": "a3bd3cad",
   "metadata": {},
   "outputs": [
    {
     "name": "stdout",
     "output_type": "stream",
     "text": [
      "[('아버지', 'NNG'), ('가', 'JKS'), ('방', 'NNG'), ('에', 'JKB'), ('들어가', 'VV'), ('ㅂ니다', 'EF'), ('.', 'SF')]\n"
     ]
    }
   ],
   "source": [
    "# 형태소와 품사 태그 추출\n",
    "pos = komoran.pos(text)\n",
    "print(pos)"
   ]
  },
  {
   "cell_type": "code",
   "execution_count": 14,
   "id": "86179f41",
   "metadata": {},
   "outputs": [
    {
     "name": "stdout",
     "output_type": "stream",
     "text": [
      "['아버지', '방']\n"
     ]
    }
   ],
   "source": [
    "# 명사만 추출\n",
    "nouns = komoran.nouns(text)\n",
    "print(nouns)"
   ]
  },
  {
   "cell_type": "markdown",
   "id": "4f3e2292",
   "metadata": {},
   "source": [
    "## OKT\n",
    "\n",
    "- Open-source Korean Text Processor\n",
    "- 트위터에서 개발한 Twitter 한국어 처리기에서 파생된 오픈소스 한국어 처리기\n",
    "- 간단한 한국어 처리를 통해 색인얼르 추출하는 목표를 갖고 있기 때문에 완전한 수준의 형태소 분석을 지향하지 않음"
   ]
  },
  {
   "cell_type": "code",
   "execution_count": 15,
   "id": "ccfe1a0b",
   "metadata": {},
   "outputs": [],
   "source": [
    "from konlpy.tag import Okt"
   ]
  },
  {
   "cell_type": "code",
   "execution_count": 16,
   "id": "61b449cc",
   "metadata": {},
   "outputs": [],
   "source": [
    "# Okt 형태소 분석기 객체 생성\n",
    "okt = Okt()"
   ]
  },
  {
   "cell_type": "code",
   "execution_count": 17,
   "id": "2f57fb0f",
   "metadata": {},
   "outputs": [
    {
     "name": "stdout",
     "output_type": "stream",
     "text": [
      "['아버지', '가', '방', '에', '들어갑니다', '.']\n"
     ]
    }
   ],
   "source": [
    "# 형태소 추출\n",
    "morphs = okt.morphs(text)\n",
    "print(morphs)"
   ]
  },
  {
   "cell_type": "code",
   "execution_count": 18,
   "id": "cf2270cf",
   "metadata": {},
   "outputs": [
    {
     "name": "stdout",
     "output_type": "stream",
     "text": [
      "[('아버지', 'Noun'), ('가', 'Josa'), ('방', 'Noun'), ('에', 'Josa'), ('들어갑니다', 'Verb'), ('.', 'Punctuation')]\n"
     ]
    }
   ],
   "source": [
    "# 형태소와 품사 태그 추출\n",
    "pos = okt.pos(text)\n",
    "print(pos)"
   ]
  },
  {
   "cell_type": "code",
   "execution_count": 20,
   "id": "7fb4cbd3",
   "metadata": {},
   "outputs": [
    {
     "name": "stdout",
     "output_type": "stream",
     "text": [
      "['아버지', '방']\n"
     ]
    }
   ],
   "source": [
    "# 명사만 추출\n",
    "nouns = okt.nouns(text)\n",
    "print(nouns)"
   ]
  },
  {
   "cell_type": "code",
   "execution_count": 22,
   "id": "60e3708d",
   "metadata": {},
   "outputs": [
    {
     "name": "stdout",
     "output_type": "stream",
     "text": [
      "오늘 날씨가 좋아요ㅋㅋ\n",
      "['오늘', '오늘 날씨', '좋아욬', '날씨']\n"
     ]
    }
   ],
   "source": [
    "# 정규화, 어구 추출\n",
    "text = \"오늘 날씨가 좋아욬ㅋㅋ\"\n",
    "print(okt.normalize(text))\n",
    "print(okt.phrases(text))"
   ]
  },
  {
   "cell_type": "markdown",
   "id": "ccd67c75",
   "metadata": {},
   "source": [
    "# 사용자 사전 구축\n",
    "\n",
    "- 신조어는 형태소 분석기에서 인식이 안되는 경우가 많음\n",
    "- 이를 해결하기 위해 대부분의 형태소 분석기들은 사용자 사전을 추가할 수 있도록 구성됨"
   ]
  },
  {
   "cell_type": "code",
   "execution_count": 23,
   "id": "fd9fddd6",
   "metadata": {},
   "outputs": [
    {
     "name": "stdout",
     "output_type": "stream",
     "text": [
      "[('우리', 'NP'), ('챗봇은', 'NA'), ('엔', 'NNB'), ('엘', 'NNP'), ('피', 'NNG'), ('를', 'JKO'), ('좋아하', 'VV'), ('아', 'EF'), ('.', 'SF')]\n"
     ]
    }
   ],
   "source": [
    "text = \"우리 챗봇은 엔엘피를 좋아해.\"\n",
    "pos = komoran.pos(text)\n",
    "print(pos)"
   ]
  },
  {
   "cell_type": "markdown",
   "id": "23f5a1e8",
   "metadata": {},
   "source": [
    "- 엔엘피 라는 단어를 엔, 엘, 피로 분리해 명사로 인식해 정확한 형태소 분석이 되지 않음"
   ]
  },
  {
   "cell_type": "code",
   "execution_count": 24,
   "id": "5bf612f6",
   "metadata": {},
   "outputs": [],
   "source": [
    "komoran = Komoran(userdic = \"user_dic.tsv\")"
   ]
  },
  {
   "cell_type": "code",
   "execution_count": 25,
   "id": "2d2b817a",
   "metadata": {},
   "outputs": [
    {
     "name": "stdout",
     "output_type": "stream",
     "text": [
      "[('우리', 'NP'), ('챗봇은', 'NA'), ('엔엘피', 'NNG'), ('를', 'JKO'), ('좋아하', 'VV'), ('아', 'EF'), ('.', 'SF')]\n"
     ]
    }
   ],
   "source": [
    "pos = komoran.pos(text)\n",
    "print(pos)"
   ]
  },
  {
   "cell_type": "code",
   "execution_count": null,
   "id": "e98e7263",
   "metadata": {},
   "outputs": [],
   "source": []
  }
 ],
 "metadata": {
  "kernelspec": {
   "display_name": "Python 3 (ipykernel)",
   "language": "python",
   "name": "python3"
  },
  "language_info": {
   "codemirror_mode": {
    "name": "ipython",
    "version": 3
   },
   "file_extension": ".py",
   "mimetype": "text/x-python",
   "name": "python",
   "nbconvert_exporter": "python",
   "pygments_lexer": "ipython3",
   "version": "3.11.5"
  }
 },
 "nbformat": 4,
 "nbformat_minor": 5
}
