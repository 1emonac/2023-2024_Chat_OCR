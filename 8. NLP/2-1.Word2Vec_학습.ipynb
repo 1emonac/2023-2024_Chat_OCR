{
 "cells": [
  {
   "cell_type": "code",
   "execution_count": 1,
   "id": "6e6fd430",
   "metadata": {},
   "outputs": [],
   "source": [
    "from gensim.models import Word2Vec\n",
    "from konlpy.tag import Komoran\n",
    "import time\n",
    "import pandas as pd"
   ]
  },
  {
   "cell_type": "code",
   "execution_count": 2,
   "id": "b98baf86",
   "metadata": {},
   "outputs": [],
   "source": [
    "df = pd.read_csv(r\"C:\\Users\\ITSC\\Desktop\\project\\DL\\data\\nsmc\\ratings.txt\", sep = \"\\t\")"
   ]
  },
  {
   "cell_type": "code",
   "execution_count": 3,
   "id": "765f7717",
   "metadata": {},
   "outputs": [
    {
     "data": {
      "text/html": [
       "<div>\n",
       "<style scoped>\n",
       "    .dataframe tbody tr th:only-of-type {\n",
       "        vertical-align: middle;\n",
       "    }\n",
       "\n",
       "    .dataframe tbody tr th {\n",
       "        vertical-align: top;\n",
       "    }\n",
       "\n",
       "    .dataframe thead th {\n",
       "        text-align: right;\n",
       "    }\n",
       "</style>\n",
       "<table border=\"1\" class=\"dataframe\">\n",
       "  <thead>\n",
       "    <tr style=\"text-align: right;\">\n",
       "      <th></th>\n",
       "      <th>id</th>\n",
       "      <th>document</th>\n",
       "      <th>label</th>\n",
       "    </tr>\n",
       "  </thead>\n",
       "  <tbody>\n",
       "    <tr>\n",
       "      <th>0</th>\n",
       "      <td>8112052</td>\n",
       "      <td>어릴때보고 지금다시봐도 재밌어요ㅋㅋ</td>\n",
       "      <td>1</td>\n",
       "    </tr>\n",
       "    <tr>\n",
       "      <th>1</th>\n",
       "      <td>8132799</td>\n",
       "      <td>디자인을 배우는 학생으로, 외국디자이너와 그들이 일군 전통을 통해 발전해가는 문화산...</td>\n",
       "      <td>1</td>\n",
       "    </tr>\n",
       "    <tr>\n",
       "      <th>2</th>\n",
       "      <td>4655635</td>\n",
       "      <td>폴리스스토리 시리즈는 1부터 뉴까지 버릴께 하나도 없음.. 최고.</td>\n",
       "      <td>1</td>\n",
       "    </tr>\n",
       "    <tr>\n",
       "      <th>3</th>\n",
       "      <td>9251303</td>\n",
       "      <td>와.. 연기가 진짜 개쩔구나.. 지루할거라고 생각했는데 몰입해서 봤다.. 그래 이런...</td>\n",
       "      <td>1</td>\n",
       "    </tr>\n",
       "    <tr>\n",
       "      <th>4</th>\n",
       "      <td>10067386</td>\n",
       "      <td>안개 자욱한 밤하늘에 떠 있는 초승달 같은 영화.</td>\n",
       "      <td>1</td>\n",
       "    </tr>\n",
       "  </tbody>\n",
       "</table>\n",
       "</div>"
      ],
      "text/plain": [
       "         id                                           document  label\n",
       "0   8112052                                어릴때보고 지금다시봐도 재밌어요ㅋㅋ      1\n",
       "1   8132799  디자인을 배우는 학생으로, 외국디자이너와 그들이 일군 전통을 통해 발전해가는 문화산...      1\n",
       "2   4655635               폴리스스토리 시리즈는 1부터 뉴까지 버릴께 하나도 없음.. 최고.      1\n",
       "3   9251303  와.. 연기가 진짜 개쩔구나.. 지루할거라고 생각했는데 몰입해서 봤다.. 그래 이런...      1\n",
       "4  10067386                        안개 자욱한 밤하늘에 떠 있는 초승달 같은 영화.      1"
      ]
     },
     "execution_count": 3,
     "metadata": {},
     "output_type": "execute_result"
    }
   ],
   "source": [
    "df.head()"
   ]
  },
  {
   "cell_type": "code",
   "execution_count": 4,
   "id": "c581dc4f",
   "metadata": {},
   "outputs": [
    {
     "data": {
      "text/plain": [
       "(200000, 3)"
      ]
     },
     "execution_count": 4,
     "metadata": {},
     "output_type": "execute_result"
    }
   ],
   "source": [
    "df.shape"
   ]
  },
  {
   "cell_type": "code",
   "execution_count": 5,
   "id": "23d8dcf2",
   "metadata": {},
   "outputs": [
    {
     "name": "stdout",
     "output_type": "stream",
     "text": [
      "<class 'pandas.core.frame.DataFrame'>\n",
      "RangeIndex: 200000 entries, 0 to 199999\n",
      "Data columns (total 3 columns):\n",
      " #   Column    Non-Null Count   Dtype \n",
      "---  ------    --------------   ----- \n",
      " 0   id        200000 non-null  int64 \n",
      " 1   document  199992 non-null  object\n",
      " 2   label     200000 non-null  int64 \n",
      "dtypes: int64(2), object(1)\n",
      "memory usage: 4.6+ MB\n"
     ]
    }
   ],
   "source": [
    "df.info()"
   ]
  },
  {
   "cell_type": "code",
   "execution_count": 6,
   "id": "12946ef2",
   "metadata": {},
   "outputs": [],
   "source": [
    "# 결측치 제거\n",
    "df = df.dropna()"
   ]
  },
  {
   "cell_type": "code",
   "execution_count": 7,
   "id": "4aa8dbdd",
   "metadata": {},
   "outputs": [
    {
     "data": {
      "text/html": [
       "<div>\n",
       "<style scoped>\n",
       "    .dataframe tbody tr th:only-of-type {\n",
       "        vertical-align: middle;\n",
       "    }\n",
       "\n",
       "    .dataframe tbody tr th {\n",
       "        vertical-align: top;\n",
       "    }\n",
       "\n",
       "    .dataframe thead th {\n",
       "        text-align: right;\n",
       "    }\n",
       "</style>\n",
       "<table border=\"1\" class=\"dataframe\">\n",
       "  <thead>\n",
       "    <tr style=\"text-align: right;\">\n",
       "      <th></th>\n",
       "      <th>id</th>\n",
       "      <th>document</th>\n",
       "      <th>label</th>\n",
       "    </tr>\n",
       "  </thead>\n",
       "  <tbody>\n",
       "    <tr>\n",
       "      <th>0</th>\n",
       "      <td>8112052</td>\n",
       "      <td>어릴때보고 지금다시봐도 재밌어요ㅋㅋ</td>\n",
       "      <td>1</td>\n",
       "    </tr>\n",
       "    <tr>\n",
       "      <th>1</th>\n",
       "      <td>8132799</td>\n",
       "      <td>디자인을 배우는 학생으로, 외국디자이너와 그들이 일군 전통을 통해 발전해가는 문화산...</td>\n",
       "      <td>1</td>\n",
       "    </tr>\n",
       "    <tr>\n",
       "      <th>2</th>\n",
       "      <td>4655635</td>\n",
       "      <td>폴리스스토리 시리즈는 1부터 뉴까지 버릴께 하나도 없음.. 최고.</td>\n",
       "      <td>1</td>\n",
       "    </tr>\n",
       "    <tr>\n",
       "      <th>3</th>\n",
       "      <td>9251303</td>\n",
       "      <td>와.. 연기가 진짜 개쩔구나.. 지루할거라고 생각했는데 몰입해서 봤다.. 그래 이런...</td>\n",
       "      <td>1</td>\n",
       "    </tr>\n",
       "    <tr>\n",
       "      <th>4</th>\n",
       "      <td>10067386</td>\n",
       "      <td>안개 자욱한 밤하늘에 떠 있는 초승달 같은 영화.</td>\n",
       "      <td>1</td>\n",
       "    </tr>\n",
       "  </tbody>\n",
       "</table>\n",
       "</div>"
      ],
      "text/plain": [
       "         id                                           document  label\n",
       "0   8112052                                어릴때보고 지금다시봐도 재밌어요ㅋㅋ      1\n",
       "1   8132799  디자인을 배우는 학생으로, 외국디자이너와 그들이 일군 전통을 통해 발전해가는 문화산...      1\n",
       "2   4655635               폴리스스토리 시리즈는 1부터 뉴까지 버릴께 하나도 없음.. 최고.      1\n",
       "3   9251303  와.. 연기가 진짜 개쩔구나.. 지루할거라고 생각했는데 몰입해서 봤다.. 그래 이런...      1\n",
       "4  10067386                        안개 자욱한 밤하늘에 떠 있는 초승달 같은 영화.      1"
      ]
     },
     "execution_count": 7,
     "metadata": {},
     "output_type": "execute_result"
    }
   ],
   "source": [
    "df.head()"
   ]
  },
  {
   "cell_type": "code",
   "execution_count": 8,
   "id": "251c9c2a",
   "metadata": {},
   "outputs": [
    {
     "data": {
      "text/plain": [
       "(199992, 3)"
      ]
     },
     "execution_count": 8,
     "metadata": {},
     "output_type": "execute_result"
    }
   ],
   "source": [
    "df.shape"
   ]
  },
  {
   "cell_type": "code",
   "execution_count": 9,
   "id": "79dbb933",
   "metadata": {},
   "outputs": [],
   "source": [
    "komoran = Komoran()"
   ]
  },
  {
   "cell_type": "code",
   "execution_count": 10,
   "id": "c1b53a11",
   "metadata": {},
   "outputs": [
    {
     "name": "stdout",
     "output_type": "stream",
     "text": [
      "CPU times: total: 1min 55s\n",
      "Wall time: 1min 24s\n"
     ]
    }
   ],
   "source": [
    "%%time\n",
    "# 문장 단위로 명사만 추출해 학습 입력 데이터로 만듦\n",
    "docs = df[\"document\"].map(lambda x: komoran.nouns(x))"
   ]
  },
  {
   "cell_type": "code",
   "execution_count": 11,
   "id": "590a4286",
   "metadata": {},
   "outputs": [
    {
     "data": {
      "text/plain": [
       "0                                                       [때]\n",
       "1         [디자인, 학생, 외국, 디자이너, 전통, 발전, 문화, 산업, 사실, 우리나라, ...\n",
       "2                                    [폴리스, 스토리, 시리즈, 뉴, 최고]\n",
       "3                                [연기, 것, 라고, 생각, 몰입, 영, 화지]\n",
       "4                                        [안개, 밤하늘, 초승달, 영화]\n",
       "                                ...                        \n",
       "199995                                         [포켓, 몬스터, 짜]\n",
       "199996                                                   []\n",
       "199997                            [완전, 사이코, 영화, 마지막, 영화, 질]\n",
       "199998                                          [라따뚜이, 스머프]\n",
       "199999                       [포, 풍, 저그, 가나, 신다영, 차영, 차영, 차]\n",
       "Name: document, Length: 199992, dtype: object"
      ]
     },
     "execution_count": 11,
     "metadata": {},
     "output_type": "execute_result"
    }
   ],
   "source": [
    "docs"
   ]
  },
  {
   "cell_type": "code",
   "execution_count": 12,
   "id": "adc1ae5d",
   "metadata": {},
   "outputs": [
    {
     "data": {
      "text/plain": [
       "id                  8548411\n",
       "document    포풍저그가나가신다영차영차영차\n",
       "label                     0\n",
       "Name: 199999, dtype: object"
      ]
     },
     "execution_count": 12,
     "metadata": {},
     "output_type": "execute_result"
    }
   ],
   "source": [
    "df.iloc[-1]"
   ]
  },
  {
   "cell_type": "code",
   "execution_count": 13,
   "id": "a489d7c0",
   "metadata": {},
   "outputs": [],
   "source": [
    "# word2vec 모델 학습\n",
    "model = Word2Vec(sentences = docs, vector_size = 200, window = 4, min_count = 2, sg = 1)"
   ]
  },
  {
   "cell_type": "markdown",
   "id": "84f34a0a",
   "metadata": {},
   "source": [
    "- word2vec의 주요 하이퍼파라미터\n",
    "    - sentences : Word2Vec 모델 학습에 필요한 문장 데이터\n",
    "    - vector_size : 단어 임베딩 벡터의 차원(크기)\n",
    "    - window : 주변 단어 윈도우의 크기\n",
    "    - min_count : 단어 최소 빈도 수 제한(설정된 min_count 빈도 수 미만의 단어들은 학습하지 않음)\n",
    "    - sg : 0(CBOW 모델), 1(skip-gram  모델)"
   ]
  },
  {
   "cell_type": "code",
   "execution_count": 14,
   "id": "a7e2289f",
   "metadata": {},
   "outputs": [],
   "source": [
    "# 모델 저장\n",
    "model.save(\"./model/nsmc_w2v.model\")"
   ]
  },
  {
   "cell_type": "code",
   "execution_count": 15,
   "id": "1d65c37a",
   "metadata": {},
   "outputs": [
    {
     "name": "stdout",
     "output_type": "stream",
     "text": [
      "corpus_count : 199992\n",
      "corpus_total_words : 1076840\n"
     ]
    }
   ],
   "source": [
    "# 학습된 말뭉치 개수, 코퍼스 내 전체 단어 개수\n",
    "print(\"corpus_count :\", model.corpus_count)\n",
    "print(\"corpus_total_words :\", model.corpus_total_words)"
   ]
  },
  {
   "cell_type": "markdown",
   "id": "41f17d90",
   "metadata": {},
   "source": [
    "# word2vec 모델 활용"
   ]
  },
  {
   "cell_type": "code",
   "execution_count": 16,
   "id": "eabf7252",
   "metadata": {},
   "outputs": [
    {
     "name": "stdout",
     "output_type": "stream",
     "text": [
      "1076840\n"
     ]
    }
   ],
   "source": [
    "# 모델 로딩\n",
    "model = Word2Vec.load(\"./model/nsmc_w2v.model\")\n",
    "print(model.corpus_total_words)"
   ]
  },
  {
   "cell_type": "code",
   "execution_count": 17,
   "id": "eb545c7e",
   "metadata": {},
   "outputs": [
    {
     "name": "stdout",
     "output_type": "stream",
     "text": [
      "사랑 :  [-0.07630999 -0.404828    0.03590605  0.26142055 -0.10799312 -0.20799005\n",
      "  0.15578352 -0.06889922 -0.04667915  0.37246004 -0.31771198  0.08706474\n",
      "  0.34264183 -0.24531986 -0.08500683  0.44058338  0.13099106 -0.08209526\n",
      " -0.46247247 -0.37306425 -0.00394232  0.2229737   0.02022794  0.058669\n",
      " -0.23450816 -0.14988768 -0.06896751 -0.3427782  -0.18499257 -0.33115122\n",
      "  0.04690713  0.25386924  0.0124919   0.19192344 -0.06699996  0.07476515\n",
      " -0.04299118  0.11017019 -0.24343836 -0.02289758 -0.3186641  -0.05258316\n",
      "  0.01413407 -0.12597069  0.5164969   0.37820083 -0.34130797 -0.17770645\n",
      "  0.34784573  0.13818377  0.3320351  -0.27600017 -0.20718794  0.1562726\n",
      " -0.20736124 -0.06994574  0.07881343 -0.27587542 -0.26469508 -0.02843448\n",
      "  0.22658446  0.20734683 -0.17579609  0.16372548 -0.39259905  0.06278718\n",
      " -0.22637601  0.18521637 -0.25880623  0.912969    0.0870223  -0.03673316\n",
      "  0.07412452  0.11765447  0.23368743 -0.40211624  0.14199342 -0.44768366\n",
      " -0.47046325 -0.19383918 -0.14639255  0.04659194 -0.32649642  0.15778872\n",
      " -0.13687252  0.05584366 -0.44848943  0.05667698 -0.02656768  0.12890477\n",
      "  0.338575    0.25209972  0.14152226  0.38106415  0.3325454   0.18124379\n",
      " -0.11059179 -0.21039847 -0.20186976  0.10200298 -0.5943613   0.38561216\n",
      "  0.21372394  0.21144445 -0.19267997 -0.42613828  0.21869229  0.3043959\n",
      " -0.06765129 -0.46890095  0.2867383  -0.15606308  0.16329397 -0.07594078\n",
      "  0.15677612 -0.4051595   0.20532325 -0.2957785   0.36294565  0.165344\n",
      "  0.05226826 -0.1457697  -0.3509221  -0.35323647 -0.12233798  0.38882256\n",
      " -0.01836759 -0.08028634 -0.30057275  0.14018564 -0.04350304  0.4545775\n",
      "  0.2406383   0.4168569  -0.04816077  0.00866904 -0.14315243 -0.10604211\n",
      " -0.11947155 -0.10364106  0.03511551  0.01626487 -0.2744705  -0.13762936\n",
      "  0.01347415  0.15889628 -0.21839826 -0.10988355  0.16532242 -0.39968592\n",
      " -0.02288861 -0.32456097  0.2317655  -0.03682693 -0.17393497 -0.02509313\n",
      "  0.3120364   0.14780785  0.43041784  0.23917338  0.35334525  0.20072857\n",
      " -0.0519691  -0.37823126 -0.10384021  0.48017946 -0.11286268 -0.26020095\n",
      " -0.179079    0.01792686 -0.45729244  0.0398526   0.2411866  -0.5180081\n",
      "  0.03379707 -0.00338637  0.1566547   0.01266971  0.11658974  0.11396408\n",
      " -0.2628177   0.22282323  0.08534708 -0.07903221 -0.15169722 -0.14377725\n",
      " -0.01381704 -0.17020494  0.42102817  0.15549111  0.25675517 -0.08306258\n",
      " -0.04256424  0.22269735  0.13264027 -0.11216574  0.17201765 -0.34476465\n",
      " -0.00261279  0.14655223]\n"
     ]
    }
   ],
   "source": [
    "# '사랑'이란 단어로 생성한 단어 임베딩 벡터\n",
    "print(\"사랑 : \", model.wv[\"사랑\"])"
   ]
  },
  {
   "cell_type": "markdown",
   "id": "bc7bf8da",
   "metadata": {},
   "source": [
    "- 모델을 학습할 때 설정한 vector_size 하이퍼파라미터 만큼 단어 임베딩 벡터 차원 크기가 결정됨"
   ]
  },
  {
   "cell_type": "markdown",
   "id": "7b202887",
   "metadata": {},
   "source": [
    "- model.wv.similarity() 함수 : 두 단어 간의 유사도를 계산"
   ]
  },
  {
   "cell_type": "code",
   "execution_count": 20,
   "id": "d8b100c4",
   "metadata": {},
   "outputs": [
    {
     "name": "stdout",
     "output_type": "stream",
     "text": [
      "일요일 = 월요일\t0.90013766\n"
     ]
    }
   ],
   "source": [
    "# 단어 유사도 계산\n",
    "print(\"일요일 = 월요일\", model.wv.similarity(w1 = \"일요일\", w2 = \"월요일\"), sep = \"\\t\")"
   ]
  },
  {
   "cell_type": "code",
   "execution_count": 21,
   "id": "9ea7202b",
   "metadata": {},
   "outputs": [
    {
     "name": "stdout",
     "output_type": "stream",
     "text": [
      "대기업 = 삼성\t0.87478346\n"
     ]
    }
   ],
   "source": [
    "print(\"대기업 = 삼성\", model.wv.similarity(w1 = \"대기업\", w2 = \"삼성\"), sep = \"\\t\")"
   ]
  },
  {
   "cell_type": "code",
   "execution_count": 22,
   "id": "a92f6dc0",
   "metadata": {},
   "outputs": [
    {
     "name": "stdout",
     "output_type": "stream",
     "text": [
      "일요일 = 삼성\t0.6372349\n"
     ]
    }
   ],
   "source": [
    "print(\"일요일 = 삼성\", model.wv.similarity(w1 = \"일요일\", w2 = \"삼성\"), sep = \"\\t\")"
   ]
  },
  {
   "cell_type": "markdown",
   "id": "26d88988",
   "metadata": {},
   "source": [
    "- model.wv.similarity() 함수 : 인자로 사용한 단어와 가장 유사한 단어를 리스트로 반환\n",
    "    - 벡터 공간에서 가장 가까운 거리에 있는 단어들을 반환\n",
    "    - topn : 반환되는 유사한 단어 수\n",
    "- 유사도가 1에 가까울수록 두 단어는 동일한 의미이거나 문법적으로 관련이 있을 가능성이 높음"
   ]
  },
  {
   "cell_type": "code",
   "execution_count": 23,
   "id": "ad587431",
   "metadata": {},
   "outputs": [
    {
     "name": "stdout",
     "output_type": "stream",
     "text": [
      "[('엑스맨', 0.8122462034225464), ('포터', 0.8070046901702881), ('반지의 제왕', 0.8044701218605042), ('스타워즈', 0.7970862984657288), ('미이라', 0.7911685109138489)]\n"
     ]
    }
   ],
   "source": [
    "# 가장 유사한 단어 추출\n",
    "print(model.wv.most_similar(\"시리즈\", topn = 5))"
   ]
  },
  {
   "cell_type": "code",
   "execution_count": 25,
   "id": "66d999cb",
   "metadata": {},
   "outputs": [
    {
     "name": "stdout",
     "output_type": "stream",
     "text": [
      "[('라이온', 0.870712161064148), ('명곡', 0.8090930581092834), ('출', 0.8024001121520996), ('스카이', 0.7918542623519897), ('결정판', 0.7915890216827393)]\n"
     ]
    }
   ],
   "source": [
    "print(model.wv.most_similar(\"킹\", topn = 5))"
   ]
  },
  {
   "cell_type": "code",
   "execution_count": 26,
   "id": "74b01c71",
   "metadata": {},
   "outputs": [],
   "source": [
    "import gensim"
   ]
  },
  {
   "cell_type": "code",
   "execution_count": 27,
   "id": "e6ba8a4e",
   "metadata": {},
   "outputs": [],
   "source": [
    "sentences = gensim.models.word2vec.Text8Corpus(\"./data/text8.txt\")"
   ]
  },
  {
   "cell_type": "code",
   "execution_count": 30,
   "id": "873c00b7",
   "metadata": {},
   "outputs": [],
   "source": [
    "model = Word2Vec(sentences, vector_size = 200)"
   ]
  },
  {
   "cell_type": "code",
   "execution_count": 31,
   "id": "fa7f94d0",
   "metadata": {},
   "outputs": [
    {
     "data": {
      "text/plain": [
       "[('queen', 0.6435863971710205),\n",
       " ('princess', 0.5680335760116577),\n",
       " ('throne', 0.5655045509338379),\n",
       " ('prince', 0.5455148816108704),\n",
       " ('empress', 0.53355473279953),\n",
       " ('daughter', 0.5310457348823547),\n",
       " ('isabella', 0.5277004837989807),\n",
       " ('emperor', 0.5272979736328125),\n",
       " ('consort', 0.5272188186645508),\n",
       " ('wife', 0.5254906415939331)]"
      ]
     },
     "execution_count": 31,
     "metadata": {},
     "output_type": "execute_result"
    }
   ],
   "source": [
    "model.wv.most_similar(positive = [\"woman\", \"king\"], negative = [\"man\"])"
   ]
  },
  {
   "cell_type": "code",
   "execution_count": null,
   "id": "c1bf68c3",
   "metadata": {},
   "outputs": [],
   "source": []
  }
 ],
 "metadata": {
  "kernelspec": {
   "display_name": "Python 3 (ipykernel)",
   "language": "python",
   "name": "python3"
  },
  "language_info": {
   "codemirror_mode": {
    "name": "ipython",
    "version": 3
   },
   "file_extension": ".py",
   "mimetype": "text/x-python",
   "name": "python",
   "nbconvert_exporter": "python",
   "pygments_lexer": "ipython3",
   "version": "3.11.5"
  }
 },
 "nbformat": 4,
 "nbformat_minor": 5
}
