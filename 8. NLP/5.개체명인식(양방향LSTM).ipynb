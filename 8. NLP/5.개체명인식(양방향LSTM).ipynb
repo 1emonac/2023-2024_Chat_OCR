{
 "cells": [
  {
   "cell_type": "markdown",
   "id": "3ea84e30",
   "metadata": {},
   "source": [
    "# 양방향 LSTM\n",
    "\n",
    "- RNN이나 LSTM은 시퀀스 또는 시계열 데이터 처리에 특화되어 은닉층에서 과거이 정보를 기억할 수 있음\n",
    "- 그러나 순환 구조의 특성상 데이터가 입력 순으로 처리되기 때문에 이전 시점의 정보만 활용할 수밖에 없다는 단점이 존재\n",
    "    - 문장이 길어지수록 성능이 저하\n",
    "    - 예) ios앱 (개발)은 맥북이 필요합니다\n",
    "    - 위의 경우에 ios와 앱 이라는 단어만으로는 개발 이라는 단어를 유추하기 힘듦\n",
    "        - 문장의 앞부분보다 뒷부분에 중요한 정보가 있음\n",
    "\n",
    "- 양방향 LSTM(Bidirectional LSTM)\n",
    "    - 기존 LSTM 계층에 역방향으로 처리하는 LSTM 계층을 추가해 양방향에서 문장의 패턴을 분석할 수 있도록 구성\n",
    "    - 입력 문장을 양방향에서 처리하기 때문에 시퀀스 길이가 길어져도 정보 손실없이 처리가 가능\n",
    "    \n",
    "<img src = \"./img/Bidirectional_LSTM.jpg\">"
   ]
  },
  {
   "cell_type": "markdown",
   "id": "87a82bee",
   "metadata": {},
   "source": [
    "# 개체명 인식(Named Entity Recognition)\n",
    "\n",
    "- 각 개체의 유형을 인식\n",
    "- 문장 내에 포함된 어떤 단어가 인물, 장소, 날짜 등을 의미하는 단어인지 인식하는 것\n",
    "- 개체명 인식은 챗봇에서 문장을 정확하게 해석하기 위해 반드시 처리해야 하는 전처리 과정임\n",
    "    - 예) 날짜와 지역에 대해 개체 인식을 할 수 있는 모델이 있다고 가정할 경우\n",
    "    - 입력 문장 : 내일 부산 날씨 알려줘\n",
    "    - 문장 의도 : 날씨 요청\n",
    "    - 개체명 인식 결과 : 내일 - 날짜, 부산 - 지역\n",
    "    \n",
    "- 단순한 질문 형태라면 개체명 사전을 구축해 해당 단어들과 매핑되는 개체명을 찾을 수도 있음\n",
    "    - 문장 구조가 복잡하거나 문맥에 따라 단어의 의미가 바뀐다면 딥러닝 모델을 활용해야 함\n",
    "    \n",
    "- 개체명 사전 구축 방식은 신조어나 사전에 포함되지 않은 단어는 처리 불가능하며 사람이 직접 사전 데이터를 관리해야 하기 때문에 관리비용이 많이 필요함"
   ]
  },
  {
   "cell_type": "markdown",
   "id": "d1db0b34",
   "metadata": {},
   "source": [
    "## BIO 표기법\n",
    "\n",
    "- Beginning, Inside, Outside 의 약자\n",
    "- 각 토큰마다 태그를 붙이기 위해 사용\n",
    "- Beginning : 개체명이 시작되는 단어에 \"B-개체명\" 으로 태그\n",
    "- Inside : \"B-개체명\"과 연결되는 단어일 때 \"I-개체명\" 으로 태그\n",
    "- Outside : 개체명 이외의 모든 토큰에 태그\n",
    "    - 예) 오늘부터 길동 포터는 삼성전자에 근무합니다\n",
    "    - 오늘 -> B-date\n",
    "    - 부터 -> O\n",
    "    - 길동 -> B-person\n",
    "    - 포터 -> I-person\n",
    "    - 는 -> O\n",
    "    - 삼성 -> B-Company\n",
    "    - 전자 -> I-Company\n",
    "    - 에 -> O\n",
    "    - 근무 -> O\n",
    "    - 합니다 -> O\n",
    "    \n",
    "- 두 개 이상의 토큰이 하나의 개체를 구성하는 경우가 많기 때문에 BIO 표기법을 사용"
   ]
  },
  {
   "cell_type": "markdown",
   "id": "fb8f8afc",
   "metadata": {},
   "source": [
    "## 국립국어원 언어정보나눔터 개체명 인식 모델을 위한 말뭉치\n",
    "\n",
    "- ; 으로 시작하는 문장 : 원본 문장\n",
    "- $로 시작하는 문장 : 해당 문장에서 NER 처리된 결과\n",
    "- 개체명 인식 모델은 단어 토큰을 입력했을 때 출력되는 NER 태그값을 예측\n",
    "    - 예) \"삼성전자\"를 입력한다면 B_OG(단체) 태그가 출력되도록 학습"
   ]
  },
  {
   "cell_type": "code",
   "execution_count": 2,
   "id": "bf3e9e31",
   "metadata": {},
   "outputs": [],
   "source": [
    "import numpy as np\n",
    "import tensorflow as tf\n",
    "import matplotlib.pyplot as plt\n",
    "from tensorflow.keras import preprocessing\n",
    "from sklearn.model_selection import train_test_split\n",
    "from tensorflow.keras.models import Sequential\n",
    "from tensorflow.keras.layers import (LSTM, Embedding, Dense, TimeDistributed, Dropout, Bidirectional)\n",
    "from tensorflow.keras.optimizers import Adam\n",
    "from seqeval.metrics import f1_score, classification_report"
   ]
  },
  {
   "cell_type": "code",
   "execution_count": 3,
   "id": "8a37aa4d",
   "metadata": {},
   "outputs": [],
   "source": [
    "# 학습 파일 불러오기\n",
    "def read_file(file_name):\n",
    "    sents = []\n",
    "    with open(file_name, \"r\", encoding=\"utf-8\") as f:\n",
    "        lines = f.readlines()\n",
    "        for idx, l in enumerate(lines):\n",
    "            if l[0] == \";\" and lines[idx + 1][0] == \"$\": # \";\" 줄 다음이 \"$\"로 시작한다면\n",
    "                this_sent = [] # 초기화\n",
    "            elif l[0] == \"$\" and lines[idx - 1][0] == \";\":\n",
    "                continue\n",
    "            elif l[0]  == \"\\n\": # 라인의 [0]번째 값이 엔터라면\n",
    "                sents.append(this_sent)\n",
    "            else:\n",
    "                this_sent.append(tuple(l.split()))\n",
    "    return sents"
   ]
  },
  {
   "cell_type": "code",
   "execution_count": 4,
   "id": "59e9b0cc",
   "metadata": {},
   "outputs": [],
   "source": [
    "# 학습용 말뭉치 데이터를 불러옴\n",
    "corpus = read_file(\"./data/ner/train.txt\")"
   ]
  },
  {
   "cell_type": "code",
   "execution_count": 5,
   "id": "e758dec6",
   "metadata": {},
   "outputs": [
    {
     "data": {
      "text/plain": [
       "[('1', '한편', 'NNG', 'O'),\n",
       " ('1', ',', 'SP', 'O'),\n",
       " ('2', 'AFC', 'SL', 'O'),\n",
       " ('2', '챔피언스', 'NNG', 'O'),\n",
       " ('2', '리그', 'NNG', 'O'),\n",
       " ('3', 'E', 'SL', 'B_OG'),\n",
       " ('3', '조', 'NNG', 'I'),\n",
       " ('3', '에', 'JKB', 'O'),\n",
       " ('4', '속하', 'VV', 'O'),\n",
       " ('4', 'ㄴ', 'ETM', 'O'),\n",
       " ('5', '포항', 'NNP', 'O'),\n",
       " ('6', '역시', 'MAJ', 'O'),\n",
       " ('7', '대회', 'NNG', 'O'),\n",
       " ('8', '8강', 'NNG', 'O'),\n",
       " ('9', '진출', 'NNG', 'O'),\n",
       " ('9', '이', 'JKS', 'O'),\n",
       " ('10', '불투명', 'NNG', 'O'),\n",
       " ('10', '하', 'VV', 'O'),\n",
       " ('10', '다', 'EC', 'O'),\n",
       " ('11', '.', 'SF', 'O')]"
      ]
     },
     "execution_count": 5,
     "metadata": {},
     "output_type": "execute_result"
    }
   ],
   "source": [
    "corpus[0]"
   ]
  },
  {
   "cell_type": "code",
   "execution_count": 6,
   "id": "6131c135",
   "metadata": {},
   "outputs": [
    {
     "data": {
      "text/plain": [
       "[('1', '2003', 'SN', 'B_DT'),\n",
       " ('1', '년', 'NNB', 'I'),\n",
       " ('2', '6', 'SN', 'I'),\n",
       " ('2', '월', 'NNB', 'I'),\n",
       " ('3', '14', 'SN', 'I'),\n",
       " ('3', '일', 'NNB', 'I'),\n",
       " ('4', '사직', 'NNG', 'O'),\n",
       " ('5', '두산', 'NNP', 'O'),\n",
       " ('5', '전', 'NNG', 'O'),\n",
       " ('6', '이후', 'NNG', 'O'),\n",
       " ('7', '박명환', 'NNP', 'B_PS'),\n",
       " ('7', '에게', 'JKB', 'O'),\n",
       " ('8', '당하', 'VV', 'O'),\n",
       " ('8', '았', 'EP', 'O'),\n",
       " ('8', '던', 'ETM', 'O'),\n",
       " ('9', '10', 'SN', 'O'),\n",
       " ('9', '연패', 'NNG', 'O'),\n",
       " ('10', '사슬', 'NNG', 'O'),\n",
       " ('10', '을', 'JKO', 'O'),\n",
       " ('11', '거의', 'MAG', 'O'),\n",
       " ('12', '5', 'SN', 'B_DT'),\n",
       " ('12', '년', 'NNB', 'I'),\n",
       " ('13', '만', 'NNB', 'O'),\n",
       " ('13', '에', 'JKB', 'O'),\n",
       " ('14', '끊', 'VV', 'O'),\n",
       " ('14', '는', 'ETM', 'O'),\n",
       " ('15', '의미', 'NNG', 'O'),\n",
       " ('15', '있', 'VV', 'O'),\n",
       " ('15', '는', 'ETM', 'O'),\n",
       " ('16', '승리', 'NNG', 'O'),\n",
       " ('16', '이', 'VCP', 'O'),\n",
       " ('16', '었', 'EP', 'O'),\n",
       " ('16', '다', 'EC', 'O'),\n",
       " ('17', '.', 'SF', 'O')]"
      ]
     },
     "execution_count": 6,
     "metadata": {},
     "output_type": "execute_result"
    }
   ],
   "source": [
    "corpus[1]"
   ]
  },
  {
   "cell_type": "code",
   "execution_count": 7,
   "id": "2aa66a43",
   "metadata": {},
   "outputs": [
    {
     "data": {
      "text/plain": [
       "3555"
      ]
     },
     "execution_count": 7,
     "metadata": {},
     "output_type": "execute_result"
    }
   ],
   "source": [
    "len(corpus)"
   ]
  },
  {
   "cell_type": "code",
   "execution_count": 11,
   "id": "00197457",
   "metadata": {},
   "outputs": [],
   "source": [
    "# 말뭉치 데이터에서 단어와 BIO 태그만 불러와 학습용 데이터셋 생성\n",
    "sentences, tags = [], []\n",
    "for t in corpus:\n",
    "    tagged_sentence = [] # 초기화\n",
    "    sentence, bio_tag = [], []\n",
    "    for w in t:\n",
    "        tagged_sentence.append((w[1], w[3]))\n",
    "        sentence.append(w[1])\n",
    "        bio_tag.append(w[3])\n",
    "        \n",
    "    sentences.append(sentence)\n",
    "    tags.append(bio_tag)"
   ]
  },
  {
   "cell_type": "markdown",
   "id": "e55b7da1",
   "metadata": {},
   "source": [
    "- 단어와 BIO 태그만 이용해 학습용 데이터셋을 생성"
   ]
  },
  {
   "cell_type": "code",
   "execution_count": 14,
   "id": "4d6f6d09",
   "metadata": {},
   "outputs": [
    {
     "name": "stdout",
     "output_type": "stream",
     "text": [
      "샘플 크기 :  3555\n",
      "0번째 샘플 문장 시퀀스 : \n",
      " ['한편', ',', 'AFC', '챔피언스', '리그', 'E', '조', '에', '속하', 'ㄴ', '포항', '역시', '대회', '8강', '진출', '이', '불투명', '하', '다', '.']\n",
      "0번째 샘플 bio 태그 : \n",
      " ['O', 'O', 'O', 'O', 'O', 'B_OG', 'I', 'O', 'O', 'O', 'O', 'O', 'O', 'O', 'O', 'O', 'O', 'O', 'O', 'O']\n",
      "샘플 문장 시퀀스 최대 길이 :  168\n",
      "샘플 문장 시퀀스 평균 길이 :  34.03909985935302\n"
     ]
    }
   ],
   "source": [
    "print(\"샘플 크기 : \", len(sentences))\n",
    "print(\"0번째 샘플 문장 시퀀스 : \\n\", sentences[0])\n",
    "print(\"0번째 샘플 bio 태그 : \\n\", tags[0])\n",
    "print(\"샘플 문장 시퀀스 최대 길이 : \", max(len(l) for l in sentences))\n",
    "print(\"샘플 문장 시퀀스 평균 길이 : \", (sum(map(len,sentences)) / len(sentences)))"
   ]
  },
  {
   "cell_type": "code",
   "execution_count": 16,
   "id": "f73f47b5",
   "metadata": {},
   "outputs": [],
   "source": [
    "# 토크나이저 정의\n",
    "\n",
    "# 단어 사전의 첫 번째 인덱스에는 OOV 사용\n",
    "# oov = Out of Vocab\n",
    "sent_tokenizer = preprocessing.text.Tokenizer(oov_token = \"OOV\")\n",
    "sent_tokenizer.fit_on_texts(sentences)\n",
    "\n",
    "tag_tokenizer = preprocessing.text.Tokenizer(lower = False) # 태그 정보는 소문자로 변환하지 않음\n",
    "tag_tokenizer.fit_on_texts(tags)"
   ]
  },
  {
   "cell_type": "code",
   "execution_count": 17,
   "id": "bfef6a25",
   "metadata": {},
   "outputs": [
    {
     "name": "stdout",
     "output_type": "stream",
     "text": [
      "BIO 태그 사전 크기 :  8\n",
      "단어 사전 크기 :  13834\n"
     ]
    }
   ],
   "source": [
    "# 단어 사전 및 태그 사전 크기\n",
    "vocab_size = len(sent_tokenizer.word_index) + 1 # 문장 tokenizer\n",
    "tag_size = len(tag_tokenizer.word_index) + 1 # tag tokenizer\n",
    "print(\"BIO 태그 사전 크기 : \", tag_size) \n",
    "print(\"단어 사전 크기 : \", vocab_size)"
   ]
  },
  {
   "cell_type": "code",
   "execution_count": 18,
   "id": "593e0ad8",
   "metadata": {},
   "outputs": [
    {
     "data": {
      "text/plain": [
       "{'O': 1, 'I': 2, 'B_OG': 3, 'B_PS': 4, 'B_DT': 5, 'B_LC': 6, 'B_TI': 7}"
      ]
     },
     "execution_count": 18,
     "metadata": {},
     "output_type": "execute_result"
    }
   ],
   "source": [
    "tag_tokenizer.word_index"
   ]
  },
  {
   "cell_type": "code",
   "execution_count": 19,
   "id": "9cfde8ea",
   "metadata": {},
   "outputs": [],
   "source": [
    "# 학습용 단어 시퀀스 생성\n",
    "x_train = sent_tokenizer.texts_to_sequences(sentences)\n",
    "y_train = tag_tokenizer.texts_to_sequences(tags)"
   ]
  },
  {
   "cell_type": "code",
   "execution_count": 20,
   "id": "e806a953",
   "metadata": {},
   "outputs": [
    {
     "name": "stdout",
     "output_type": "stream",
     "text": [
      "[183, 11, 4276, 884, 162, 931, 402, 10, 2608, 7, 1516, 608, 145, 1361, 414, 4, 6347, 2, 8, 3]\n",
      "[1, 1, 1, 1, 1, 3, 2, 1, 1, 1, 1, 1, 1, 1, 1, 1, 1, 1, 1, 1]\n"
     ]
    }
   ],
   "source": [
    "print(x_train[0])\n",
    "print(y_train[0])"
   ]
  },
  {
   "cell_type": "code",
   "execution_count": 21,
   "id": "307dc052",
   "metadata": {},
   "outputs": [],
   "source": [
    "# index to word / index to NER 정의\n",
    "index_to_word = sent_tokenizer.index_word # 시퀀스 인덱스를 단어로 변환하기 위해 사용\n",
    "index_to_ner = tag_tokenizer.index_word # 시퀀스 인덱스를 NER로 변환하기 위해 사용\n",
    "index_to_ner[0] = \"PAD\""
   ]
  },
  {
   "cell_type": "code",
   "execution_count": 23,
   "id": "f575083c",
   "metadata": {},
   "outputs": [
    {
     "data": {
      "text/plain": [
       "{1: 'O',\n",
       " 2: 'I',\n",
       " 3: 'B_OG',\n",
       " 4: 'B_PS',\n",
       " 5: 'B_DT',\n",
       " 6: 'B_LC',\n",
       " 7: 'B_TI',\n",
       " 0: 'PAD'}"
      ]
     },
     "execution_count": 23,
     "metadata": {},
     "output_type": "execute_result"
    }
   ],
   "source": [
    "index_to_ner"
   ]
  },
  {
   "cell_type": "code",
   "execution_count": 24,
   "id": "a54e103b",
   "metadata": {},
   "outputs": [],
   "source": [
    "# 시퀀스 패딩 처리\n",
    "max_len = 40\n",
    "x_train = preprocessing.sequence.pad_sequences(x_train, padding = \"post\", maxlen = max_len)\n",
    "y_train = preprocessing.sequence.pad_sequences(y_train, padding = \"post\", maxlen = max_len)"
   ]
  },
  {
   "cell_type": "code",
   "execution_count": 25,
   "id": "818df4f6",
   "metadata": {},
   "outputs": [],
   "source": [
    "# 학습데이터와 테스트데이터를 8:2 비율로 분리\n",
    "x_train, x_test, y_train, y_test = train_test_split(x_train, y_train, test_size = 0.2,\n",
    "                                                   random_state = 12)"
   ]
  },
  {
   "cell_type": "code",
   "execution_count": 27,
   "id": "c88b7265",
   "metadata": {},
   "outputs": [],
   "source": [
    "# 출력 데이터를 원-핫 인코딩\n",
    "y_train = tf.keras.utils.to_categorical(y_train, num_classes = tag_size)\n",
    "y_test = tf.keras.utils.to_categorical(y_test, num_classes = tag_size)"
   ]
  },
  {
   "cell_type": "code",
   "execution_count": 29,
   "id": "6164fcab",
   "metadata": {},
   "outputs": [
    {
     "name": "stdout",
     "output_type": "stream",
     "text": [
      "학습 샘플 시퀀스 형상 :  (2844, 40)\n",
      "학습 샘플 레이블 형상 :  (2844, 40, 8)\n",
      "테스트 샘플 시퀀스 형상 :  (711, 40)\n",
      "테스트 샘플 레이블 형상 :  (711, 40, 8)\n"
     ]
    }
   ],
   "source": [
    "print(\"학습 샘플 시퀀스 형상 : \", x_train.shape)\n",
    "print(\"학습 샘플 레이블 형상 : \", y_train.shape)\n",
    "print(\"테스트 샘플 시퀀스 형상 : \", x_test.shape)\n",
    "print(\"테스트 샘플 레이블 형상 : \", y_test.shape)"
   ]
  },
  {
   "cell_type": "code",
   "execution_count": 30,
   "id": "9eb5635d",
   "metadata": {},
   "outputs": [
    {
     "data": {
      "text/plain": [
       "array([ 479,    6,   33,  327, 2615,    9, 2207,    4,   18,   62, 6379,\n",
       "          5, 6380,    2,    6,  183, 4295,   10,   57,    7, 6381,  186,\n",
       "        611,   10,   34, 1368,  500,   29,   38,    4,    8,    3,    0,\n",
       "          0,    0,    0,    0,    0,    0,    0])"
      ]
     },
     "execution_count": 30,
     "metadata": {},
     "output_type": "execute_result"
    }
   ],
   "source": [
    "x_train[0]"
   ]
  },
  {
   "cell_type": "code",
   "execution_count": 31,
   "id": "ddcdf11e",
   "metadata": {},
   "outputs": [
    {
     "data": {
      "text/plain": [
       "array([[0., 0., 0., 1., 0., 0., 0., 0.],\n",
       "       [0., 1., 0., 0., 0., 0., 0., 0.],\n",
       "       [0., 1., 0., 0., 0., 0., 0., 0.],\n",
       "       [0., 1., 0., 0., 0., 0., 0., 0.],\n",
       "       [0., 1., 0., 0., 0., 0., 0., 0.],\n",
       "       [0., 1., 0., 0., 0., 0., 0., 0.],\n",
       "       [0., 1., 0., 0., 0., 0., 0., 0.],\n",
       "       [0., 1., 0., 0., 0., 0., 0., 0.],\n",
       "       [0., 1., 0., 0., 0., 0., 0., 0.],\n",
       "       [0., 1., 0., 0., 0., 0., 0., 0.],\n",
       "       [0., 0., 0., 0., 1., 0., 0., 0.],\n",
       "       [0., 1., 0., 0., 0., 0., 0., 0.],\n",
       "       [0., 1., 0., 0., 0., 0., 0., 0.],\n",
       "       [0., 1., 0., 0., 0., 0., 0., 0.],\n",
       "       [0., 1., 0., 0., 0., 0., 0., 0.],\n",
       "       [0., 1., 0., 0., 0., 0., 0., 0.],\n",
       "       [0., 0., 0., 0., 1., 0., 0., 0.],\n",
       "       [0., 1., 0., 0., 0., 0., 0., 0.],\n",
       "       [0., 1., 0., 0., 0., 0., 0., 0.],\n",
       "       [0., 1., 0., 0., 0., 0., 0., 0.],\n",
       "       [0., 1., 0., 0., 0., 0., 0., 0.],\n",
       "       [0., 1., 0., 0., 0., 0., 0., 0.],\n",
       "       [0., 1., 0., 0., 0., 0., 0., 0.],\n",
       "       [0., 1., 0., 0., 0., 0., 0., 0.],\n",
       "       [0., 1., 0., 0., 0., 0., 0., 0.],\n",
       "       [0., 1., 0., 0., 0., 0., 0., 0.],\n",
       "       [0., 1., 0., 0., 0., 0., 0., 0.],\n",
       "       [0., 1., 0., 0., 0., 0., 0., 0.],\n",
       "       [0., 1., 0., 0., 0., 0., 0., 0.],\n",
       "       [0., 1., 0., 0., 0., 0., 0., 0.],\n",
       "       [0., 1., 0., 0., 0., 0., 0., 0.],\n",
       "       [0., 1., 0., 0., 0., 0., 0., 0.],\n",
       "       [1., 0., 0., 0., 0., 0., 0., 0.],\n",
       "       [1., 0., 0., 0., 0., 0., 0., 0.],\n",
       "       [1., 0., 0., 0., 0., 0., 0., 0.],\n",
       "       [1., 0., 0., 0., 0., 0., 0., 0.],\n",
       "       [1., 0., 0., 0., 0., 0., 0., 0.],\n",
       "       [1., 0., 0., 0., 0., 0., 0., 0.],\n",
       "       [1., 0., 0., 0., 0., 0., 0., 0.],\n",
       "       [1., 0., 0., 0., 0., 0., 0., 0.]])"
      ]
     },
     "execution_count": 31,
     "metadata": {},
     "output_type": "execute_result"
    }
   ],
   "source": [
    "y_train[0]"
   ]
  },
  {
   "cell_type": "code",
   "execution_count": 32,
   "id": "2b479831",
   "metadata": {},
   "outputs": [
    {
     "name": "stderr",
     "output_type": "stream",
     "text": [
      "C:\\ProgramData\\anaconda3\\Lib\\site-packages\\keras\\src\\layers\\core\\embedding.py:81: UserWarning: Do not pass an `input_shape`/`input_dim` argument to a layer. When using Sequential models, prefer using an `Input(shape)` object as the first layer in the model instead.\n",
      "  super().__init__(**kwargs)\n"
     ]
    }
   ],
   "source": [
    "# 모델 정의 (Bi-LSTM)\n",
    "model = Sequential()\n",
    "model.add(Embedding(input_dim = vocab_size, output_dim = 30, input_shape = (max_len,), mask_zero = True)) # mask_zero = 0으로 패딩되어 있는 값은 네트워크에서 인식 x\n",
    "model.add(Bidirectional(LSTM(200, return_sequences = True, dropout = 0.5, recurrent_dropout = 0.25)))\n",
    "model.add(TimeDistributed(Dense(tag_size, activation = \"softmax\"))) # softmax = 확률값"
   ]
  },
  {
   "cell_type": "markdown",
   "id": "e345733e",
   "metadata": {},
   "source": [
    "- mask_zero = True : 0으로 패딩된 값을 마스킹하여 네트워크의 뒤로 전달되지 않게 만듦\n",
    "- TimeDistributed : many-to-many로 동작. 각 타임스탭마다 출력이 있어야 함\n",
    "\n",
    "<img src = \"./img/time_distributed.jpg\">"
   ]
  },
  {
   "cell_type": "code",
   "execution_count": 33,
   "id": "58a381ff",
   "metadata": {},
   "outputs": [
    {
     "data": {
      "text/html": [
       "<pre style=\"white-space:pre;overflow-x:auto;line-height:normal;font-family:Menlo,'DejaVu Sans Mono',consolas,'Courier New',monospace\"><span style=\"font-weight: bold\">Model: \"sequential\"</span>\n",
       "</pre>\n"
      ],
      "text/plain": [
       "\u001b[1mModel: \"sequential\"\u001b[0m\n"
      ]
     },
     "metadata": {},
     "output_type": "display_data"
    },
    {
     "data": {
      "text/html": [
       "<pre style=\"white-space:pre;overflow-x:auto;line-height:normal;font-family:Menlo,'DejaVu Sans Mono',consolas,'Courier New',monospace\">┏━━━━━━━━━━━━━━━━━━━━━━━━━━━━━━━━━━━━━━┳━━━━━━━━━━━━━━━━━━━━━━━━━━━━━┳━━━━━━━━━━━━━━━━━┓\n",
       "┃<span style=\"font-weight: bold\"> Layer (type)                         </span>┃<span style=\"font-weight: bold\"> Output Shape                </span>┃<span style=\"font-weight: bold\">         Param # </span>┃\n",
       "┡━━━━━━━━━━━━━━━━━━━━━━━━━━━━━━━━━━━━━━╇━━━━━━━━━━━━━━━━━━━━━━━━━━━━━╇━━━━━━━━━━━━━━━━━┩\n",
       "│ embedding (<span style=\"color: #0087ff; text-decoration-color: #0087ff\">Embedding</span>)                │ (<span style=\"color: #00d7ff; text-decoration-color: #00d7ff\">None</span>, <span style=\"color: #00af00; text-decoration-color: #00af00\">40</span>, <span style=\"color: #00af00; text-decoration-color: #00af00\">30</span>)              │         <span style=\"color: #00af00; text-decoration-color: #00af00\">415,020</span> │\n",
       "├──────────────────────────────────────┼─────────────────────────────┼─────────────────┤\n",
       "│ bidirectional (<span style=\"color: #0087ff; text-decoration-color: #0087ff\">Bidirectional</span>)        │ (<span style=\"color: #00d7ff; text-decoration-color: #00d7ff\">None</span>, <span style=\"color: #00af00; text-decoration-color: #00af00\">40</span>, <span style=\"color: #00af00; text-decoration-color: #00af00\">400</span>)             │         <span style=\"color: #00af00; text-decoration-color: #00af00\">369,600</span> │\n",
       "├──────────────────────────────────────┼─────────────────────────────┼─────────────────┤\n",
       "│ time_distributed (<span style=\"color: #0087ff; text-decoration-color: #0087ff\">TimeDistributed</span>)   │ (<span style=\"color: #00d7ff; text-decoration-color: #00d7ff\">None</span>, <span style=\"color: #00af00; text-decoration-color: #00af00\">40</span>, <span style=\"color: #00af00; text-decoration-color: #00af00\">8</span>)               │           <span style=\"color: #00af00; text-decoration-color: #00af00\">3,208</span> │\n",
       "└──────────────────────────────────────┴─────────────────────────────┴─────────────────┘\n",
       "</pre>\n"
      ],
      "text/plain": [
       "┏━━━━━━━━━━━━━━━━━━━━━━━━━━━━━━━━━━━━━━┳━━━━━━━━━━━━━━━━━━━━━━━━━━━━━┳━━━━━━━━━━━━━━━━━┓\n",
       "┃\u001b[1m \u001b[0m\u001b[1mLayer (type)                        \u001b[0m\u001b[1m \u001b[0m┃\u001b[1m \u001b[0m\u001b[1mOutput Shape               \u001b[0m\u001b[1m \u001b[0m┃\u001b[1m \u001b[0m\u001b[1m        Param #\u001b[0m\u001b[1m \u001b[0m┃\n",
       "┡━━━━━━━━━━━━━━━━━━━━━━━━━━━━━━━━━━━━━━╇━━━━━━━━━━━━━━━━━━━━━━━━━━━━━╇━━━━━━━━━━━━━━━━━┩\n",
       "│ embedding (\u001b[38;5;33mEmbedding\u001b[0m)                │ (\u001b[38;5;45mNone\u001b[0m, \u001b[38;5;34m40\u001b[0m, \u001b[38;5;34m30\u001b[0m)              │         \u001b[38;5;34m415,020\u001b[0m │\n",
       "├──────────────────────────────────────┼─────────────────────────────┼─────────────────┤\n",
       "│ bidirectional (\u001b[38;5;33mBidirectional\u001b[0m)        │ (\u001b[38;5;45mNone\u001b[0m, \u001b[38;5;34m40\u001b[0m, \u001b[38;5;34m400\u001b[0m)             │         \u001b[38;5;34m369,600\u001b[0m │\n",
       "├──────────────────────────────────────┼─────────────────────────────┼─────────────────┤\n",
       "│ time_distributed (\u001b[38;5;33mTimeDistributed\u001b[0m)   │ (\u001b[38;5;45mNone\u001b[0m, \u001b[38;5;34m40\u001b[0m, \u001b[38;5;34m8\u001b[0m)               │           \u001b[38;5;34m3,208\u001b[0m │\n",
       "└──────────────────────────────────────┴─────────────────────────────┴─────────────────┘\n"
      ]
     },
     "metadata": {},
     "output_type": "display_data"
    },
    {
     "data": {
      "text/html": [
       "<pre style=\"white-space:pre;overflow-x:auto;line-height:normal;font-family:Menlo,'DejaVu Sans Mono',consolas,'Courier New',monospace\"><span style=\"font-weight: bold\"> Total params: </span><span style=\"color: #00af00; text-decoration-color: #00af00\">787,828</span> (3.01 MB)\n",
       "</pre>\n"
      ],
      "text/plain": [
       "\u001b[1m Total params: \u001b[0m\u001b[38;5;34m787,828\u001b[0m (3.01 MB)\n"
      ]
     },
     "metadata": {},
     "output_type": "display_data"
    },
    {
     "data": {
      "text/html": [
       "<pre style=\"white-space:pre;overflow-x:auto;line-height:normal;font-family:Menlo,'DejaVu Sans Mono',consolas,'Courier New',monospace\"><span style=\"font-weight: bold\"> Trainable params: </span><span style=\"color: #00af00; text-decoration-color: #00af00\">787,828</span> (3.01 MB)\n",
       "</pre>\n"
      ],
      "text/plain": [
       "\u001b[1m Trainable params: \u001b[0m\u001b[38;5;34m787,828\u001b[0m (3.01 MB)\n"
      ]
     },
     "metadata": {},
     "output_type": "display_data"
    },
    {
     "data": {
      "text/html": [
       "<pre style=\"white-space:pre;overflow-x:auto;line-height:normal;font-family:Menlo,'DejaVu Sans Mono',consolas,'Courier New',monospace\"><span style=\"font-weight: bold\"> Non-trainable params: </span><span style=\"color: #00af00; text-decoration-color: #00af00\">0</span> (0.00 B)\n",
       "</pre>\n"
      ],
      "text/plain": [
       "\u001b[1m Non-trainable params: \u001b[0m\u001b[38;5;34m0\u001b[0m (0.00 B)\n"
      ]
     },
     "metadata": {},
     "output_type": "display_data"
    }
   ],
   "source": [
    "model.summary()"
   ]
  },
  {
   "cell_type": "code",
   "execution_count": 34,
   "id": "1ec601c7",
   "metadata": {},
   "outputs": [],
   "source": [
    "model.compile(loss = \"categorical_crossentropy\", optimizer = Adam(0.01),\n",
    "             metrics = [\"accuracy\"])"
   ]
  },
  {
   "cell_type": "code",
   "execution_count": 48,
   "id": "7f9343ad",
   "metadata": {},
   "outputs": [
    {
     "name": "stdout",
     "output_type": "stream",
     "text": [
      "Epoch 1/10\n",
      "\u001b[1m23/23\u001b[0m \u001b[32m━━━━━━━━━━━━━━━━━━━━\u001b[0m\u001b[37m\u001b[0m \u001b[1m5s\u001b[0m 208ms/step - accuracy: 0.7089 - loss: 0.0192\n",
      "Epoch 2/10\n",
      "\u001b[1m23/23\u001b[0m \u001b[32m━━━━━━━━━━━━━━━━━━━━\u001b[0m\u001b[37m\u001b[0m \u001b[1m5s\u001b[0m 212ms/step - accuracy: 0.7106 - loss: 0.0156\n",
      "Epoch 3/10\n",
      "\u001b[1m23/23\u001b[0m \u001b[32m━━━━━━━━━━━━━━━━━━━━\u001b[0m\u001b[37m\u001b[0m \u001b[1m4s\u001b[0m 191ms/step - accuracy: 0.7208 - loss: 0.0152\n",
      "Epoch 4/10\n",
      "\u001b[1m23/23\u001b[0m \u001b[32m━━━━━━━━━━━━━━━━━━━━\u001b[0m\u001b[37m\u001b[0m \u001b[1m4s\u001b[0m 177ms/step - accuracy: 0.7009 - loss: 0.0166\n",
      "Epoch 5/10\n",
      "\u001b[1m23/23\u001b[0m \u001b[32m━━━━━━━━━━━━━━━━━━━━\u001b[0m\u001b[37m\u001b[0m \u001b[1m4s\u001b[0m 167ms/step - accuracy: 0.7107 - loss: 0.0149\n",
      "Epoch 6/10\n",
      "\u001b[1m23/23\u001b[0m \u001b[32m━━━━━━━━━━━━━━━━━━━━\u001b[0m\u001b[37m\u001b[0m \u001b[1m4s\u001b[0m 184ms/step - accuracy: 0.7094 - loss: 0.0150\n",
      "Epoch 7/10\n",
      "\u001b[1m23/23\u001b[0m \u001b[32m━━━━━━━━━━━━━━━━━━━━\u001b[0m\u001b[37m\u001b[0m \u001b[1m4s\u001b[0m 187ms/step - accuracy: 0.7069 - loss: 0.0140\n",
      "Epoch 8/10\n",
      "\u001b[1m23/23\u001b[0m \u001b[32m━━━━━━━━━━━━━━━━━━━━\u001b[0m\u001b[37m\u001b[0m \u001b[1m4s\u001b[0m 192ms/step - accuracy: 0.7039 - loss: 0.0135\n",
      "Epoch 9/10\n",
      "\u001b[1m23/23\u001b[0m \u001b[32m━━━━━━━━━━━━━━━━━━━━\u001b[0m\u001b[37m\u001b[0m \u001b[1m5s\u001b[0m 197ms/step - accuracy: 0.7099 - loss: 0.0129\n",
      "Epoch 10/10\n",
      "\u001b[1m23/23\u001b[0m \u001b[32m━━━━━━━━━━━━━━━━━━━━\u001b[0m\u001b[37m\u001b[0m \u001b[1m4s\u001b[0m 195ms/step - accuracy: 0.7039 - loss: 0.0115\n"
     ]
    },
    {
     "data": {
      "text/plain": [
       "<keras.src.callbacks.history.History at 0x1db6aa3c0d0>"
      ]
     },
     "execution_count": 48,
     "metadata": {},
     "output_type": "execute_result"
    }
   ],
   "source": [
    "model.fit(x_train, y_train, batch_size = 128, epochs = 10)"
   ]
  },
  {
   "cell_type": "code",
   "execution_count": 49,
   "id": "04af0aac",
   "metadata": {},
   "outputs": [
    {
     "name": "stdout",
     "output_type": "stream",
     "text": [
      "\u001b[1m23/23\u001b[0m \u001b[32m━━━━━━━━━━━━━━━━━━━━\u001b[0m\u001b[37m\u001b[0m \u001b[1m0s\u001b[0m 13ms/step - accuracy: 0.6751 - loss: 0.3599\n"
     ]
    },
    {
     "data": {
      "text/plain": [
       "[0.3673274517059326, 0.6664204001426697]"
      ]
     },
     "execution_count": 49,
     "metadata": {},
     "output_type": "execute_result"
    }
   ],
   "source": [
    "model.evaluate(x_test, y_test)"
   ]
  },
  {
   "cell_type": "markdown",
   "id": "3f95181a",
   "metadata": {},
   "source": [
    "- BIO 태그는 실제 의미 있는 태그보다 의미 없는 O 태그가 대부분을 차지하고 있기 때문에 실제 성능과 무관하게 높은 점수가 나올 수 있음\n",
    "- 따라서 개체명 인식에서는 F1스코어가 주로 이용됨\n",
    "- F1 스코어 : 정밀도와 재현율의 조화 평균"
   ]
  },
  {
   "cell_type": "code",
   "execution_count": 46,
   "id": "f984472a",
   "metadata": {},
   "outputs": [
    {
     "name": "stdout",
     "output_type": "stream",
     "text": [
      "\u001b[1m1/1\u001b[0m \u001b[32m━━━━━━━━━━━━━━━━━━━━\u001b[0m\u001b[37m\u001b[0m \u001b[1m1s\u001b[0m 589ms/step\n"
     ]
    },
    {
     "data": {
      "text/plain": [
       "array([[1, 2, 1, 1, 5, 2, 1, 1, 1, 5, 2, 2, 2, 1, 1, 1, 1, 1, 1, 1, 1, 1,\n",
       "        1, 1, 1, 1, 1, 1, 1, 1, 1, 1, 1, 1, 1, 1, 1, 1, 1, 1]],\n",
       "      dtype=int64)"
      ]
     },
     "execution_count": 46,
     "metadata": {},
     "output_type": "execute_result"
    }
   ],
   "source": [
    "np.argmax(model.predict(x_test[[3]]), axis = -1)"
   ]
  },
  {
   "cell_type": "code",
   "execution_count": 47,
   "id": "800ea288",
   "metadata": {},
   "outputs": [
    {
     "data": {
      "text/plain": [
       "array([[1, 1, 1, 1, 1, 1, 1, 1, 1, 5, 2, 2, 2, 1, 1, 1, 1, 1, 1, 1, 1, 1,\n",
       "        1, 1, 1, 1, 1, 1, 1, 1, 1, 1, 0, 0, 0, 0, 0, 0, 0, 0]],\n",
       "      dtype=int64)"
      ]
     },
     "execution_count": 47,
     "metadata": {},
     "output_type": "execute_result"
    }
   ],
   "source": [
    "np.argmax(y_test[[3]], axis = -1)"
   ]
  },
  {
   "cell_type": "code",
   "execution_count": 68,
   "id": "54da4574",
   "metadata": {},
   "outputs": [],
   "source": [
    "# 시퀀스를 NER 태그로 변환\n",
    "def sequences_to_tag(sequences):\n",
    "    result = []\n",
    "    for sequence in sequences:\n",
    "        temp = []\n",
    "        for pred in sequence:\n",
    "            pred_index = np.argmax(pred)\n",
    "            temp.append(index_to_ner[pred_index].replace(\"PAD\", \"O\"))\n",
    "        result.append(temp)\n",
    "    return result"
   ]
  },
  {
   "cell_type": "code",
   "execution_count": 59,
   "id": "9c1f0e19",
   "metadata": {},
   "outputs": [
    {
     "name": "stdout",
     "output_type": "stream",
     "text": [
      "\u001b[1m23/23\u001b[0m \u001b[32m━━━━━━━━━━━━━━━━━━━━\u001b[0m\u001b[37m\u001b[0m \u001b[1m0s\u001b[0m 12ms/step\n"
     ]
    }
   ],
   "source": [
    "# 테스트 데이터셋의 NER 예측\n",
    "y_predicted = model.predict(x_test) # (711, 40) -> model -> (711, 40, 8)\n",
    "pred_tags = sequences_to_tag(y_predicted) # 예측된 NER\n",
    "test_tags = sequences_to_tag(y_test) # 실제 NER"
   ]
  },
  {
   "cell_type": "code",
   "execution_count": 60,
   "id": "50ac8cfd",
   "metadata": {
    "scrolled": true
   },
   "outputs": [
    {
     "data": {
      "text/plain": [
       "array([[4.05131984e-10, 1.00000000e+00, 7.00402358e-09, 1.33311306e-09,\n",
       "        1.17992265e-08, 6.04204797e-10, 6.79915568e-10, 1.09125478e-11],\n",
       "       [7.79776688e-09, 9.99999404e-01, 5.95802296e-10, 4.29013873e-08,\n",
       "        6.39684060e-07, 5.32017417e-08, 3.19440940e-09, 2.21967755e-09],\n",
       "       [8.87136892e-11, 1.00000000e+00, 7.14157275e-11, 3.79237477e-08,\n",
       "        1.40873313e-09, 1.16772633e-10, 4.36414932e-11, 5.23673639e-12],\n",
       "       [3.86874699e-10, 1.00000000e+00, 2.11310844e-10, 2.31098946e-10,\n",
       "        1.37541027e-08, 3.53657947e-09, 1.56253413e-10, 1.88452753e-10],\n",
       "       [3.28793632e-08, 9.99998569e-01, 4.34536673e-09, 6.58625723e-08,\n",
       "        1.11465670e-06, 1.08427585e-07, 3.69874371e-08, 8.84011619e-09],\n",
       "       [5.04752733e-11, 1.00000000e+00, 2.17294649e-09, 9.54161750e-11,\n",
       "        2.26835906e-09, 2.04682965e-10, 4.66998107e-11, 1.85581255e-11],\n",
       "       [7.55529328e-09, 9.99997973e-01, 1.29386608e-08, 1.83719828e-06,\n",
       "        2.42429820e-07, 7.76843656e-09, 2.30740209e-08, 3.56394109e-10],\n",
       "       [1.23235666e-09, 9.99999881e-01, 7.70517516e-09, 4.39955876e-08,\n",
       "        5.68387044e-08, 1.41919687e-09, 1.46727270e-08, 7.84207699e-11],\n",
       "       [1.36136620e-07, 9.99993920e-01, 2.84215016e-08, 4.01611669e-06,\n",
       "        1.33647393e-06, 2.87814487e-07, 2.90871327e-07, 1.81091000e-08],\n",
       "       [5.86150628e-10, 1.00000000e+00, 5.29341959e-10, 3.64765262e-09,\n",
       "        2.25737615e-08, 2.77002243e-09, 8.60167715e-10, 1.88070337e-10],\n",
       "       [9.49823189e-08, 9.99934793e-01, 6.03175421e-09, 4.53492157e-06,\n",
       "        5.94057528e-05, 9.16310512e-07, 1.08981709e-07, 1.53090255e-07],\n",
       "       [1.28394861e-09, 1.00000000e+00, 1.30549740e-08, 2.69909717e-09,\n",
       "        3.30005268e-09, 1.30908984e-09, 5.09256770e-09, 1.96302516e-10],\n",
       "       [1.84077340e-08, 9.99998569e-01, 1.50292789e-09, 2.09243645e-08,\n",
       "        1.28530382e-06, 1.36516348e-07, 1.43203538e-08, 1.54795075e-08],\n",
       "       [3.55698082e-10, 1.00000000e+00, 2.57461341e-08, 6.82985613e-10,\n",
       "        2.17975438e-09, 9.10666043e-10, 7.46027795e-10, 6.44223216e-11],\n",
       "       [1.15781669e-08, 9.99998450e-01, 2.37174635e-08, 3.02093611e-07,\n",
       "        1.12053567e-06, 1.60922387e-08, 6.81632955e-08, 7.22864268e-10],\n",
       "       [1.76972108e-07, 9.99759495e-01, 2.30408915e-07, 1.78190749e-05,\n",
       "        2.12257466e-04, 1.94036872e-07, 9.61026944e-06, 1.58492213e-07],\n",
       "       [1.35533384e-07, 9.99972343e-01, 2.30317819e-05, 1.17127320e-06,\n",
       "        3.23218501e-06, 1.20262209e-08, 1.06424807e-07, 6.37190389e-09],\n",
       "       [1.67630398e-09, 9.99902844e-01, 1.02399289e-09, 9.70447654e-05,\n",
       "        5.43366276e-08, 7.82421239e-10, 9.30162969e-09, 3.51202019e-11],\n",
       "       [9.40676426e-10, 1.00000000e+00, 6.31710417e-09, 5.92613603e-09,\n",
       "        1.27319701e-08, 1.26960276e-09, 1.67521463e-08, 6.14454876e-11],\n",
       "       [1.89375271e-09, 9.99999881e-01, 8.85652773e-10, 1.66826659e-08,\n",
       "        7.55549934e-08, 1.09435376e-08, 1.10715019e-08, 1.86654081e-10],\n",
       "       [8.93637872e-11, 1.00000000e+00, 6.37980510e-12, 7.65718808e-11,\n",
       "        4.57931071e-09, 1.89998306e-09, 7.98863822e-11, 4.34891810e-11],\n",
       "       [8.30595037e-11, 1.00000000e+00, 5.03208759e-12, 3.48719595e-11,\n",
       "        2.80316637e-09, 5.78702197e-10, 5.69129075e-12, 7.26425448e-11],\n",
       "       [7.80162339e-13, 1.00000000e+00, 6.29933334e-13, 2.13320008e-12,\n",
       "        4.12980894e-09, 4.49850157e-11, 7.67488354e-14, 1.96636587e-12],\n",
       "       [3.25839111e-09, 1.00000000e+00, 5.76600323e-09, 9.04948616e-10,\n",
       "        4.65562255e-09, 4.24245439e-09, 4.88445784e-10, 2.11458917e-09],\n",
       "       [1.79857879e-10, 1.00000000e+00, 9.00760977e-09, 2.61935984e-09,\n",
       "        4.08404732e-09, 1.84932222e-10, 2.48472820e-09, 5.12961618e-11],\n",
       "       [1.92225862e-08, 9.99999523e-01, 1.36260452e-08, 1.11882358e-07,\n",
       "        2.72491775e-07, 3.77281388e-08, 8.63857750e-08, 2.50167043e-09],\n",
       "       [9.36458688e-10, 9.99999881e-01, 9.32089783e-09, 2.03628687e-08,\n",
       "        7.33338368e-08, 1.98167016e-09, 2.05378097e-08, 1.76589146e-10],\n",
       "       [3.28736149e-09, 9.99999642e-01, 3.66258066e-11, 5.47519940e-09,\n",
       "        1.75515353e-07, 8.65153922e-08, 1.60430924e-09, 2.55567234e-09],\n",
       "       [1.03057719e-11, 1.00000000e+00, 1.20811841e-11, 2.86855349e-12,\n",
       "        1.28947478e-10, 4.36812149e-11, 9.46757213e-13, 1.01574599e-11],\n",
       "       [1.92032137e-11, 9.99999762e-01, 4.01088060e-12, 5.09657386e-11,\n",
       "        2.66420869e-07, 1.09601772e-09, 1.81527438e-12, 1.90576693e-10],\n",
       "       [1.27740962e-09, 1.00000000e+00, 1.76135870e-08, 1.27884467e-10,\n",
       "        5.31298228e-10, 7.63429486e-10, 2.83623985e-10, 1.79849735e-09],\n",
       "       [4.62360372e-10, 1.00000000e+00, 7.22865379e-10, 8.41974601e-10,\n",
       "        4.75813478e-09, 6.26184826e-10, 2.96422553e-09, 7.93091703e-11],\n",
       "       [1.00435119e-10, 1.00000000e+00, 1.13909698e-11, 4.94397370e-11,\n",
       "        2.58443289e-09, 8.06934575e-10, 9.30999288e-12, 1.01382631e-10],\n",
       "       [6.56255052e-13, 1.00000000e+00, 7.69364086e-11, 2.45263076e-12,\n",
       "        6.77094839e-12, 2.38472805e-12, 1.57346933e-12, 1.03043665e-13],\n",
       "       [5.16537852e-08, 9.99989867e-01, 5.20994858e-10, 3.80544549e-07,\n",
       "        8.83236771e-06, 5.58762281e-07, 1.40979239e-07, 4.37630661e-08],\n",
       "       [8.74934125e-10, 1.00000000e+00, 4.25879065e-09, 1.10928655e-09,\n",
       "        3.98846147e-08, 1.12023937e-08, 2.30623826e-10, 7.07755854e-10],\n",
       "       [2.25332153e-09, 9.99997735e-01, 9.83976012e-09, 2.18064656e-06,\n",
       "        1.29269353e-07, 2.12702300e-09, 1.84863929e-08, 7.13902340e-11],\n",
       "       [1.10739662e-09, 1.00000000e+00, 5.72275782e-09, 5.11022780e-09,\n",
       "        1.01566426e-08, 3.13572257e-09, 2.24567231e-09, 3.50496243e-10],\n",
       "       [1.87840659e-08, 9.99999523e-01, 2.33112942e-08, 2.63453785e-07,\n",
       "        1.13341841e-07, 2.62534687e-08, 5.54481474e-08, 3.38819572e-09],\n",
       "       [4.35642562e-08, 9.99999046e-01, 1.26491358e-07, 5.22113304e-08,\n",
       "        2.43845449e-07, 3.99340706e-07, 1.21455898e-07, 3.24231415e-08]],\n",
       "      dtype=float32)"
      ]
     },
     "execution_count": 60,
     "metadata": {},
     "output_type": "execute_result"
    }
   ],
   "source": [
    "y_predicted[0]"
   ]
  },
  {
   "cell_type": "code",
   "execution_count": 61,
   "id": "9cc89cd4",
   "metadata": {
    "scrolled": true
   },
   "outputs": [
    {
     "data": {
      "text/plain": [
       "['O',\n",
       " 'O',\n",
       " 'O',\n",
       " 'O',\n",
       " 'O',\n",
       " 'O',\n",
       " 'O',\n",
       " 'O',\n",
       " 'O',\n",
       " 'O',\n",
       " 'O',\n",
       " 'O',\n",
       " 'O',\n",
       " 'O',\n",
       " 'O',\n",
       " 'O',\n",
       " 'O',\n",
       " 'O',\n",
       " 'O',\n",
       " 'O',\n",
       " 'O',\n",
       " 'O',\n",
       " 'O',\n",
       " 'O',\n",
       " 'O',\n",
       " 'O',\n",
       " 'O',\n",
       " 'O',\n",
       " 'O',\n",
       " 'O',\n",
       " 'O',\n",
       " 'O',\n",
       " 'O',\n",
       " 'O',\n",
       " 'O',\n",
       " 'O',\n",
       " 'O',\n",
       " 'O',\n",
       " 'O',\n",
       " 'O']"
      ]
     },
     "execution_count": 61,
     "metadata": {},
     "output_type": "execute_result"
    }
   ],
   "source": [
    "pred_tags[0]"
   ]
  },
  {
   "cell_type": "code",
   "execution_count": 62,
   "id": "4a134b9d",
   "metadata": {},
   "outputs": [
    {
     "data": {
      "text/plain": [
       "['O',\n",
       " 'O',\n",
       " 'O',\n",
       " 'O',\n",
       " 'O',\n",
       " 'O',\n",
       " 'O',\n",
       " 'O',\n",
       " 'O',\n",
       " 'O',\n",
       " 'O',\n",
       " 'O',\n",
       " 'O',\n",
       " 'O',\n",
       " 'O',\n",
       " 'O',\n",
       " 'O',\n",
       " 'O',\n",
       " 'O',\n",
       " 'O',\n",
       " 'O',\n",
       " 'O',\n",
       " 'O',\n",
       " 'O',\n",
       " 'O',\n",
       " 'O',\n",
       " 'O',\n",
       " 'O',\n",
       " 'O',\n",
       " 'O',\n",
       " 'O',\n",
       " 'O',\n",
       " 'O',\n",
       " 'O',\n",
       " 'O',\n",
       " 'O',\n",
       " 'O',\n",
       " 'O',\n",
       " 'O',\n",
       " 'O']"
      ]
     },
     "execution_count": 62,
     "metadata": {},
     "output_type": "execute_result"
    }
   ],
   "source": [
    "test_tags[0]"
   ]
  },
  {
   "cell_type": "code",
   "execution_count": 63,
   "id": "ebaacfe1",
   "metadata": {},
   "outputs": [
    {
     "name": "stderr",
     "output_type": "stream",
     "text": [
      "C:\\ProgramData\\anaconda3\\Lib\\site-packages\\seqeval\\metrics\\sequence_labeling.py:171: UserWarning: B_LC seems not to be NE tag.\n",
      "  warnings.warn('{} seems not to be NE tag.'.format(chunk))\n",
      "C:\\ProgramData\\anaconda3\\Lib\\site-packages\\seqeval\\metrics\\sequence_labeling.py:171: UserWarning: B_TI seems not to be NE tag.\n",
      "  warnings.warn('{} seems not to be NE tag.'.format(chunk))\n",
      "C:\\ProgramData\\anaconda3\\Lib\\site-packages\\seqeval\\metrics\\sequence_labeling.py:171: UserWarning: B_OG seems not to be NE tag.\n",
      "  warnings.warn('{} seems not to be NE tag.'.format(chunk))\n",
      "C:\\ProgramData\\anaconda3\\Lib\\site-packages\\seqeval\\metrics\\sequence_labeling.py:171: UserWarning: B_DT seems not to be NE tag.\n",
      "  warnings.warn('{} seems not to be NE tag.'.format(chunk))\n",
      "C:\\ProgramData\\anaconda3\\Lib\\site-packages\\seqeval\\metrics\\sequence_labeling.py:171: UserWarning: B_PS seems not to be NE tag.\n",
      "  warnings.warn('{} seems not to be NE tag.'.format(chunk))\n"
     ]
    },
    {
     "name": "stdout",
     "output_type": "stream",
     "text": [
      "              precision    recall  f1-score   support\n",
      "\n",
      "           _       0.64      0.64      0.64       683\n",
      "         _DT       0.89      0.89      0.89       357\n",
      "         _LC       0.80      0.53      0.64       324\n",
      "         _OG       0.67      0.55      0.60       464\n",
      "         _PS       0.70      0.50      0.58       388\n",
      "         _TI       0.89      0.83      0.86        76\n",
      "\n",
      "   micro avg       0.72      0.63      0.67      2292\n",
      "   macro avg       0.76      0.66      0.70      2292\n",
      "weighted avg       0.72      0.63      0.67      2292\n",
      "\n"
     ]
    }
   ],
   "source": [
    "print(classification_report(test_tags, pred_tags))"
   ]
  },
  {
   "cell_type": "code",
   "execution_count": 64,
   "id": "25298267",
   "metadata": {},
   "outputs": [
    {
     "name": "stdout",
     "output_type": "stream",
     "text": [
      "F1-score: 67.3%\n"
     ]
    }
   ],
   "source": [
    "print(\"F1-score: {:.1%}\".format(f1_score(test_tags, pred_tags)))"
   ]
  },
  {
   "cell_type": "code",
   "execution_count": 65,
   "id": "267c847e",
   "metadata": {},
   "outputs": [],
   "source": [
    "# 새로운 유형의 문장 NER 예측\n",
    "word_to_index = sent_tokenizer.word_index\n",
    "new_sentences = \"삼성전자 출시 스마트폰 오늘 애플 도전장 내밀다.\".split()\n",
    "new_x = []\n",
    "for w in new_sentences:\n",
    "    try:\n",
    "        new_x.append(word_to_index.get(w, 1))\n",
    "    except KeyError:\n",
    "        # 모르는 단어의 경우 oov\n",
    "        new_x.append(word_to_index[\"OOV\"])"
   ]
  },
  {
   "cell_type": "code",
   "execution_count": 67,
   "id": "d84406a7",
   "metadata": {},
   "outputs": [
    {
     "name": "stdout",
     "output_type": "stream",
     "text": [
      "새로운 유형의 시퀀스 : [531, 307, 1476, 286, 1507, 6766, 1]\n"
     ]
    }
   ],
   "source": [
    "print(\"새로운 유형의 시퀀스 :\", new_x)\n",
    "new_padded_seqs = preprocessing.sequence.pad_sequences([new_x], padding = \"post\", maxlen = max_len)"
   ]
  },
  {
   "cell_type": "code",
   "execution_count": 69,
   "id": "b58e0dc1",
   "metadata": {},
   "outputs": [
    {
     "name": "stdout",
     "output_type": "stream",
     "text": [
      "\u001b[1m1/1\u001b[0m \u001b[32m━━━━━━━━━━━━━━━━━━━━\u001b[0m\u001b[37m\u001b[0m \u001b[1m0s\u001b[0m 25ms/step\n",
      "단어         예측된 NER\n",
      "--------------------------------------------------\n",
      "삼성전자       B_OG \n",
      "출시         O    \n",
      "스마트폰       O    \n",
      "오늘         B_DT \n",
      "애플         B_OG \n",
      "도전장        I    \n",
      "내밀다.       I    \n"
     ]
    }
   ],
   "source": [
    "# NER 예측\n",
    "p = model.predict(np.array([new_padded_seqs[0]]))\n",
    "p = np.argmax(p, axis = -1) # 예측되 NER 인덱스값 추출\n",
    "print(\"{:10} {:5}\".format(\"단어\", \"예측된 NER\"))\n",
    "print(\"-\" * 50)\n",
    "\n",
    "for w, pred in zip(new_sentences, p[0]):\n",
    "    print(\"{:10} {:5}\".format(w, index_to_ner[pred]))"
   ]
  },
  {
   "cell_type": "code",
   "execution_count": null,
   "id": "53612617",
   "metadata": {},
   "outputs": [],
   "source": []
  }
 ],
 "metadata": {
  "kernelspec": {
   "display_name": "Python 3 (ipykernel)",
   "language": "python",
   "name": "python3"
  },
  "language_info": {
   "codemirror_mode": {
    "name": "ipython",
    "version": 3
   },
   "file_extension": ".py",
   "mimetype": "text/x-python",
   "name": "python",
   "nbconvert_exporter": "python",
   "pygments_lexer": "ipython3",
   "version": "3.11.5"
  }
 },
 "nbformat": 4,
 "nbformat_minor": 5
}
