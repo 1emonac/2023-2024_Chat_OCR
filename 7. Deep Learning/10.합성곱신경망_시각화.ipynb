{
 "cells": [
  {
   "cell_type": "code",
   "execution_count": 2,
   "id": "b2e1a830",
   "metadata": {},
   "outputs": [],
   "source": [
    "from tensorflow import keras\n",
    "import matplotlib.pyplot as plt"
   ]
  },
  {
   "cell_type": "markdown",
   "id": "d51bf640",
   "metadata": {},
   "source": [
    "# 필터의 가중치\n",
    "\n",
    "- 입력 이미지의 2차원 영역에 적용되어 어떤 특징을 크게 두드러지게 표현하는 역할\n",
    "    - 예) 물건의 테두리같은 특징적인 부분의 가중치는 노ㅠ고 그 외 영역은 가중치가 낮게"
   ]
  },
  {
   "cell_type": "code",
   "execution_count": 6,
   "id": "e0afbe61",
   "metadata": {},
   "outputs": [],
   "source": [
    "# 저장해둔 CNN 모델 불러오기\n",
    "model = keras.models.load_model(\"./model/best-cnn.model.keras\")"
   ]
  },
  {
   "cell_type": "code",
   "execution_count": 7,
   "id": "130cf4d6",
   "metadata": {},
   "outputs": [
    {
     "data": {
      "text/plain": [
       "[<Conv2D name=conv2d, built=True>,\n",
       " <MaxPooling2D name=max_pooling2d, built=True>,\n",
       " <Conv2D name=conv2d_1, built=True>,\n",
       " <MaxPooling2D name=max_pooling2d_1, built=True>,\n",
       " <Flatten name=flatten, built=True>,\n",
       " <Dense name=dense_1, built=True>,\n",
       " <Dropout name=dropout, built=True>,\n",
       " <Dense name=dense_2, built=True>]"
      ]
     },
     "execution_count": 7,
     "metadata": {},
     "output_type": "execute_result"
    }
   ],
   "source": [
    "# 모델 층 확인\n",
    "model.layers"
   ]
  },
  {
   "cell_type": "code",
   "execution_count": 8,
   "id": "b5a223f7",
   "metadata": {},
   "outputs": [],
   "source": [
    "# 첫 번째 합성곱 층의 가중치 확인\n",
    "conv = model.layers[0] # <Conv2D name=conv2d, built=True>"
   ]
  },
  {
   "cell_type": "code",
   "execution_count": 14,
   "id": "ef3a8d8b",
   "metadata": {},
   "outputs": [
    {
     "data": {
      "text/plain": [
       "(TensorShape([3, 3, 1, 32]), TensorShape([32]))"
      ]
     },
     "execution_count": 14,
     "metadata": {},
     "output_type": "execute_result"
    }
   ],
   "source": [
    "conv.weights[0].shape, conv.weights[1].shape\n",
    "# 0 = 가중치, 1 = 절편\n",
    "# conv.weights[0].shape = TensorShape([3, 3, 1, 32]), TensorShape([32]))"
   ]
  },
  {
   "cell_type": "markdown",
   "id": "383ffa53",
   "metadata": {},
   "source": [
    "- conv.weights[0]\n",
    "    - 가중치\n",
    "    - 가중치의 크기\n",
    "        - 커널의 크기 : (3, 3, 1)\n",
    "        - 필터의 개수 : 32\n",
    "        \n",
    "- conv.weights[1]\n",
    "    - 절편의 개수 = 필터의 개수"
   ]
  },
  {
   "cell_type": "code",
   "execution_count": 20,
   "id": "c82911a7",
   "metadata": {},
   "outputs": [
    {
     "data": {
      "text/plain": [
       "array([[[[-0.15667294, -0.01191667, -0.15027587, -0.07191081,\n",
       "          -0.12603687, -0.25700918, -0.05535173, -0.17041214,\n",
       "          -0.04784888, -0.08268234,  0.16807908,  0.19513862,\n",
       "           0.05943461,  0.16269386,  0.20222408, -0.07260607,\n",
       "          -0.18715256,  0.07451937,  0.06463109,  0.21558142,\n",
       "          -0.10481181,  0.06917386, -0.3089547 ,  0.1853576 ,\n",
       "          -0.33745807, -0.25980398, -0.1877214 ,  0.1914501 ,\n",
       "           0.0257179 ,  0.05935741,  0.26720682, -0.13628729]],\n",
       "\n",
       "        [[ 0.02067648, -0.3891668 , -0.13757493, -0.25102594,\n",
       "           0.132377  , -0.04863949,  0.11128697,  0.11686001,\n",
       "           0.2817967 ,  0.13044511, -0.13837336,  0.29700452,\n",
       "           0.04352444, -0.09046803,  0.2257337 , -0.07072031,\n",
       "          -0.07038823, -0.1012895 ,  0.25929222, -0.14389525,\n",
       "           0.26336443,  0.0381185 ,  0.22407377,  0.22945054,\n",
       "          -0.15055212, -0.5006776 ,  0.0992928 , -0.22757865,\n",
       "          -0.20310178,  0.12103659, -0.06695569,  0.06651604]],\n",
       "\n",
       "        [[ 0.16362636, -0.31114554,  0.13250251,  0.03136397,\n",
       "          -0.00629645,  0.3010537 ,  0.15874054,  0.14337821,\n",
       "          -0.25596124, -0.01535045,  0.01191843,  0.20361677,\n",
       "          -0.17311402,  0.01717032, -0.2264626 ,  0.32035774,\n",
       "           0.26436833,  0.10845272,  0.23542912, -0.18492666,\n",
       "           0.06523186, -0.0101761 ,  0.05174537, -0.16839051,\n",
       "           0.28192988, -0.31366014,  0.14333768,  0.09722438,\n",
       "           0.3759488 , -0.16881363, -0.19174843, -0.10321749]]],\n",
       "\n",
       "\n",
       "       [[[-0.08311875,  0.04705498, -0.23997414, -0.06252527,\n",
       "          -0.29820636,  0.20644596,  0.11469787, -0.23486312,\n",
       "           0.00491684, -0.2782182 ,  0.3082972 ,  0.15111555,\n",
       "           0.3016385 ,  0.02974184,  0.08641808, -1.1788234 ,\n",
       "          -0.02552579, -0.01710962, -0.31517783,  0.19927226,\n",
       "          -0.37892035, -0.0272874 ,  0.10127497,  0.05225052,\n",
       "          -0.5745762 , -0.04169342, -0.14675848,  0.13741668,\n",
       "          -0.09969826, -0.09159398,  0.09934057,  0.02283459]],\n",
       "\n",
       "        [[-0.21340889,  0.00282577,  0.13334723,  0.18259744,\n",
       "           0.22496137, -0.08174218,  0.09359484,  0.06314749,\n",
       "           0.02348387,  0.04475007, -0.31988236, -0.08321395,\n",
       "          -0.08948709, -0.0355175 , -0.05199823, -0.19921449,\n",
       "          -0.16258511,  0.1114872 , -0.706967  ,  0.14298515,\n",
       "           0.07974852,  0.18704513,  0.1506094 ,  0.0727629 ,\n",
       "          -1.1519198 , -0.49080288, -0.1764403 , -0.2056509 ,\n",
       "          -0.35268697,  0.3221084 , -0.45163006, -0.2262125 ]],\n",
       "\n",
       "        [[ 0.3079718 ,  0.09940266,  0.06313717,  0.17041062,\n",
       "           0.06864447, -0.12990232,  0.06322099,  0.18348803,\n",
       "          -0.17228422,  0.25675598,  0.02587706, -0.13149944,\n",
       "          -0.26153845, -0.2138533 ,  0.1507917 ,  0.14645728,\n",
       "          -0.24115586,  0.10333832, -0.32372883, -0.30084392,\n",
       "           0.24718782,  0.08180422, -0.14888386, -0.28216285,\n",
       "          -0.12611404, -0.49640638,  0.3445611 , -0.12352125,\n",
       "           0.23965792, -0.20836493,  0.27305546, -0.21825595]]],\n",
       "\n",
       "\n",
       "       [[[-0.13877614,  0.08762292,  0.13499913, -0.00540877,\n",
       "          -0.29134154,  0.02824174,  0.01151189, -0.12614444,\n",
       "           0.06496637, -0.11570459,  0.18831006, -0.17147647,\n",
       "           0.06632058,  0.11593618, -0.28684536, -0.94380164,\n",
       "           0.27057275,  0.09449549, -0.31551453, -0.00948294,\n",
       "          -0.37181786,  0.02429672,  0.28200758, -0.12112899,\n",
       "          -0.0839546 ,  0.41034356, -0.19010732,  0.07371338,\n",
       "           0.0029247 , -0.22479984, -0.16928148,  0.11077761]],\n",
       "\n",
       "        [[ 0.02068056,  0.11493611,  0.06657898, -0.03637637,\n",
       "           0.25514224,  0.12593319,  0.02657299,  0.1334225 ,\n",
       "          -0.2577023 , -0.07650567, -0.14982359, -0.33604816,\n",
       "           0.16035405,  0.27720767, -0.22174767, -0.32168648,\n",
       "          -0.5686045 ,  0.08862893, -0.71778685,  0.09511663,\n",
       "          -0.01822922, -0.07518133, -0.3516453 ,  0.14383048,\n",
       "          -0.79878795, -0.02441274, -0.10430589,  0.15313199,\n",
       "          -0.22309004,  0.16743231, -0.89207435,  0.10894116]],\n",
       "\n",
       "        [[ 0.12848327,  0.25094905, -0.03217702, -0.16371165,\n",
       "           0.03290053, -0.19530629, -0.13916859, -0.05186655,\n",
       "           0.24415295,  0.20204334, -0.03085746, -0.18673824,\n",
       "          -0.02866578, -0.22067909,  0.08107696, -0.16732793,\n",
       "          -0.61768234,  0.00209693, -0.14841512,  0.02315656,\n",
       "           0.09274649,  0.04055202, -0.40900785, -0.06455933,\n",
       "          -0.09504834, -0.10144649,  0.2882087 , -0.00532208,\n",
       "           0.01652853,  0.06162254,  0.07919671,  0.2866837 ]]]],\n",
       "      dtype=float32)"
      ]
     },
     "execution_count": 20,
     "metadata": {},
     "output_type": "execute_result"
    }
   ],
   "source": [
    "conv_weights = conv.weights[0].numpy()\n",
    "conv_weights"
   ]
  },
  {
   "cell_type": "code",
   "execution_count": 22,
   "id": "bc938121",
   "metadata": {},
   "outputs": [
    {
     "name": "stdout",
     "output_type": "stream",
     "text": [
      "-0.03939587 0.23863608\n"
     ]
    }
   ],
   "source": [
    "print(conv_weights.mean(), conv_weights.std())"
   ]
  },
  {
   "cell_type": "code",
   "execution_count": 23,
   "id": "c09b1cfd",
   "metadata": {},
   "outputs": [
    {
     "data": {
      "image/png": "[encoded data removed]",
      "text/plain": [
       "<Figure size 640x480 with 1 Axes>"
      ]
     },
     "metadata": {},
     "output_type": "display_data"
    }
   ],
   "source": [
    "# 가중치 히스토그램\n",
    "plt.figure()\n",
    "\n",
    "plt.hist(conv_weights.reshape(-1, 1))\n",
    "plt.xlabel(\"weight\")\n",
    "plt.ylabel(\"count\")\n",
    "plt.show()"
   ]
  },
  {
   "cell_type": "markdown",
   "id": "1ef4cfc2",
   "metadata": {},
   "source": [
    "- 0을 중심으로 종 모양의 분포"
   ]
  },
  {
   "cell_type": "code",
   "execution_count": 24,
   "id": "77560d2f",
   "metadata": {},
   "outputs": [
    {
     "data": {
      "image/png": "[encoded data removed]",
      "text/plain": [
       "<Figure size 1500x200 with 32 Axes>"
      ]
     },
     "metadata": {},
     "output_type": "display_data"
    }
   ],
   "source": [
    "# 32개의 커널을 모두 시각화\n",
    "fig, axs = plt.subplots(2, 16, figsize = (15, 2))\n",
    "\n",
    "for i in range(2):\n",
    "    for j in range(16):\n",
    "        axs[i, j].imshow(conv_weights[:, :, 0, i * 16 + j], vmin = -0.5, vmax = 0.5)\n",
    "        axs[i, j].axis(\"off\")\n",
    "        \n",
    "plt.show()"
   ]
  },
  {
   "cell_type": "markdown",
   "id": "1f83d605",
   "metadata": {},
   "source": [
    "- 밝은 부분이 높은 값\n",
    "    - 가중치가 높은 영역에 이미지가 겹치면 크게 활성화됨\n",
    "        - 예) 오른쪽 세로로 한 줄의 가중치가 높다면 오른쪽에 놓인 직선을 만나면 크게 활성화\n",
    "        \n",
    "- i : 행 인덱스(0 ~ 1)\n",
    "- j : 열 인덱스(0 ~ 15)\n",
    "    - conv_weights[:, :, 0, 0] 부터 conv_weights[:, :, 0, 31] 까지 출력\n",
    "    \n",
    "- imshow()\n",
    "    - 배열의 최댓값과 최솟값으로 픽셀의 강도를 표현\n",
    "        - 배열의 최댓값은 가장 밝은 색으로\n",
    "        - 배열의 최솟값은 가장 어두운 색으로 표현\n",
    "        \n",
    "    - vmax, vmin\n",
    "        - 컬러맵으로 표현할 색의 범위 지정"
   ]
  },
  {
   "cell_type": "markdown",
   "id": "a78eb9ac",
   "metadata": {},
   "source": [
    "# 훈련하지 않은 빈 합성곱 신경망과 비교"
   ]
  },
  {
   "cell_type": "code",
   "execution_count": 25,
   "id": "d040848c",
   "metadata": {},
   "outputs": [
    {
     "name": "stderr",
     "output_type": "stream",
     "text": [
      "C:\\ProgramData\\anaconda3\\Lib\\site-packages\\keras\\src\\layers\\convolutional\\base_conv.py:99: UserWarning: Do not pass an `input_shape`/`input_dim` argument to a layer. When using Sequential models, prefer using an `Input(shape)` object as the first layer in the model instead.\n",
      "  super().__init__(\n"
     ]
    }
   ],
   "source": [
    "no_training_model = keras.Sequential()\n",
    "no_training_model.add(keras.layers.Conv2D(32, kernel_size = 3, activation = \"relu\",\n",
    "                                         padding = \"same\", input_shape = (28, 28, 1)))"
   ]
  },
  {
   "cell_type": "code",
   "execution_count": 26,
   "id": "d8f0fd6d",
   "metadata": {},
   "outputs": [
    {
     "name": "stdout",
     "output_type": "stream",
     "text": [
      "(3, 3, 1, 32)\n"
     ]
    }
   ],
   "source": [
    "# 훈련하지 않은 빈 합성곱 층의 가중치를 저장\n",
    "no_training_conv = no_training_model.layers[0]\n",
    "print(no_training_conv.weights[0].shape)"
   ]
  },
  {
   "cell_type": "code",
   "execution_count": 27,
   "id": "e10aa708",
   "metadata": {},
   "outputs": [
    {
     "name": "stdout",
     "output_type": "stream",
     "text": [
      "3.662726e-05 0.07983831\n"
     ]
    }
   ],
   "source": [
    "no_training_weights = no_training_conv.weights[0].numpy()\n",
    "print(no_training_weights.mean(), no_training_weights.std())"
   ]
  },
  {
   "cell_type": "code",
   "execution_count": 28,
   "id": "288ee0e9",
   "metadata": {
    "scrolled": false
   },
   "outputs": [
    {
     "data": {
      "image/png": "[encoded data removed]",
      "text/plain": [
       "<Figure size 640x480 with 1 Axes>"
      ]
     },
     "metadata": {},
     "output_type": "display_data"
    }
   ],
   "source": [
    "# 빈 합성곱 중 히스토그램\n",
    "plt.figure()\n",
    "plt.hist(no_training_weights.reshape(-1, 1))\n",
    "\n",
    "plt.xlabel(\"weight\")\n",
    "plt.ylabel(\"count\")\n",
    "plt.show()"
   ]
  },
  {
   "cell_type": "markdown",
   "id": "9546a3eb",
   "metadata": {},
   "source": [
    "- 대부분의 가중치가 -0.15 부터 0.15 까지 고르게 분포함\n",
    "    - 텐서플로에서 가중치를 초기화할 때 균등 분포에서 랜덤하게 값을 선택하기 때문에"
   ]
  },
  {
   "cell_type": "code",
   "execution_count": 30,
   "id": "5813d1b9",
   "metadata": {},
   "outputs": [
    {
     "data": {
      "image/png": "[encoded data removed]",
      "text/plain": [
       "<Figure size 1500x200 with 32 Axes>"
      ]
     },
     "metadata": {},
     "output_type": "display_data"
    }
   ],
   "source": [
    "# 32개의 커널을 모두 시각화\n",
    "fig, axs = plt.subplots(2, 16, figsize = (15, 2))\n",
    "\n",
    "for i in range(2):\n",
    "    for j in range(16):\n",
    "        axs[i, j].imshow(no_training_weights[:, :, 0, i * 16 + j], vmin = -0.5, vmax = 0.5)\n",
    "        axs[i, j].axis(\"off\")\n",
    "        \n",
    "plt.show()"
   ]
  },
  {
   "cell_type": "markdown",
   "id": "eb92138a",
   "metadata": {},
   "source": [
    "- 훈련된 모델에 비해 패턴이 뚜렷하지 않음"
   ]
  },
  {
   "cell_type": "markdown",
   "id": "9166b455",
   "metadata": {},
   "source": [
    "# 케라스의 함수형 API\n",
    "\n",
    "- Sequential 클래스 : 층을 차례대로 쌓은 단순한 모델을 구성\n",
    "- 복잡한 모델은 구성하기 힘들기 때문에 함수형 API(functional API)를 사용\n",
    "- 케라스의 Model클래스를 사용하여 모델을 생성\n",
    "- layers 객체를 함수처럼 호출하여 동작"
   ]
  },
  {
   "cell_type": "markdown",
   "id": "a9f891ca",
   "metadata": {},
   "source": [
    "## 함수형 API로 다층 퍼셉트론 모델 구현 예제"
   ]
  },
  {
   "cell_type": "code",
   "execution_count": 31,
   "id": "15f934ed",
   "metadata": {},
   "outputs": [],
   "source": [
    "# 입력층 생성\n",
    "inputs = keras.Input(shape = (784,))"
   ]
  },
  {
   "cell_type": "markdown",
   "id": "eb94d977",
   "metadata": {},
   "source": [
    "- Sequential 클래스는 InputLayer 클래스를 자동으로 추가하고 호출\n",
    "- Model 클래스는 입력층을 수동으로 만들어서 호출해야 함"
   ]
  },
  {
   "cell_type": "code",
   "execution_count": 32,
   "id": "dbdfb755",
   "metadata": {},
   "outputs": [],
   "source": [
    "# 은닉층과 출력층 객체 생성\n",
    "dense1 = keras.layers.Dense(100, activation = \"sigmoid\")\n",
    "dense2 = keras.layers.Dense(10, activation = \"softmax\")"
   ]
  },
  {
   "cell_type": "code",
   "execution_count": 33,
   "id": "8baee1cd",
   "metadata": {},
   "outputs": [],
   "source": [
    "# 은닉층 호출\n",
    "hidden = dense1(inputs)"
   ]
  },
  {
   "cell_type": "markdown",
   "id": "6c699fa7",
   "metadata": {},
   "source": [
    "- inputs 를 Dense 층에 통과시킨 후 출력값 hidden을 만드는 구조 생성"
   ]
  },
  {
   "cell_type": "code",
   "execution_count": 34,
   "id": "4518f625",
   "metadata": {},
   "outputs": [],
   "source": [
    "# 출력층 호출\n",
    "outputs = dense2(hidden)"
   ]
  },
  {
   "cell_type": "code",
   "execution_count": 35,
   "id": "2a458087",
   "metadata": {},
   "outputs": [],
   "source": [
    "# Model 클래스를 inputs와 outputs를 연결\n",
    "test_model = keras.Model(inputs, outputs)"
   ]
  },
  {
   "cell_type": "code",
   "execution_count": 36,
   "id": "3c208cab",
   "metadata": {},
   "outputs": [
    {
     "data": {
      "text/html": [
       "<pre style=\"white-space:pre;overflow-x:auto;line-height:normal;font-family:Menlo,'DejaVu Sans Mono',consolas,'Courier New',monospace\"><span style=\"font-weight: bold\">Model: \"functional_10\"</span>\n",
       "</pre>\n"
      ],
      "text/plain": [
       "\u001b[1mModel: \"functional_10\"\u001b[0m\n"
      ]
     },
     "metadata": {},
     "output_type": "display_data"
    },
    {
     "data": {
      "text/html": [
       "<pre style=\"white-space:pre;overflow-x:auto;line-height:normal;font-family:Menlo,'DejaVu Sans Mono',consolas,'Courier New',monospace\">┏━━━━━━━━━━━━━━━━━━━━━━━━━━━━━━━━━━━━━━┳━━━━━━━━━━━━━━━━━━━━━━━━━━━━━┳━━━━━━━━━━━━━━━━━┓\n",
       "┃<span style=\"font-weight: bold\"> Layer (type)                         </span>┃<span style=\"font-weight: bold\"> Output Shape                </span>┃<span style=\"font-weight: bold\">         Param # </span>┃\n",
       "┡━━━━━━━━━━━━━━━━━━━━━━━━━━━━━━━━━━━━━━╇━━━━━━━━━━━━━━━━━━━━━━━━━━━━━╇━━━━━━━━━━━━━━━━━┩\n",
       "│ input_layer_1 (<span style=\"color: #0087ff; text-decoration-color: #0087ff\">InputLayer</span>)           │ (<span style=\"color: #00d7ff; text-decoration-color: #00d7ff\">None</span>, <span style=\"color: #00af00; text-decoration-color: #00af00\">784</span>)                 │               <span style=\"color: #00af00; text-decoration-color: #00af00\">0</span> │\n",
       "├──────────────────────────────────────┼─────────────────────────────┼─────────────────┤\n",
       "│ dense (<span style=\"color: #0087ff; text-decoration-color: #0087ff\">Dense</span>)                        │ (<span style=\"color: #00d7ff; text-decoration-color: #00d7ff\">None</span>, <span style=\"color: #00af00; text-decoration-color: #00af00\">100</span>)                 │          <span style=\"color: #00af00; text-decoration-color: #00af00\">78,500</span> │\n",
       "├──────────────────────────────────────┼─────────────────────────────┼─────────────────┤\n",
       "│ dense_1 (<span style=\"color: #0087ff; text-decoration-color: #0087ff\">Dense</span>)                      │ (<span style=\"color: #00d7ff; text-decoration-color: #00d7ff\">None</span>, <span style=\"color: #00af00; text-decoration-color: #00af00\">10</span>)                  │           <span style=\"color: #00af00; text-decoration-color: #00af00\">1,010</span> │\n",
       "└──────────────────────────────────────┴─────────────────────────────┴─────────────────┘\n",
       "</pre>\n"
      ],
      "text/plain": [
       "┏━━━━━━━━━━━━━━━━━━━━━━━━━━━━━━━━━━━━━━┳━━━━━━━━━━━━━━━━━━━━━━━━━━━━━┳━━━━━━━━━━━━━━━━━┓\n",
       "┃\u001b[1m \u001b[0m\u001b[1mLayer (type)                        \u001b[0m\u001b[1m \u001b[0m┃\u001b[1m \u001b[0m\u001b[1mOutput Shape               \u001b[0m\u001b[1m \u001b[0m┃\u001b[1m \u001b[0m\u001b[1m        Param #\u001b[0m\u001b[1m \u001b[0m┃\n",
       "┡━━━━━━━━━━━━━━━━━━━━━━━━━━━━━━━━━━━━━━╇━━━━━━━━━━━━━━━━━━━━━━━━━━━━━╇━━━━━━━━━━━━━━━━━┩\n",
       "│ input_layer_1 (\u001b[38;5;33mInputLayer\u001b[0m)           │ (\u001b[38;5;45mNone\u001b[0m, \u001b[38;5;34m784\u001b[0m)                 │               \u001b[38;5;34m0\u001b[0m │\n",
       "├──────────────────────────────────────┼─────────────────────────────┼─────────────────┤\n",
       "│ dense (\u001b[38;5;33mDense\u001b[0m)                        │ (\u001b[38;5;45mNone\u001b[0m, \u001b[38;5;34m100\u001b[0m)                 │          \u001b[38;5;34m78,500\u001b[0m │\n",
       "├──────────────────────────────────────┼─────────────────────────────┼─────────────────┤\n",
       "│ dense_1 (\u001b[38;5;33mDense\u001b[0m)                      │ (\u001b[38;5;45mNone\u001b[0m, \u001b[38;5;34m10\u001b[0m)                  │           \u001b[38;5;34m1,010\u001b[0m │\n",
       "└──────────────────────────────────────┴─────────────────────────────┴─────────────────┘\n"
      ]
     },
     "metadata": {},
     "output_type": "display_data"
    },
    {
     "data": {
      "text/html": [
       "<pre style=\"white-space:pre;overflow-x:auto;line-height:normal;font-family:Menlo,'DejaVu Sans Mono',consolas,'Courier New',monospace\"><span style=\"font-weight: bold\"> Total params: </span><span style=\"color: #00af00; text-decoration-color: #00af00\">79,510</span> (310.59 KB)\n",
       "</pre>\n"
      ],
      "text/plain": [
       "\u001b[1m Total params: \u001b[0m\u001b[38;5;34m79,510\u001b[0m (310.59 KB)\n"
      ]
     },
     "metadata": {},
     "output_type": "display_data"
    },
    {
     "data": {
      "text/html": [
       "<pre style=\"white-space:pre;overflow-x:auto;line-height:normal;font-family:Menlo,'DejaVu Sans Mono',consolas,'Courier New',monospace\"><span style=\"font-weight: bold\"> Trainable params: </span><span style=\"color: #00af00; text-decoration-color: #00af00\">79,510</span> (310.59 KB)\n",
       "</pre>\n"
      ],
      "text/plain": [
       "\u001b[1m Trainable params: \u001b[0m\u001b[38;5;34m79,510\u001b[0m (310.59 KB)\n"
      ]
     },
     "metadata": {},
     "output_type": "display_data"
    },
    {
     "data": {
      "text/html": [
       "<pre style=\"white-space:pre;overflow-x:auto;line-height:normal;font-family:Menlo,'DejaVu Sans Mono',consolas,'Courier New',monospace\"><span style=\"font-weight: bold\"> Non-trainable params: </span><span style=\"color: #00af00; text-decoration-color: #00af00\">0</span> (0.00 B)\n",
       "</pre>\n"
      ],
      "text/plain": [
       "\u001b[1m Non-trainable params: \u001b[0m\u001b[38;5;34m0\u001b[0m (0.00 B)\n"
      ]
     },
     "metadata": {},
     "output_type": "display_data"
    }
   ],
   "source": [
    "test_model.summary()"
   ]
  },
  {
   "cell_type": "markdown",
   "id": "8f1511ea",
   "metadata": {},
   "source": [
    "## 합성곱 신경망 모델 특성맵 시각화\n",
    "\n",
    "- 함수형 API를 이용해 첫 번째 합성곱 중의 출력(특성맵)을 시각화"
   ]
  },
  {
   "cell_type": "code",
   "execution_count": 40,
   "id": "a7526af3",
   "metadata": {},
   "outputs": [
    {
     "name": "stdout",
     "output_type": "stream",
     "text": [
      "[<KerasTensor shape=(None, 28, 28, 1), dtype=float32, sparse=False, name=input_layer>]\n"
     ]
    }
   ],
   "source": [
    "# 합성곱 모델의 입력\n",
    "print(model.inputs)"
   ]
  },
  {
   "cell_type": "code",
   "execution_count": 41,
   "id": "318fc274",
   "metadata": {},
   "outputs": [],
   "source": [
    "# 합성곱층과 입력층을 함수형 API로 연결\n",
    "conv_acti = keras.Model(model.inputs, model.layers[0].output)"
   ]
  },
  {
   "cell_type": "code",
   "execution_count": 42,
   "id": "515cb5ea",
   "metadata": {},
   "outputs": [
    {
     "data": {
      "text/html": [
       "<pre style=\"white-space:pre;overflow-x:auto;line-height:normal;font-family:Menlo,'DejaVu Sans Mono',consolas,'Courier New',monospace\"><span style=\"font-weight: bold\">Model: \"functional_12\"</span>\n",
       "</pre>\n"
      ],
      "text/plain": [
       "\u001b[1mModel: \"functional_12\"\u001b[0m\n"
      ]
     },
     "metadata": {},
     "output_type": "display_data"
    },
    {
     "data": {
      "text/html": [
       "<pre style=\"white-space:pre;overflow-x:auto;line-height:normal;font-family:Menlo,'DejaVu Sans Mono',consolas,'Courier New',monospace\">┏━━━━━━━━━━━━━━━━━━━━━━━━━━━━━━━━━━━━━━┳━━━━━━━━━━━━━━━━━━━━━━━━━━━━━┳━━━━━━━━━━━━━━━━━┓\n",
       "┃<span style=\"font-weight: bold\"> Layer (type)                         </span>┃<span style=\"font-weight: bold\"> Output Shape                </span>┃<span style=\"font-weight: bold\">         Param # </span>┃\n",
       "┡━━━━━━━━━━━━━━━━━━━━━━━━━━━━━━━━━━━━━━╇━━━━━━━━━━━━━━━━━━━━━━━━━━━━━╇━━━━━━━━━━━━━━━━━┩\n",
       "│ input_layer (<span style=\"color: #0087ff; text-decoration-color: #0087ff\">InputLayer</span>)             │ (<span style=\"color: #00d7ff; text-decoration-color: #00d7ff\">None</span>, <span style=\"color: #00af00; text-decoration-color: #00af00\">28</span>, <span style=\"color: #00af00; text-decoration-color: #00af00\">28</span>, <span style=\"color: #00af00; text-decoration-color: #00af00\">1</span>)           │               <span style=\"color: #00af00; text-decoration-color: #00af00\">0</span> │\n",
       "├──────────────────────────────────────┼─────────────────────────────┼─────────────────┤\n",
       "│ conv2d (<span style=\"color: #0087ff; text-decoration-color: #0087ff\">Conv2D</span>)                      │ (<span style=\"color: #00d7ff; text-decoration-color: #00d7ff\">None</span>, <span style=\"color: #00af00; text-decoration-color: #00af00\">28</span>, <span style=\"color: #00af00; text-decoration-color: #00af00\">28</span>, <span style=\"color: #00af00; text-decoration-color: #00af00\">32</span>)          │             <span style=\"color: #00af00; text-decoration-color: #00af00\">320</span> │\n",
       "└──────────────────────────────────────┴─────────────────────────────┴─────────────────┘\n",
       "</pre>\n"
      ],
      "text/plain": [
       "┏━━━━━━━━━━━━━━━━━━━━━━━━━━━━━━━━━━━━━━┳━━━━━━━━━━━━━━━━━━━━━━━━━━━━━┳━━━━━━━━━━━━━━━━━┓\n",
       "┃\u001b[1m \u001b[0m\u001b[1mLayer (type)                        \u001b[0m\u001b[1m \u001b[0m┃\u001b[1m \u001b[0m\u001b[1mOutput Shape               \u001b[0m\u001b[1m \u001b[0m┃\u001b[1m \u001b[0m\u001b[1m        Param #\u001b[0m\u001b[1m \u001b[0m┃\n",
       "┡━━━━━━━━━━━━━━━━━━━━━━━━━━━━━━━━━━━━━━╇━━━━━━━━━━━━━━━━━━━━━━━━━━━━━╇━━━━━━━━━━━━━━━━━┩\n",
       "│ input_layer (\u001b[38;5;33mInputLayer\u001b[0m)             │ (\u001b[38;5;45mNone\u001b[0m, \u001b[38;5;34m28\u001b[0m, \u001b[38;5;34m28\u001b[0m, \u001b[38;5;34m1\u001b[0m)           │               \u001b[38;5;34m0\u001b[0m │\n",
       "├──────────────────────────────────────┼─────────────────────────────┼─────────────────┤\n",
       "│ conv2d (\u001b[38;5;33mConv2D\u001b[0m)                      │ (\u001b[38;5;45mNone\u001b[0m, \u001b[38;5;34m28\u001b[0m, \u001b[38;5;34m28\u001b[0m, \u001b[38;5;34m32\u001b[0m)          │             \u001b[38;5;34m320\u001b[0m │\n",
       "└──────────────────────────────────────┴─────────────────────────────┴─────────────────┘\n"
      ]
     },
     "metadata": {},
     "output_type": "display_data"
    },
    {
     "data": {
      "text/html": [
       "<pre style=\"white-space:pre;overflow-x:auto;line-height:normal;font-family:Menlo,'DejaVu Sans Mono',consolas,'Courier New',monospace\"><span style=\"font-weight: bold\"> Total params: </span><span style=\"color: #00af00; text-decoration-color: #00af00\">320</span> (1.25 KB)\n",
       "</pre>\n"
      ],
      "text/plain": [
       "\u001b[1m Total params: \u001b[0m\u001b[38;5;34m320\u001b[0m (1.25 KB)\n"
      ]
     },
     "metadata": {},
     "output_type": "display_data"
    },
    {
     "data": {
      "text/html": [
       "<pre style=\"white-space:pre;overflow-x:auto;line-height:normal;font-family:Menlo,'DejaVu Sans Mono',consolas,'Courier New',monospace\"><span style=\"font-weight: bold\"> Trainable params: </span><span style=\"color: #00af00; text-decoration-color: #00af00\">320</span> (1.25 KB)\n",
       "</pre>\n"
      ],
      "text/plain": [
       "\u001b[1m Trainable params: \u001b[0m\u001b[38;5;34m320\u001b[0m (1.25 KB)\n"
      ]
     },
     "metadata": {},
     "output_type": "display_data"
    },
    {
     "data": {
      "text/html": [
       "<pre style=\"white-space:pre;overflow-x:auto;line-height:normal;font-family:Menlo,'DejaVu Sans Mono',consolas,'Courier New',monospace\"><span style=\"font-weight: bold\"> Non-trainable params: </span><span style=\"color: #00af00; text-decoration-color: #00af00\">0</span> (0.00 B)\n",
       "</pre>\n"
      ],
      "text/plain": [
       "\u001b[1m Non-trainable params: \u001b[0m\u001b[38;5;34m0\u001b[0m (0.00 B)\n"
      ]
     },
     "metadata": {},
     "output_type": "display_data"
    }
   ],
   "source": [
    "conv_acti.summary()"
   ]
  },
  {
   "cell_type": "code",
   "execution_count": 45,
   "id": "64b63357",
   "metadata": {},
   "outputs": [],
   "source": [
    "# 데이터 준비\n",
    "(x_train, y_train), (x_test, y_test) = keras.datasets.fashion_mnist.load_data()"
   ]
  },
  {
   "cell_type": "code",
   "execution_count": 46,
   "id": "be9a0fa6",
   "metadata": {},
   "outputs": [
    {
     "data": {
      "image/png": "[encoded data removed]",
      "text/plain": [
       "<Figure size 640x480 with 1 Axes>"
      ]
     },
     "metadata": {},
     "output_type": "display_data"
    }
   ],
   "source": [
    "plt.figure()\n",
    "plt.imshow(x_train[0], cmap = \"gray_r\")\n",
    "plt.show()"
   ]
  },
  {
   "cell_type": "code",
   "execution_count": 47,
   "id": "9b355f57",
   "metadata": {},
   "outputs": [],
   "source": [
    "# 위의 데이터를 첫 번째 합성곱 층에 통과\n",
    "inputs = x_train[[0]].reshape(-1, 28, 28, 1) / 255"
   ]
  },
  {
   "cell_type": "code",
   "execution_count": 48,
   "id": "42099d2d",
   "metadata": {},
   "outputs": [
    {
     "name": "stdout",
     "output_type": "stream",
     "text": [
      "\u001b[1m1/1\u001b[0m \u001b[32m━━━━━━━━━━━━━━━━━━━━\u001b[0m\u001b[37m\u001b[0m \u001b[1m0s\u001b[0m 47ms/step\n"
     ]
    }
   ],
   "source": [
    "feature_maps = conv_acti.predict(inputs)"
   ]
  },
  {
   "cell_type": "code",
   "execution_count": 49,
   "id": "ff7d1639",
   "metadata": {},
   "outputs": [
    {
     "name": "stdout",
     "output_type": "stream",
     "text": [
      "(1, 28, 28, 32)\n"
     ]
    }
   ],
   "source": [
    "print(feature_maps.shape)"
   ]
  },
  {
   "cell_type": "markdown",
   "id": "6f1f5867",
   "metadata": {},
   "source": [
    "- 세임 패딩과 32개의 필터를 사용한 합성곱층의 출력이기 때문에 (28, 28, 32)\n",
    "- 첫 번째 차원은 배치 차원\n",
    "    - 샘플 하나만 입력했기 때문에"
   ]
  },
  {
   "cell_type": "code",
   "execution_count": 51,
   "id": "b0362909",
   "metadata": {},
   "outputs": [
    {
     "data": {
      "image/png": "[encoded data removed]",
      "text/plain": [
       "<Figure size 1500x200 with 32 Axes>"
      ]
     },
     "metadata": {},
     "output_type": "display_data"
    }
   ],
   "source": [
    "fig, axs = plt.subplots(2, 16, figsize = (15, 2))\n",
    "\n",
    "for i in range(2):\n",
    "    for j in range(16):\n",
    "        axs[i, j].imshow(conv_weights[:, :, 0, i * 16 + j], vmin = -0.5, vmax = 0.5)\n",
    "        axs[i, j].axis(\"off\")\n",
    "        \n",
    "plt.show()"
   ]
  },
  {
   "cell_type": "code",
   "execution_count": 56,
   "id": "41e77bb2",
   "metadata": {},
   "outputs": [
    {
     "data": {
      "image/png": "[encoded data removed]",
      "text/plain": [
       "<Figure size 1500x800 with 32 Axes>"
      ]
     },
     "metadata": {},
     "output_type": "display_data"
    }
   ],
   "source": [
    "fig, axs = plt.subplots(4, 8, figsize = (15, 8))\n",
    "\n",
    "for i in range(4):\n",
    "    for j in range(8):\n",
    "        axs[i, j].imshow(feature_maps[0, :, :, i * 8 + j])\n",
    "        axs[i, j].axis(\"off\")\n",
    "        \n",
    "plt.show()"
   ]
  },
  {
   "cell_type": "markdown",
   "id": "c76d54d7",
   "metadata": {},
   "source": [
    "- 32개의 필터로 인해 입력 이미지에서 강하게 활성화된 부분들을 시각화\n",
    "    - 필터가 수직선을 감지한다면 수직선 부분이 강하게 활성화\n",
    "    - 전체적으로 모두 감지하는 필터는 아이템의 전체를 활성화\n",
    "    - 전체적으로 음수값인 필터는 배경과 같은 0에 가까운 값과 곱해지면 작은 음수, 큰 수가 곱해지면 큰 음수가 됨\n",
    "        - 배경을 잘 활성화"
   ]
  },
  {
   "cell_type": "code",
   "execution_count": 57,
   "id": "caa66320",
   "metadata": {},
   "outputs": [],
   "source": [
    "# 두 번째 합성곱 층의 특성 맵 확인\n",
    "conv2_acti = keras.Model(model.inputs, model.layers[2].output)"
   ]
  },
  {
   "cell_type": "code",
   "execution_count": 58,
   "id": "87552c32",
   "metadata": {},
   "outputs": [
    {
     "name": "stdout",
     "output_type": "stream",
     "text": [
      "\u001b[1m1/1\u001b[0m \u001b[32m━━━━━━━━━━━━━━━━━━━━\u001b[0m\u001b[37m\u001b[0m \u001b[1m0s\u001b[0m 50ms/step\n"
     ]
    }
   ],
   "source": [
    "feature_maps = conv2_acti.predict(inputs)"
   ]
  },
  {
   "cell_type": "code",
   "execution_count": 59,
   "id": "84f4ca95",
   "metadata": {},
   "outputs": [
    {
     "name": "stdout",
     "output_type": "stream",
     "text": [
      "(1, 14, 14, 64)\n"
     ]
    }
   ],
   "source": [
    "print(feature_maps.shape)"
   ]
  },
  {
   "cell_type": "code",
   "execution_count": 62,
   "id": "f9577910",
   "metadata": {},
   "outputs": [
    {
     "data": {
      "image/png": "[encoded data removed]",
      "text/plain": [
       "<Figure size 1200x1200 with 64 Axes>"
      ]
     },
     "metadata": {},
     "output_type": "display_data"
    }
   ],
   "source": [
    "fig, axs = plt.subplots(8, 8, figsize = (12, 12))\n",
    "\n",
    "for i in range(8):\n",
    "    for j in range(8):\n",
    "        axs[i, j].imshow(feature_maps[0, :, :, i * 8 + j])\n",
    "        axs[i, j].axis(\"off\")\n",
    "        \n",
    "plt.show()"
   ]
  },
  {
   "cell_type": "markdown",
   "id": "b9b9ebbb",
   "metadata": {},
   "source": [
    "- 특성맵을 시각적으로 이해하기 난해함\n",
    "    - 합성곱 층을 많이 쌓을 수록 난해해짐\n",
    "    - 앞부분이 합성곱 층은 이미지의 시각적인 정보를 감지하고\n",
    "    - 뒷부분의 합성곱 층은 앞쪽에서 감지한 시각적인 정보를 바탕으로 추상적인 정보를 학습"
   ]
  },
  {
   "cell_type": "markdown",
   "id": "96173893",
   "metadata": {},
   "source": [
    "## 풀링 결과물 비교"
   ]
  },
  {
   "cell_type": "code",
   "execution_count": 63,
   "id": "0e49b556",
   "metadata": {},
   "outputs": [],
   "source": [
    "pool_model = keras.Model(model.inputs, model.layers[1].output)"
   ]
  },
  {
   "cell_type": "code",
   "execution_count": 64,
   "id": "8196a365",
   "metadata": {},
   "outputs": [
    {
     "name": "stdout",
     "output_type": "stream",
     "text": [
      "\u001b[1m1/1\u001b[0m \u001b[32m━━━━━━━━━━━━━━━━━━━━\u001b[0m\u001b[37m\u001b[0m \u001b[1m0s\u001b[0m 34ms/step\n"
     ]
    }
   ],
   "source": [
    "pool_feature_maps = pool_model.predict(inputs)"
   ]
  },
  {
   "cell_type": "code",
   "execution_count": 65,
   "id": "3b37b67f",
   "metadata": {},
   "outputs": [
    {
     "name": "stdout",
     "output_type": "stream",
     "text": [
      "(1, 14, 14, 32)\n"
     ]
    }
   ],
   "source": [
    "print(pool_feature_maps.shape)"
   ]
  },
  {
   "cell_type": "code",
   "execution_count": 66,
   "id": "ca8d62b1",
   "metadata": {},
   "outputs": [
    {
     "data": {
      "image/png": "[encoded data removed]",
      "text/plain": [
       "<Figure size 1500x800 with 32 Axes>"
      ]
     },
     "metadata": {},
     "output_type": "display_data"
    }
   ],
   "source": [
    "fig, axs = plt.subplots(4, 8, figsize = (15, 8))\n",
    "\n",
    "for i in range(4):\n",
    "    for j in range(8):\n",
    "        axs[i, j].imshow(pool_feature_maps[0, :, :, i * 8 + j])\n",
    "        axs[i, j].axis(\"off\")\n",
    "        \n",
    "plt.show()"
   ]
  },
  {
   "cell_type": "code",
   "execution_count": null,
   "id": "773d94ef",
   "metadata": {},
   "outputs": [],
   "source": []
  }
 ],
 "metadata": {
  "kernelspec": {
   "display_name": "Python 3 (ipykernel)",
   "language": "python",
   "name": "python3"
  },
  "language_info": {
   "codemirror_mode": {
    "name": "ipython",
    "version": 3
   },
   "file_extension": ".py",
   "mimetype": "text/x-python",
   "name": "python",
   "nbconvert_exporter": "python",
   "pygments_lexer": "ipython3",
   "version": "3.11.5"
  }
 },
 "nbformat": 4,
 "nbformat_minor": 5
}
