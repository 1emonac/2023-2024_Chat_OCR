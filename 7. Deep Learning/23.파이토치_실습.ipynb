{
 "cells": [
  {
   "cell_type": "code",
   "execution_count": 36,
   "id": "32ce4067",
   "metadata": {},
   "outputs": [],
   "source": [
    "import torch\n",
    "from torch.utils import data\n",
    "import torch.nn as nn\n",
    "from torch import optim\n",
    "import torch.nn.functional as F\n",
    "from torchvision import datasets, transforms, models\n",
    "from torchinfo import summary\n",
    "from torch.autograd import Variable\n",
    "\n",
    "import numpy as np\n",
    "import matplotlib.pyplot as plt"
   ]
  },
  {
   "cell_type": "code",
   "execution_count": 2,
   "id": "4d3923cc",
   "metadata": {},
   "outputs": [],
   "source": [
    "import os\n",
    "os.environ[\"KMP_DUPLICATE_LIB_OK\"] = \"True\""
   ]
  },
  {
   "cell_type": "code",
   "execution_count": 3,
   "id": "e7b596f0",
   "metadata": {},
   "outputs": [],
   "source": [
    "# CPU 혹은 GPU  장치 확인해보기\n",
    "device = torch.device(\"cuda:0\" if torch.cuda.is_available() else \"cpu\")"
   ]
  },
  {
   "cell_type": "code",
   "execution_count": 4,
   "id": "b6c9eef6",
   "metadata": {},
   "outputs": [
    {
     "data": {
      "text/plain": [
       "device(type='cpu')"
      ]
     },
     "execution_count": 4,
     "metadata": {},
     "output_type": "execute_result"
    }
   ],
   "source": [
    "device"
   ]
  },
  {
   "cell_type": "markdown",
   "id": "2fcf7dd7",
   "metadata": {},
   "source": [
    "# 데이터 준비"
   ]
  },
  {
   "cell_type": "code",
   "execution_count": 5,
   "id": "f84851da",
   "metadata": {},
   "outputs": [],
   "source": [
    "# 평균이 0.5, 표준편차가 1.0이 되도록 데이터의 분포를 정규화\n",
    "mnist_transform = transforms.Compose([\n",
    "    transforms.ToTensor(),\n",
    "    transforms.Normalize((0.5,), (1.0,))\n",
    "])"
   ]
  },
  {
   "cell_type": "code",
   "execution_count": 6,
   "id": "0d4472a3",
   "metadata": {},
   "outputs": [],
   "source": [
    "trainset = datasets.MNIST(\n",
    "    root = \"./data/\",\n",
    "    train = True,\n",
    "    download = True,\n",
    "    transform = mnist_transform)\n",
    "testset = datasets.MNIST(\n",
    "    root = \"./data/\",\n",
    "    train = False,\n",
    "    download = True,\n",
    "    transform = mnist_transform)"
   ]
  },
  {
   "cell_type": "code",
   "execution_count": 7,
   "id": "23bf1502",
   "metadata": {},
   "outputs": [
    {
     "data": {
      "text/plain": [
       "torchvision.datasets.mnist.MNIST"
      ]
     },
     "execution_count": 7,
     "metadata": {},
     "output_type": "execute_result"
    }
   ],
   "source": [
    "type(trainset)"
   ]
  },
  {
   "cell_type": "code",
   "execution_count": 8,
   "id": "29adb264",
   "metadata": {},
   "outputs": [
    {
     "data": {
      "text/plain": [
       "torchvision.datasets.mnist.MNIST"
      ]
     },
     "execution_count": 8,
     "metadata": {},
     "output_type": "execute_result"
    }
   ],
   "source": [
    "type(testset)"
   ]
  },
  {
   "cell_type": "code",
   "execution_count": 9,
   "id": "55c4f994",
   "metadata": {},
   "outputs": [],
   "source": [
    "# 데이터를 데이터로더에 전달\n",
    "train_loader = torch.utils.data.DataLoader(trainset,\n",
    "                                          batch_size = 100)\n",
    "test_loader = torch.utils.data.DataLoader(testset,\n",
    "                                         batch_size = 100)"
   ]
  },
  {
   "cell_type": "code",
   "execution_count": 11,
   "id": "2fdbec8f",
   "metadata": {
    "scrolled": true
   },
   "outputs": [
    {
     "data": {
      "image/png": "[encoded data removed]",
      "text/plain": [
       "<Figure size 800x800 with 20 Axes>"
      ]
     },
     "metadata": {},
     "output_type": "display_data"
    }
   ],
   "source": [
    "fig = plt.figure(figsize = (8, 8))\n",
    "columns = 4\n",
    "rows = 5\n",
    "\n",
    "for i in range(1, columns * rows + 1):\n",
    "    img_xy = np.random.randint(len(trainset))\n",
    "    img = trainset[img_xy][0][0, :, :]\n",
    "    fig.add_subplot(rows, columns, i)\n",
    "    \n",
    "    plt.axis (\"off\")\n",
    "    plt.imshow(img, cmap = \"gray\")\n",
    "    \n",
    "plt.show()"
   ]
  },
  {
   "cell_type": "code",
   "execution_count": 14,
   "id": "e0404c69",
   "metadata": {},
   "outputs": [
    {
     "name": "stdout",
     "output_type": "stream",
     "text": [
      "28\n",
      "28\n"
     ]
    }
   ],
   "source": [
    "# train, test 데이터 크기 확인\n",
    "print(len(trainset[1][0][0]))\n",
    "print(len(testset[1][0][0]))"
   ]
  },
  {
   "cell_type": "markdown",
   "id": "24689ce5",
   "metadata": {},
   "source": [
    "# 모델 생성"
   ]
  },
  {
   "cell_type": "markdown",
   "id": "b193e1e6",
   "metadata": {},
   "source": [
    "### 합성곱 신경망 모델 생성"
   ]
  },
  {
   "cell_type": "code",
   "execution_count": 83,
   "id": "25a8ba88",
   "metadata": {},
   "outputs": [],
   "source": [
    "class Mnist(nn.Module):\n",
    "    def __init__(self):\n",
    "        super().__init__()\n",
    "        self.layer1 = nn.Sequential(\n",
    "            nn.Conv2d(in_channels = 1, out_channels=32, kernel_size=5, padding = 2),\n",
    "            # (28 - 5 + 2 * 2)/1 + 1 =28\n",
    "            nn.BatchNorm2d(32),\n",
    "            nn.ReLU(inplace = True),\n",
    "            nn.MaxPool2d(kernel_size = 2, stride = 2)\n",
    "            # 28 / 2 = 14\n",
    "        )\n",
    "        self.layer2 = nn.Sequential(\n",
    "            nn.Conv2d(in_channels=32, out_channels=64, kernel_size=5, padding = 2),\n",
    "            # (14 - 5 + 2 * 2)/1 + 1 = 14\n",
    "            nn.BatchNorm2d(64),\n",
    "            nn.ReLU(inplace = True),\n",
    "            nn.MaxPool2d(2)\n",
    "            # 14 / 2 = 7\n",
    "        )\n",
    "        \n",
    "        # 전결합층\n",
    "        self.fc1 = nn.Linear(in_features=64*7*7, out_features=1024) \n",
    "        # out_features = 유닛 수\n",
    "        self.drop = nn.Dropout2d(0.3)\n",
    "        self.fc2 = nn.Linear(in_features=1024, out_features=256)\n",
    "        self.fc3 = nn.Linear(in_features=256, out_features=10)\n",
    "            \n",
    "    def forward(self, x):\n",
    "        out = self.layer1(x)\n",
    "        out = self.layer2(out)\n",
    "        out = out.view(out.size(0), -1) # Flatten\n",
    "        out = self.fc1(out)\n",
    "        out = self.drop(out)\n",
    "        out = self.fc2(out)\n",
    "        out = self.fc3(out)\n",
    "        return out"
   ]
  },
  {
   "cell_type": "code",
   "execution_count": 84,
   "id": "9db56ee7",
   "metadata": {},
   "outputs": [
    {
     "data": {
      "text/plain": [
       "=================================================================\n",
       "Layer (type:depth-idx)                   Param #\n",
       "=================================================================\n",
       "Mnist                                    --\n",
       "├─Sequential: 1-1                        --\n",
       "│    └─Conv2d: 2-1                       832\n",
       "│    └─BatchNorm2d: 2-2                  64\n",
       "│    └─ReLU: 2-3                         --\n",
       "│    └─MaxPool2d: 2-4                    --\n",
       "├─Sequential: 1-2                        --\n",
       "│    └─Conv2d: 2-5                       51,264\n",
       "│    └─BatchNorm2d: 2-6                  128\n",
       "│    └─ReLU: 2-7                         --\n",
       "│    └─MaxPool2d: 2-8                    --\n",
       "├─Linear: 1-3                            3,212,288\n",
       "├─Dropout2d: 1-4                         --\n",
       "├─Linear: 1-5                            262,400\n",
       "├─Linear: 1-6                            2,570\n",
       "=================================================================\n",
       "Total params: 3,529,546\n",
       "Trainable params: 3,529,546\n",
       "Non-trainable params: 0\n",
       "================================================================="
      ]
     },
     "execution_count": 84,
     "metadata": {},
     "output_type": "execute_result"
    }
   ],
   "source": [
    "model = Mnist()\n",
    "\n",
    "summary(model)"
   ]
  },
  {
   "cell_type": "code",
   "execution_count": 85,
   "id": "35dcf479",
   "metadata": {},
   "outputs": [
    {
     "name": "stdout",
     "output_type": "stream",
     "text": [
      "Mnist(\n",
      "  (layer1): Sequential(\n",
      "    (0): Conv2d(1, 32, kernel_size=(5, 5), stride=(1, 1), padding=(2, 2))\n",
      "    (1): BatchNorm2d(32, eps=1e-05, momentum=0.1, affine=True, track_running_stats=True)\n",
      "    (2): ReLU(inplace=True)\n",
      "    (3): MaxPool2d(kernel_size=2, stride=2, padding=0, dilation=1, ceil_mode=False)\n",
      "  )\n",
      "  (layer2): Sequential(\n",
      "    (0): Conv2d(32, 64, kernel_size=(5, 5), stride=(1, 1), padding=(2, 2))\n",
      "    (1): BatchNorm2d(64, eps=1e-05, momentum=0.1, affine=True, track_running_stats=True)\n",
      "    (2): ReLU(inplace=True)\n",
      "    (3): MaxPool2d(kernel_size=2, stride=2, padding=0, dilation=1, ceil_mode=False)\n",
      "  )\n",
      "  (fc1): Linear(in_features=3136, out_features=1024, bias=True)\n",
      "  (drop): Dropout2d(p=0.3, inplace=False)\n",
      "  (fc2): Linear(in_features=1024, out_features=256, bias=True)\n",
      "  (fc3): Linear(in_features=256, out_features=10, bias=True)\n",
      ")\n"
     ]
    }
   ],
   "source": [
    "# 합성곱 신경망 파라미터 정의\n",
    "learning_rate = 0.001\n",
    "model = Mnist() # 위에서 만든 class를 객체화\n",
    "model.to(device)\n",
    "\n",
    "criterion = nn.CrossEntropyLoss() # 손실 함수\n",
    "optimizer = torch.optim.Adam(model.parameters(), lr = learning_rate) # adam\n",
    "print(model)"
   ]
  },
  {
   "cell_type": "markdown",
   "id": "e765f034",
   "metadata": {},
   "source": [
    "# 모델 학습2"
   ]
  },
  {
   "cell_type": "code",
   "execution_count": 86,
   "id": "0157dda9",
   "metadata": {},
   "outputs": [
    {
     "name": "stdout",
     "output_type": "stream",
     "text": [
      "Iteration: 500, Loss: 0.1338394731283188, Accucacy: 96.27999877929688%\n",
      "Iteration: 1000, Loss: 0.21552427113056183, Accucacy: 97.7699966430664%\n",
      "Iteration: 1500, Loss: 0.06444184482097626, Accucacy: 98.80999755859375%\n",
      "Iteration: 2000, Loss: 0.05918227508664131, Accucacy: 98.58000183105469%\n",
      "Iteration: 2500, Loss: 0.013481019996106625, Accucacy: 98.54000091552734%\n",
      "Iteration: 3000, Loss: 0.22456355392932892, Accucacy: 98.83999633789062%\n"
     ]
    }
   ],
   "source": [
    "num_epochs = 5\n",
    "count = 0\n",
    "loss_list = []\n",
    "iteration_list = []\n",
    "accuracy_list = []\n",
    "\n",
    "predictions_list = []\n",
    "labels_list = []\n",
    "\n",
    "for epoch in range(num_epochs):\n",
    "    for images, labels in train_loader:\n",
    "        images, labels = images.to(device),labels.to(device)\n",
    "        # 모델이 데이터를 처리하기 위해서는 모델과 데이터가 동일한 장치에 있어야 함\n",
    "        \n",
    "        train = Variable(images.view(100, 1, 28, 28))\n",
    "        labels = Variable(labels) # autograd = 자동미분계산\n",
    "        # Autograd는 자동 미분을 수행하는 파이토치의 핵심 패키지\n",
    "        # 자동 미분에 대한 값을 저장\n",
    "        \n",
    "        # 해당 과정은 파이토치에서 항상 고정\n",
    "        outputs = model(train)\n",
    "        loss = criterion(outputs, labels)\n",
    "        optimizer.zero_grad() # optimizer가 실행되기 전에 초기화 시킴\n",
    "        loss.backward() # 오차 역전파\n",
    "        optimizer.step()\n",
    "        count += 1\n",
    "        \n",
    "        if not (count % 50): # = 50으로 나누어 떨어졌을 때\n",
    "            total = 0\n",
    "            correct = 0\n",
    "            for images, labels, in test_loader:\n",
    "                images, labels = images.to(device), labels.to(device)\n",
    "                labels_list.append(labels)\n",
    "                \n",
    "                test = Variable(images.view(100, 1, 28, 28))\n",
    "                outputs = model(test)\n",
    "                predictions = torch.max(outputs, 1)[1].to(device) # (출력값, 인덱스)[1]\n",
    "                predictions_list.append(predictions)\n",
    "                correct += (predictions == labels).sum()\n",
    "                total += len(labels) # 전체 정답값 갯수 total에 담기\n",
    "                \n",
    "            accuracy = correct * 100 / total # 정확도 계산\n",
    "            loss_list.append(loss.data) # loss = criterion(outputs, labels)\n",
    "            # 손실값을 50 steps 마다 기록을 남길 것\n",
    "            iteration_list.append(count) # step = iteration\n",
    "            accuracy_list.append(accuracy)\n",
    "            \n",
    "        if not (count % 500):\n",
    "            print(f\"Iteration: {count}, Loss: {loss.data}, Accucacy: {accuracy}%\")\n",
    "            # 로그 뿌리기"
   ]
  },
  {
   "cell_type": "markdown",
   "id": "87697251",
   "metadata": {},
   "source": [
    "# 모델 생성2"
   ]
  },
  {
   "cell_type": "code",
   "execution_count": 169,
   "id": "966ad901",
   "metadata": {},
   "outputs": [],
   "source": [
    "class Mnist2(nn.Module):\n",
    "    def __init__(self):\n",
    "        super().__init__()\n",
    "        self.layer1 = nn.Sequential(\n",
    "            nn.Conv2d(in_channels = 1, out_channels=32, kernel_size=3),\n",
    "            # (28 - 3 + 2 * 0)/1 + 1 =26\n",
    "            nn.ReLU(),\n",
    "            nn.MaxPool2d(2)\n",
    "            # 26 / 2 = 13\n",
    "        )\n",
    "        self.layer2 = nn.Sequential(\n",
    "            nn.Conv2d(in_channels=32, out_channels=64, kernel_size=3),\n",
    "            # (13 - 3 + 2 * 0)/1 + 1 = 11\n",
    "            nn.ReLU(inplace = True),\n",
    "            nn.MaxPool2d(2)\n",
    "            # 11 / 2 = 5.5\n",
    "        )\n",
    "        self.layer3 = nn.Sequential(\n",
    "            nn.Linear(in_features=64 * 7 * 7, out_features = 10),\n",
    "            nn.ReLU(inplace = True))\n",
    "\n",
    "    def forward(self, x):\n",
    "        out = self.layer1(x)\n",
    "        out = self.layer2(out)\n",
    "        out = out.view(out.size(0), -1) # Flatten\n",
    "        out = self.layer3(out)\n",
    "        return out"
   ]
  },
  {
   "cell_type": "code",
   "execution_count": 170,
   "id": "532c13f4",
   "metadata": {
    "scrolled": true
   },
   "outputs": [
    {
     "data": {
      "text/plain": [
       "=================================================================\n",
       "Layer (type:depth-idx)                   Param #\n",
       "=================================================================\n",
       "Mnist2                                   --\n",
       "├─Sequential: 1-1                        --\n",
       "│    └─Conv2d: 2-1                       320\n",
       "│    └─ReLU: 2-2                         --\n",
       "│    └─MaxPool2d: 2-3                    --\n",
       "├─Sequential: 1-2                        --\n",
       "│    └─Conv2d: 2-4                       18,496\n",
       "│    └─ReLU: 2-5                         --\n",
       "│    └─MaxPool2d: 2-6                    --\n",
       "├─Sequential: 1-3                        --\n",
       "│    └─Linear: 2-7                       31,370\n",
       "│    └─ReLU: 2-8                         --\n",
       "=================================================================\n",
       "Total params: 50,186\n",
       "Trainable params: 50,186\n",
       "Non-trainable params: 0\n",
       "================================================================="
      ]
     },
     "execution_count": 170,
     "metadata": {},
     "output_type": "execute_result"
    }
   ],
   "source": [
    "model2 = Mnist2()\n",
    "\n",
    "summary(model2)"
   ]
  },
  {
   "cell_type": "code",
   "execution_count": 171,
   "id": "d9cf5d6f",
   "metadata": {},
   "outputs": [
    {
     "name": "stdout",
     "output_type": "stream",
     "text": [
      "Mnist2(\n",
      "  (layer1): Sequential(\n",
      "    (0): Conv2d(1, 32, kernel_size=(3, 3), stride=(1, 1))\n",
      "    (1): ReLU()\n",
      "    (2): MaxPool2d(kernel_size=2, stride=2, padding=0, dilation=1, ceil_mode=False)\n",
      "  )\n",
      "  (layer2): Sequential(\n",
      "    (0): Conv2d(32, 64, kernel_size=(3, 3), stride=(1, 1))\n",
      "    (1): ReLU(inplace=True)\n",
      "    (2): MaxPool2d(kernel_size=2, stride=2, padding=0, dilation=1, ceil_mode=False)\n",
      "  )\n",
      "  (layer3): Sequential(\n",
      "    (0): Linear(in_features=3136, out_features=10, bias=True)\n",
      "    (1): ReLU(inplace=True)\n",
      "  )\n",
      ")\n"
     ]
    }
   ],
   "source": [
    "# 합성곱 신경망 파라미터 정의\n",
    "learning_rate = 0.001\n",
    "model2 = Mnist2() # 위에서 만든 class를 객체화\n",
    "model2.to(device)\n",
    "\n",
    "criterion = nn.CrossEntropyLoss() # 손실 함수\n",
    "optimizer = torch.optim.Adam(model2.parameters(), lr = learning_rate) # adam\n",
    "print(model2)"
   ]
  },
  {
   "cell_type": "markdown",
   "id": "e7bac216",
   "metadata": {},
   "source": [
    "# 모델 학습"
   ]
  },
  {
   "cell_type": "code",
   "execution_count": 172,
   "id": "b30ea9d0",
   "metadata": {},
   "outputs": [
    {
     "name": "stdout",
     "output_type": "stream",
     "text": [
      "Iteration: 500, Loss: 2.8679375648498535, Accucacy: 12.630000114440918%\n",
      "Iteration: 1000, Loss: 2.767152786254883, Accucacy: 15.100000381469727%\n",
      "Iteration: 1500, Loss: 2.7769227027893066, Accucacy: 16.540000915527344%\n",
      "Iteration: 2000, Loss: 2.8201231956481934, Accucacy: 17.260000228881836%\n",
      "Iteration: 2500, Loss: 2.633742570877075, Accucacy: 18.030000686645508%\n",
      "Iteration: 3000, Loss: 2.6524972915649414, Accucacy: 18.049999237060547%\n"
     ]
    }
   ],
   "source": [
    "num_epochs = 5\n",
    "count = 0\n",
    "loss_list = []\n",
    "iteration_list = []\n",
    "accuracy_list = []\n",
    "\n",
    "predictions_list = []\n",
    "labels_list = []\n",
    "\n",
    "for epoch in range(num_epochs):\n",
    "    for images, labels in train_loader:\n",
    "        images, labels = images.to(device),labels.to(device)\n",
    "        # 모델이 데이터를 처리하기 위해서는 모델과 데이터가 동일한 장치에 있어야 함\n",
    "        \n",
    "        train = Variable(images.view(100, 1, 28, 28))\n",
    "        labels = Variable(labels) # autograd = 자동미분계산\n",
    "        # Autograd는 자동 미분을 수행하는 파이토치의 핵심 패키지\n",
    "        # 자동 미분에 대한 값을 저장\n",
    "        \n",
    "        # 해당 과정은 파이토치에서 항상 고정\n",
    "        outputs = model2(train)\n",
    "        loss = criterion(outputs, labels)\n",
    "        optimizer.zero_grad() # optimizer가 실행되기 전에 초기화 시킴\n",
    "        loss.backward() # 오차 역전파\n",
    "        optimizer.step()\n",
    "        count += 1\n",
    "        \n",
    "        if not (count % 50): # = 50으로 나누어 떨어졌을 때\n",
    "            total = 0\n",
    "            correct = 0\n",
    "            for images, labels, in test_loader:\n",
    "                images, labels = images.to(device), labels.to(device)\n",
    "                labels_list.append(labels)\n",
    "                \n",
    "                test = Variable(images.view(100, 1, 28, 28))\n",
    "                outputs = model2(test)\n",
    "                predictions = torch.max(outputs, 1)[1].to(device) # (출력값, 인덱스)[1]\n",
    "                predictions_list.append(predictions)\n",
    "                correct += (predictions == labels).sum()\n",
    "                total += len(labels) # 전체 정답값 갯수 total에 담기\n",
    "                \n",
    "            accuracy = correct * 100 / total # 정확도 계산\n",
    "            loss_list.append(loss.data) # loss = criterion(outputs, labels)\n",
    "            # 손실값을 50 steps 마다 기록을 남길 것\n",
    "            iteration_list.append(count) # step = iteration\n",
    "            accuracy_list.append(accuracy)\n",
    "            \n",
    "        if not (count % 500):\n",
    "            print(f\"Iteration: {count}, Loss: {loss.data}, Accucacy: {accuracy}%\")\n",
    "            # 로그 뿌리기"
   ]
  },
  {
   "cell_type": "markdown",
   "id": "2d9769e0",
   "metadata": {},
   "source": [
    "# 모델 생성3"
   ]
  },
  {
   "cell_type": "markdown",
   "id": "d1a38d92",
   "metadata": {},
   "source": [
    "### 심층 신경망 모델 생성"
   ]
  },
  {
   "cell_type": "code",
   "execution_count": 174,
   "id": "4e3b3d3f",
   "metadata": {},
   "outputs": [],
   "source": [
    "class Mnist3(nn.Module):\n",
    "    def __init__(self):\n",
    "        super().__init__()\n",
    "        # 28 * 28 = 784\n",
    "        self.fc1 = nn.Linear(in_features = 784, out_features = 256)\n",
    "        self.drop = nn.Dropout2d(0.3)\n",
    "        self.fc2 = nn.Linear(in_features = 256, out_features = 128)\n",
    "        self.fc3 = nn.Linear(in_features = 128, out_features = 10)\n",
    "        \n",
    "    def forward(self, input_data):\n",
    "        out = input_data.view(-1, 784)\n",
    "        # 활성화함수는 F.relu()로 forward() 함수에서 정의할 수도 있고\n",
    "        # nn.ReLU()로  __init__() 에서 정의할 수도 있음\n",
    "        out = F.relu(self.fc1(out)) # fc = fully connected 전결합층\n",
    "        out = self.drop(out)\n",
    "        out = F.relu(self.fc2(out))\n",
    "        out = self.fc3(out)\n",
    "        return out"
   ]
  },
  {
   "cell_type": "code",
   "execution_count": 175,
   "id": "7c666dd5",
   "metadata": {},
   "outputs": [
    {
     "name": "stdout",
     "output_type": "stream",
     "text": [
      "Mnist3(\n",
      "  (fc1): Linear(in_features=784, out_features=256, bias=True)\n",
      "  (drop): Dropout2d(p=0.3, inplace=False)\n",
      "  (fc2): Linear(in_features=256, out_features=128, bias=True)\n",
      "  (fc3): Linear(in_features=128, out_features=10, bias=True)\n",
      ")\n"
     ]
    }
   ],
   "source": [
    "# 심층 신경망 파라미터 정의\n",
    "learning_rate = 0.001\n",
    "model3 = Mnist3()\n",
    "model3.to(device)\n",
    "\n",
    "criterion = nn.CrossEntropyLoss()\n",
    "optimizer = torch.optim.Adam(model3.parameters(), lr = learning_rate)\n",
    "print(model3)"
   ]
  },
  {
   "cell_type": "markdown",
   "id": "fb9e874c",
   "metadata": {},
   "source": [
    "# 모델 학습3"
   ]
  },
  {
   "cell_type": "code",
   "execution_count": 176,
   "id": "e07073d5",
   "metadata": {},
   "outputs": [
    {
     "name": "stdout",
     "output_type": "stream",
     "text": [
      "Iteration: 500, Loss: 0.3700803816318512, Accucacy: 90.94000244140625%\n",
      "Iteration: 1000, Loss: 0.2579551041126251, Accucacy: 93.4800033569336%\n",
      "Iteration: 1500, Loss: 0.32196009159088135, Accucacy: 94.54000091552734%\n",
      "Iteration: 2000, Loss: 0.10717396438121796, Accucacy: 95.36000061035156%\n",
      "Iteration: 2500, Loss: 0.06886934489011765, Accucacy: 94.69000244140625%\n",
      "Iteration: 3000, Loss: 0.2008088231086731, Accucacy: 94.93000030517578%\n"
     ]
    }
   ],
   "source": [
    "num_epochs = 5\n",
    "count = 0\n",
    "loss_list = []\n",
    "iteration_list = []\n",
    "accuracy_list = []\n",
    "\n",
    "predictions_list = []\n",
    "labels_list = []\n",
    "\n",
    "for epoch in range(num_epochs):\n",
    "    for images, labels in train_loader:\n",
    "        images, labels = images.to(device),labels.to(device)\n",
    "        # 모델이 데이터를 처리하기 위해서는 모델과 데이터가 동일한 장치에 있어야 함\n",
    "        \n",
    "        train = Variable(images.view(100, 1, 28, 28))\n",
    "        labels = Variable(labels) # autograd = 자동미분계산\n",
    "        # Autograd는 자동 미분을 수행하는 파이토치의 핵심 패키지\n",
    "        # 자동 미분에 대한 값을 저장\n",
    "        \n",
    "        # 해당 과정은 파이토치에서 항상 고정\n",
    "        outputs = model3(train)\n",
    "        loss = criterion(outputs, labels)\n",
    "        optimizer.zero_grad() # optimizer가 실행되기 전에 초기화 시킴\n",
    "        loss.backward() # 오차 역전파\n",
    "        optimizer.step()\n",
    "        count += 1\n",
    "        \n",
    "        if not (count % 50): # = 50으로 나누어 떨어졌을 때\n",
    "            total = 0\n",
    "            correct = 0\n",
    "            for images, labels, in test_loader:\n",
    "                images, labels = images.to(device), labels.to(device)\n",
    "                labels_list.append(labels)\n",
    "                \n",
    "                test = Variable(images.view(100, 1, 28, 28))\n",
    "                outputs = model3(test)\n",
    "                predictions = torch.max(outputs, 1)[1].to(device) # (출력값, 인덱스)[1]\n",
    "                predictions_list.append(predictions)\n",
    "                correct += (predictions == labels).sum()\n",
    "                total += len(labels) # 전체 정답값 갯수 total에 담기\n",
    "                \n",
    "            accuracy = correct * 100 / total # 정확도 계산\n",
    "            loss_list.append(loss.data) # loss = criterion(outputs, labels)\n",
    "            # 손실값을 50 steps 마다 기록을 남길 것\n",
    "            iteration_list.append(count) # step = iteration\n",
    "            accuracy_list.append(accuracy)\n",
    "            \n",
    "        if not (count % 500):\n",
    "            print(f\"Iteration: {count}, Loss: {loss.data}, Accucacy: {accuracy}%\")\n",
    "            # 로그 뿌리기"
   ]
  },
  {
   "cell_type": "markdown",
   "id": "2787f22e",
   "metadata": {},
   "source": [
    "# 모델 생성4"
   ]
  },
  {
   "cell_type": "markdown",
   "id": "7c335032",
   "metadata": {},
   "source": [
    "### ### 합성곱 신경망 모델 생성2"
   ]
  },
  {
   "cell_type": "code",
   "execution_count": 178,
   "id": "8652ed6f",
   "metadata": {},
   "outputs": [],
   "source": [
    "class Mnist4(nn.Module):\n",
    "    def __init__(self):\n",
    "        super().__init__()\n",
    "        self.layer1 = nn.Sequential(\n",
    "            nn.Conv2d(in_channels = 1, out_channels=32, kernel_size=3, padding = 1),\n",
    "            # (28 - 3 + 2 * 1)/1 + 1 =28\n",
    "            nn.ReLU(),\n",
    "            nn.MaxPool2d(kernel_size = 2, stride = 2)\n",
    "            # 28 / 2 = 14\n",
    "        )\n",
    "        \n",
    "        self.layer2 = nn.Sequential(\n",
    "            nn.Conv2d(in_channels=32, out_channels=64, kernel_size=3, padding = 1),\n",
    "            # (14 - 3 + 2 * 1)/1 + 1 = 14\n",
    "            nn.ReLU(),\n",
    "            nn.MaxPool2d(2)\n",
    "            # 14 / 2 = 7\n",
    "        )\n",
    "        \n",
    "        self.layer3 = nn.Sequential(\n",
    "            nn.Conv2d(in_channels=64, out_channels=128, kernel_size=3, padding = 1),\n",
    "            # (7 - 3 + 2 * 1)/1 + 1 = 7\n",
    "            nn.ReLU(),\n",
    "            nn.MaxPool2d(2)\n",
    "            # 7 / 2 = 3.5\n",
    "        )\n",
    "        \n",
    "        # 전결합층\n",
    "        self.fc1 = nn.Linear(in_features=64*7*7, out_features=1024) \n",
    "        # out_features = 유닛 수\n",
    "        self.drop = nn.Dropout2d(0.3)\n",
    "        self.fc2 = nn.Linear(in_features=1024, out_features=256)\n",
    "        self.fc3 = nn.Linear(in_features=256, out_features=10)\n",
    "            \n",
    "    def forward(self, x):\n",
    "        out = self.layer1(x)\n",
    "        out = self.layer2(out)\n",
    "        out = self.layer3(out)\n",
    "        out = out.view(out.size(0), -1) # Flatten\n",
    "        out = self.fc1(out)\n",
    "        out = self.drop(out)\n",
    "        out = self.fc2(out)\n",
    "        out = self.fc3(out)\n",
    "        return out"
   ]
  },
  {
   "cell_type": "code",
   "execution_count": 179,
   "id": "990dc691",
   "metadata": {},
   "outputs": [
    {
     "name": "stdout",
     "output_type": "stream",
     "text": [
      "Mnist4(\n",
      "  (layer1): Sequential(\n",
      "    (0): Conv2d(1, 32, kernel_size=(3, 3), stride=(1, 1), padding=(1, 1))\n",
      "    (1): ReLU()\n",
      "    (2): MaxPool2d(kernel_size=2, stride=2, padding=0, dilation=1, ceil_mode=False)\n",
      "  )\n",
      "  (layer2): Sequential(\n",
      "    (0): Conv2d(32, 64, kernel_size=(3, 3), stride=(1, 1), padding=(1, 1))\n",
      "    (1): ReLU()\n",
      "    (2): MaxPool2d(kernel_size=2, stride=2, padding=0, dilation=1, ceil_mode=False)\n",
      "  )\n",
      "  (layer3): Sequential(\n",
      "    (0): Conv2d(64, 128, kernel_size=(3, 3), stride=(1, 1), padding=(1, 1))\n",
      "    (1): ReLU()\n",
      "    (2): MaxPool2d(kernel_size=2, stride=2, padding=0, dilation=1, ceil_mode=False)\n",
      "  )\n",
      "  (fc1): Linear(in_features=3136, out_features=1024, bias=True)\n",
      "  (drop): Dropout2d(p=0.3, inplace=False)\n",
      "  (fc2): Linear(in_features=1024, out_features=256, bias=True)\n",
      "  (fc3): Linear(in_features=256, out_features=10, bias=True)\n",
      ")\n"
     ]
    }
   ],
   "source": [
    "# 심층 신경망 파라미터 정의\n",
    "learning_rate = 0.001\n",
    "model4 = Mnist4()\n",
    "model4.to(device)\n",
    "\n",
    "criterion = nn.CrossEntropyLoss()\n",
    "optimizer = torch.optim.Adam(model4.parameters(), lr = learning_rate)\n",
    "print(model4)"
   ]
  },
  {
   "cell_type": "markdown",
   "id": "ef785d43",
   "metadata": {},
   "source": [
    "# 모델 학습4"
   ]
  },
  {
   "cell_type": "code",
   "execution_count": 180,
   "id": "2bf534d3",
   "metadata": {},
   "outputs": [
    {
     "ename": "RuntimeError",
     "evalue": "mat1 and mat2 shapes cannot be multiplied (100x1152 and 3136x1024)",
     "output_type": "error",
     "traceback": [
      "\u001b[1;31m---------------------------------------------------------------------------\u001b[0m",
      "\u001b[1;31mRuntimeError\u001b[0m                              Traceback (most recent call last)",
      "Cell \u001b[1;32mIn[180], line 21\u001b[0m\n\u001b[0;32m     16\u001b[0m labels \u001b[38;5;241m=\u001b[39m Variable(labels) \u001b[38;5;66;03m# autograd = 자동미분계산\u001b[39;00m\n\u001b[0;32m     17\u001b[0m \u001b[38;5;66;03m# Autograd는 자동 미분을 수행하는 파이토치의 핵심 패키지\u001b[39;00m\n\u001b[0;32m     18\u001b[0m \u001b[38;5;66;03m# 자동 미분에 대한 값을 저장\u001b[39;00m\n\u001b[0;32m     19\u001b[0m \n\u001b[0;32m     20\u001b[0m \u001b[38;5;66;03m# 해당 과정은 파이토치에서 항상 고정\u001b[39;00m\n\u001b[1;32m---> 21\u001b[0m outputs \u001b[38;5;241m=\u001b[39m model4(train)\n\u001b[0;32m     22\u001b[0m loss \u001b[38;5;241m=\u001b[39m criterion(outputs, labels)\n\u001b[0;32m     23\u001b[0m optimizer\u001b[38;5;241m.\u001b[39mzero_grad() \u001b[38;5;66;03m# optimizer가 실행되기 전에 초기화 시킴\u001b[39;00m\n",
      "File \u001b[1;32mC:\\ProgramData\\anaconda3\\Lib\\site-packages\\torch\\nn\\modules\\module.py:1511\u001b[0m, in \u001b[0;36mModule._wrapped_call_impl\u001b[1;34m(self, *args, **kwargs)\u001b[0m\n\u001b[0;32m   1509\u001b[0m     \u001b[38;5;28;01mreturn\u001b[39;00m \u001b[38;5;28mself\u001b[39m\u001b[38;5;241m.\u001b[39m_compiled_call_impl(\u001b[38;5;241m*\u001b[39margs, \u001b[38;5;241m*\u001b[39m\u001b[38;5;241m*\u001b[39mkwargs)  \u001b[38;5;66;03m# type: ignore[misc]\u001b[39;00m\n\u001b[0;32m   1510\u001b[0m \u001b[38;5;28;01melse\u001b[39;00m:\n\u001b[1;32m-> 1511\u001b[0m     \u001b[38;5;28;01mreturn\u001b[39;00m \u001b[38;5;28mself\u001b[39m\u001b[38;5;241m.\u001b[39m_call_impl(\u001b[38;5;241m*\u001b[39margs, \u001b[38;5;241m*\u001b[39m\u001b[38;5;241m*\u001b[39mkwargs)\n",
      "File \u001b[1;32mC:\\ProgramData\\anaconda3\\Lib\\site-packages\\torch\\nn\\modules\\module.py:1520\u001b[0m, in \u001b[0;36mModule._call_impl\u001b[1;34m(self, *args, **kwargs)\u001b[0m\n\u001b[0;32m   1515\u001b[0m \u001b[38;5;66;03m# If we don't have any hooks, we want to skip the rest of the logic in\u001b[39;00m\n\u001b[0;32m   1516\u001b[0m \u001b[38;5;66;03m# this function, and just call forward.\u001b[39;00m\n\u001b[0;32m   1517\u001b[0m \u001b[38;5;28;01mif\u001b[39;00m \u001b[38;5;129;01mnot\u001b[39;00m (\u001b[38;5;28mself\u001b[39m\u001b[38;5;241m.\u001b[39m_backward_hooks \u001b[38;5;129;01mor\u001b[39;00m \u001b[38;5;28mself\u001b[39m\u001b[38;5;241m.\u001b[39m_backward_pre_hooks \u001b[38;5;129;01mor\u001b[39;00m \u001b[38;5;28mself\u001b[39m\u001b[38;5;241m.\u001b[39m_forward_hooks \u001b[38;5;129;01mor\u001b[39;00m \u001b[38;5;28mself\u001b[39m\u001b[38;5;241m.\u001b[39m_forward_pre_hooks\n\u001b[0;32m   1518\u001b[0m         \u001b[38;5;129;01mor\u001b[39;00m _global_backward_pre_hooks \u001b[38;5;129;01mor\u001b[39;00m _global_backward_hooks\n\u001b[0;32m   1519\u001b[0m         \u001b[38;5;129;01mor\u001b[39;00m _global_forward_hooks \u001b[38;5;129;01mor\u001b[39;00m _global_forward_pre_hooks):\n\u001b[1;32m-> 1520\u001b[0m     \u001b[38;5;28;01mreturn\u001b[39;00m forward_call(\u001b[38;5;241m*\u001b[39margs, \u001b[38;5;241m*\u001b[39m\u001b[38;5;241m*\u001b[39mkwargs)\n\u001b[0;32m   1522\u001b[0m \u001b[38;5;28;01mtry\u001b[39;00m:\n\u001b[0;32m   1523\u001b[0m     result \u001b[38;5;241m=\u001b[39m \u001b[38;5;28;01mNone\u001b[39;00m\n",
      "Cell \u001b[1;32mIn[178], line 40\u001b[0m, in \u001b[0;36mMnist4.forward\u001b[1;34m(self, x)\u001b[0m\n\u001b[0;32m     38\u001b[0m out \u001b[38;5;241m=\u001b[39m \u001b[38;5;28mself\u001b[39m\u001b[38;5;241m.\u001b[39mlayer3(out)\n\u001b[0;32m     39\u001b[0m out \u001b[38;5;241m=\u001b[39m out\u001b[38;5;241m.\u001b[39mview(out\u001b[38;5;241m.\u001b[39msize(\u001b[38;5;241m0\u001b[39m), \u001b[38;5;241m-\u001b[39m\u001b[38;5;241m1\u001b[39m) \u001b[38;5;66;03m# Flatten\u001b[39;00m\n\u001b[1;32m---> 40\u001b[0m out \u001b[38;5;241m=\u001b[39m \u001b[38;5;28mself\u001b[39m\u001b[38;5;241m.\u001b[39mfc1(out)\n\u001b[0;32m     41\u001b[0m out \u001b[38;5;241m=\u001b[39m \u001b[38;5;28mself\u001b[39m\u001b[38;5;241m.\u001b[39mdrop(out)\n\u001b[0;32m     42\u001b[0m out \u001b[38;5;241m=\u001b[39m \u001b[38;5;28mself\u001b[39m\u001b[38;5;241m.\u001b[39mfc2(out)\n",
      "File \u001b[1;32mC:\\ProgramData\\anaconda3\\Lib\\site-packages\\torch\\nn\\modules\\module.py:1511\u001b[0m, in \u001b[0;36mModule._wrapped_call_impl\u001b[1;34m(self, *args, **kwargs)\u001b[0m\n\u001b[0;32m   1509\u001b[0m     \u001b[38;5;28;01mreturn\u001b[39;00m \u001b[38;5;28mself\u001b[39m\u001b[38;5;241m.\u001b[39m_compiled_call_impl(\u001b[38;5;241m*\u001b[39margs, \u001b[38;5;241m*\u001b[39m\u001b[38;5;241m*\u001b[39mkwargs)  \u001b[38;5;66;03m# type: ignore[misc]\u001b[39;00m\n\u001b[0;32m   1510\u001b[0m \u001b[38;5;28;01melse\u001b[39;00m:\n\u001b[1;32m-> 1511\u001b[0m     \u001b[38;5;28;01mreturn\u001b[39;00m \u001b[38;5;28mself\u001b[39m\u001b[38;5;241m.\u001b[39m_call_impl(\u001b[38;5;241m*\u001b[39margs, \u001b[38;5;241m*\u001b[39m\u001b[38;5;241m*\u001b[39mkwargs)\n",
      "File \u001b[1;32mC:\\ProgramData\\anaconda3\\Lib\\site-packages\\torch\\nn\\modules\\module.py:1520\u001b[0m, in \u001b[0;36mModule._call_impl\u001b[1;34m(self, *args, **kwargs)\u001b[0m\n\u001b[0;32m   1515\u001b[0m \u001b[38;5;66;03m# If we don't have any hooks, we want to skip the rest of the logic in\u001b[39;00m\n\u001b[0;32m   1516\u001b[0m \u001b[38;5;66;03m# this function, and just call forward.\u001b[39;00m\n\u001b[0;32m   1517\u001b[0m \u001b[38;5;28;01mif\u001b[39;00m \u001b[38;5;129;01mnot\u001b[39;00m (\u001b[38;5;28mself\u001b[39m\u001b[38;5;241m.\u001b[39m_backward_hooks \u001b[38;5;129;01mor\u001b[39;00m \u001b[38;5;28mself\u001b[39m\u001b[38;5;241m.\u001b[39m_backward_pre_hooks \u001b[38;5;129;01mor\u001b[39;00m \u001b[38;5;28mself\u001b[39m\u001b[38;5;241m.\u001b[39m_forward_hooks \u001b[38;5;129;01mor\u001b[39;00m \u001b[38;5;28mself\u001b[39m\u001b[38;5;241m.\u001b[39m_forward_pre_hooks\n\u001b[0;32m   1518\u001b[0m         \u001b[38;5;129;01mor\u001b[39;00m _global_backward_pre_hooks \u001b[38;5;129;01mor\u001b[39;00m _global_backward_hooks\n\u001b[0;32m   1519\u001b[0m         \u001b[38;5;129;01mor\u001b[39;00m _global_forward_hooks \u001b[38;5;129;01mor\u001b[39;00m _global_forward_pre_hooks):\n\u001b[1;32m-> 1520\u001b[0m     \u001b[38;5;28;01mreturn\u001b[39;00m forward_call(\u001b[38;5;241m*\u001b[39margs, \u001b[38;5;241m*\u001b[39m\u001b[38;5;241m*\u001b[39mkwargs)\n\u001b[0;32m   1522\u001b[0m \u001b[38;5;28;01mtry\u001b[39;00m:\n\u001b[0;32m   1523\u001b[0m     result \u001b[38;5;241m=\u001b[39m \u001b[38;5;28;01mNone\u001b[39;00m\n",
      "File \u001b[1;32mC:\\ProgramData\\anaconda3\\Lib\\site-packages\\torch\\nn\\modules\\linear.py:116\u001b[0m, in \u001b[0;36mLinear.forward\u001b[1;34m(self, input)\u001b[0m\n\u001b[0;32m    115\u001b[0m \u001b[38;5;28;01mdef\u001b[39;00m \u001b[38;5;21mforward\u001b[39m(\u001b[38;5;28mself\u001b[39m, \u001b[38;5;28minput\u001b[39m: Tensor) \u001b[38;5;241m-\u001b[39m\u001b[38;5;241m>\u001b[39m Tensor:\n\u001b[1;32m--> 116\u001b[0m     \u001b[38;5;28;01mreturn\u001b[39;00m F\u001b[38;5;241m.\u001b[39mlinear(\u001b[38;5;28minput\u001b[39m, \u001b[38;5;28mself\u001b[39m\u001b[38;5;241m.\u001b[39mweight, \u001b[38;5;28mself\u001b[39m\u001b[38;5;241m.\u001b[39mbias)\n",
      "\u001b[1;31mRuntimeError\u001b[0m: mat1 and mat2 shapes cannot be multiplied (100x1152 and 3136x1024)"
     ]
    }
   ],
   "source": [
    "num_epochs = 5\n",
    "count = 0\n",
    "loss_list = []\n",
    "iteration_list = []\n",
    "accuracy_list = []\n",
    "\n",
    "predictions_list = []\n",
    "labels_list = []\n",
    "\n",
    "for epoch in range(num_epochs):\n",
    "    for images, labels in train_loader:\n",
    "        images, labels = images.to(device),labels.to(device)\n",
    "        # 모델이 데이터를 처리하기 위해서는 모델과 데이터가 동일한 장치에 있어야 함\n",
    "        \n",
    "        train = Variable(images.view(100, 1, 28, 28))\n",
    "        labels = Variable(labels) # autograd = 자동미분계산\n",
    "        # Autograd는 자동 미분을 수행하는 파이토치의 핵심 패키지\n",
    "        # 자동 미분에 대한 값을 저장\n",
    "        \n",
    "        # 해당 과정은 파이토치에서 항상 고정\n",
    "        outputs = model4(train)\n",
    "        loss = criterion(outputs, labels)\n",
    "        optimizer.zero_grad() # optimizer가 실행되기 전에 초기화 시킴\n",
    "        loss.backward() # 오차 역전파\n",
    "        optimizer.step()\n",
    "        count += 1\n",
    "        \n",
    "        if not (count % 50): # = 50으로 나누어 떨어졌을 때\n",
    "            total = 0\n",
    "            correct = 0\n",
    "            for images, labels, in test_loader:\n",
    "                images, labels = images.to(device), labels.to(device)\n",
    "                labels_list.append(labels)\n",
    "                \n",
    "                test = Variable(images.view(100, 1, 28, 28))\n",
    "                outputs = model4(test)\n",
    "                predictions = torch.max(outputs, 1)[1].to(device) # (출력값, 인덱스)[1]\n",
    "                predictions_list.append(predictions)\n",
    "                correct += (predictions == labels).sum()\n",
    "                total += len(labels) # 전체 정답값 갯수 total에 담기\n",
    "                \n",
    "            accuracy = correct * 100 / total # 정확도 계산\n",
    "            loss_list.append(loss.data) # loss = criterion(outputs, labels)\n",
    "            # 손실값을 50 steps 마다 기록을 남길 것\n",
    "            iteration_list.append(count) # step = iteration\n",
    "            accuracy_list.append(accuracy)\n",
    "            \n",
    "        if not (count % 500):\n",
    "            print(f\"Iteration: {count}, Loss: {loss.data}, Accucacy: {accuracy}%\")\n",
    "            # 로그 뿌리기"
   ]
  },
  {
   "cell_type": "markdown",
   "id": "c5d8292e",
   "metadata": {},
   "source": [
    "# 모델 생성5"
   ]
  },
  {
   "cell_type": "code",
   "execution_count": 190,
   "id": "65c82660",
   "metadata": {},
   "outputs": [],
   "source": [
    "class Mnist5(nn.Module):\n",
    "    def __init__(self):\n",
    "        super().__init__()\n",
    "        self.layer1 = nn.Sequential(\n",
    "            nn.Conv2d(in_channels = 1, out_channels=32, kernel_size=3, padding = 1),\n",
    "            # (28 - 3 + 2 * 1)/1 + 1 =28\n",
    "            nn.ReLU(),\n",
    "            nn.MaxPool2d(kernel_size = 2, stride = 2)\n",
    "            # 28 / 2 = 14\n",
    "        )\n",
    "        self.layer2 = nn.Sequential(\n",
    "            nn.Conv2d(in_channels=32, out_channels=64, kernel_size=3, padding = 1),\n",
    "            # (14 - 3 + 2 * 1)/1 + 1 = 14\n",
    "            nn.ReLU(inplace = True),\n",
    "            nn.MaxPool2d(2)\n",
    "            # 14 / 2 = 7\n",
    "        )\n",
    "        \n",
    "        # 전결합층\n",
    "        self.fc1 = nn.Linear(in_features=64*7*7, out_features=10) \n",
    "            \n",
    "    def forward(self, x):\n",
    "        out = self.layer1(x)\n",
    "        out = self.layer2(out)\n",
    "        out = out.view(out.size(0), -1) # Flatten\n",
    "        out = self.fc1(out)\n",
    "        return out"
   ]
  },
  {
   "cell_type": "code",
   "execution_count": 191,
   "id": "8eadb5f2",
   "metadata": {},
   "outputs": [
    {
     "name": "stdout",
     "output_type": "stream",
     "text": [
      "Mnist5(\n",
      "  (layer1): Sequential(\n",
      "    (0): Conv2d(1, 32, kernel_size=(3, 3), stride=(1, 1), padding=(1, 1))\n",
      "    (1): ReLU()\n",
      "    (2): MaxPool2d(kernel_size=2, stride=2, padding=0, dilation=1, ceil_mode=False)\n",
      "  )\n",
      "  (layer2): Sequential(\n",
      "    (0): Conv2d(32, 64, kernel_size=(3, 3), stride=(1, 1), padding=(1, 1))\n",
      "    (1): ReLU(inplace=True)\n",
      "    (2): MaxPool2d(kernel_size=2, stride=2, padding=0, dilation=1, ceil_mode=False)\n",
      "  )\n",
      "  (fc1): Linear(in_features=3136, out_features=10, bias=True)\n",
      ")\n"
     ]
    }
   ],
   "source": [
    "# 심층 신경망 파라미터 정의\n",
    "learning_rate = 0.001\n",
    "model5 = Mnist5()\n",
    "model5.to(device)\n",
    "\n",
    "criterion = nn.CrossEntropyLoss()\n",
    "optimizer = torch.optim.Adam(model5.parameters(), lr = learning_rate)\n",
    "print(model5)"
   ]
  },
  {
   "cell_type": "markdown",
   "id": "bdfdd351",
   "metadata": {},
   "source": [
    "# 모델 학습5"
   ]
  },
  {
   "cell_type": "code",
   "execution_count": 192,
   "id": "6d7adcfe",
   "metadata": {},
   "outputs": [
    {
     "name": "stdout",
     "output_type": "stream",
     "text": [
      "Iteration: 500, Loss: 0.10147961974143982, Accucacy: 98.12000274658203%\n",
      "Iteration: 1000, Loss: 0.04126359149813652, Accucacy: 98.25%\n",
      "Iteration: 1500, Loss: 0.039959847927093506, Accucacy: 98.6500015258789%\n",
      "Iteration: 2000, Loss: 0.01594449020922184, Accucacy: 98.6500015258789%\n",
      "Iteration: 2500, Loss: 0.005076043773442507, Accucacy: 98.80999755859375%\n",
      "Iteration: 3000, Loss: 0.19605380296707153, Accucacy: 98.62999725341797%\n"
     ]
    }
   ],
   "source": [
    "num_epochs = 5\n",
    "count = 0\n",
    "loss_list = []\n",
    "iteration_list = []\n",
    "accuracy_list = []\n",
    "\n",
    "predictions_list = []\n",
    "labels_list = []\n",
    "\n",
    "for epoch in range(num_epochs):\n",
    "    for images, labels in train_loader:\n",
    "        images, labels = images.to(device),labels.to(device)\n",
    "        # 모델이 데이터를 처리하기 위해서는 모델과 데이터가 동일한 장치에 있어야 함\n",
    "        \n",
    "        train = Variable(images.view(100, 1, 28, 28))\n",
    "        labels = Variable(labels) # autograd = 자동미분계산\n",
    "        # Autograd는 자동 미분을 수행하는 파이토치의 핵심 패키지\n",
    "        # 자동 미분에 대한 값을 저장\n",
    "        \n",
    "        # 해당 과정은 파이토치에서 항상 고정\n",
    "        outputs = model5(train)\n",
    "        loss = criterion(outputs, labels)\n",
    "        optimizer.zero_grad() # optimizer가 실행되기 전에 초기화 시킴\n",
    "        loss.backward() # 오차 역전파\n",
    "        optimizer.step()\n",
    "        count += 1\n",
    "        \n",
    "        if not (count % 50): # = 50으로 나누어 떨어졌을 때\n",
    "            total = 0\n",
    "            correct = 0\n",
    "            for images, labels, in test_loader:\n",
    "                images, labels = images.to(device), labels.to(device)\n",
    "                labels_list.append(labels)\n",
    "                \n",
    "                test = Variable(images.view(100, 1, 28, 28))\n",
    "                outputs = model5(test)\n",
    "                predictions = torch.max(outputs, 1)[1].to(device) # (출력값, 인덱스)[1]\n",
    "                predictions_list.append(predictions)\n",
    "                correct += (predictions == labels).sum()\n",
    "                total += len(labels) # 전체 정답값 갯수 total에 담기\n",
    "                \n",
    "            accuracy = correct * 100 / total # 정확도 계산\n",
    "            loss_list.append(loss.data) # loss = criterion(outputs, labels)\n",
    "            # 손실값을 50 steps 마다 기록을 남길 것\n",
    "            iteration_list.append(count) # step = iteration\n",
    "            accuracy_list.append(accuracy)\n",
    "            \n",
    "        if not (count % 500):\n",
    "            print(f\"Iteration: {count}, Loss: {loss.data}, Accucacy: {accuracy}%\")\n",
    "            # 로그 뿌리기"
   ]
  },
  {
   "cell_type": "code",
   "execution_count": null,
   "id": "818ae60b",
   "metadata": {},
   "outputs": [],
   "source": []
  },
  {
   "cell_type": "markdown",
   "id": "c287a3c4",
   "metadata": {},
   "source": [
    "# 풀이"
   ]
  },
  {
   "cell_type": "code",
   "execution_count": 194,
   "id": "92fc0682",
   "metadata": {},
   "outputs": [],
   "source": [
    "DEVICE = torch.device(\"cuda\" if torch.cuda.is_available() else \"cpu\")"
   ]
  },
  {
   "cell_type": "code",
   "execution_count": 195,
   "id": "2b38437a",
   "metadata": {},
   "outputs": [
    {
     "data": {
      "text/plain": [
       "device(type='cpu')"
      ]
     },
     "execution_count": 195,
     "metadata": {},
     "output_type": "execute_result"
    }
   ],
   "source": [
    "DEVICE"
   ]
  },
  {
   "cell_type": "code",
   "execution_count": 196,
   "id": "9bd347bc",
   "metadata": {},
   "outputs": [],
   "source": [
    "# 이미지를 텐서로 변경\n",
    "trasform = transforms.Compose([transforms.ToTensor()])"
   ]
  },
  {
   "cell_type": "code",
   "execution_count": 198,
   "id": "9f503786",
   "metadata": {},
   "outputs": [],
   "source": [
    "trainset = datasets.MNIST(\n",
    "    root = \"./data/\",\n",
    "    train = True,\n",
    "    download = True,\n",
    "    transform = trasform)\n",
    "testset = datasets.MNIST(\n",
    "    root = \"./data/\",\n",
    "    train = False,\n",
    "    download = True,\n",
    "    transform = trasform)"
   ]
  },
  {
   "cell_type": "code",
   "execution_count": 199,
   "id": "bfabaa99",
   "metadata": {},
   "outputs": [],
   "source": [
    "batch_size = 32"
   ]
  },
  {
   "cell_type": "code",
   "execution_count": 202,
   "id": "ed236d37",
   "metadata": {},
   "outputs": [],
   "source": [
    "# 데이터 공급 객체 선언\n",
    "train_loader = data.DataLoader(\n",
    "    dataset = trainset,\n",
    "    batch_size = batch_size)\n",
    "\n",
    "test_loader = data.DataLoader(\n",
    "    dataset = testset,\n",
    "    batch_size = batch_size)"
   ]
  },
  {
   "cell_type": "code",
   "execution_count": 205,
   "id": "9269f1ed",
   "metadata": {},
   "outputs": [],
   "source": [
    "class Net(nn.Module):\n",
    "    def __init__(self):\n",
    "        '''모델 구조 정의'''\n",
    "        super().__init__()\n",
    "        self.fc1 = nn.Linear(784, 100)\n",
    "        self.fc2 = nn.Linear(100, 10)\n",
    "        \n",
    "    def forward(self, x):\n",
    "        # 입력 데이터 = x\n",
    "        # x.shape([배치사이즈, 채널, 높이, 너비])\n",
    "        x = x.view(-1, 28 * 28)\n",
    "        \n",
    "        # x.shape([배치사이즈, 784])\n",
    "        x = F.relu(self.fc1(x))\n",
    "        \n",
    "        # x.shape([배치사이즈, 앞 레이어의 출력 개수])\n",
    "        x = self.fc2(x)\n",
    "        \n",
    "        return x"
   ]
  },
  {
   "cell_type": "code",
   "execution_count": 206,
   "id": "0197997a",
   "metadata": {},
   "outputs": [],
   "source": [
    "# 모델 객체 선언\n",
    "model = Net().to(DEVICE)"
   ]
  },
  {
   "cell_type": "code",
   "execution_count": 207,
   "id": "ffa4da38",
   "metadata": {},
   "outputs": [],
   "source": [
    "# 옵티마이저 설정\n",
    "optimizer = optim.SGD(model.parameters(), lr = 0.01)"
   ]
  },
  {
   "cell_type": "code",
   "execution_count": 208,
   "id": "b7ec5d49",
   "metadata": {},
   "outputs": [],
   "source": [
    "# 학습 함수 정의\n",
    "def train(model, train_loader, optimizer):\n",
    "    # 모델을 학습 모드로 전환\n",
    "    model.train()\n",
    "     \n",
    "    for batch_idx, (data, target) in enumerate(train_loader): # 하나의 batch = step\n",
    "        # 학습 데이터를 DEVICE로 보냄\n",
    "        data, target = data.to(DEVICE), target.to(DEVICE)\n",
    "        \n",
    "        # 매 이레테이션 마다 기울기를 계산하기 위해 zero_grad() 호출\n",
    "        optimizer.zero_grad()\n",
    "        \n",
    "        # 실제 모델의 예측값 받아오기\n",
    "        output = model(data)\n",
    "        \n",
    "        # 정답 데이터와의 cross entropy Loss 계산\n",
    "        # Loss는 mini batch의 클래스의 오차 평균값\n",
    "        loss = F.cross_entropy(output, target)\n",
    "        \n",
    "        # 기울기 계산\n",
    "        loss.backward()\n",
    "        \n",
    "        # 가중치 수정\n",
    "        optimizer.step()"
   ]
  },
  {
   "cell_type": "code",
   "execution_count": 210,
   "id": "ea1aa8fb",
   "metadata": {},
   "outputs": [],
   "source": [
    "def evaluate(model, test_loader):\n",
    "    # 모델을 평가모드로 전환\n",
    "    model.eval()\n",
    "    \n",
    "    # 필요한 변수 초기화\n",
    "    # test 과정에서의 Loss\n",
    "    # 실제 모델의 예측이 정답과 맞은 횟수(correct)\n",
    "    test_loss = 0\n",
    "    correct = 0\n",
    "    \n",
    "    with torch.no_grad(): # 평가 시에는 기울기를 계산하지 않으므로, no_grad를 명시\n",
    "        for data, target in test_loader:\n",
    "            data, target = data.to(DEVICE), target.to(DEVICE)\n",
    "            output = model(data)\n",
    "        \n",
    "            # 모든 오차 계산하기\n",
    "            test_loss += F.cross_entropy(output, target, reduction = \"sum\").item()\n",
    "            # output과 target값을 넣고 오차 계산\n",
    "            # reduction: str = 'mean'! 기본값은 평균(mean)\n",
    "            \n",
    "            # 가장 큰 값을 가진 클래스가 모델의 예측\n",
    "            # 예측과 정답을 비교하여 일치하면 correct에 1 더하기\n",
    "            pred = output.max(1, keepdim = True)[1]\n",
    "            # output.max = arrgmax 역할도 함! 최댓값의 인덱스도 같이 찾아줌!\n",
    "            \n",
    "            # eq() : 값이 일치하면 1, 아니면 0\n",
    "            correct += pred.eq(target.view_as(pred)).sum().item()\n",
    "            # target.view_as(pred) = target모양을 pred의 모양새와 맞춰주는 것\n",
    "        \n",
    "        test_loss /= len(test_loader.dataset) # /= : 나누고 할당행\n",
    "        # -> reduction = \"sum\"을 했기 때문에!\n",
    "        # 로스를 묶어서 평균을 내었음 -> 근데 우리는 reduction에서 sum을 해서 loss 계산이 총합이 되었음 (총 개수)\n",
    "        # 그래서 나눌 필요가 있음!\n",
    "        \n",
    "        # 정확도 계산\n",
    "        test_accuracy = 100 * correct / len(test_loader.dataset)\n",
    "        \n",
    "        return test_loss, test_accuracy"
   ]
  },
  {
   "cell_type": "code",
   "execution_count": 212,
   "id": "74b549cb",
   "metadata": {},
   "outputs": [
    {
     "name": "stdout",
     "output_type": "stream",
     "text": [
      "[1] Test Loss : 0.4105, Accuracy : 88.85%\n",
      "[2] Test Loss : 0.3261, Accuracy : 90.67%\n",
      "[3] Test Loss : 0.2924, Accuracy : 91.81%\n",
      "[4] Test Loss : 0.2703, Accuracy : 92.41%\n",
      "[5] Test Loss : 0.2529, Accuracy : 92.92%\n"
     ]
    }
   ],
   "source": [
    "for epoch in range(1, 6):\n",
    "    train(model, train_loader, optimizer)\n",
    "    test_loss, test_accuracy = evaluate(model, test_loader)\n",
    "    \n",
    "    print(f\"[{epoch}] Test Loss : {test_loss:.4f}, Accuracy : {test_accuracy:.2f}%\")"
   ]
  },
  {
   "cell_type": "code",
   "execution_count": null,
   "id": "3920036d",
   "metadata": {},
   "outputs": [],
   "source": []
  },
  {
   "cell_type": "markdown",
   "id": "e584c4f2",
   "metadata": {},
   "source": [
    "### 모델5 평가"
   ]
  },
  {
   "cell_type": "code",
   "execution_count": 213,
   "id": "f63fd85c",
   "metadata": {},
   "outputs": [],
   "source": [
    "def evaluate(model5, test_loader):\n",
    "    # 모델을 평가모드로 전환\n",
    "    model5.eval()\n",
    "    \n",
    "    # 필요한 변수 초기화\n",
    "    # test 과정에서의 Loss\n",
    "    # 실제 모델의 예측이 정답과 맞은 횟수(correct)\n",
    "    test_loss = 0\n",
    "    correct = 0\n",
    "    \n",
    "    with torch.no_grad(): # 평가 시에는 기울기를 계산하지 않으므로, no_grad를 명시\n",
    "        for data, target in test_loader:\n",
    "            data, target = data.to(DEVICE), target.to(DEVICE)\n",
    "            output = model5(data)\n",
    "        \n",
    "            # 모든 오차 계산하기\n",
    "            test_loss += F.cross_entropy(output, target, reduction = \"sum\").item()\n",
    "            # output과 target값을 넣고 오차 계산\n",
    "            # reduction: str = 'mean'! 기본값은 평균(mean)\n",
    "            \n",
    "            # 가장 큰 값을 가진 클래스가 모델의 예측\n",
    "            # 예측과 정답을 비교하여 일치하면 correct에 1 더하기\n",
    "            pred = output.max(1, keepdim = True)[1]\n",
    "            # output.max = arrgmax 역할도 함! 최댓값의 인덱스도 같이 찾아줌!\n",
    "            \n",
    "            # eq() : 값이 일치하면 1, 아니면 0\n",
    "            correct += pred.eq(target.view_as(pred)).sum().item()\n",
    "            # target.view_as(pred) = target모양을 pred의 모양새와 맞춰주는 것\n",
    "        \n",
    "        test_loss /= len(test_loader.dataset) # /= : 나누고 할당행\n",
    "        # -> reduction = \"sum\"을 했기 때문에!\n",
    "        # 로스를 묶어서 평균을 내었음 -> 근데 우리는 reduction에서 sum을 해서 loss 계산이 총합이 되었음 (총 개수)\n",
    "        # 그래서 나눌 필요가 있음!\n",
    "        \n",
    "        # 정확도 계산\n",
    "        test_accuracy = 100 * correct / len(test_loader.dataset)\n",
    "        \n",
    "        return test_loss, test_accuracy"
   ]
  },
  {
   "cell_type": "code",
   "execution_count": 214,
   "id": "1d61d6aa",
   "metadata": {},
   "outputs": [
    {
     "name": "stdout",
     "output_type": "stream",
     "text": [
      "[1] Test Loss : 0.2330, Accuracy : 93.39%\n",
      "[2] Test Loss : 0.2330, Accuracy : 93.39%\n",
      "[3] Test Loss : 0.2330, Accuracy : 93.39%\n",
      "[4] Test Loss : 0.2330, Accuracy : 93.39%\n",
      "[5] Test Loss : 0.2330, Accuracy : 93.39%\n"
     ]
    }
   ],
   "source": [
    "for epoch in range(1, 6):\n",
    "    train(model5, train_loader, optimizer)\n",
    "    test_loss, test_accuracy = evaluate(model5, test_loader)\n",
    "    \n",
    "    print(f\"[{epoch}] Test Loss : {test_loss:.4f}, Accuracy : {test_accuracy:.2f}%\")"
   ]
  },
  {
   "cell_type": "code",
   "execution_count": null,
   "id": "a695137c",
   "metadata": {},
   "outputs": [],
   "source": []
  }
 ],
 "metadata": {
  "kernelspec": {
   "display_name": "Python 3 (ipykernel)",
   "language": "python",
   "name": "python3"
  },
  "language_info": {
   "codemirror_mode": {
    "name": "ipython",
    "version": 3
   },
   "file_extension": ".py",
   "mimetype": "text/x-python",
   "name": "python",
   "nbconvert_exporter": "python",
   "pygments_lexer": "ipython3",
   "version": "3.11.5"
  }
 },
 "nbformat": 4,
 "nbformat_minor": 5
}
