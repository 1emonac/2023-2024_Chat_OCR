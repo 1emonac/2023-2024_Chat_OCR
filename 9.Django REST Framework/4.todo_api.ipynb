{
 "cells": [
  {
   "cell_type": "code",
   "execution_count": null,
   "id": "9ea27b9a",
   "metadata": {},
   "outputs": [],
   "source": [
    "# django-admin startproject mytodo .\n",
    "# python manage.py startapp todo"
   ]
  },
  {
   "cell_type": "code",
   "execution_count": null,
   "id": "2c0908d2",
   "metadata": {},
   "outputs": [],
   "source": [
    "# settings.py\n",
    "\n",
    "INSTALLED_APPS = [\n",
    "    \"django.contrib.admin\",\n",
    "    \"django.contrib.auth\",\n",
    "    \"django.contrib.contenttypes\",\n",
    "    \"django.contrib.sessions\",\n",
    "    \"django.contrib.messages\",\n",
    "    \"django.contrib.staticfiles\",\n",
    "    \"rest_framework\",\n",
    "    \"todo\",\n",
    "]\n",
    "\n",
    "TIME_ZONE = \"Asia/Seoul\""
   ]
  },
  {
   "cell_type": "code",
   "execution_count": null,
   "id": "122927bc",
   "metadata": {},
   "outputs": [],
   "source": [
    "# python manage.py makemigrations\n",
    "# python manage.py migrate\n",
    "\n",
    "# 사용자 계정\n",
    "# python manage.py createsuperuser"
   ]
  },
  {
   "cell_type": "code",
   "execution_count": null,
   "id": "c4f7df8a",
   "metadata": {},
   "outputs": [],
   "source": [
    "# todo/models.py\n",
    "from django.db import models\n",
    "\n",
    "# Create your models here.\n",
    "class Todo(models.Model):\n",
    "    title = models.CharField(max_length = 100)\n",
    "    description = models.TextField(blank = True)\n",
    "    created = models.DateTimeField(auto_now_add = True)\n",
    "    complete = models.BooleanField(default = False)\n",
    "    important = models.BooleanField(default = False)\n",
    "\n",
    "    def __str__(self):\n",
    "        return self.title"
   ]
  },
  {
   "cell_type": "markdown",
   "id": "e61c0539",
   "metadata": {},
   "source": [
    "- todo 전체 조회 api 만들기\n",
    "\n",
    "    - 전체 조회용 시리얼라이저\n",
    "        - 제목, 완료 여부, 중요 여부만 포함한 간단한 시리얼라이저\n",
    "        \n",
    "    - 뷰\n",
    "        - complete 가 False인 todo 들을 조회\n",
    "        - get 방식으로 요청을 처리\n",
    "        \n",
    "    - urls\n",
    "        - 127.0.0.1:8000/todo/"
   ]
  },
  {
   "cell_type": "code",
   "execution_count": null,
   "id": "46d04773",
   "metadata": {},
   "outputs": [],
   "source": [
    "# todo/serializers.py\n",
    "\n",
    "from rest_framework import serializers\n",
    "from todo.models import Todo\n",
    "\n",
    "class TodoSimpleSerializer(serializers.ModelSerializer):\n",
    "    class Meta:\n",
    "        model = Todo\n",
    "        fields = (\"id\", \"title\", \"complete\", \"important\")"
   ]
  },
  {
   "cell_type": "code",
   "execution_count": null,
   "id": "48427803",
   "metadata": {},
   "outputs": [],
   "source": [
    "# todo/views.py\n",
    "\n",
    "from rest_framework import status\n",
    "from rest_framework.response import Response\n",
    "from rest_framework.views import APIView\n",
    "from rest_framework.decorators import api_view\n",
    "\n",
    "from todo.models import Todo\n",
    "from todo.serializers import TodoSimpleSerializer\n",
    "\n",
    "# Create your views here.\n",
    "- FBV 버전\n",
    "@api_view([\"GET\"]) # decorator 데코레이터\n",
    "def TodoAPI(request):\n",
    "    todo = Todo.objects.filter(complete=False)\n",
    "    # all=모두, get=특정 하나만, filter= 특정 모두\n",
    "    serializer = TodoSimpleSerializer(todo, many=True)\n",
    "    return Response(serializer.data, status=status.HTTP_200_OK)\n",
    "\n",
    "- CBV 버전\n",
    "# class TodoAPI(APIView):\n",
    "#     def get(self, request):\n",
    "#         todo = Todo.objects.filter(complete=False)\n",
    "#         serializer = TodoSimpleSerializer(todo, many=True)\n",
    "#         return Response(serializer.data, status=status.HTTP_200_OK)"
   ]
  },
  {
   "cell_type": "code",
   "execution_count": null,
   "id": "970b8eb6",
   "metadata": {},
   "outputs": [],
   "source": [
    "# mytodo/urls.py\n",
    "\n",
    "from django.contrib import admin\n",
    "from django.urls import path, include\n",
    "\n",
    "urlpatterns = [\n",
    "    path(\"admin/\", admin.site.urls),\n",
    "    path(\"todo/\", include(\"todo.urls\")),\n",
    "]"
   ]
  },
  {
   "cell_type": "code",
   "execution_count": null,
   "id": "bb3bebe7",
   "metadata": {},
   "outputs": [],
   "source": [
    "# todo/urls.py 생성\n",
    "\n",
    "from django.urls import path\n",
    "from todo import views\n",
    "\n",
    "urlpatterns = [\n",
    "    path(\"\", views.TodoAPI),\n",
    "    # class view 사용시, path(\"\". TodoAPI.as_view()) > .as_view()가 중요!\n",
    "]"
   ]
  },
  {
   "cell_type": "markdown",
   "id": "9d4de55e",
   "metadata": {},
   "source": [
    "- 상세 조회 기능 개발\n",
    "    - 시리얼라이저\n",
    "        - Todo 모델에서 id, 제목, 설명, 작성일자, 완료여부, 중요 여부를 포함\n",
    "        \n",
    "    - 뷰\n",
    "        - 하나의 todo 데이터 조회\n",
    "        - id를 입력 받으면 해당 id의 Todo 데이터를 조회\n",
    "        \n",
    "    - url\n",
    "        - 127.0.0.1:8000/todo/조회하려는 todo의 id/"
   ]
  },
  {
   "cell_type": "markdown",
   "id": "69f4f2a6",
   "metadata": {},
   "source": [
    "- todo 생성 api 개발\n",
    "    - 시리얼라이저\n",
    "        - todo 생성에 필요한 입력값은 title과 description, important\n",
    "        \n",
    "    - 뷰\n",
    "        - post 요청\n",
    "        - post 요청으로 전달받은 데이터를 시리얼라이저에서 유효성 검사를 하고 todo 리스트 생성 데이터 추가\n",
    "    \n",
    "    - url\n",
    "        - (post) 127.0.0.1:8000/todo/ "
   ]
  },
  {
   "cell_type": "code",
   "execution_count": null,
   "id": "8313bb69",
   "metadata": {},
   "outputs": [],
   "source": [
    "{\n",
    "    \"id\" : 1,\n",
    "    \"title\" : \"코딩 테스트 합격자 되기 - C++ 편\",\n",
    "    \"complete\" : \"True\"\n",
    "    \"important\" : \"False\"\n",
    "}"
   ]
  },
  {
   "cell_type": "markdown",
   "id": "7197bf81",
   "metadata": {},
   "source": [
    "- 수정 & 완료 기능\n",
    "\n",
    "    - 수정 기능\n",
    "        - 시리얼라이저\n",
    "            - 입력값은 title과 description, important\n",
    "\n",
    "        - 뷰\n",
    "            - id를 입력받고 id가 일치하는(수정할) 데이터를 조회하고 조회되지 않으면 404 에러\n",
    "            - 유효성 검사 후, 유효하면 데이터 수정 / 유효하지 않으면 400 응답코드\n",
    "            \n",
    "        - url\n",
    "            - (put 방식) 127.0.0.1:8000/todo/수정할 todo의 id/\n",
    "            \n",
    "    - 완료 기능\n",
    "        - 시리얼라이저\n",
    "            - id, title, complete, importnat 사용\n",
    "        \n",
    "        - 뷰\n",
    "            - complete가 True인 데이터 조회\n",
    "            \n",
    "        - urls\n",
    "            - (get) 127.0.0.1:8000/todo/done/\n",
    "            \n",
    "    - 완료 기능\n",
    "        - 시리얼라이저\n",
    "            - id, title, description, created, complete, important\n",
    "            \n",
    "        - 뷰\n",
    "            - id를 입력받아 해당 id가 일치하는(완료 할) 데이터를 조회하고 조회되지 않으면 404 에러\n",
    "            - 조회된 데이터의 complete 속상 값을 True로 변환 후 저장\n",
    "            \n",
    "        - urls\n",
    "            - (get) 127.0.0.1:8000/todo/done/완료할 todo의 id/"
   ]
  },
  {
   "cell_type": "code",
   "execution_count": null,
   "id": "1bad9128",
   "metadata": {},
   "outputs": [],
   "source": []
  }
 ],
 "metadata": {
  "kernelspec": {
   "display_name": "Python 3 (ipykernel)",
   "language": "python",
   "name": "python3"
  },
  "language_info": {
   "codemirror_mode": {
    "name": "ipython",
    "version": 3
   },
   "file_extension": ".py",
   "mimetype": "text/x-python",
   "name": "python",
   "nbconvert_exporter": "python",
   "pygments_lexer": "ipython3",
   "version": "3.11.5"
  }
 },
 "nbformat": 4,
 "nbformat_minor": 5
}
